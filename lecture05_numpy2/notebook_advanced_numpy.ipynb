{
 "cells": [
  {
   "cell_type": "markdown",
   "id": "96fcc5c5",
   "metadata": {},
   "source": [
    "# Week 05: Advanced NumPy"
   ]
  },
  {
   "cell_type": "code",
   "execution_count": 1,
   "id": "442cfd71",
   "metadata": {},
   "outputs": [],
   "source": [
    "import numpy as np"
   ]
  },
  {
   "cell_type": "markdown",
   "id": "97f2a7d5",
   "metadata": {},
   "source": [
    "## Advanced Indexing\n",
    "\n",
    "Last week's lecture covered what's known as basic indexing, which, aside from the multidimensional aspect is mostly equivalent to Python's slicing. Advanced indexing (or sometimes called fancy indexing) is something unique to NumPy and behaves differently. It is triggered when the selection object (i.e. whatever is written inside the square index brackets) is \n",
    "\n",
    " - a non-tuple sequence object (e.g. a list)\n",
    " - a `np.ndarray`\n",
    " - or a tuple with at least one element being one of the above\n",
    " \n",
    "Note that in both Python and NumPy, `x[(exp1, exp2, ..., expN)]` is the same as `x[exp1, exp2, ..., expN]`, and in both cases the selection object is a tuple. \n",
    " \n",
    "Unlike basic indexing, advanced indexing always returns a **copy** instead of a view."
   ]
  },
  {
   "cell_type": "code",
   "execution_count": 3,
   "id": "1ea594a1",
   "metadata": {},
   "outputs": [],
   "source": [
    "array = np.arange(9).reshape(3, 3)"
   ]
  },
  {
   "cell_type": "code",
   "execution_count": 8,
   "id": "7515e8eb",
   "metadata": {},
   "outputs": [],
   "source": [
    "# these lines will trigger basic indexing\n",
    "\n",
    "array[1, 2]\n",
    "array[(1, 2)]\n",
    "\n",
    "# these lines will trigger advanced indexing\n",
    "\n",
    "array[[1, 2]]\n",
    "\n",
    "index = np.arange(3)\n",
    "array[index]\n",
    "\n",
    "array[[1, 2], 0];"
   ]
  },
  {
   "cell_type": "markdown",
   "id": "5e45bb85",
   "metadata": {},
   "source": [
    "### Integer Array Indexing\n",
    "\n",
    "In the most straightforward case of advanced indexing, we supply a 1D integer array (any int-type works) per dimension of the array we want to index (`array`). To keep it simple, let's for now assume all arrays have the same shape `(n, )`.\n",
    "\n",
    "This will then select `n` elements from `array`, where the $i$-th element's indices are the $i$-th elements of all the index arrays."
   ]
  },
  {
   "cell_type": "code",
   "execution_count": 11,
   "id": "6c07d67e",
   "metadata": {},
   "outputs": [
    {
     "name": "stdout",
     "output_type": "stream",
     "text": [
      "[2 5 6]\n",
      "[0 0 0 0 0 0 0 0 0 0]\n"
     ]
    }
   ],
   "source": [
    "array = np.arange(9).reshape(3, 3)\n",
    "\n",
    "index_row = np.array([0, 1, 2])\n",
    "index_col = np.array([2, 2, 0])\n",
    "\n",
    "# this will get elements at (0, 2), (1, 2) and (2, 0)\n",
    "print(array[index_row, index_col])\n",
    "\n",
    "index = np.zeros(10, dtype=int)\n",
    "\n",
    "print(array[index, index])"
   ]
  },
  {
   "cell_type": "markdown",
   "id": "e507dc7d",
   "metadata": {},
   "source": [
    "**The actual behavior is a bit more general:**\n",
    "\n",
    "The index arrays don't actually have to be 1D but instead can have *any* shape `s`. This will result in the returned array also having shape `s`.\n",
    "\n",
    "Furthermore, the index arrays don't have to be the same shape, it is sufficient that *broadcasting* can be performed between them (remember last week's section on broadcasting rules). The result of the broadcasting step is what determines the shape of the returned array.\n",
    "\n",
    "Some examples to make this clear:"
   ]
  },
  {
   "cell_type": "code",
   "execution_count": 13,
   "id": "6f0220ff",
   "metadata": {},
   "outputs": [
    {
     "name": "stdout",
     "output_type": "stream",
     "text": [
      "[[0 3]\n",
      " [1 4]] \n",
      "\n",
      "[[0 3]\n",
      " [0 3]]\n"
     ]
    }
   ],
   "source": [
    "array = np.arange(9).reshape(3, 3)\n",
    "\n",
    "index_row = np.array([[0, 1], [0, 1]])\n",
    "index_col = np.array([[0, 0], [1, 1]])\n",
    "\n",
    "# this will select elements at (0, 0), (1, 0), (0, 1) and (1, 1)\n",
    "# the output shape will be (2, 2), because that's the shape of both index arrays\n",
    "print(array[index_row, index_col], \"\\n\")\n",
    "\n",
    "# this will select row 0, then 1, then 0 and then 1 again\n",
    "# for columns, it will always select 0 because it gets broadcast to a (2, 2) shape\n",
    "# the output shape will still be (2, 2), because that's the result of the broadcasting\n",
    "print(array[index_row, 0])"
   ]
  },
  {
   "cell_type": "markdown",
   "id": "ea32dd83",
   "metadata": {},
   "source": [
    "It should be noted that Python lists are treated the same way as NumPy arrays when it comes to advanced indexing, except for the case below:"
   ]
  },
  {
   "cell_type": "markdown",
   "id": "d76a660f",
   "metadata": {},
   "source": [
    "### Special Case: Single Nested List\n",
    "\n",
    "What happens when the selection object is a single nested list?"
   ]
  },
  {
   "cell_type": "code",
   "execution_count": 16,
   "id": "73cf0d4b",
   "metadata": {},
   "outputs": [
    {
     "name": "stderr",
     "output_type": "stream",
     "text": [
      "<ipython-input-16-b030826cbb6b>:3: FutureWarning: Using a non-tuple sequence for multidimensional indexing is deprecated; use `arr[tuple(seq)]` instead of `arr[seq]`. In the future this will be interpreted as an array index, `arr[np.array(seq)]`, which will result either in an error or a different result.\n",
      "  array[[[0, 1], [0, 1]]]\n"
     ]
    },
    {
     "data": {
      "text/plain": [
       "array([0, 4])"
      ]
     },
     "execution_count": 16,
     "metadata": {},
     "output_type": "execute_result"
    }
   ],
   "source": [
    "array = np.arange(9).reshape(3, 3)\n",
    "\n",
    "array[[[0, 1], [0, 1]]]"
   ]
  },
  {
   "cell_type": "markdown",
   "id": "6bdb2e4c",
   "metadata": {},
   "source": [
    "The answer is that the rules what happens will change in some future version of NumPy. Currently, it is interpreted as if the list was a tuple containing multiple advanced indices. As the warning above will tell you however, this will be changed to a more consistent interpretation, where the list is treated as a single, multidimensional advanced index for only the first dimension."
   ]
  },
  {
   "cell_type": "markdown",
   "id": "ac9386f4",
   "metadata": {},
   "source": [
    "### Combining Advanced Indexing and Slicing\n",
    "\n",
    "You can combine slices and advanced indexing in the same operation. There are two major cases, upon which the behavior depends drastically:\n",
    " - The advanced indices are all next to each other in the square brackets, for example: `x[..., arr1, arr2, :]`. This will result in what you would probably expect intuitively, the dimensions from the index arrays are inserted into the position they are in in the selection object, replacing the original array's dimensions.\n",
    " \n",
    " - The advanced indices are **not** all next to each other but separated by a slice, `...` or `np.newaxis`, for example: `x[arr1, :, arr2]`. In this case, there is no unambiguous spot to insert the dimensions from the index arrays, and thus they are tacked-on to the beginning.\n",
    " \n",
    "Usually, you will get by without having to combine basic and advanced indexing. However, if you need it and have trouble understanding the results you get, you can check the following section from the NumPy documentation for a slightly more thorough explanation and some examples: https://numpy.org/doc/stable/reference/arrays.indexing.html#combining-advanced-and-basic-indexing"
   ]
  },
  {
   "cell_type": "markdown",
   "id": "b109638c",
   "metadata": {},
   "source": [
    "### Examples\n",
    "\n",
    "#### Using `np.argsort` for advanced indexing\n",
    "\n",
    "`np.argsort`, like `np.sort`, will sort an array. However, instead of the sorted elements, it will return the sorted **indices** as an array. This can be useful in conjunction with advanced indexing: Let's sort the values of one array according to the values of a different array."
   ]
  },
  {
   "cell_type": "code",
   "execution_count": 17,
   "id": "6fdac7d2",
   "metadata": {},
   "outputs": [
    {
     "data": {
      "text/plain": [
       "array(['P', 'y', 't', 'h', 'o', 'n'], dtype='<U1')"
      ]
     },
     "execution_count": 17,
     "metadata": {},
     "output_type": "execute_result"
    }
   ],
   "source": [
    "letters = np.array([\"y\", \"P\", \"n\", \"o\", \"t\", \"h\"])\n",
    "order = np.array([2, 1, 6, 5, 3, 4])\n",
    "\n",
    "letters[np.argsort(order)]"
   ]
  },
  {
   "cell_type": "markdown",
   "id": "756f3422",
   "metadata": {},
   "source": [
    "####  some other great example perhaps?\n",
    "\n",
    "tournament, all play all, but only once --> indexing with triangular matrix"
   ]
  },
  {
   "cell_type": "markdown",
   "id": "2582b932",
   "metadata": {},
   "source": [
    "### `np.nonzero()`\n",
    "\n",
    "`array.nonzero()` (or `np.nonzero(array)`) returns the indices of all elements in an array that are $\\neq$ 0 (that includes `True`, but not `False`). The output format is a tuple of $n$ 1D arrays, where $n$ is the number of dimensions of `array`. This \"happens\" to be the appropriate format for advanced indexing. "
   ]
  },
  {
   "cell_type": "code",
   "execution_count": 19,
   "id": "26988b90",
   "metadata": {},
   "outputs": [
    {
     "data": {
      "text/plain": [
       "(array([0, 1]), array([1, 1]))"
      ]
     },
     "execution_count": 19,
     "metadata": {},
     "output_type": "execute_result"
    }
   ],
   "source": [
    "array = np.array([[0, 2], [0, -1]])\n",
    "\n",
    "array.nonzero()"
   ]
  },
  {
   "cell_type": "markdown",
   "id": "43c0b84e",
   "metadata": {},
   "source": [
    "Often this is used with boolean arrays (note that `array < 0` *is* a boolean array):"
   ]
  },
  {
   "cell_type": "code",
   "execution_count": 20,
   "id": "4ae1718c",
   "metadata": {},
   "outputs": [
    {
     "data": {
      "text/plain": [
       "(array([1]), array([1]))"
      ]
     },
     "execution_count": 20,
     "metadata": {},
     "output_type": "execute_result"
    }
   ],
   "source": [
    "(array < 0).nonzero()"
   ]
  },
  {
   "cell_type": "markdown",
   "id": "1ce9c3f7",
   "metadata": {},
   "source": [
    "As mentioned, the result of `nonzero()` can be used for advanced indexing, although this simple example below is not actually a good use for that. It will in fact return all elements that are non-zero, but the better way of handling this is using boolean indexing, as will be discussed next."
   ]
  },
  {
   "cell_type": "code",
   "execution_count": 21,
   "id": "bd938bb2",
   "metadata": {},
   "outputs": [
    {
     "data": {
      "text/plain": [
       "array([ 2, -1])"
      ]
     },
     "execution_count": 21,
     "metadata": {},
     "output_type": "execute_result"
    }
   ],
   "source": [
    "array[array.nonzero()]"
   ]
  },
  {
   "cell_type": "markdown",
   "id": "63cd30e3",
   "metadata": {},
   "source": [
    "### Boolean Array Indexing\n",
    "\n",
    "The *other* type of advanced indexing occurs when the index arrays (or lists) have type `bool` instead of an integer type. In this case, the shape of the index arrays is more restricted - it needs to match the dimension(s) it is trying to index.\n",
    "\n",
    "One way to think about boolean indices is as an *overlay* over the original array. Only those values where the overlay has the value `True` are returned. The return shape of boolean index operations is always 1D, except when mixed with other types of indexing. In that case, more complicated rules similar to the ones described above apply. "
   ]
  },
  {
   "cell_type": "code",
   "execution_count": 24,
   "id": "0447ae4f",
   "metadata": {},
   "outputs": [
    {
     "data": {
      "text/plain": [
       "dtype('bool')"
      ]
     },
     "execution_count": 24,
     "metadata": {},
     "output_type": "execute_result"
    }
   ],
   "source": [
    "array = np.array([[0, 2], [0, -1]])\n",
    "\n",
    "index = np.array([[True, False], [False, True]])\n",
    "index.dtype"
   ]
  },
  {
   "cell_type": "code",
   "execution_count": 25,
   "id": "39d2c85f",
   "metadata": {},
   "outputs": [
    {
     "data": {
      "text/plain": [
       "array([ 0, -1])"
      ]
     },
     "execution_count": 25,
     "metadata": {},
     "output_type": "execute_result"
    }
   ],
   "source": [
    "array[index]"
   ]
  },
  {
   "cell_type": "markdown",
   "id": "ef648c32",
   "metadata": {},
   "source": [
    "Coming back to the `array.nonzero()` example, here finally is the usual way to find all non-zero elements. Boolean indexing tends to perform better."
   ]
  },
  {
   "cell_type": "code",
   "execution_count": 27,
   "id": "9a1cb437",
   "metadata": {},
   "outputs": [
    {
     "data": {
      "text/plain": [
       "array([ 2, -1])"
      ]
     },
     "execution_count": 27,
     "metadata": {},
     "output_type": "execute_result"
    }
   ],
   "source": [
    "array[array != 0]"
   ]
  },
  {
   "cell_type": "code",
   "execution_count": 28,
   "id": "7aa57920",
   "metadata": {},
   "outputs": [
    {
     "name": "stdout",
     "output_type": "stream",
     "text": [
      "3.89 s ± 848 ms per loop (mean ± std. dev. of 7 runs, 1 loop each)\n",
      "682 ms ± 22.7 ms per loop (mean ± std. dev. of 7 runs, 1 loop each)\n"
     ]
    }
   ],
   "source": [
    "n = 10_000\n",
    "large_array = np.arange(n * n).reshape(n, n)\n",
    "\n",
    "%timeit large_array[large_array.nonzero()]\n",
    "%timeit large_array[large_array != 0]"
   ]
  },
  {
   "cell_type": "markdown",
   "id": "55ca7fab",
   "metadata": {},
   "source": [
    "#### Bitwise Operators\n",
    "\n",
    "If you want to perform element-wise logical operations (like and, or, xor) on NumPy arrays, you can use the bitwise operators:\n",
    "\n",
    "| logical operation | operator |\n",
    "|:------------------|:--------:|\n",
    "| and               | `&`      |\n",
    "| or                | `\\|`     |\n",
    "| exclusive or      | `^`      |\n",
    "| not               | `~`      |\n",
    "\n",
    "Make sure to mind the order of operations, as bitwise operators in Python bind more strongly than comparison operators. Usually you want parentheses, as in the example below."
   ]
  },
  {
   "cell_type": "code",
   "execution_count": 29,
   "id": "108c7728",
   "metadata": {},
   "outputs": [
    {
     "data": {
      "text/plain": [
       "array([ 2, -1])"
      ]
     },
     "execution_count": 29,
     "metadata": {},
     "output_type": "execute_result"
    }
   ],
   "source": [
    "array = np.array([[0, 2], [0, -1]])\n",
    "\n",
    "array[(array < 0) | (array > 0)]"
   ]
  },
  {
   "cell_type": "markdown",
   "id": "34e0c9d8",
   "metadata": {},
   "source": [
    "## Value Assignment\n",
    "\n",
    "Both types of advanced indexing can of course not only be used to get values from the array, but also to assign values. Besides the correct datatype, the value to be assigned must have a shape that is broadcastable to the shape defined by the index."
   ]
  },
  {
   "cell_type": "code",
   "execution_count": 54,
   "id": "21f43271",
   "metadata": {},
   "outputs": [
    {
     "name": "stdout",
     "output_type": "stream",
     "text": [
      "[[ 0  1  0  3  0]\n",
      " [ 5  0  7  0  9]\n",
      " [ 0 11  0 13  0]\n",
      " [15  0 17  0 19]\n",
      " [ 0 21  0 23  0]]\n"
     ]
    }
   ],
   "source": [
    "array = np.arange(25).reshape(5, 5)\n",
    "\n",
    "array[array % 2 == 0] = 0\n",
    "\n",
    "print(array)"
   ]
  },
  {
   "cell_type": "markdown",
   "id": "45136c71",
   "metadata": {},
   "source": [
    "## Concatenating Arrays\n",
    "\n",
    "NumPy provides confusingly many functions for concatenating arrays, but they all build on `np.concatenate`.\n",
    "\n",
    "It takes a tuple of arrays (of appropriate shape) and concatenates them along a given (already existing) axis.\n",
    "\n",
    "Keep in mind that due to the fixed nature of arrays, concatenation is **slow**. If you know in advance what size an array needs to be in the end, it is pretty much always faster to assign it that size at creation."
   ]
  },
  {
   "cell_type": "code",
   "execution_count": 33,
   "id": "18dac9c8",
   "metadata": {},
   "outputs": [
    {
     "name": "stdout",
     "output_type": "stream",
     "text": [
      "[[0 1]\n",
      " [2 3]\n",
      " [4 5]\n",
      " [6 7]] \n",
      "\n",
      "[[0 1 4 5]\n",
      " [2 3 6 7]]\n"
     ]
    }
   ],
   "source": [
    "array1 = np.arange(4).reshape(2, 2)\n",
    "array2 = array1 + 4\n",
    "\n",
    "print(np.concatenate((array1, array2), axis=0), \"\\n\")\n",
    "print(np.concatenate((array1, array2), axis=1))"
   ]
  },
  {
   "cell_type": "markdown",
   "id": "ae0ba921",
   "metadata": {},
   "source": [
    "A fancy shorthand is the `np.r_` object. It does not provide any functionality that cannot be achieved using `concatenate`, but is often shorter. It also serves as an introduction to a couple of these objects in the NumPy library that are interacted with using indexing syntax instead of function call syntax.\n",
    "\n",
    " - the first element of the \"selection tuple\" is an optional string, specifying the axis of concatenation\n",
    " - the remaining elements are either \n",
    "     - arrays to be concatenated, or\n",
    "     - slices that roughly represent a call to `np.arange` or `np.linspace`"
   ]
  },
  {
   "cell_type": "code",
   "execution_count": 46,
   "id": "efca1dba",
   "metadata": {},
   "outputs": [
    {
     "name": "stdout",
     "output_type": "stream",
     "text": [
      "[[0 1]\n",
      " [2 3]\n",
      " [4 5]\n",
      " [6 7]] \n",
      "\n",
      "[[0 1 4 5]\n",
      " [2 3 6 7]] \n",
      "\n",
      "[ 1  2  3  4  5  6  7  8  9 10  8  6  4  2]\n",
      "[ 1.          2.          3.          4.          5.          6.\n",
      "  7.          8.          9.         10.          9.47368421  8.94736842\n",
      "  8.42105263  7.89473684  7.36842105  6.84210526  6.31578947  5.78947368\n",
      "  5.26315789  4.73684211  4.21052632  3.68421053  3.15789474  2.63157895\n",
      "  2.10526316  1.57894737  1.05263158  0.52631579  0.        ]\n"
     ]
    }
   ],
   "source": [
    "print(np.r_[array1, array2], \"\\n\")       # simple tuple of arrays to concatenate (axis 0 is default)\n",
    "print(np.r_[\"1\", array1, array2], \"\\n\")  # now with the optional axis string\n",
    "\n",
    "print(np.r_[1:10, 10:0:-2])              # slices normally represent np.arange calls (start:stop:step_size) ...\n",
    "print(np.r_[1:10, 10:0:20j])             # ... unless the third part of the slice is a complex number\n",
    "                                         # in that case, it represents the *number* of steps inbetween"
   ]
  },
  {
   "cell_type": "markdown",
   "id": "7070a74e",
   "metadata": {},
   "source": [
    "There is one conceptually slightly different case: Concatenation along a **new** axis. In that case, it's easiest to use `np.stack`. The `axis` parameter here specifies where to insert the new axis."
   ]
  },
  {
   "cell_type": "code",
   "execution_count": 52,
   "id": "5622e814",
   "metadata": {},
   "outputs": [
    {
     "data": {
      "text/plain": [
       "array([[[0, 1],\n",
       "        [2, 3]],\n",
       "\n",
       "       [[4, 5],\n",
       "        [6, 7]]])"
      ]
     },
     "execution_count": 52,
     "metadata": {},
     "output_type": "execute_result"
    }
   ],
   "source": [
    "np.stack((array1, array2), axis=0)"
   ]
  },
  {
   "cell_type": "markdown",
   "id": "fb356ea9",
   "metadata": {},
   "source": [
    "## Coordinate Grids"
   ]
  },
  {
   "cell_type": "markdown",
   "id": "16401a4d",
   "metadata": {},
   "source": [
    "Coordinate grids are a useful tool to have when evaluating a multidimensional function over a range of values. This is especially useful for plotting purposes, and we will come back to that in one of the plotting lectures. For now, let's just look at how to use `np.meshgrid` to create a coordinate grid.\n",
    "\n",
    "Suppose we want to evaluate `function(x, y)` for `x = [1, 2, 3]` and `y = [7, 8, 9]`. What this really means is that we need all possible combinations of `x` and `y`, making a total of 9 pairs. The output should be a 3x3 array containing all the results. That means the two input arrays, let's call them `xx` and `yy` also need to be of 3x3 shape. `np.meshgrid` was made for exactly that purpose!"
   ]
  },
  {
   "cell_type": "code",
   "execution_count": 53,
   "id": "0aaa4c64",
   "metadata": {},
   "outputs": [
    {
     "name": "stdout",
     "output_type": "stream",
     "text": [
      "[[1 2 3]\n",
      " [1 2 3]\n",
      " [1 2 3]] \n",
      "\n",
      "[[7 7 7]\n",
      " [8 8 8]\n",
      " [9 9 9]] \n",
      "\n"
     ]
    }
   ],
   "source": [
    "x = np.array([1, 2, 3])\n",
    "y = np.array([7, 8, 9])\n",
    "\n",
    "xx, yy = np.meshgrid(x, y)\n",
    "\n",
    "print(xx, \"\\n\")\n",
    "print(yy, \"\\n\")"
   ]
  },
  {
   "cell_type": "markdown",
   "id": "ea904aff",
   "metadata": {},
   "source": [
    "A similar, but simpler function is `np.indices(shape)`. For a given shape of array, it returns all possible indices. This is again in a format directly appropriate for advanced indexing. "
   ]
  },
  {
   "cell_type": "code",
   "execution_count": 66,
   "id": "4241f3e2",
   "metadata": {},
   "outputs": [
    {
     "name": "stdout",
     "output_type": "stream",
     "text": [
      "[[0 0 0]\n",
      " [1 1 1]\n",
      " [2 2 2]] \n",
      "\n",
      "[[0 1 2]\n",
      " [0 1 2]\n",
      " [0 1 2]] \n",
      "\n",
      "[[0 1 2]\n",
      " [3 4 5]\n",
      " [6 7 8]]\n"
     ]
    }
   ],
   "source": [
    "ix_row, ix_col = np.indices((3, 3))\n",
    "\n",
    "array = np.arange(9).reshape(3, 3)\n",
    "\n",
    "print(ix_row, \"\\n\")\n",
    "print(ix_col, \"\\n\")\n",
    "\n",
    "print(array[ix_row, ix_col])"
   ]
  },
  {
   "cell_type": "markdown",
   "id": "cfc89700",
   "metadata": {},
   "source": [
    "### Creating `ufunc`s\n",
    "\n",
    "With `np.vectorize` NumPy provides a convenient way to convert any Python function that works with single values to a NumPy `ufunc`. Recall, this means that the function will then accept entire NumPy arrays as input and even perform broadcasting when required.\n",
    "\n",
    "Note that this is purely for convenience, it does not magically improve performance of those functions."
   ]
  },
  {
   "cell_type": "code",
   "execution_count": 67,
   "id": "346bcc54",
   "metadata": {},
   "outputs": [
    {
     "data": {
      "text/plain": [
       "array([1.00000000e+00, 1.12324741e+00, 1.06023141e+00, 8.53607376e-01,\n",
       "       5.70865201e-01, 2.89871279e-01, 8.26113332e-02, 3.48387941e-04,\n",
       "       6.31217287e-02, 2.55653806e-01])"
      ]
     },
     "execution_count": 67,
     "metadata": {},
     "output_type": "execute_result"
    }
   ],
   "source": [
    "import math\n",
    "\n",
    "def my_function(a, b):\n",
    "    # this function would normally not work with NumPy arrays\n",
    "    # because we are using the built-in math module\n",
    "    return math.sin(a) + math.cos(b)\n",
    "    \n",
    "my_function_numpy = np.vectorize(my_function)\n",
    "\n",
    "a = np.linspace(0, 2, 10)\n",
    "b = np.linspace(0, -4, 10)\n",
    "\n",
    "my_function_numpy(a, b)"
   ]
  },
  {
   "cell_type": "markdown",
   "id": "13e3332b",
   "metadata": {},
   "source": [
    "## What's Next?\n",
    "\n",
    "While researching for this lecture, I've been repeatedly surprised by how deep the NumPy rabbit hole goes, even though I thought I had a pretty decent understanding already. Many features and technicalities of NumPy did not make it into this lecture, but you should have a good foundation now to work somewhat efficiently in NumPy, as well as look up features on your own. \"How to do \\<thing> in NumPy\" is always a good idea to type into Google!"
   ]
  },
  {
   "cell_type": "code",
   "execution_count": 58,
   "id": "b08fc13e",
   "metadata": {},
   "outputs": [
    {
     "data": {
      "text/plain": [
       "array([[[0, 0, 0, 0, 0],\n",
       "        [1, 1, 1, 1, 1],\n",
       "        [2, 2, 2, 2, 2],\n",
       "        [3, 3, 3, 3, 3],\n",
       "        [4, 4, 4, 4, 4]],\n",
       "\n",
       "       [[0, 1, 2, 3, 4],\n",
       "        [0, 1, 2, 3, 4],\n",
       "        [0, 1, 2, 3, 4],\n",
       "        [0, 1, 2, 3, 4],\n",
       "        [0, 1, 2, 3, 4]]])"
      ]
     },
     "execution_count": 58,
     "metadata": {},
     "output_type": "execute_result"
    }
   ],
   "source": [
    "np.indices(array.shape)"
   ]
  },
  {
   "cell_type": "code",
   "execution_count": 72,
   "id": "810d2274",
   "metadata": {},
   "outputs": [],
   "source": [
    "np.set_printoptions(formatter={\"bool\":lambda b: \"x\" if b else \"o\"})"
   ]
  },
  {
   "cell_type": "code",
   "execution_count": 73,
   "id": "7e1f3864",
   "metadata": {},
   "outputs": [
    {
     "name": "stdout",
     "output_type": "stream",
     "text": [
      "[[x o x]\n",
      " [o x o]\n",
      " [x o x]]\n"
     ]
    }
   ],
   "source": [
    "print(array % 2 == 0)"
   ]
  },
  {
   "cell_type": "code",
   "execution_count": null,
   "id": "fd0d0999",
   "metadata": {},
   "outputs": [],
   "source": []
  }
 ],
 "metadata": {
  "kernelspec": {
   "display_name": "Python 3",
   "language": "python",
   "name": "python3"
  },
  "language_info": {
   "codemirror_mode": {
    "name": "ipython",
    "version": 3
   },
   "file_extension": ".py",
   "mimetype": "text/x-python",
   "name": "python",
   "nbconvert_exporter": "python",
   "pygments_lexer": "ipython3",
   "version": "3.6.4"
  }
 },
 "nbformat": 4,
 "nbformat_minor": 5
}
