{
 "cells": [
  {
   "cell_type": "code",
   "execution_count": 2,
   "id": "0c11b583-7c91-4d3f-af58-dedbc1044534",
   "metadata": {},
   "outputs": [],
   "source": [
    "import pandas as pd\n",
    "import numpy as np"
   ]
  },
  {
   "cell_type": "code",
   "execution_count": 38,
   "id": "3d97c288-a968-4827-b940-9716611234b6",
   "metadata": {},
   "outputs": [
    {
     "data": {
      "text/html": [
       "<div>\n",
       "<style scoped>\n",
       "    .dataframe tbody tr th:only-of-type {\n",
       "        vertical-align: middle;\n",
       "    }\n",
       "\n",
       "    .dataframe tbody tr th {\n",
       "        vertical-align: top;\n",
       "    }\n",
       "\n",
       "    .dataframe thead th {\n",
       "        text-align: right;\n",
       "    }\n",
       "</style>\n",
       "<table border=\"1\" class=\"dataframe\">\n",
       "  <thead>\n",
       "    <tr style=\"text-align: right;\">\n",
       "      <th></th>\n",
       "      <th>FacilityID</th>\n",
       "      <th>URL</th>\n",
       "      <th>Name</th>\n",
       "      <th>FacilityType</th>\n",
       "      <th>Address1</th>\n",
       "      <th>Town</th>\n",
       "      <th>State</th>\n",
       "      <th>AddressNote</th>\n",
       "      <th>Latitude</th>\n",
       "      <th>Longitude</th>\n",
       "      <th>...</th>\n",
       "      <th>Ambulant</th>\n",
       "      <th>Accessible</th>\n",
       "      <th>LHTransfer</th>\n",
       "      <th>RHTransfer</th>\n",
       "      <th>ToiletNote</th>\n",
       "      <th>SharpsDisposal</th>\n",
       "      <th>DrinkingWater</th>\n",
       "      <th>SanitaryDisposal</th>\n",
       "      <th>MensPadDisposal</th>\n",
       "      <th>Shower</th>\n",
       "    </tr>\n",
       "  </thead>\n",
       "  <tbody>\n",
       "    <tr>\n",
       "      <th>0</th>\n",
       "      <td>1</td>\n",
       "      <td>https://toiletmap.gov.au/facility/1</td>\n",
       "      <td>Sandy Beach Reserve</td>\n",
       "      <td>Park or reserve</td>\n",
       "      <td>West Road</td>\n",
       "      <td>Bassendean</td>\n",
       "      <td>WA</td>\n",
       "      <td>NaN</td>\n",
       "      <td>-31.921836</td>\n",
       "      <td>115.950206</td>\n",
       "      <td>...</td>\n",
       "      <td>False</td>\n",
       "      <td>True</td>\n",
       "      <td>False</td>\n",
       "      <td>False</td>\n",
       "      <td>NaN</td>\n",
       "      <td>True</td>\n",
       "      <td>False</td>\n",
       "      <td>False</td>\n",
       "      <td>False</td>\n",
       "      <td>True</td>\n",
       "    </tr>\n",
       "    <tr>\n",
       "      <th>1</th>\n",
       "      <td>2</td>\n",
       "      <td>https://toiletmap.gov.au/facility/2</td>\n",
       "      <td>Point Reserve</td>\n",
       "      <td>Park or reserve</td>\n",
       "      <td>North Road</td>\n",
       "      <td>Bassendean</td>\n",
       "      <td>WA</td>\n",
       "      <td>NaN</td>\n",
       "      <td>-31.904410</td>\n",
       "      <td>115.960991</td>\n",
       "      <td>...</td>\n",
       "      <td>False</td>\n",
       "      <td>True</td>\n",
       "      <td>False</td>\n",
       "      <td>False</td>\n",
       "      <td>NaN</td>\n",
       "      <td>False</td>\n",
       "      <td>False</td>\n",
       "      <td>False</td>\n",
       "      <td>False</td>\n",
       "      <td>False</td>\n",
       "    </tr>\n",
       "    <tr>\n",
       "      <th>2</th>\n",
       "      <td>3</td>\n",
       "      <td>https://toiletmap.gov.au/facility/3</td>\n",
       "      <td>Success Hill Reserve</td>\n",
       "      <td>Park or reserve</td>\n",
       "      <td>Off Seventh Avenue</td>\n",
       "      <td>Bassendean</td>\n",
       "      <td>WA</td>\n",
       "      <td>NaN</td>\n",
       "      <td>-31.896289</td>\n",
       "      <td>115.955781</td>\n",
       "      <td>...</td>\n",
       "      <td>False</td>\n",
       "      <td>True</td>\n",
       "      <td>False</td>\n",
       "      <td>False</td>\n",
       "      <td>NaN</td>\n",
       "      <td>True</td>\n",
       "      <td>True</td>\n",
       "      <td>False</td>\n",
       "      <td>False</td>\n",
       "      <td>True</td>\n",
       "    </tr>\n",
       "    <tr>\n",
       "      <th>3</th>\n",
       "      <td>4</td>\n",
       "      <td>https://toiletmap.gov.au/facility/4</td>\n",
       "      <td>Jubilee Reserve</td>\n",
       "      <td>Park or reserve</td>\n",
       "      <td>Robinson Road</td>\n",
       "      <td>Eden Hill</td>\n",
       "      <td>WA</td>\n",
       "      <td>NaN</td>\n",
       "      <td>-31.891474</td>\n",
       "      <td>115.940164</td>\n",
       "      <td>...</td>\n",
       "      <td>False</td>\n",
       "      <td>False</td>\n",
       "      <td>False</td>\n",
       "      <td>False</td>\n",
       "      <td>NaN</td>\n",
       "      <td>True</td>\n",
       "      <td>False</td>\n",
       "      <td>False</td>\n",
       "      <td>False</td>\n",
       "      <td>False</td>\n",
       "    </tr>\n",
       "    <tr>\n",
       "      <th>4</th>\n",
       "      <td>5</td>\n",
       "      <td>https://toiletmap.gov.au/facility/5</td>\n",
       "      <td>Ashfield Reserve</td>\n",
       "      <td>Park or reserve</td>\n",
       "      <td>Guildford Road</td>\n",
       "      <td>Ashfield</td>\n",
       "      <td>WA</td>\n",
       "      <td>NaN</td>\n",
       "      <td>-31.913433</td>\n",
       "      <td>115.936477</td>\n",
       "      <td>...</td>\n",
       "      <td>False</td>\n",
       "      <td>False</td>\n",
       "      <td>False</td>\n",
       "      <td>False</td>\n",
       "      <td>NaN</td>\n",
       "      <td>True</td>\n",
       "      <td>False</td>\n",
       "      <td>False</td>\n",
       "      <td>False</td>\n",
       "      <td>False</td>\n",
       "    </tr>\n",
       "  </tbody>\n",
       "</table>\n",
       "<p>5 rows × 47 columns</p>\n",
       "</div>"
      ],
      "text/plain": [
       "   FacilityID                                  URL                  Name  \\\n",
       "0           1  https://toiletmap.gov.au/facility/1   Sandy Beach Reserve   \n",
       "1           2  https://toiletmap.gov.au/facility/2         Point Reserve   \n",
       "2           3  https://toiletmap.gov.au/facility/3  Success Hill Reserve   \n",
       "3           4  https://toiletmap.gov.au/facility/4       Jubilee Reserve   \n",
       "4           5  https://toiletmap.gov.au/facility/5      Ashfield Reserve   \n",
       "\n",
       "      FacilityType            Address1        Town State AddressNote  \\\n",
       "0  Park or reserve           West Road  Bassendean    WA         NaN   \n",
       "1  Park or reserve          North Road  Bassendean    WA         NaN   \n",
       "2  Park or reserve  Off Seventh Avenue  Bassendean    WA         NaN   \n",
       "3  Park or reserve       Robinson Road   Eden Hill    WA         NaN   \n",
       "4  Park or reserve      Guildford Road    Ashfield    WA         NaN   \n",
       "\n",
       "    Latitude   Longitude  ...  Ambulant  Accessible LHTransfer  RHTransfer  \\\n",
       "0 -31.921836  115.950206  ...     False        True      False       False   \n",
       "1 -31.904410  115.960991  ...     False        True      False       False   \n",
       "2 -31.896289  115.955781  ...     False        True      False       False   \n",
       "3 -31.891474  115.940164  ...     False       False      False       False   \n",
       "4 -31.913433  115.936477  ...     False       False      False       False   \n",
       "\n",
       "   ToiletNote  SharpsDisposal  DrinkingWater SanitaryDisposal  \\\n",
       "0         NaN            True          False            False   \n",
       "1         NaN           False          False            False   \n",
       "2         NaN            True           True            False   \n",
       "3         NaN            True          False            False   \n",
       "4         NaN            True          False            False   \n",
       "\n",
       "   MensPadDisposal  Shower  \n",
       "0            False    True  \n",
       "1            False   False  \n",
       "2            False    True  \n",
       "3            False   False  \n",
       "4            False   False  \n",
       "\n",
       "[5 rows x 47 columns]"
      ]
     },
     "execution_count": 38,
     "metadata": {},
     "output_type": "execute_result"
    }
   ],
   "source": [
    "df_t = pd.read_csv('australian_toilets.csv')\n",
    "df_t.head()\n"
   ]
  },
  {
   "cell_type": "code",
   "execution_count": 39,
   "id": "0d96219c-27a0-49a3-b747-54547d0f3417",
   "metadata": {},
   "outputs": [
    {
     "data": {
      "text/plain": [
       "FacilityID           20199\n",
       "URL                  20199\n",
       "Name                 20199\n",
       "FacilityType         20199\n",
       "Address1             20199\n",
       "Town                 20199\n",
       "State                20199\n",
       "AddressNote           1188\n",
       "Latitude             20199\n",
       "Longitude            20199\n",
       "Parking              20199\n",
       "ParkingAccessible    20199\n",
       "ParkingNote           1364\n",
       "KeyRequired          20199\n",
       "MLAK24               20199\n",
       "MLAKAfterHours       20199\n",
       "PaymentRequired      20199\n",
       "AccessNote            1600\n",
       "AdultChange          20199\n",
       "ChangingPlaces       20199\n",
       "BYOSling             20199\n",
       "ACShower             20199\n",
       "ACMLAK               20199\n",
       "AdultChangeNote         15\n",
       "BabyChange           20199\n",
       "BabyCareRoom         20199\n",
       "BabyChangeNote          13\n",
       "DumpPoint            20199\n",
       "DPWashout            20199\n",
       "DPAfterHours         20199\n",
       "DumpPointNote            5\n",
       "OpeningHours         20199\n",
       "OpeningHoursNote      3821\n",
       "Male                 20199\n",
       "Female               20199\n",
       "Unisex               20199\n",
       "AllGender            20199\n",
       "Ambulant             20199\n",
       "Accessible           20199\n",
       "LHTransfer           20199\n",
       "RHTransfer           20199\n",
       "ToiletNote            4064\n",
       "SharpsDisposal       20199\n",
       "DrinkingWater        20199\n",
       "SanitaryDisposal     20199\n",
       "MensPadDisposal      20199\n",
       "Shower               20199\n",
       "dtype: int64"
      ]
     },
     "execution_count": 39,
     "metadata": {},
     "output_type": "execute_result"
    }
   ],
   "source": [
    "df_t.count()"
   ]
  },
  {
   "cell_type": "markdown",
   "id": "aefd7178-1900-4871-8e02-6730450c8188",
   "metadata": {},
   "source": [
    "https://pypi.org/project/geopy/\n",
    "\n",
    "Exercise: find the nearest public toilet withwith a bby change or baby care room"
   ]
  },
  {
   "cell_type": "code",
   "execution_count": 40,
   "id": "063d8d3e-164a-4f57-a88c-ef301caf48b9",
   "metadata": {},
   "outputs": [
    {
     "data": {
      "text/plain": [
       "Index(['FacilityID', 'URL', 'Name', 'FacilityType', 'Address1', 'Town',\n",
       "       'State', 'AddressNote', 'Latitude', 'Longitude', 'Parking',\n",
       "       'ParkingAccessible', 'ParkingNote', 'KeyRequired', 'MLAK24',\n",
       "       'MLAKAfterHours', 'PaymentRequired', 'AccessNote', 'AdultChange',\n",
       "       'ChangingPlaces', 'BYOSling', 'ACShower', 'ACMLAK', 'AdultChangeNote',\n",
       "       'BabyChange', 'BabyCareRoom', 'BabyChangeNote', 'DumpPoint',\n",
       "       'DPWashout', 'DPAfterHours', 'DumpPointNote', 'OpeningHours',\n",
       "       'OpeningHoursNote', 'Male', 'Female', 'Unisex', 'AllGender', 'Ambulant',\n",
       "       'Accessible', 'LHTransfer', 'RHTransfer', 'ToiletNote',\n",
       "       'SharpsDisposal', 'DrinkingWater', 'SanitaryDisposal',\n",
       "       'MensPadDisposal', 'Shower'],\n",
       "      dtype='object')"
      ]
     },
     "execution_count": 40,
     "metadata": {},
     "output_type": "execute_result"
    }
   ],
   "source": [
    "df_t.columns"
   ]
  },
  {
   "attachments": {
    "eb5616dc-3e63-4545-846e-f8c275d1bc08.png": {
     "image/png": "[encoded data removed]"
    }
   },
   "cell_type": "markdown",
   "id": "553befd1-4b3b-4e30-960c-f584ccf7d822",
   "metadata": {},
   "source": [
    "![image.png](attachment:eb5616dc-3e63-4545-846e-f8c275d1bc08.png)"
   ]
  },
  {
   "cell_type": "code",
   "execution_count": 51,
   "id": "5165fe0a-3555-43bf-85bc-6aa1d2d28ff1",
   "metadata": {},
   "outputs": [
    {
     "data": {
      "text/html": [
       "<div>\n",
       "<style scoped>\n",
       "    .dataframe tbody tr th:only-of-type {\n",
       "        vertical-align: middle;\n",
       "    }\n",
       "\n",
       "    .dataframe tbody tr th {\n",
       "        vertical-align: top;\n",
       "    }\n",
       "\n",
       "    .dataframe thead th {\n",
       "        text-align: right;\n",
       "    }\n",
       "</style>\n",
       "<table border=\"1\" class=\"dataframe\">\n",
       "  <thead>\n",
       "    <tr style=\"text-align: right;\">\n",
       "      <th></th>\n",
       "      <th>lat_radian</th>\n",
       "      <th>lon_radian</th>\n",
       "    </tr>\n",
       "  </thead>\n",
       "  <tbody>\n",
       "    <tr>\n",
       "      <th>0</th>\n",
       "      <td>-0.557141</td>\n",
       "      <td>2.023713</td>\n",
       "    </tr>\n",
       "    <tr>\n",
       "      <th>1</th>\n",
       "      <td>-0.556837</td>\n",
       "      <td>2.023901</td>\n",
       "    </tr>\n",
       "    <tr>\n",
       "      <th>2</th>\n",
       "      <td>-0.556695</td>\n",
       "      <td>2.023810</td>\n",
       "    </tr>\n",
       "    <tr>\n",
       "      <th>3</th>\n",
       "      <td>-0.556611</td>\n",
       "      <td>2.023538</td>\n",
       "    </tr>\n",
       "    <tr>\n",
       "      <th>4</th>\n",
       "      <td>-0.556994</td>\n",
       "      <td>2.023473</td>\n",
       "    </tr>\n",
       "    <tr>\n",
       "      <th>...</th>\n",
       "      <td>...</td>\n",
       "      <td>...</td>\n",
       "    </tr>\n",
       "    <tr>\n",
       "      <th>20194</th>\n",
       "      <td>-0.669153</td>\n",
       "      <td>2.518830</td>\n",
       "    </tr>\n",
       "    <tr>\n",
       "      <th>20195</th>\n",
       "      <td>-0.590636</td>\n",
       "      <td>2.638653</td>\n",
       "    </tr>\n",
       "    <tr>\n",
       "      <th>20196</th>\n",
       "      <td>-0.524769</td>\n",
       "      <td>2.413389</td>\n",
       "    </tr>\n",
       "    <tr>\n",
       "      <th>20197</th>\n",
       "      <td>-0.658349</td>\n",
       "      <td>2.531535</td>\n",
       "    </tr>\n",
       "    <tr>\n",
       "      <th>20198</th>\n",
       "      <td>-0.634775</td>\n",
       "      <td>2.553653</td>\n",
       "    </tr>\n",
       "  </tbody>\n",
       "</table>\n",
       "<p>20199 rows × 2 columns</p>\n",
       "</div>"
      ],
      "text/plain": [
       "       lat_radian  lon_radian\n",
       "0       -0.557141    2.023713\n",
       "1       -0.556837    2.023901\n",
       "2       -0.556695    2.023810\n",
       "3       -0.556611    2.023538\n",
       "4       -0.556994    2.023473\n",
       "...           ...         ...\n",
       "20194   -0.669153    2.518830\n",
       "20195   -0.590636    2.638653\n",
       "20196   -0.524769    2.413389\n",
       "20197   -0.658349    2.531535\n",
       "20198   -0.634775    2.553653\n",
       "\n",
       "[20199 rows x 2 columns]"
      ]
     },
     "execution_count": 51,
     "metadata": {},
     "output_type": "execute_result"
    }
   ],
   "source": [
    "# convert to randians\n",
    "# lambda = longitude\n",
    "# Radians = Degrees * PI / 180\n",
    "df_t['lat_radian'] = df_t['Latitude'] * np.pi / 180\n",
    "df_t['lon_radian'] = df_t['Longitude'] * np.pi / 180\n",
    "df_t[['lat_radian', 'lon_radian']]"
   ]
  },
  {
   "cell_type": "code",
   "execution_count": 80,
   "id": "fdcc7a1e-24f4-45ce-9498-8bba2e0cb86d",
   "metadata": {},
   "outputs": [],
   "source": [
    "# -30.922292, 150.737359\n",
    "# -32.908042, 150.596883\n",
    "lat_1 = -32.908042 * np.pi / 180\n",
    "lon_1 = 150.596883 * np.pi / 180\n",
    " \n",
    "lat_2 = df_t['lat_radian']\n",
    "lon_2 = df_t['lon_radian']\n",
    "\n",
    "delta_lat = np.abs(lat_1 - lat_2)\n",
    "delta_lon = np.abs(lon_1 - lon_2)"
   ]
  },
  {
   "cell_type": "code",
   "execution_count": 82,
   "id": "446ebbf0-6f0e-45c8-89e8-6d623b332b93",
   "metadata": {},
   "outputs": [
    {
     "data": {
      "text/plain": [
       "996        38.093503\n",
       "4376       48.535640\n",
       "4375       50.294768\n",
       "4374       50.435570\n",
       "17899      50.485033\n",
       "            ...     \n",
       "11265    3779.648951\n",
       "64       3787.034454\n",
       "11268    3792.616013\n",
       "11272    3793.112874\n",
       "65       3793.399517\n",
       "Length: 20199, dtype: float64"
      ]
     },
     "execution_count": 82,
     "metadata": {},
     "output_type": "execute_result"
    }
   ],
   "source": [
    "a = np.square(np.sin(delta_lat/2)) + np.cos(lat_1) * np.cos(lat_2) * np.square(np.sin(delta_lon/2))\n",
    "distance = 2 * 6371 * np.arcsin(np.sqrt(a))\n",
    "distance.sort_values()"
   ]
  },
  {
   "cell_type": "code",
   "execution_count": 83,
   "id": "c15b54d3-5732-41c5-9d38-2ac3522f7e1e",
   "metadata": {},
   "outputs": [],
   "source": [
    "df_t['distance'] = distance"
   ]
  },
  {
   "cell_type": "code",
   "execution_count": 84,
   "id": "5f8dd6e9-745f-4385-8dfc-14be3e7d4330",
   "metadata": {},
   "outputs": [
    {
     "data": {
      "text/plain": [
       "False    18359\n",
       "True      1840\n",
       "Name: DrinkingWater, dtype: int64"
      ]
     },
     "execution_count": 84,
     "metadata": {},
     "output_type": "execute_result"
    }
   ],
   "source": [
    "df_t['DrinkingWater'].value_counts()"
   ]
  },
  {
   "cell_type": "code",
   "execution_count": 90,
   "id": "fff0f79b-f437-424f-941c-f917eb09a407",
   "metadata": {},
   "outputs": [],
   "source": [
    "nearest_idx = df_t[(df_t['DrinkingWater']) == True & (df_t['BabyChange'] == True)]['distance'].argmin()\n",
    "#nearest_idx = df_t['distance'].argmin()"
   ]
  },
  {
   "cell_type": "code",
   "execution_count": 91,
   "id": "d124ef70-948b-433f-9f0e-f2116dc2dbde",
   "metadata": {},
   "outputs": [
    {
     "data": {
      "text/plain": [
       "FacilityID                                             1105\n",
       "URL                  https://toiletmap.gov.au/facility/1105\n",
       "Name                                    Malvern City Square\n",
       "FacilityType                                Shopping centre\n",
       "Address1                                    Stanhope Street\n",
       "Town                                                Malvern\n",
       "State                                                   VIC\n",
       "AddressNote                                             NaN\n",
       "Latitude                                         -37.856343\n",
       "Longitude                                        145.029052\n",
       "Parking                                               False\n",
       "ParkingAccessible                                     False\n",
       "ParkingNote                                             NaN\n",
       "KeyRequired                                           False\n",
       "MLAK24                                                False\n",
       "MLAKAfterHours                                        False\n",
       "PaymentRequired                                       False\n",
       "AccessNote                                              NaN\n",
       "AdultChange                                           False\n",
       "ChangingPlaces                                        False\n",
       "BYOSling                                              False\n",
       "ACShower                                              False\n",
       "ACMLAK                                                False\n",
       "AdultChangeNote                                         NaN\n",
       "BabyChange                                            False\n",
       "BabyCareRoom                                          False\n",
       "BabyChangeNote                                          NaN\n",
       "DumpPoint                                             False\n",
       "DPWashout                                             False\n",
       "DPAfterHours                                          False\n",
       "DumpPointNote                                           NaN\n",
       "OpeningHours                           OPEN: Daylight hours\n",
       "OpeningHoursNote                                        NaN\n",
       "Male                                                   True\n",
       "Female                                                 True\n",
       "Unisex                                                False\n",
       "AllGender                                             False\n",
       "Ambulant                                              False\n",
       "Accessible                                             True\n",
       "LHTransfer                                            False\n",
       "RHTransfer                                            False\n",
       "ToiletNote                                              NaN\n",
       "SharpsDisposal                                         True\n",
       "DrinkingWater                                         False\n",
       "SanitaryDisposal                                      False\n",
       "MensPadDisposal                                       False\n",
       "Shower                                                False\n",
       "lat_radian                                        -0.660718\n",
       "lon_radian                                         2.531234\n",
       "distance                                         746.374451\n",
       "Name: 866, dtype: object"
      ]
     },
     "execution_count": 91,
     "metadata": {},
     "output_type": "execute_result"
    }
   ],
   "source": [
    "df_t.loc[nearest_idx] "
   ]
  },
  {
   "cell_type": "code",
   "execution_count": 74,
   "id": "10709a30-7bb3-4bbb-9bd8-ee66aa55c73b",
   "metadata": {},
   "outputs": [
    {
     "name": "stdout",
     "output_type": "stream",
     "text": [
      "0.0001440345767437856\n",
      "0.02400345746719208\n",
      "152.96923374692167\n"
     ]
    }
   ],
   "source": [
    " "
   ]
  },
  {
   "cell_type": "code",
   "execution_count": 57,
   "id": "d5c0bf46-5258-48bb-bae1-bd413842d4cd",
   "metadata": {},
   "outputs": [
    {
     "name": "stdout",
     "output_type": "stream",
     "text": [
      "0.03465787562147745\n"
     ]
    },
    {
     "data": {
      "text/plain": [
       "-0.034657875621477374"
      ]
     },
     "execution_count": 57,
     "metadata": {},
     "output_type": "execute_result"
    }
   ],
   "source": [
    " "
   ]
  },
  {
   "cell_type": "code",
   "execution_count": 75,
   "id": "c3e51abb-cb95-4328-a628-6cc05509b867",
   "metadata": {},
   "outputs": [
    {
     "name": "stdout",
     "output_type": "stream",
     "text": [
      "0.0003013443617138356\n",
      "0.034720290094086254\n",
      "221.26546471159287\n"
     ]
    }
   ],
   "source": [
    " "
   ]
  },
  {
   "cell_type": "code",
   "execution_count": null,
   "id": "8230c805-76c6-46c5-a973-c462ef9d5edc",
   "metadata": {},
   "outputs": [],
   "source": []
  }
 ],
 "metadata": {
  "kernelspec": {
   "display_name": "Python (pandas)",
   "language": "python",
   "name": "pandas"
  },
  "language_info": {
   "codemirror_mode": {
    "name": "ipython",
    "version": 3
   },
   "file_extension": ".py",
   "mimetype": "text/x-python",
   "name": "python",
   "nbconvert_exporter": "python",
   "pygments_lexer": "ipython3",
   "version": "3.9.4"
  }
 },
 "nbformat": 4,
 "nbformat_minor": 5
}
