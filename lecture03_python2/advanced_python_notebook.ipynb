{
 "cells": [
  {
   "cell_type": "markdown",
   "id": "b6c6b43f",
   "metadata": {},
   "source": [
    "# L03 - Advanced Python Notebook\n",
    "\n",
    "This notebook accompanies the video for Lecture 03 on more advanced concepts of Python, which can be found on Courseware."
   ]
  },
  {
   "cell_type": "markdown",
   "id": "aab519d1",
   "metadata": {},
   "source": [
    "## Object-Oriented Programming"
   ]
  },
  {
   "cell_type": "markdown",
   "id": "d8b67012",
   "metadata": {},
   "source": [
    "In Object-Oriented Programming (OOP), data is represented as **objects** which are instances of **classes**, which describe the attributes an object is going to have. In Python, **everything is an object** in the sense that it is an instance of the superclass `object`."
   ]
  },
  {
   "cell_type": "code",
   "execution_count": null,
   "id": "da46e8d5",
   "metadata": {},
   "outputs": [],
   "source": [
    "a = 7\n",
    "b = \"hello\"\n",
    "c = False\n",
    "d = list()\n",
    "\n",
    "print(isinstance(a, object))\n",
    "print(isinstance(b, object))\n",
    "print(isinstance(c, object))\n",
    "print(isinstance(d, object))\n",
    "\n",
    "print(isinstance(object, object)) # even object is an instance of object"
   ]
  },
  {
   "cell_type": "markdown",
   "id": "4d02e125",
   "metadata": {},
   "source": [
    "### Attributes"
   ]
  },
  {
   "cell_type": "markdown",
   "id": "b6f0b2dd",
   "metadata": {},
   "source": [
    "Objects have attributes. These attributes can usually be addressed with the syntax `object.attribute`. A list of attributes of an object can be accessed with the function `dir`."
   ]
  },
  {
   "cell_type": "code",
   "execution_count": null,
   "id": "aa8417b2",
   "metadata": {},
   "outputs": [],
   "source": [
    "my_list = list()\n",
    "\n",
    "print(dir(my_list))"
   ]
  },
  {
   "cell_type": "markdown",
   "id": "23e47c14",
   "metadata": {},
   "source": [
    "We can see that the object `my_list` of `type` `list` has many attributes. Some of these attributes are functions that we have already used, like `append` or `insert`. Functions that are attached to an object are called **methods**."
   ]
  },
  {
   "cell_type": "markdown",
   "id": "6c149797",
   "metadata": {},
   "source": [
    "### Dunder Methods\n",
    "\n",
    "Many attributes start and end with `__` (double underscore). These are the so-called **Dunder Methods** or **Magic Methods**. They regulate under the hood what happens when functions are called on objects."
   ]
  },
  {
   "cell_type": "code",
   "execution_count": null,
   "id": "de6e3ea6",
   "metadata": {},
   "outputs": [],
   "source": [
    "a = [1, 2, 3]\n",
    "\n",
    "print(len(a))       # len(a) and a.__len__() do the same thing\n",
    "print(a.__len__())  "
   ]
  },
  {
   "cell_type": "markdown",
   "id": "f20d47f6",
   "metadata": {},
   "source": [
    "Similarly, objects have a `__str__` method that is called when calling ``str(object)``, which also happens when printing something."
   ]
  },
  {
   "cell_type": "code",
   "execution_count": null,
   "id": "00ea6cf3",
   "metadata": {},
   "outputs": [],
   "source": [
    "a = [1, 2, 3]\n",
    "\n",
    "print(a)            # these all do the same thing\n",
    "print(str(a))\n",
    "print(a.__str__())"
   ]
  },
  {
   "cell_type": "markdown",
   "id": "2fe43295",
   "metadata": {},
   "source": [
    "### Custom Classes\n",
    "\n",
    "Classes can be defined with the keyword `class`. By default, all custom classes inherit from the superclass `object`, so they already have some attributes even if we do not define them explicitly."
   ]
  },
  {
   "cell_type": "code",
   "execution_count": null,
   "id": "5f8ab930",
   "metadata": {},
   "outputs": [],
   "source": [
    "class Banana:\n",
    "    pass        # we use pass to indicate that nothing is happening in this indented block\n",
    "\n",
    "a = Banana()    # this is how a new object is constructued\n",
    "print(dir(a))\n",
    "print(a)"
   ]
  },
  {
   "cell_type": "markdown",
   "id": "b50ea31b",
   "metadata": {},
   "source": [
    "If we define the methods in the class definition, we overwrite the default provided by `object`."
   ]
  },
  {
   "cell_type": "code",
   "execution_count": null,
   "id": "c09a2100",
   "metadata": {},
   "outputs": [],
   "source": [
    "class Banana:\n",
    "    \n",
    "    def __str__(self):\n",
    "        return \"Surprise! This is a banana.\"\n",
    "        \n",
    "a = Banana()\n",
    "\n",
    "print(dir(a))\n",
    "print(a)"
   ]
  },
  {
   "cell_type": "markdown",
   "id": "a91e4c0f",
   "metadata": {},
   "source": [
    "The keyword `self` is used to refer to the current instance of the class (the object itself). Functions always need to have `self` as first positional argument in the function definition - however, `self` does not have to be passed as an argument when calling the function."
   ]
  },
  {
   "cell_type": "markdown",
   "id": "684b960f",
   "metadata": {},
   "source": [
    "### Constructor"
   ]
  },
  {
   "cell_type": "markdown",
   "id": "0e79bae5",
   "metadata": {},
   "source": [
    "The dunder method `__init__` is the way to define the constructor in Python. It is the first thing executed when a new object is instantiated. It is often used to initialize instance variables."
   ]
  },
  {
   "cell_type": "code",
   "execution_count": null,
   "id": "709f778e",
   "metadata": {},
   "outputs": [],
   "source": [
    "class Tomato:\n",
    "    \n",
    "    def __init__(self):         # constructor\n",
    "        \"\"\" Constructor for a tomato. \"\"\"\n",
    "        \n",
    "        self.color = \"red\"      # instance variable\n",
    "        \n",
    "        \n",
    "    def print_color(self):      # custom method\n",
    "        \"\"\" Prints the color attribute of a tomato. \"\"\"\n",
    "        \n",
    "        print(self.color)\n",
    "        \n",
    "        \n",
    "tomato_1 = Tomato()\n",
    "tomato_1.print_color()\n",
    "\n",
    "tomato_2 = Tomato()\n",
    "tomato_2.print_color()"
   ]
  },
  {
   "cell_type": "markdown",
   "id": "266e3548",
   "metadata": {},
   "source": [
    "Changing one object's attribute value does not change another object's attibute value."
   ]
  },
  {
   "cell_type": "code",
   "execution_count": null,
   "id": "3184e7e7",
   "metadata": {
    "scrolled": true
   },
   "outputs": [],
   "source": [
    "tomato_1 = Tomato()\n",
    "tomato_2 = Tomato()\n",
    "\n",
    "tomato_1.color = \"green\"\n",
    "\n",
    "tomato_1.print_color()\n",
    "tomato_2.print_color()"
   ]
  },
  {
   "cell_type": "markdown",
   "id": "fccfe2a2",
   "metadata": {},
   "source": [
    "**Caution:** The `=` operator **does not create a copy of an object**, it only copies the reference to the object."
   ]
  },
  {
   "cell_type": "code",
   "execution_count": null,
   "id": "3cd1cfe9",
   "metadata": {},
   "outputs": [],
   "source": [
    "tomato_1 = Tomato()\n",
    "tomato_2 = tomato_1 # this just copies the reference to the object\n",
    "\n",
    "tomato_1.color = \"green\"\n",
    "\n",
    "tomato_1.print_color()\n",
    "tomato_2.print_color()"
   ]
  },
  {
   "cell_type": "markdown",
   "id": "c8b5cad5",
   "metadata": {},
   "source": [
    "In order to create a copy of an object and all its attributes, the function `deepcopy` from the module `copy` can be used."
   ]
  },
  {
   "cell_type": "code",
   "execution_count": null,
   "id": "10cb8bfe",
   "metadata": {},
   "outputs": [],
   "source": [
    "from copy import deepcopy\n",
    "\n",
    "tomato_1 = Tomato()\n",
    "tomato_2 = deepcopy(tomato_1) # this copies the object itself\n",
    "\n",
    "tomato_1.color = \"green\"\n",
    "\n",
    "tomato_1.print_color()\n",
    "tomato_2.print_color()\n"
   ]
  },
  {
   "cell_type": "markdown",
   "id": "d6c7cf2e",
   "metadata": {},
   "source": [
    "### Operators"
   ]
  },
  {
   "cell_type": "markdown",
   "id": "4390cc10",
   "metadata": {},
   "source": [
    "Even the **fundamental mathematical operators** are implemented by way of dunder methods. Consequently, you can decide for yourself what it means to use the `+` operator on two instances of a class that you define yourself.\n",
    "\n",
    "To do that, you can overwrite the dunder methods `__add__` and `__radd__` in the class definition."
   ]
  },
  {
   "cell_type": "code",
   "execution_count": null,
   "id": "84e30c3b",
   "metadata": {},
   "outputs": [],
   "source": [
    "class Team:\n",
    "    \n",
    "    def __init__(self, person_a, person_b): # this constructor takes two Person objects as arguments\n",
    "        \n",
    "        self.person_a = person_a\n",
    "        self.person_b = person_b\n",
    "        \n",
    "    def __str__(self):\n",
    "        return \"Team consisting of \" + str(self.person_a) + \" and \" + str(self.person_b)\n",
    "\n",
    "class Person:\n",
    "    \n",
    "    def __init__(self, name):\n",
    "        self.name = name\n",
    "    \n",
    "    def __add__(self, other):\n",
    "        return Team(self, other)\n",
    "    \n",
    "    def __radd__(self, other):\n",
    "        return Team(other, self)\n",
    "    \n",
    "    def __str__(self):\n",
    "        return self.name\n",
    "    "
   ]
  },
  {
   "cell_type": "markdown",
   "id": "96e6c5d3",
   "metadata": {},
   "source": [
    "`a.__add__(a, b)` is called internally when `a + b` is executed. If `a` has no suitable `__add__` method for the given types, `b.__radd__(b, a)` is called instead."
   ]
  },
  {
   "cell_type": "code",
   "execution_count": null,
   "id": "9b4c69ed",
   "metadata": {
    "scrolled": true
   },
   "outputs": [],
   "source": [
    "a = Person(\"Timon\")\n",
    "b = Person(\"Pumbaa\")\n",
    "\n",
    "print(\"a + b results in\", a + b)\n",
    "print(\"a + 7 results in\", a + 7)\n",
    "print(\"7 + a results in\", 7 + a) # int has no defined __add__ method for int + Banana, so Banana's __radd__ method is called"
   ]
  },
  {
   "cell_type": "markdown",
   "id": "d03cf2ab",
   "metadata": {},
   "source": [
    "You can find out more about dunder methods and the Python data model [here](https://docs.python.org/3.7/reference/datamodel.html)."
   ]
  },
  {
   "cell_type": "markdown",
   "id": "2b505043",
   "metadata": {},
   "source": [
    "### Class Variables"
   ]
  },
  {
   "cell_type": "markdown",
   "id": "c8040552",
   "metadata": {},
   "source": [
    "Class variables are variables that belong to a class of objects, not to objects. They are shared among all objects."
   ]
  },
  {
   "cell_type": "code",
   "execution_count": null,
   "id": "6327f904",
   "metadata": {},
   "outputs": [],
   "source": [
    "class Chair:\n",
    "    \n",
    "    description = \"A separate seat for one person\"         # class variable\n",
    "    \n",
    "    def __init__(self, name):\n",
    "        self.name = name                                   # instance variable\n",
    "        \n",
    "    def __str__(self):\n",
    "        return Chair.description + \" named \" + self.name\n",
    "    \n",
    "a = Chair(\"Robert\")\n",
    "b = Chair(\"Lex\")\n",
    "\n",
    "print(a)\n",
    "print(b)\n",
    "\n",
    "Chair.description = \"The person in charge of a meeting or of an organization\"\n",
    "\n",
    "print(a)\n",
    "print(b)"
   ]
  },
  {
   "cell_type": "markdown",
   "id": "90e3ae26",
   "metadata": {},
   "source": [
    "A summary of how class variables and instance variables work can be found [here](https://docs.python.org/3.7/tutorial/classes.html#class-and-instance-variables)."
   ]
  },
  {
   "cell_type": "markdown",
   "id": "2a8caef9",
   "metadata": {},
   "source": [
    "### Inheritance\n",
    "\n",
    "In Python, classes can also inherit attributes from other classes (all classes in fact inherit from the superclass `object`)."
   ]
  },
  {
   "cell_type": "code",
   "execution_count": null,
   "id": "d57fcf7b",
   "metadata": {
    "scrolled": true
   },
   "outputs": [],
   "source": [
    "class Person:\n",
    "    \n",
    "    def __init__(self, name):\n",
    "        self.name = name\n",
    "    \n",
    "    def __str__(self):\n",
    "        return \"I am \" + self.name + \"!\"\n",
    "    \n",
    "\n",
    "class Wizard(Person):          # class Wizard inherits from class Person\n",
    "    \n",
    "    def __init__(self, name, allegiance=\"fellowship\"):\n",
    "        \n",
    "        super().__init__(name) # call the inherited constructor of parent\n",
    "        \n",
    "        self.allegiance = allegiance\n",
    "        \n",
    "    \n",
    "    def cast_spell(self):\n",
    "        print(\"Fabulous fireworks ensue ...\")\n",
    "        \n",
    "        \n",
    "gandalf = Wizard(\"Gandalf\")\n",
    "\n",
    "print(gandalf)\n",
    "gandalf.cast_spell()"
   ]
  },
  {
   "cell_type": "markdown",
   "id": "282093e7",
   "metadata": {},
   "source": [
    "`super` is used to call the parent `class` - in this case `Person`. You can find out more about `super` [here](https://docs.python.org/3.7/library/functions.html#super)."
   ]
  },
  {
   "cell_type": "markdown",
   "id": "6972c915",
   "metadata": {},
   "source": [
    "## Iterators"
   ]
  },
  {
   "cell_type": "markdown",
   "id": "c39cdddb",
   "metadata": {},
   "source": [
    "`list`, `tuple` and `set` are what we call `iterable` collections. Informally, that means they can be used in `for ... in iterable` statements."
   ]
  },
  {
   "cell_type": "code",
   "execution_count": null,
   "id": "228512e5",
   "metadata": {},
   "outputs": [],
   "source": [
    "for item in [1, 2, 3]:\n",
    "    print(item)"
   ]
  },
  {
   "cell_type": "markdown",
   "id": "a5435ca9",
   "metadata": {},
   "source": [
    "More precisely, they are classes that provide an `__iter__` method, which can be used to access an `iterator` over the underlying data in the object.\n",
    "\n",
    "An `iterator` is an object, that implements a `__next__` method, which can be used to access the next data point."
   ]
  },
  {
   "cell_type": "code",
   "execution_count": null,
   "id": "dc3b18a9",
   "metadata": {
    "scrolled": true
   },
   "outputs": [],
   "source": [
    "class MyIterable:\n",
    "    \n",
    "    def __iter__(self):\n",
    "        return MyIterator()\n",
    "    \n",
    "class MyIterator:\n",
    "    \n",
    "    def __next__(self):\n",
    "        return \"something\"\n",
    "    \n",
    "my_iter = MyIterable()\n",
    "\n",
    "# the code below is commented since it leads to an endless loop \n",
    "# only uncomment it if you know how to stop endless loops (hint: interrupt the kernel)\n",
    "#\n",
    "# for output in my_iter:\n",
    "#    print(output)"
   ]
  },
  {
   "cell_type": "markdown",
   "id": "6e3c2da4",
   "metadata": {},
   "source": [
    "We can use this knowledge about iterators and iterables to define our own custom version of `range`:"
   ]
  },
  {
   "cell_type": "code",
   "execution_count": null,
   "id": "03415f85",
   "metadata": {},
   "outputs": [],
   "source": [
    "class MyRange:\n",
    "    \n",
    "    def __init__(self, start, end):\n",
    "        \n",
    "        self.start = start\n",
    "        self.end = end\n",
    "        \n",
    "    def __iter__(self):\n",
    "        \n",
    "        return self\n",
    "    \n",
    "    def __next__(self):\n",
    "        \n",
    "        if self.start < self.end:\n",
    "            \n",
    "            self.start += 1\n",
    "            return self.start - 1\n",
    "        \n",
    "        else:\n",
    "            \n",
    "            raise StopIteration() # this is a special kind of exception that tells the for-loop when to stop\n",
    "            \n",
    "    \n",
    "for item in MyRange(1, 7):\n",
    "    print(item)\n"
   ]
  },
  {
   "cell_type": "markdown",
   "id": "fd2c016e",
   "metadata": {},
   "source": [
    "Note that this class is both an `iterator` (since it provides `__next__`) and an `iterable` (since it provides `__iter__`)."
   ]
  },
  {
   "cell_type": "markdown",
   "id": "ba594f95",
   "metadata": {},
   "source": [
    "## Exceptions\n",
    "\n",
    "There are two contrasting development philosophies that are common among programming languages: **LBYL** and **EAFP**. Python encourages EAFP.\n",
    "\n",
    "The following definitions are taken from [Python Glossary](https://docs.python.org/3.7/glossary.html#term-lbyl):"
   ]
  },
  {
   "cell_type": "markdown",
   "id": "852c9336",
   "metadata": {},
   "source": [
    "### LBYL\n",
    "\n",
    "Look before you leap. This coding style explicitly tests for pre-conditions before making calls or lookups. This style contrasts with the EAFP approach and is characterized by the presence of many if statements.\n",
    "\n",
    "In a multi-threaded environment, the LBYL approach can risk introducing a race condition between “the looking” and “the leaping”. For example, the code, if key in mapping: return mapping[key] can fail if another thread removes key from mapping after the test, but before the lookup. This issue can be solved with locks or by using the EAFP approach.\n"
   ]
  },
  {
   "cell_type": "markdown",
   "id": "90918cc1",
   "metadata": {},
   "source": [
    "### EAFP\n",
    "\n",
    "Easier to ask for forgiveness than permission. This common Python coding style assumes the existence of valid keys or attributes and catches exceptions if the assumption proves false. This clean and fast style is characterized by the presence of many try and except statements. The technique contrasts with the LBYL style common to many other languages such as C."
   ]
  },
  {
   "cell_type": "markdown",
   "id": "443d2100",
   "metadata": {},
   "source": [
    "What **EAFP** means in practice that when in doubt, code is executed first and only if that fails the fallout from that failure is contained. This can be controlled with `exception`s."
   ]
  },
  {
   "cell_type": "markdown",
   "id": "42bb95e9",
   "metadata": {},
   "source": [
    "You have probably already encountered the following exceptions:\n",
    "\n",
    "* AssertionError:         When an `assert` statement fails (e.g. in the `test_*.py` files for the homework)\n",
    "* TypeError:              When using the wrong data type for a function\n",
    "* KeyboardInterrupt:      When e.g. CTRL + C is pressed\n",
    "* NotImplementedError:    When e.g. you execute the homework scripts but some functionality is missing\n",
    "\n",
    "A complete list of built-in exceptions in Python 3.7 can be found [here](https://docs.python.org/3.7/library/exceptions.html)."
   ]
  },
  {
   "cell_type": "markdown",
   "id": "24312d0a",
   "metadata": {},
   "source": [
    "You can **throw your own exceptions**, e.g. a ValueError."
   ]
  },
  {
   "cell_type": "code",
   "execution_count": null,
   "id": "cccb4e28",
   "metadata": {},
   "outputs": [],
   "source": [
    "raise ValueError(\"This input value was not correct!\")"
   ]
  },
  {
   "cell_type": "markdown",
   "id": "6578ae84",
   "metadata": {},
   "source": [
    "You can also catch all kinds of exceptions with help of a `try` ... `except` block:"
   ]
  },
  {
   "cell_type": "code",
   "execution_count": null,
   "id": "bd509f3b",
   "metadata": {},
   "outputs": [],
   "source": [
    "my_dict = {\n",
    "    \"valid_key\": \"solved!\"\n",
    "}\n",
    "\n",
    "try:\n",
    "    \n",
    "    print(my_dict[\"invalid_key\"])\n",
    "    \n",
    "except KeyError:\n",
    "    \n",
    "    print(\"That key was not correct!\")\n",
    "    "
   ]
  },
  {
   "cell_type": "markdown",
   "id": "e811c962",
   "metadata": {},
   "source": [
    "It is also possible to construct your own exception by inheriting from the base clase `Exception`:"
   ]
  },
  {
   "cell_type": "code",
   "execution_count": null,
   "id": "6d18c680",
   "metadata": {},
   "outputs": [],
   "source": [
    "class UnicornException(Exception):\n",
    "    pass\n",
    "\n",
    "raise UnicornException(\"This is an informative message.\")"
   ]
  },
  {
   "cell_type": "markdown",
   "id": "13e0bdc7",
   "metadata": {},
   "source": [
    "## Comprehensions"
   ]
  },
  {
   "cell_type": "markdown",
   "id": "304db7f3",
   "metadata": {},
   "source": [
    "Comprehensions are a special kind of `for`-loop over a data structure that is usually contained in one line of code only. A **list comprehension** e.g. can be used to create a new list by modifying the elements of an existing list."
   ]
  },
  {
   "cell_type": "code",
   "execution_count": null,
   "id": "3e254c8d",
   "metadata": {},
   "outputs": [],
   "source": [
    "old_list = [1, 2, 3]\n",
    "\n",
    "new_list = []\n",
    "\n",
    "for old_item in old_list:\n",
    "    \n",
    "    new_item = old_item + 8\n",
    "    new_list.append(new_item)\n",
    "    \n",
    "print(new_list)"
   ]
  },
  {
   "cell_type": "markdown",
   "id": "7ceef1e5",
   "metadata": {},
   "source": [
    "The same can be achieved with a one-liner list comprehension:"
   ]
  },
  {
   "cell_type": "code",
   "execution_count": null,
   "id": "f159a935",
   "metadata": {
    "scrolled": true
   },
   "outputs": [],
   "source": [
    "old_list = [1, 2, 3]\n",
    "\n",
    "new_list = [item + 8 for item in old_list] # list comprehension\n",
    "\n",
    "print(new_list)"
   ]
  },
  {
   "cell_type": "markdown",
   "id": "2577c66d",
   "metadata": {},
   "source": [
    "It is also possible to **filter** the items that are put into the new list with some condition:"
   ]
  },
  {
   "cell_type": "code",
   "execution_count": null,
   "id": "86c33d52",
   "metadata": {},
   "outputs": [],
   "source": [
    "old_list = [1, 2, 3]\n",
    "\n",
    "new_list = [item + 8 for item in old_list if item > 1]\n",
    "\n",
    "print(new_list)"
   ]
  },
  {
   "cell_type": "markdown",
   "id": "f52e360d",
   "metadata": {},
   "source": [
    "List comprehensions can also be **nested**. While the syntax for that might not seem that intuitive at first, nested list comprehensions can be a really neat tool."
   ]
  },
  {
   "cell_type": "code",
   "execution_count": null,
   "id": "8e8b6863",
   "metadata": {
    "scrolled": true
   },
   "outputs": [],
   "source": [
    "old_nested_list = [\n",
    "    [1, 2, 3],\n",
    "    [4, 5, 6],\n",
    "    [7, 8, 9]\n",
    "]\n",
    "\n",
    "new_nested_list = [cell for row in old_nested_list for cell in row]\n",
    "\n",
    "print(new_nested_list)\n"
   ]
  },
  {
   "cell_type": "markdown",
   "id": "670a5697",
   "metadata": {},
   "source": [
    "This nested list comprehension allows for the **flattening** (making 1-dimensional) of nested lists.\n",
    "\n",
    "You can learn more about nested list comprehensions and the intuition behind their syntax [here](https://spapas.github.io/2016/04/27/python-nested-list-comprehensions/)."
   ]
  },
  {
   "cell_type": "markdown",
   "id": "29fe486e",
   "metadata": {},
   "source": [
    "Comprehensions can also be done on other iterable data structures, e.g. **dictionary comprehension**.\n",
    "\n",
    "The following example reduces all prices stored in the `dict fruit_prices` by 0.10:"
   ]
  },
  {
   "cell_type": "code",
   "execution_count": null,
   "id": "beedaf58",
   "metadata": {},
   "outputs": [],
   "source": [
    "fruit_prices = {\n",
    "    \"oranges\": 1.00,\n",
    "    \"apples\":  0.50,\n",
    "    \"bananas\": 1.50\n",
    "}\n",
    "\n",
    "fruit_prices = {fruit: price - 0.10 for fruit, price in fruit_prices.items()}\n",
    "\n",
    "print(fruit_prices)"
   ]
  },
  {
   "cell_type": "markdown",
   "id": "2b3ad6bf",
   "metadata": {},
   "source": [
    "Python also provides more succinct ways of performing list operations, but they take a bit more effort to master. \n",
    "\n",
    "If you are still hungry for more efficient ways, you can look up [map](https://docs.python.org/3.7/library/functions.html#map) and [filter](https://docs.python.org/3.7/library/functions.html#filter) in conjunction with [lambda expressions](https://docs.python.org/3.7/tutorial/controlflow.html#lambda-expressions)."
   ]
  },
  {
   "cell_type": "markdown",
   "id": "27a61f4e",
   "metadata": {},
   "source": [
    "## Homework 03"
   ]
  },
  {
   "cell_type": "markdown",
   "id": "56e0ee09",
   "metadata": {},
   "source": [
    "You are now ready to proceed to the third homework assignment. As always, you can find the link in a StudIP announcement.\n",
    "\n",
    "The deadline for this homework is **Sunday at midnight** (2021-05-03 00:00:00 UTC+2)."
   ]
  }
 ],
 "metadata": {
  "kernelspec": {
   "display_name": "Python 3",
   "language": "python",
   "name": "python3"
  },
  "language_info": {
   "codemirror_mode": {
    "name": "ipython",
    "version": 3
   },
   "file_extension": ".py",
   "mimetype": "text/x-python",
   "name": "python",
   "nbconvert_exporter": "python",
   "pygments_lexer": "ipython3",
   "version": "3.6.9"
  }
 },
 "nbformat": 4,
 "nbformat_minor": 5
}
