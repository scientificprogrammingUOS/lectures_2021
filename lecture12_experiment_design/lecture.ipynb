{
 "cells": [
  {
   "cell_type": "markdown",
   "metadata": {},
   "source": [
    "# Introduction\n",
    "\n",
    "We will take avout two libraries: **PsychoPy** and **Expyriment**\n",
    "This lecture will be focused on the technical details of expyriment design. What is important when designing and experiment from a scientific point of\n",
    "view is covered in other courses."
   ]
  },
  {
   "cell_type": "markdown",
   "metadata": {},
   "source": [
    "## **PsychoPy**\n",
    "- most widely used python library for experiments\n",
    "- platform independent: \n",
    "    - Windows\n",
    "    - macOS \n",
    "    - Linux\n",
    "- accurate timing\n",
    "- provides graphical interface for non coders\n",
    "- For running expiremnts in a browser you can translate them to [psychojs](https://github.com/psychopy/psychojs)\n",
    "- support for multiple backends\n",
    "\n",
    "**Installation**\n",
    "\n",
    "I recommend you install psychopy in a seperate environment using the `psychopy-env.yml file` in the psychopy directory.\n",
    "Navigate to the directory and run\n",
    "    \n",
    "    conda env create -n psychopy -f psychopy-env.yml\n",
    "\n",
    "If you use linux also run \n",
    "    \n",
    "    sudo apt install libwebkitgtk-1.0\n",
    "    \n",
    "for installing wxpython seperately.\n",
    "You can also upgrade an existing environment using the .yml file\n",
    "\n",
    "    conda env update --name your_env_name --file psychopy/psyenv.yml\n",
    "\n",
    "For more info or other ways of installation consult the [documentation](https://www.psychopy.org/download.html)\n",
    "\n",
    "## **Expyriment**\n",
    "- platform independent:\n",
    "   - windows\n",
    "   - mac os\n",
    "   - linux\n",
    "   - android\n",
    "- lightweight, few dependencies\n",
    "- uses pygame as backend\n",
    "   \n",
    "**Installation**\n",
    "    \n",
    "    pip install expyriment\n"
   ]
  },
  {
   "cell_type": "markdown",
   "metadata": {},
   "source": [
    "# The easy way\n",
    "\n",
    "Psychopy contains two interfaces: the **[Builder](https://www.psychopy.org/builder/index.html)** and the **[Coder](https://www.psychopy.org/coder/index.html)**.\n",
    "\n",
    "The Builder is made for non-coders. You create experiments with a drag'n'drop-interface, you run it from inside PsychoPy and then analyze your data in Excel...:\n",
    "\n",
    "![](figures/psychopy_builder.png)\n",
    "\n",
    "What you produce in the Builder-Interface produces Python-Code which could be tweaked afterwards:"
   ]
  },
  {
   "cell_type": "code",
   "execution_count": 1,
   "metadata": {
    "scrolled": true
   },
   "outputs": [
    {
     "name": "stdout",
     "output_type": "stream",
     "text": [
      "﻿#!/usr/bin/env python\n",
      "# -*- coding: utf-8 -*-\n",
      "\"\"\"\n",
      "This experiment was created using PsychoPy3 Experiment Builder (v2020.1.2),\n",
      "    on Wed 01 Jul 2020 02:54:40 PM CEST\n",
      "If you publish work using this script the most relevant publication is:\n",
      "\n",
      "    Peirce J, Gray JR, Simpson S, MacAskill M, Höchenberger R, Sogo H, Kastman E, Lindeløv JK. (2019) \n",
      "        PsychoPy2: Experiments in behavior made easy Behav Res 51: 195. \n",
      "        https://doi.org/10.3758/s13428-018-01193-y\n",
      "\n",
      "\"\"\"\n",
      "\n",
      "from __future__ import absolute_import, division\n",
      "\n",
      "from psychopy import locale_setup\n",
      "from psychopy import prefs\n",
      "from psychopy import sound, gui, visual, core, data, event, logging, clock\n",
      "from psychopy.constants import (NOT_STARTED, STARTED, PLAYING, PAUSED,\n",
      "                                STOPPED, FINISHED, PRESSED, RELEASED, FOREVER)\n",
      "\n",
      "import numpy as np  # whole numpy lib is available, prepend 'np.'\n",
      "from numpy import (sin, cos, tan, log, log10, pi, average,\n",
      "                   sqrt, std, deg2rad, rad2deg, linspace, asarray)\n",
      "from numpy.random import random, randint, normal, shuffle\n",
      "import os  # handy system and path functions\n",
      "import sys  # to get file system encoding\n",
      "\n",
      "from psychopy.hardware import keyboard\n",
      "\n",
      "\n",
      "\n",
      "# Ensure that relative paths start from the same directory as this script\n",
      "_thisDir = os.path.dirname(os.path.abspath(__file__))\n",
      "os.chdir(_thisDir)\n",
      "\n",
      "# Store info about the experiment session\n",
      "psychopyVersion = '2020.1.2'\n",
      "expName = 'stroop'  # from the Builder filename that created this script\n",
      "expInfo = {'participant': '', 'session': '001'}\n",
      "dlg = gui.DlgFromDict(dictionary=expInfo, sortKeys=False, title=expName)\n",
      "if dlg.OK == False:\n",
      "    core.quit()  # user pressed cancel\n",
      "expInfo['date'] = data.getDateStr()  # add a simple timestamp\n",
      "expInfo['expName'] = expName\n",
      "expInfo['psychopyVersion'] = psychopyVersion\n",
      "\n",
      "# Data file name stem = absolute path + name; later add .psyexp, .csv, .log, etc\n",
      "filename = _thisDir + os.sep + u'data/%s_%s_%s' % (expInfo['participant'], expName, expInfo['date'])\n",
      "\n",
      "# An ExperimentHandler isn't essential but helps with data saving\n",
      "thisExp = data.ExperimentHandler(name=expName, version='',\n",
      "    extraInfo=expInfo, runtimeInfo=None,\n",
      "    originPath='/home/chris/Documents/UNI/sem_14/scientific_programming/lectures/week12-Designing_Experiments_with_Expyriment/psychopy/stroop.py',\n",
      "    savePickle=True, saveWideText=True,\n",
      "    dataFileName=filename)\n",
      "# save a log file for detail verbose info\n",
      "logFile = logging.LogFile(filename+'.log', level=logging.EXP)\n",
      "logging.console.setLevel(logging.WARNING)  # this outputs to the screen, not a file\n",
      "\n",
      "endExpNow = False  # flag for 'escape' or other condition => quit the exp\n",
      "frameTolerance = 0.001  # how close to onset before 'same' frame\n",
      "\n",
      "# Start Code - component code to be run before the window creation\n",
      "\n",
      "# Setup the Window\n",
      "win = visual.Window(\n",
      "    size=(1024, 768), fullscr=True, screen=0, \n",
      "    winType='pyglet', allowGUI=False, allowStencil=False,\n",
      "    monitor='testMonitor', color=[0,0,0], colorSpace='rgb',\n",
      "    blendMode='avg', useFBO=True, \n",
      "    units='height')\n",
      "# store frame rate of monitor if we can measure it\n",
      "expInfo['frameRate'] = win.getActualFrameRate()\n",
      "if expInfo['frameRate'] != None:\n",
      "    frameDur = 1.0 / round(expInfo['frameRate'])\n",
      "else:\n",
      "    frameDur = 1.0 / 60.0  # could not measure, so guess\n",
      "\n",
      "# create a default keyboard (e.g. to check for escape)\n",
      "defaultKeyboard = keyboard.Keyboard()\n",
      "\n",
      "# Initialize components for Routine \"instructions\"\n",
      "instructionsClock = core.Clock()\n",
      "text = visual.TextStim(win=win, name='text',\n",
      "    text='Hello, welcome!\\nasdf',\n",
      "    font='Arial',\n",
      "    pos=(0, 0), height=0.1, wrapWidth=None, ori=0, \n",
      "    color='white', colorSpace='rgb', opacity=1, \n",
      "    languageStyle='LTR',\n",
      "    depth=0.0);\n",
      "key_res = keyboard.Keyboard()\n",
      "\n",
      "# Initialize components for Routine \"trial\"\n",
      "trialClock = core.Clock()\n",
      "target = visual.TextStim(win=win, name='target',\n",
      "    text='default text',\n",
      "    font='Arial',\n",
      "    pos=(0, 0), height=0.1, wrapWidth=None, ori=0, \n",
      "    color='white', colorSpace='rgb', opacity=1, \n",
      "    languageStyle='LTR',\n",
      "    depth=0.0);\n",
      "response = keyboard.Keyboard()\n",
      "\n",
      "# Create some handy timers\n",
      "globalClock = core.Clock()  # to track the time since experiment started\n",
      "routineTimer = core.CountdownTimer()  # to track time remaining of each (non-slip) routine \n",
      "\n",
      "# ------Prepare to start Routine \"instructions\"-------\n",
      "continueRoutine = True\n",
      "# update component parameters for each repeat\n",
      "key_res.keys = []\n",
      "key_res.rt = []\n",
      "_key_res_allKeys = []\n",
      "# keep track of which components have finished\n",
      "instructionsComponents = [text, key_res]\n",
      "for thisComponent in instructionsComponents:\n",
      "    thisComponent.tStart = None\n",
      "    thisComponent.tStop = None\n",
      "    thisComponent.tStartRefresh = None\n",
      "    thisComponent.tStopRefresh = None\n",
      "    if hasattr(thisComponent, 'status'):\n",
      "        thisComponent.status = NOT_STARTED\n",
      "# reset timers\n",
      "t = 0\n",
      "_timeToFirstFrame = win.getFutureFlipTime(clock=\"now\")\n",
      "instructionsClock.reset(-_timeToFirstFrame)  # t0 is time of first possible flip\n",
      "frameN = -1\n",
      "\n",
      "# -------Run Routine \"instructions\"-------\n",
      "while continueRoutine:\n",
      "    # get current time\n",
      "    t = instructionsClock.getTime()\n",
      "    tThisFlip = win.getFutureFlipTime(clock=instructionsClock)\n",
      "    tThisFlipGlobal = win.getFutureFlipTime(clock=None)\n",
      "    frameN = frameN + 1  # number of completed frames (so 0 is the first frame)\n",
      "    # update/draw components on each frame\n",
      "    \n",
      "    # *text* updates\n",
      "    if text.status == NOT_STARTED and tThisFlip >= 0.0-frameTolerance:\n",
      "        # keep track of start time/frame for later\n",
      "        text.frameNStart = frameN  # exact frame index\n",
      "        text.tStart = t  # local t and not account for scr refresh\n",
      "        text.tStartRefresh = tThisFlipGlobal  # on global time\n",
      "        win.timeOnFlip(text, 'tStartRefresh')  # time at next scr refresh\n",
      "        text.setAutoDraw(True)\n",
      "    if text.status == STARTED:\n",
      "        # is it time to stop? (based on global clock, using actual start)\n",
      "        if tThisFlipGlobal > text.tStartRefresh + 1.0-frameTolerance:\n",
      "            # keep track of stop time/frame for later\n",
      "            text.tStop = t  # not accounting for scr refresh\n",
      "            text.frameNStop = frameN  # exact frame index\n",
      "            win.timeOnFlip(text, 'tStopRefresh')  # time at next scr refresh\n",
      "            text.setAutoDraw(False)\n",
      "    \n",
      "    # *key_res* updates\n",
      "    waitOnFlip = False\n",
      "    if key_res.status == NOT_STARTED and tThisFlip >= 0.0-frameTolerance:\n",
      "        # keep track of start time/frame for later\n",
      "        key_res.frameNStart = frameN  # exact frame index\n",
      "        key_res.tStart = t  # local t and not account for scr refresh\n",
      "        key_res.tStartRefresh = tThisFlipGlobal  # on global time\n",
      "        win.timeOnFlip(key_res, 'tStartRefresh')  # time at next scr refresh\n",
      "        key_res.status = STARTED\n",
      "        # keyboard checking is just starting\n",
      "        waitOnFlip = True\n",
      "        win.callOnFlip(key_res.clock.reset)  # t=0 on next screen flip\n",
      "        win.callOnFlip(key_res.clearEvents, eventType='keyboard')  # clear events on next screen flip\n",
      "    if key_res.status == STARTED and not waitOnFlip:\n",
      "        theseKeys = key_res.getKeys(keyList=None, waitRelease=False)\n",
      "        _key_res_allKeys.extend(theseKeys)\n",
      "        if len(_key_res_allKeys):\n",
      "            key_res.keys = _key_res_allKeys[-1].name  # just the last key pressed\n",
      "            key_res.rt = _key_res_allKeys[-1].rt\n",
      "            # a response ends the routine\n",
      "            continueRoutine = False\n",
      "    \n",
      "    # check for quit (typically the Esc key)\n",
      "    if endExpNow or defaultKeyboard.getKeys(keyList=[\"escape\"]):\n",
      "        core.quit()\n",
      "    \n",
      "    # check if all components have finished\n",
      "    if not continueRoutine:  # a component has requested a forced-end of Routine\n",
      "        break\n",
      "    continueRoutine = False  # will revert to True if at least one component still running\n",
      "    for thisComponent in instructionsComponents:\n",
      "        if hasattr(thisComponent, \"status\") and thisComponent.status != FINISHED:\n",
      "            continueRoutine = True\n",
      "            break  # at least one component has not yet finished\n",
      "    \n",
      "    # refresh the screen\n",
      "    if continueRoutine:  # don't flip if this routine is over or we'll get a blank screen\n",
      "        win.flip()\n",
      "\n",
      "# -------Ending Routine \"instructions\"-------\n",
      "for thisComponent in instructionsComponents:\n",
      "    if hasattr(thisComponent, \"setAutoDraw\"):\n",
      "        thisComponent.setAutoDraw(False)\n",
      "thisExp.addData('text.started', text.tStartRefresh)\n",
      "thisExp.addData('text.stopped', text.tStopRefresh)\n",
      "# check responses\n",
      "if key_res.keys in ['', [], None]:  # No response was made\n",
      "    key_res.keys = None\n",
      "thisExp.addData('key_res.keys',key_res.keys)\n",
      "if key_res.keys != None:  # we had a response\n",
      "    thisExp.addData('key_res.rt', key_res.rt)\n",
      "thisExp.addData('key_res.started', key_res.tStartRefresh)\n",
      "thisExp.addData('key_res.stopped', key_res.tStopRefresh)\n",
      "thisExp.nextEntry()\n",
      "# the Routine \"instructions\" was not non-slip safe, so reset the non-slip timer\n",
      "routineTimer.reset()\n",
      "\n",
      "# set up handler to look after randomisation of conditions etc\n",
      "trials = data.TrialHandler(nReps=1, method='random', \n",
      "    extraInfo=expInfo, originPath=-1,\n",
      "    trialList=data.importConditions('stroop_conditions.csv'),\n",
      "    seed=None, name='trials')\n",
      "thisExp.addLoop(trials)  # add the loop to the experiment\n",
      "thisTrial = trials.trialList[0]  # so we can initialise stimuli with some values\n",
      "# abbreviate parameter names if possible (e.g. rgb = thisTrial.rgb)\n",
      "if thisTrial != None:\n",
      "    for paramName in thisTrial:\n",
      "        exec('{} = thisTrial[paramName]'.format(paramName))\n",
      "\n",
      "for thisTrial in trials:\n",
      "    currentLoop = trials\n",
      "    # abbreviate parameter names if possible (e.g. rgb = thisTrial.rgb)\n",
      "    if thisTrial != None:\n",
      "        for paramName in thisTrial:\n",
      "            exec('{} = thisTrial[paramName]'.format(paramName))\n",
      "    \n",
      "    # ------Prepare to start Routine \"trial\"-------\n",
      "    continueRoutine = True\n",
      "    # update component parameters for each repeat\n",
      "    target.setColor(color, colorSpace='rgb')\n",
      "    target.setText(word)\n",
      "    response.keys = []\n",
      "    response.rt = []\n",
      "    _response_allKeys = []\n",
      "    # keep track of which components have finished\n",
      "    trialComponents = [target, response]\n",
      "    for thisComponent in trialComponents:\n",
      "        thisComponent.tStart = None\n",
      "        thisComponent.tStop = None\n",
      "        thisComponent.tStartRefresh = None\n",
      "        thisComponent.tStopRefresh = None\n",
      "        if hasattr(thisComponent, 'status'):\n",
      "            thisComponent.status = NOT_STARTED\n",
      "    # reset timers\n",
      "    t = 0\n",
      "    _timeToFirstFrame = win.getFutureFlipTime(clock=\"now\")\n",
      "    trialClock.reset(-_timeToFirstFrame)  # t0 is time of first possible flip\n",
      "    frameN = -1\n",
      "    \n",
      "    # -------Run Routine \"trial\"-------\n",
      "    while continueRoutine:\n",
      "        # get current time\n",
      "        t = trialClock.getTime()\n",
      "        tThisFlip = win.getFutureFlipTime(clock=trialClock)\n",
      "        tThisFlipGlobal = win.getFutureFlipTime(clock=None)\n",
      "        frameN = frameN + 1  # number of completed frames (so 0 is the first frame)\n",
      "        # update/draw components on each frame\n",
      "        \n",
      "        # *target* updates\n",
      "        if target.status == NOT_STARTED and tThisFlip >= 0.5-frameTolerance:\n",
      "            # keep track of start time/frame for later\n",
      "            target.frameNStart = frameN  # exact frame index\n",
      "            target.tStart = t  # local t and not account for scr refresh\n",
      "            target.tStartRefresh = tThisFlipGlobal  # on global time\n",
      "            win.timeOnFlip(target, 'tStartRefresh')  # time at next scr refresh\n",
      "            target.setAutoDraw(True)\n",
      "        if target.status == STARTED:\n",
      "            # is it time to stop? (based on global clock, using actual start)\n",
      "            if tThisFlipGlobal > target.tStartRefresh + 5-frameTolerance:\n",
      "                # keep track of stop time/frame for later\n",
      "                target.tStop = t  # not accounting for scr refresh\n",
      "                target.frameNStop = frameN  # exact frame index\n",
      "                win.timeOnFlip(target, 'tStopRefresh')  # time at next scr refresh\n",
      "                target.setAutoDraw(False)\n",
      "        \n",
      "        # *response* updates\n",
      "        waitOnFlip = False\n",
      "        if response.status == NOT_STARTED and tThisFlip >= 0.5-frameTolerance:\n",
      "            # keep track of start time/frame for later\n",
      "            response.frameNStart = frameN  # exact frame index\n",
      "            response.tStart = t  # local t and not account for scr refresh\n",
      "            response.tStartRefresh = tThisFlipGlobal  # on global time\n",
      "            win.timeOnFlip(response, 'tStartRefresh')  # time at next scr refresh\n",
      "            response.status = STARTED\n",
      "            # keyboard checking is just starting\n",
      "            waitOnFlip = True\n",
      "            win.callOnFlip(response.clock.reset)  # t=0 on next screen flip\n",
      "            win.callOnFlip(response.clearEvents, eventType='keyboard')  # clear events on next screen flip\n",
      "        if response.status == STARTED and not waitOnFlip:\n",
      "            theseKeys = response.getKeys(keyList=['left', 'right', 'up', 'down'], waitRelease=False)\n",
      "            _response_allKeys.extend(theseKeys)\n",
      "            if len(_response_allKeys):\n",
      "                response.keys = _response_allKeys[-1].name  # just the last key pressed\n",
      "                response.rt = _response_allKeys[-1].rt\n",
      "                # was this correct?\n",
      "                if (response.keys == str(corrAns)) or (response.keys == corrAns):\n",
      "                    response.corr = 1\n",
      "                else:\n",
      "                    response.corr = 0\n",
      "                # a response ends the routine\n",
      "                continueRoutine = False\n",
      "        \n",
      "        # check for quit (typically the Esc key)\n",
      "        if endExpNow or defaultKeyboard.getKeys(keyList=[\"escape\"]):\n",
      "            core.quit()\n",
      "        \n",
      "        # check if all components have finished\n",
      "        if not continueRoutine:  # a component has requested a forced-end of Routine\n",
      "            break\n",
      "        continueRoutine = False  # will revert to True if at least one component still running\n",
      "        for thisComponent in trialComponents:\n",
      "            if hasattr(thisComponent, \"status\") and thisComponent.status != FINISHED:\n",
      "                continueRoutine = True\n",
      "                break  # at least one component has not yet finished\n",
      "        \n",
      "        # refresh the screen\n",
      "        if continueRoutine:  # don't flip if this routine is over or we'll get a blank screen\n",
      "            win.flip()\n",
      "    \n",
      "    # -------Ending Routine \"trial\"-------\n",
      "    for thisComponent in trialComponents:\n",
      "        if hasattr(thisComponent, \"setAutoDraw\"):\n",
      "            thisComponent.setAutoDraw(False)\n",
      "    trials.addData('target.started', target.tStartRefresh)\n",
      "    trials.addData('target.stopped', target.tStopRefresh)\n",
      "    # check responses\n",
      "    if response.keys in ['', [], None]:  # No response was made\n",
      "        response.keys = None\n",
      "        # was no response the correct answer?!\n",
      "        if str(corrAns).lower() == 'none':\n",
      "           response.corr = 1;  # correct non-response\n",
      "        else:\n",
      "           response.corr = 0;  # failed to respond (incorrectly)\n",
      "    # store data for trials (TrialHandler)\n",
      "    trials.addData('response.keys',response.keys)\n",
      "    trials.addData('response.corr', response.corr)\n",
      "    if response.keys != None:  # we had a response\n",
      "        trials.addData('response.rt', response.rt)\n",
      "    trials.addData('response.started', response.tStartRefresh)\n",
      "    trials.addData('response.stopped', response.tStopRefresh)\n",
      "    # the Routine \"trial\" was not non-slip safe, so reset the non-slip timer\n",
      "    routineTimer.reset()\n",
      "    thisExp.nextEntry()\n",
      "    \n",
      "# completed 1 repeats of 'trials'\n",
      "\n",
      "\n",
      "# Flip one final time so any remaining win.callOnFlip() \n",
      "# and win.timeOnFlip() tasks get executed before quitting\n",
      "win.flip()\n",
      "\n",
      "# these shouldn't be strictly necessary (should auto-save)\n",
      "thisExp.saveAsWideText(filename+'.csv')\n",
      "thisExp.saveAsPickle(filename)\n",
      "logging.flush()\n",
      "# make sure everything is closed down\n",
      "thisExp.abort()  # or data files will save again on exit\n",
      "win.close()\n",
      "core.quit()\n"
     ]
    }
   ],
   "source": [
    "with open('./psychopy/stroop/stroop.py', 'r') as file:\n",
    "    for line in file.readlines():\n",
    "        print(line, end='')"
   ]
  },
  {
   "cell_type": "code",
   "execution_count": 92,
   "metadata": {},
   "outputs": [
    {
     "name": "stdout",
     "output_type": "stream",
     "text": [
      "Gtk-\u001b[1;32mMessage\u001b[0m: \u001b[34m14:03:42.924\u001b[0m: Failed to load module \"atk-bridge\"\n",
      "Gtk-\u001b[1;32mMessage\u001b[0m: \u001b[34m14:03:42.933\u001b[0m: Failed to load module \"canberra-gtk-module\"\n",
      "02:03:42 PM: Debug: Failed to connect to session manager: None of the authentication protocols specified are supported\n",
      "02:03:43 PM: Debug: Adding duplicate image handler for 'Windows bitmap file'\n",
      "02:03:43 PM: Debug: Adding duplicate animation handler for '1' type\n",
      "02:03:43 PM: Debug: Adding duplicate animation handler for '2' type\n",
      "02:03:43 PM: Debug: Adding duplicate image handler for 'Windows bitmap file'\n",
      "02:03:43 PM: Debug: Adding duplicate animation handler for '1' type\n",
      "02:03:43 PM: Debug: Adding duplicate animation handler for '2' type\n",
      "02:03:43 PM: Debug: \"Shift+Tab\" is not supported as a keyboard accelerator with GTK\n",
      "\n",
      "(psychopy:18931): GLib-GIO-\u001b[1;35mCRITICAL\u001b[0m **: \u001b[34m14:03:44.451\u001b[0m: g_loadable_icon_load: assertion 'G_IS_LOADABLE_ICON (icon)' failed\n",
      "\n",
      "(psychopy:18931): Gtk-\u001b[1;33mWARNING\u001b[0m **: \u001b[34m14:03:44.451\u001b[0m: Error loading theme icon 'dialog-information' for stock: Failed to load icon\n",
      "\n",
      "(psychopy:18931): Gtk-\u001b[1;35mCRITICAL\u001b[0m **: \u001b[34m14:03:44.451\u001b[0m: render_fallback_image: assertion 'pixbuf != NULL' failed\n",
      "\n",
      "(psychopy:18931): GLib-GObject-\u001b[1;35mCRITICAL\u001b[0m **: \u001b[34m14:03:44.451\u001b[0m: g_object_ref: assertion 'G_IS_OBJECT (object)' failed\n"
     ]
    }
   ],
   "source": [
    "!psychopy"
   ]
  },
  {
   "cell_type": "markdown",
   "metadata": {},
   "source": [
    "Being avid coders, we will not look at the Builder-interface. We think that GUIs like this have a lack of flexibility & control, limiting the scope of experimental settings. \n",
    "\n",
    "If you want to see the builder in action, see this 15-minute-Intro: https://www.youtube.com/watch?v=VV6qhuQgsiI"
   ]
  },
  {
   "cell_type": "markdown",
   "metadata": {},
   "source": [
    "# The coder-way\n",
    "\n",
    "### Let's think about what we need to make our own experiment:\n",
    "\n",
    "* Graphical User Interface\n",
    "    * Stimuli (Visual, auditory, ...)\n",
    "    * User Input\n",
    "* Experiment Flow/Design\n",
    "* Data logging"
   ]
  },
  {
   "cell_type": "markdown",
   "metadata": {},
   "source": [
    "## Graphical User Interfaces\n",
    "\n",
    "There are quite a few libraries for experiments out there, and they all need some kind of Backend to present visual and auditory stimuly. Many of of them rely on **pyGame** for their visual stimuli, providing more functionality ontop of it. Expyriment uses pygame and psychopy used to but now switched to pyglet as a default. You can still use pyGame as a backend for PsychoPy but it is [deprecated](https://www.psychopy.org/api/visual/window.html).  \n",
    "\n",
    "There is not time for a detailed intro do GUIs in this lecture but if you are interested you can find tutorials on the basics of pygame [here](https://pythonprogramming.net/pygame-python-3-part-1-intro/)"
   ]
  },
  {
   "cell_type": "markdown",
   "metadata": {},
   "source": [
    "# PsychoPy\n",
    "\n",
    "PsychoPy is an all-in-one solution, and as such it is responsible for\n",
    "* Stimulus presentation\n",
    "* Recording of input/output events\n",
    "* Communication with other devices\n",
    "* Collection and preprocessing of data\n",
    "* Experiment design\n",
    "\n",
    "For now, we'll only look at the GUI-Elements with the Coder Interface"
   ]
  },
  {
   "cell_type": "markdown",
   "metadata": {},
   "source": [
    "Note that Psychopy comes with it's own IDE, which has further settings for example for the screen, contains an experiment runner, syncing for online-experiments etc.\n",
    "\n",
    "\n",
    "I recommend using Pycharm or another more powerful IDE."
   ]
  },
  {
   "cell_type": "code",
   "execution_count": 95,
   "metadata": {},
   "outputs": [
    {
     "name": "stdout",
     "output_type": "stream",
     "text": [
      "Gtk-\u001b[1;32mMessage\u001b[0m: \u001b[34m14:33:38.112\u001b[0m: Failed to load module \"atk-bridge\"\n",
      "Gtk-\u001b[1;32mMessage\u001b[0m: \u001b[34m14:33:38.122\u001b[0m: Failed to load module \"canberra-gtk-module\"\n",
      "02:33:38 PM: Debug: Failed to connect to session manager: None of the authentication protocols specified are supported\n",
      "02:33:38 PM: Debug: Adding duplicate image handler for 'Windows bitmap file'\n",
      "02:33:38 PM: Debug: Adding duplicate animation handler for '1' type\n",
      "02:33:38 PM: Debug: Adding duplicate animation handler for '2' type\n",
      "02:33:38 PM: Debug: Adding duplicate image handler for 'Windows bitmap file'\n",
      "02:33:38 PM: Debug: Adding duplicate animation handler for '1' type\n",
      "02:33:38 PM: Debug: Adding duplicate animation handler for '2' type\n",
      "02:33:39 PM: Debug: \"Shift+Tab\" is not supported as a keyboard accelerator with GTK\n",
      "\n",
      "(psychopy:20545): GLib-GIO-\u001b[1;35mCRITICAL\u001b[0m **: \u001b[34m14:33:40.432\u001b[0m: g_loadable_icon_load: assertion 'G_IS_LOADABLE_ICON (icon)' failed\n",
      "\n",
      "(psychopy:20545): Gtk-\u001b[1;33mWARNING\u001b[0m **: \u001b[34m14:33:40.432\u001b[0m: Error loading theme icon 'dialog-information' for stock: Failed to load icon\n",
      "\n",
      "(psychopy:20545): Gtk-\u001b[1;35mCRITICAL\u001b[0m **: \u001b[34m14:33:40.432\u001b[0m: render_fallback_image: assertion 'pixbuf != NULL' failed\n",
      "\n",
      "(psychopy:20545): GLib-GObject-\u001b[1;35mCRITICAL\u001b[0m **: \u001b[34m14:33:40.432\u001b[0m: g_object_ref: assertion 'G_IS_OBJECT (object)' failed\n",
      "^C\n"
     ]
    }
   ],
   "source": [
    "!psychopy"
   ]
  },
  {
   "cell_type": "markdown",
   "metadata": {},
   "source": [
    "For the lecture we will still use the nice notebook format of juypter."
   ]
  },
  {
   "cell_type": "code",
   "execution_count": 96,
   "metadata": {},
   "outputs": [],
   "source": [
    "import os\n",
    "#os.chdir('psychopy')\n",
    "os.chdir('../psychopy')"
   ]
  },
  {
   "cell_type": "markdown",
   "metadata": {},
   "source": [
    "## Stimuli"
   ]
  },
  {
   "cell_type": "markdown",
   "metadata": {},
   "source": [
    "We’ll start out by adding a fixation point in the middle of the screen"
   ]
  },
  {
   "cell_type": "code",
   "execution_count": 3,
   "metadata": {},
   "outputs": [],
   "source": [
    "#Do not start any Psychopy code from inside Jupyter, you won't be able to close the appearing windows otherwise!"
   ]
  },
  {
   "cell_type": "code",
   "execution_count": 17,
   "metadata": {},
   "outputs": [
    {
     "ename": "AssertionError",
     "evalue": "",
     "output_type": "error",
     "traceback": [
      "\u001b[0;31m---------------------------------------------------------------------------\u001b[0m",
      "\u001b[0;31mAssertionError\u001b[0m                            Traceback (most recent call last)",
      "\u001b[0;32m<ipython-input-17-fb95fa9cac8c>\u001b[0m in \u001b[0;36m<module>\u001b[0;34m\u001b[0m\n\u001b[1;32m      1\u001b[0m \u001b[0;31m# %load psychopy_1.py\u001b[0m\u001b[0;34m\u001b[0m\u001b[0;34m\u001b[0m\u001b[0;34m\u001b[0m\u001b[0m\n\u001b[0;32m----> 2\u001b[0;31m \u001b[0;32massert\u001b[0m \u001b[0;34m'__file__'\u001b[0m \u001b[0;32min\u001b[0m \u001b[0mlocals\u001b[0m\u001b[0;34m(\u001b[0m\u001b[0;34m)\u001b[0m \u001b[0;31m#to make sure to not run this inside Jupyter\u001b[0m\u001b[0;34m\u001b[0m\u001b[0;34m\u001b[0m\u001b[0m\n\u001b[0m\u001b[1;32m      3\u001b[0m \u001b[0;34m\u001b[0m\u001b[0m\n\u001b[1;32m      4\u001b[0m \u001b[0;32mfrom\u001b[0m \u001b[0mtime\u001b[0m \u001b[0;32mimport\u001b[0m \u001b[0msleep\u001b[0m\u001b[0;34m\u001b[0m\u001b[0;34m\u001b[0m\u001b[0m\n\u001b[1;32m      5\u001b[0m \u001b[0;32mfrom\u001b[0m \u001b[0mpsychopy\u001b[0m \u001b[0;32mimport\u001b[0m \u001b[0mvisual\u001b[0m\u001b[0;34m\u001b[0m\u001b[0;34m\u001b[0m\u001b[0m\n",
      "\u001b[0;31mAssertionError\u001b[0m: "
     ]
    }
   ],
   "source": [
    "# %load psychopy_1.py\n",
    "assert '__file__' in locals() #to make sure to not run this inside Jupyter\n",
    "\n",
    "from time import sleep\n",
    "from psychopy import visual\n",
    "# create window of size 800x600px on a monitor object we'll call testMonitor and with yellow color\n",
    "mywin = visual.Window(size=[800,600], monitor=\"testMonitor\", units=\"norm\", color=[255,255,255])\n",
    "\n",
    "# the scaling unit for object sizes and locations is normalized between -1 and 1\n",
    "# create grating simulus on our window, size 0.015, center position, spatial frequency 0\n",
    "# (grating stimulus is otherwise striped), pitch black (-1) color\n",
    "fixation = visual.GratingStim(win=mywin, size=0.015, pos=[0,0], sf=0, color=-1)\n",
    "grating = visual.GratingStim(win=mywin, mask=\"circle\", size=0.2, pos=[-0.8,0], sf=3)\n",
    "\n",
    "sleep(5)"
   ]
  },
  {
   "cell_type": "code",
   "execution_count": 98,
   "metadata": {},
   "outputs": [
    {
     "name": "stdout",
     "output_type": "stream",
     "text": [
      "4.7501 \tWARNING \tCouldn't measure a consistent frame rate.\n",
      "  - Is your graphics card set to sync to vertical blank?\n",
      "  - Are you running other processes on your computer?\n",
      "\n"
     ]
    }
   ],
   "source": [
    "!python psychopy_1.py"
   ]
  },
  {
   "cell_type": "markdown",
   "metadata": {},
   "source": [
    "The *'hello from the pygame community'* print happens when importing. It does not mean that psychopy actually uses pygame.\n",
    "We can make sure of that by looking at the psychopy preferences.\n",
    "For information on how to adjust preferences look [here](https://www.psychopy.org/api/preferences.html)"
   ]
  },
  {
   "cell_type": "code",
   "execution_count": 9,
   "metadata": {},
   "outputs": [
    {
     "name": "stdout",
     "output_type": "stream",
     "text": [
      "psychopy.prefs </home/nion/.psychopy3/userPrefs.cfg>:\n",
      "  prefs.general['winType'] = 'pyglet'\n",
      "  prefs.general['units'] = 'norm'\n",
      "  prefs.general['fullscr'] = False\n",
      "  prefs.general['allowGUI'] = True\n",
      "  prefs.general['version'] = ''\n",
      "  prefs.general['paths'] = []\n",
      "  prefs.general['flac'] = ''\n",
      "  prefs.general['shutdownKey'] = ''\n",
      "  prefs.general['shutdownKeyModifiers'] = []\n",
      "  prefs.general['gammaErrorPolicy'] = 'abort'\n",
      "  prefs.general['startUpPlugins'] = []\n",
      "  prefs.coder['readonly'] = False\n",
      "  prefs.coder['outputFont'] = 'From Theme...'\n",
      "  prefs.coder['codeFont'] = 'From Theme...'\n",
      "  prefs.coder['codeFontSize'] = 12\n",
      "  prefs.coder['outputFontSize'] = 12\n",
      "  prefs.coder['lineSpacing'] = 4\n",
      "  prefs.coder['edgeGuideColumn'] = 80\n",
      "  prefs.coder['showSourceAsst'] = True\n",
      "  prefs.coder['showOutput'] = True\n",
      "  prefs.coder['autocomplete'] = True\n",
      "  prefs.coder['reloadPrevFiles'] = True\n",
      "  prefs.coder['preferredShell'] = 'pyshell'\n",
      "  prefs.builder['reloadPrevExp'] = False\n",
      "  prefs.builder['codeComponentLanguage'] = 'Auto->JS'\n",
      "  prefs.builder['unclutteredNamespace'] = False\n",
      "  prefs.builder['componentsFolders'] = ['/Users/Shared/PsychoPy3/components']\n",
      "  prefs.builder['componentFilter'] = 'Any'\n",
      "  prefs.builder['hiddenComponents'] = ['RatingScaleComponent', 'PatchComponent', 'UnknownComponent']\n",
      "  prefs.builder['unpackedDemosDir'] = ''\n",
      "  prefs.builder['savedDataFolder'] = 'data'\n",
      "  prefs.builder['builderLayout'] = 'FlowBottom_CompRight'\n",
      "  prefs.builder['alwaysShowReadme'] = True\n",
      "  prefs.builder['maxFavorites'] = 10\n",
      "  prefs.connections['proxy'] = ''\n",
      "  prefs.connections['autoProxy'] = True\n",
      "  prefs.connections['allowUsageStats'] = True\n",
      "  prefs.connections['checkForUpdates'] = True\n",
      "  prefs.connections['timeout'] = 20.0\n",
      "\n"
     ]
    }
   ],
   "source": [
    "import psychopy\n",
    "from psychopy import prefs\n",
    "\n",
    "print(prefs)"
   ]
  },
  {
   "cell_type": "markdown",
   "metadata": {},
   "source": [
    "Just defining stimuli will no show them in the window. We first have to draw them and then call ``window.flip()``.\n",
    "Most GUIs, including pygame and pyglet, have the concept of a front and back buffer. The backbuffer contains what should be drawn next and the front buffer what is currently displayed. For drawing whats in the back buffer a flip functions is used which clears the front buffer in then flips front and back buffer."
   ]
  },
  {
   "cell_type": "code",
   "execution_count": 8,
   "metadata": {},
   "outputs": [
    {
     "ename": "AssertionError",
     "evalue": "",
     "output_type": "error",
     "traceback": [
      "\u001b[0;31m---------------------------------------------------------------------------\u001b[0m",
      "\u001b[0;31mAssertionError\u001b[0m                            Traceback (most recent call last)",
      "\u001b[0;32m<ipython-input-8-06181179cba6>\u001b[0m in \u001b[0;36m<module>\u001b[0;34m\u001b[0m\n\u001b[1;32m      1\u001b[0m \u001b[0;31m# %load psychopy_2.py\u001b[0m\u001b[0;34m\u001b[0m\u001b[0;34m\u001b[0m\u001b[0;34m\u001b[0m\u001b[0m\n\u001b[0;32m----> 2\u001b[0;31m \u001b[0;32massert\u001b[0m \u001b[0;34m'__file__'\u001b[0m \u001b[0;32min\u001b[0m \u001b[0mlocals\u001b[0m\u001b[0;34m(\u001b[0m\u001b[0;34m)\u001b[0m \u001b[0;31m#to make sure to not run this inside Jupyter\u001b[0m\u001b[0;34m\u001b[0m\u001b[0;34m\u001b[0m\u001b[0m\n\u001b[0m\u001b[1;32m      3\u001b[0m \u001b[0;34m\u001b[0m\u001b[0m\n\u001b[1;32m      4\u001b[0m \u001b[0;32mfrom\u001b[0m \u001b[0mpsychopy\u001b[0m \u001b[0;32mimport\u001b[0m \u001b[0mvisual\u001b[0m\u001b[0;34m,\u001b[0m \u001b[0mevent\u001b[0m\u001b[0;34m\u001b[0m\u001b[0;34m\u001b[0m\u001b[0m\n\u001b[1;32m      5\u001b[0m \u001b[0;32mfrom\u001b[0m \u001b[0mtime\u001b[0m \u001b[0;32mimport\u001b[0m \u001b[0msleep\u001b[0m\u001b[0;34m\u001b[0m\u001b[0;34m\u001b[0m\u001b[0m\n",
      "\u001b[0;31mAssertionError\u001b[0m: "
     ]
    }
   ],
   "source": [
    "assert '__file__' in locals() #to make sure to not run this inside Jupyter\n",
    "\n",
    "from psychopy import visual, event\n",
    "from time import sleep\n",
    "\n",
    "mywin = visual.Window(size=[800,600], monitor=\"testMonitor\", units=\"norm\", color=[255,255,255])\n",
    "\n",
    "fixation = visual.GratingStim(win=mywin, size=0.015, pos=[0,0], sf=0, color=-1)\n",
    "grating = visual.GratingStim(win=mywin, mask=\"circle\", size=0.2, pos=[-0.8,0], sf=3)\n",
    "\n",
    "#without these, the stimulus is not drawn\n",
    "fixation.draw()\n",
    "grating.draw()\n",
    "\n",
    "#we draw onto the back buffer, and have to *flip* front and back buffer for the stimuli to be shown \n",
    "mywin.flip()\n",
    "\n",
    "sleep(5)"
   ]
  },
  {
   "cell_type": "code",
   "execution_count": 99,
   "metadata": {},
   "outputs": [
    {
     "name": "stdout",
     "output_type": "stream",
     "text": [
      "4.7323 \tWARNING \tCouldn't measure a consistent frame rate.\n",
      "  - Is your graphics card set to sync to vertical blank?\n",
      "  - Are you running other processes on your computer?\n",
      "\n",
      "4.7812 \tWARNING \tt of last frame was 49.33ms (=1/20)\n"
     ]
    }
   ],
   "source": [
    "!python psychopy_2.py"
   ]
  },
  {
   "cell_type": "markdown",
   "metadata": {},
   "source": [
    "## User Input\n",
    "\n",
    "There are two ways to get input from the user - the `waitKeys()`-function as well as the concept of **Global Keys** - which can be used to execute a function whenever they are pressed."
   ]
  },
  {
   "cell_type": "code",
   "execution_count": 12,
   "metadata": {},
   "outputs": [
    {
     "ename": "AssertionError",
     "evalue": "",
     "output_type": "error",
     "traceback": [
      "\u001b[0;31m---------------------------------------------------------------------------\u001b[0m",
      "\u001b[0;31mAssertionError\u001b[0m                            Traceback (most recent call last)",
      "\u001b[0;32m<ipython-input-12-933651ed35fa>\u001b[0m in \u001b[0;36m<module>\u001b[0;34m\u001b[0m\n\u001b[1;32m      1\u001b[0m \u001b[0;31m# %load psychopy_3.py\u001b[0m\u001b[0;34m\u001b[0m\u001b[0;34m\u001b[0m\u001b[0;34m\u001b[0m\u001b[0m\n\u001b[0;32m----> 2\u001b[0;31m \u001b[0;32massert\u001b[0m \u001b[0;34m'__file__'\u001b[0m \u001b[0;32min\u001b[0m \u001b[0mlocals\u001b[0m\u001b[0;34m(\u001b[0m\u001b[0;34m)\u001b[0m \u001b[0;31m#to make sure to not run this inside Jupyter\u001b[0m\u001b[0;34m\u001b[0m\u001b[0;34m\u001b[0m\u001b[0m\n\u001b[0m\u001b[1;32m      3\u001b[0m \u001b[0;34m\u001b[0m\u001b[0m\n\u001b[1;32m      4\u001b[0m \u001b[0;32mfrom\u001b[0m \u001b[0mpsychopy\u001b[0m \u001b[0;32mimport\u001b[0m \u001b[0mvisual\u001b[0m\u001b[0;34m,\u001b[0m \u001b[0mevent\u001b[0m\u001b[0;34m,\u001b[0m \u001b[0mcore\u001b[0m\u001b[0;34m\u001b[0m\u001b[0;34m\u001b[0m\u001b[0m\n\u001b[1;32m      5\u001b[0m \u001b[0;34m\u001b[0m\u001b[0m\n",
      "\u001b[0;31mAssertionError\u001b[0m: "
     ]
    }
   ],
   "source": [
    "# %load psychopy_3.py\n",
    "assert '__file__' in locals() #to make sure to not run this inside Jupyter\n",
    "\n",
    "from psychopy import visual, event, core\n",
    "\n",
    "mywin = visual.Window(size=[800,600], monitor=\"testMonitor\", units=\"norm\", color=[255,255,255])\n",
    "\n",
    "fixation = visual.GratingStim(win=mywin, size=0.015, pos=[0,0], sf=0, color=-1)\n",
    "grating = visual.GratingStim(win=mywin, mask=\"circle\", size=0.2, pos=[-0.8,0], sf=3)\n",
    "\n",
    "#global keys kan be pressed at any time during the experiment to executed the specified function\n",
    "event.globalKeys.add(key='escape', func=core.quit)\n",
    "\n",
    "fixation.draw()\n",
    "grating.draw()\n",
    "mywin.flip()\n",
    "\n",
    "#without arguments, this waits for any keypress - alternatively, you could specify which keys to look for\n",
    "event.waitKeys()\n",
    "mywin.flip()\n",
    "\n",
    "event.waitKeys()"
   ]
  },
  {
   "cell_type": "code",
   "execution_count": 100,
   "metadata": {},
   "outputs": [
    {
     "name": "stdout",
     "output_type": "stream",
     "text": [
      "5.2688 \tWARNING \tCouldn't measure a consistent frame rate.\n",
      "  - Is your graphics card set to sync to vertical blank?\n",
      "  - Are you running other processes on your computer?\n",
      "\n",
      "5.2941 \tWARNING \tt of last frame was 25.48ms (=1/39)\n",
      "9.4625 \tWARNING \tt of last frame was 4168.45ms (=1/0)\n"
     ]
    }
   ],
   "source": [
    "!python psychopy_3.py"
   ]
  },
  {
   "cell_type": "markdown",
   "metadata": {},
   "source": [
    "# Expyriment\n",
    "\n",
    "Expyriment is a pure programming library (no Builder interface like in psychopy), is leightweight, entirely written in python, and has almost no dependencies.\n",
    "\n",
    "Expyriment builds on top of Pygame as its backend. It further gives the possibility to explicitly define experimental designs, automatically saves everything necessary, provides useful functions like a timer (with caveats, see later!), and wraps the entire framework into a pre-provided control structure.  "
   ]
  },
  {
   "cell_type": "markdown",
   "metadata": {},
   "source": [
    "\n",
    "Expyriment is an all-in-one solution, and as such it is responsible for\n",
    "* Stimulus presentation\n",
    "* Recording of input/output events\n",
    "* Communication with other devices\n",
    "* Collection and preprocessing of data\n",
    "* Experiment design\n",
    "\n",
    "![](figures/Expyriment.png)\n",
    "\n",
    "Figure source: Krause, F. & Lindemann, O. (2014). Expyriment: A Python library for cognitive and neuroscientific experiments. Behavior Research Methods, 46(2), 416-428. doi:10.3758/s13428-013-0390-6."
   ]
  },
  {
   "cell_type": "markdown",
   "metadata": {},
   "source": [
    "All of Expyriment's modules can be used independently of each other - the structure for experimental designs is independend of the presentation software actually used, such that you can use other software for presentation of stimuli, or experimental control, ... "
   ]
  },
  {
   "cell_type": "markdown",
   "metadata": {},
   "source": [
    "## Experiment Control\n",
    "\n",
    "Every Expyriment-experiment adheres to the main control structure, as specified by the ```control```-package.\n",
    "\n",
    "The control-package provides access to an experiment screen, keyboard, log file, clock and device communication.\n",
    "\n",
    "Expyriment has three Landmarks for an experiment: initialize(), start(), and end(). \n",
    "* Initialize() starts up the screen (exp.screen), a keyboard (exp.keyboard), an event log file logging stimulus presentation times & device communications, (exp.events), and an experimental clock (exp.clock)\n",
    "* Start() asks for a subject ID (saved as exp.subject) and creates a data file object (exp.data)\n",
    "* Between start() and end() you iterate your hierachical design (experiment $\\rightarrow$ blocks $\\rightarrow$ trials)\n",
    "* End() ends an experiment and saves tha data and log files"
   ]
  },
  {
   "cell_type": "code",
   "execution_count": 1,
   "metadata": {},
   "outputs": [],
   "source": [
    "import os\n",
    "os.chdir('../expyriment')"
   ]
  },
  {
   "cell_type": "markdown",
   "metadata": {},
   "source": [
    "Expyriment can run inside Jupyter - when you run it the first time, it asks you if it's supposed to run in Window Mode. Say yes, it is easier for debugging. Otherwise the experiment will go full screen."
   ]
  },
  {
   "cell_type": "code",
   "execution_count": 2,
   "metadata": {},
   "outputs": [
    {
     "name": "stdout",
     "output_type": "stream",
     "text": [
      "Expyriment 0.10.0 (Python 3.6.13) \n",
      "\n",
      "Python is running in an interactive shell but Expyriment wants to initialize a\n",
      "fullscreen.\n"
     ]
    },
    {
     "name": "stdin",
     "output_type": "stream",
     "text": [
      "Do you want to switch to windows mode? (Y/n)  Y\n"
     ]
    },
    {
     "name": "stdout",
     "output_type": "stream",
     "text": [
      "Switched to windows mode\n"
     ]
    },
    {
     "ename": "error",
     "evalue": "No available audio device",
     "output_type": "error",
     "traceback": [
      "\u001b[0;31m---------------------------------------------------------------------------\u001b[0m",
      "\u001b[0;31merror\u001b[0m                                     Traceback (most recent call last)",
      "\u001b[0;32m<ipython-input-2-e74e14c3cbd6>\u001b[0m in \u001b[0;36m<module>\u001b[0;34m\u001b[0m\n\u001b[1;32m     12\u001b[0m \u001b[0;31m# this will show a startup screen\u001b[0m\u001b[0;34m\u001b[0m\u001b[0;34m\u001b[0m\u001b[0;34m\u001b[0m\u001b[0m\n\u001b[1;32m     13\u001b[0m \u001b[0;31m# it will also initialize exp.screen, exp.mouse, exp.keyboard, exp.event and exp.clock\u001b[0m\u001b[0;34m\u001b[0m\u001b[0;34m\u001b[0m\u001b[0;34m\u001b[0m\u001b[0m\n\u001b[0;32m---> 14\u001b[0;31m \u001b[0mcontrol\u001b[0m\u001b[0;34m.\u001b[0m\u001b[0minitialize\u001b[0m\u001b[0;34m(\u001b[0m\u001b[0mexp\u001b[0m\u001b[0;34m)\u001b[0m\u001b[0;34m\u001b[0m\u001b[0;34m\u001b[0m\u001b[0m\n\u001b[0m\u001b[1;32m     15\u001b[0m \u001b[0;34m\u001b[0m\u001b[0m\n\u001b[1;32m     16\u001b[0m \u001b[0msleep\u001b[0m\u001b[0;34m(\u001b[0m\u001b[0;36m2\u001b[0m\u001b[0;34m)\u001b[0m\u001b[0;34m\u001b[0m\u001b[0;34m\u001b[0m\u001b[0m\n",
      "\u001b[0;32m~/anaconda3/envs/psychopy/lib/python3.6/site-packages/expyriment/control/_experiment_control.py\u001b[0m in \u001b[0;36minitialize\u001b[0;34m(experiment)\u001b[0m\n\u001b[1;32m    428\u001b[0m                    defaults.audiosystem_buffer_size)\n\u001b[1;32m    429\u001b[0m     \u001b[0;32mif\u001b[0m \u001b[0mdefaults\u001b[0m\u001b[0;34m.\u001b[0m\u001b[0maudiosystem_autostart\u001b[0m\u001b[0;34m:\u001b[0m\u001b[0;34m\u001b[0m\u001b[0;34m\u001b[0m\u001b[0m\n\u001b[0;32m--> 430\u001b[0;31m         \u001b[0mmixer\u001b[0m\u001b[0;34m.\u001b[0m\u001b[0minit\u001b[0m\u001b[0;34m(\u001b[0m\u001b[0;34m)\u001b[0m\u001b[0;34m\u001b[0m\u001b[0;34m\u001b[0m\u001b[0m\n\u001b[0m\u001b[1;32m    431\u001b[0m         \u001b[0mmixer\u001b[0m\u001b[0;34m.\u001b[0m\u001b[0minit\u001b[0m\u001b[0;34m(\u001b[0m\u001b[0;34m)\u001b[0m  \u001b[0;31m# Needed on some systems\u001b[0m\u001b[0;34m\u001b[0m\u001b[0;34m\u001b[0m\u001b[0m\n\u001b[1;32m    432\u001b[0m \u001b[0;34m\u001b[0m\u001b[0m\n",
      "\u001b[0;31merror\u001b[0m: No available audio device"
     ]
    }
   ],
   "source": [
    "import expyriment\n",
    "from expyriment import design, control\n",
    "from time import sleep\n",
    "\n",
    "# you can set windowmode explicitly\n",
    "#expyriment.control.defaults.window_mode = False\n",
    "\n",
    "# create experiment object\n",
    "exp = design.Experiment(name=\"My Experiment\")\n",
    "\n",
    "# initialize experiment object and make it active experimentka\n",
    "# this will show a startup screen\n",
    "# it will also initialize exp.screen, exp.mouse, exp.keyboard, exp.event and exp.clock\n",
    "control.initialize(exp)\n",
    "\n",
    "sleep(2)\n",
    "# this will present a subject number screen and a ready screen after initialization\n",
    "# is completely finished\n",
    "control.start()\n",
    "\n",
    "sleep(2)\n",
    "                        \n",
    "# this will show an \"ending experiment\" screen and save data\n",
    "control.end()"
   ]
  },
  {
   "cell_type": "markdown",
   "metadata": {},
   "source": [
    "While an interactive kernel like Jupyter asks us for the mode, in a normal script you'd always be fullscreen - as long as you don't specify otherwise. The develop-mode is always in window-mode, doesn't ask for a subject-ID, and initializes faster:"
   ]
  },
  {
   "cell_type": "code",
   "execution_count": 104,
   "metadata": {},
   "outputs": [
    {
     "name": "stdout",
     "output_type": "stream",
     "text": [
      "*** DEVELOP MODE ***\n"
     ]
    },
    {
     "ename": "error",
     "evalue": "No available audio device",
     "output_type": "error",
     "traceback": [
      "\u001b[0;31m---------------------------------------------------------------------------\u001b[0m",
      "\u001b[0;31merror\u001b[0m                                     Traceback (most recent call last)",
      "\u001b[0;32m<ipython-input-104-ee7774f7157a>\u001b[0m in \u001b[0;36m<module>\u001b[0;34m\u001b[0m\n\u001b[1;32m      5\u001b[0m \u001b[0mcontrol\u001b[0m\u001b[0;34m.\u001b[0m\u001b[0mset_develop_mode\u001b[0m\u001b[0;34m(\u001b[0m\u001b[0;32mTrue\u001b[0m\u001b[0;34m)\u001b[0m\u001b[0;34m\u001b[0m\u001b[0;34m\u001b[0m\u001b[0m\n\u001b[1;32m      6\u001b[0m \u001b[0;34m\u001b[0m\u001b[0m\n\u001b[0;32m----> 7\u001b[0;31m \u001b[0mcontrol\u001b[0m\u001b[0;34m.\u001b[0m\u001b[0minitialize\u001b[0m\u001b[0;34m(\u001b[0m\u001b[0mexp\u001b[0m\u001b[0;34m)\u001b[0m\u001b[0;34m\u001b[0m\u001b[0;34m\u001b[0m\u001b[0m\n\u001b[0m\u001b[1;32m      8\u001b[0m \u001b[0msleep\u001b[0m\u001b[0;34m(\u001b[0m\u001b[0;36m2\u001b[0m\u001b[0;34m)\u001b[0m\u001b[0;34m\u001b[0m\u001b[0;34m\u001b[0m\u001b[0m\n\u001b[1;32m      9\u001b[0m \u001b[0mcontrol\u001b[0m\u001b[0;34m.\u001b[0m\u001b[0mstart\u001b[0m\u001b[0;34m(\u001b[0m\u001b[0;34m)\u001b[0m\u001b[0;34m\u001b[0m\u001b[0;34m\u001b[0m\u001b[0m\n",
      "\u001b[0;32m~/anaconda3/envs/psychopy/lib/python3.6/site-packages/expyriment/control/_experiment_control.py\u001b[0m in \u001b[0;36minitialize\u001b[0;34m(experiment)\u001b[0m\n\u001b[1;32m    428\u001b[0m                    defaults.audiosystem_buffer_size)\n\u001b[1;32m    429\u001b[0m     \u001b[0;32mif\u001b[0m \u001b[0mdefaults\u001b[0m\u001b[0;34m.\u001b[0m\u001b[0maudiosystem_autostart\u001b[0m\u001b[0;34m:\u001b[0m\u001b[0;34m\u001b[0m\u001b[0;34m\u001b[0m\u001b[0m\n\u001b[0;32m--> 430\u001b[0;31m         \u001b[0mmixer\u001b[0m\u001b[0;34m.\u001b[0m\u001b[0minit\u001b[0m\u001b[0;34m(\u001b[0m\u001b[0;34m)\u001b[0m\u001b[0;34m\u001b[0m\u001b[0;34m\u001b[0m\u001b[0m\n\u001b[0m\u001b[1;32m    431\u001b[0m         \u001b[0mmixer\u001b[0m\u001b[0;34m.\u001b[0m\u001b[0minit\u001b[0m\u001b[0;34m(\u001b[0m\u001b[0;34m)\u001b[0m  \u001b[0;31m# Needed on some systems\u001b[0m\u001b[0;34m\u001b[0m\u001b[0;34m\u001b[0m\u001b[0m\n\u001b[1;32m    432\u001b[0m \u001b[0;34m\u001b[0m\u001b[0m\n",
      "\u001b[0;31merror\u001b[0m: No available audio device"
     ]
    }
   ],
   "source": [
    "from expyriment import design, control\n",
    "from time import sleep\n",
    "\n",
    "exp = design.Experiment(name=\"My Experiment\")\n",
    "control.set_develop_mode(True)\n",
    "\n",
    "control.initialize(exp)\n",
    "sleep(2)\n",
    "control.start()\n",
    "control.end()"
   ]
  },
  {
   "cell_type": "markdown",
   "metadata": {},
   "source": [
    "## Stimuli\n",
    "\n",
    "Expyriment contains classes for visual and auditory stimuli. \n",
    "\n",
    "Unlike psychopy, you don't need to flip the buffer for the stimuli to be actually shown on the screen. This is because of Expyriment's present-function:  \n",
    "```present(clear=True, update=True, log_event_tag=None)```  \n",
    "where ```clear``` clears the buffers before drawing, and ```update``` flips the buffer after drawing.\n",
    "\n",
    "Furthermore, you can (and should) preload the stimuli, such that they are fully loaded upon presentation - otherwise you'll mess up the timing of the experiment."
   ]
  },
  {
   "cell_type": "markdown",
   "metadata": {},
   "source": [
    "To show a few different stimuli in Expyriment without having to write the usual control-landmarks, let's make a [context manager](https://www.geeksforgeeks.org/context-manager-in-python/) for the control *(Please don't do that when actually working with it, this is only for presentation!)*:"
   ]
  },
  {
   "cell_type": "code",
   "execution_count": 2,
   "metadata": {},
   "outputs": [
    {
     "name": "stdout",
     "output_type": "stream",
     "text": [
      "Expyriment 0.10.0 (Python 3.6.13) \n",
      "*** DEVELOP MODE ***\n"
     ]
    }
   ],
   "source": [
    "from expyriment import design, control, stimuli, misc\n",
    "control.set_develop_mode(True)\n",
    "\n",
    "class StimuliDemo:\n",
    "    \n",
    "    def __init__(self, name):\n",
    "        exp = design.Experiment(name=name)\n",
    "        control.initialize(exp)\n",
    "        self.exp = exp\n",
    "\n",
    "    def __enter__(self):\n",
    "        control.start()\n",
    "        return self.exp\n",
    "\n",
    "    def __exit__(self, *args):\n",
    "        control.end()"
   ]
  },
  {
   "cell_type": "markdown",
   "metadata": {},
   "source": [
    "### Text"
   ]
  },
  {
   "cell_type": "code",
   "execution_count": 3,
   "metadata": {},
   "outputs": [
    {
     "name": "stdout",
     "output_type": "stream",
     "text": [
      "Standard output and error logging is switched off under IPython.\n"
     ]
    }
   ],
   "source": [
    "with StimuliDemo(\"Experiment\") as exp:\n",
    "    target = stimuli.TextLine(text=\"I am a text!\", text_size=80)\n",
    "    stimuli.FixCross().present()\n",
    "    target.preload()\n",
    "    exp.clock.wait(1000)\n",
    "    target.present()\n",
    "    exp.clock.wait(1000)"
   ]
  },
  {
   "cell_type": "markdown",
   "metadata": {},
   "source": [
    "### Sounds"
   ]
  },
  {
   "cell_type": "code",
   "execution_count": 29,
   "metadata": {},
   "outputs": [
    {
     "name": "stdout",
     "output_type": "stream",
     "text": [
      "Standard output and error logging is switched off under IPython.\n"
     ]
    }
   ],
   "source": [
    "with StimuliDemo(\"Experiment\") as exp:\n",
    "    stimuli.Tone(duration=200, frequency=2000).play()\n",
    "    exp.clock.wait(1000)"
   ]
  },
  {
   "cell_type": "markdown",
   "metadata": {},
   "source": [
    "### Objects"
   ]
  },
  {
   "cell_type": "code",
   "execution_count": 34,
   "metadata": {},
   "outputs": [
    {
     "name": "stdout",
     "output_type": "stream",
     "text": [
      "Standard output and error logging is switched off under IPython.\n"
     ]
    }
   ],
   "source": [
    "with StimuliDemo(\"Experiment\") as exp: \n",
    "    target = stimuli.Rectangle([50, 50], position=[20, 20], colour=misc.constants.C_RED)\n",
    "    #target.preload()\n",
    "    target.present()\n",
    "    exp.clock.wait(1000)"
   ]
  },
  {
   "cell_type": "markdown",
   "metadata": {},
   "source": [
    "### Multiple objects\n",
    "If we want to draw multiple objects on the same buffer, we must \n",
    "* Clear the screen for the first object, without flipping buffers\n",
    "* Don't clear the screen and don't flip buffers for objects in between\n",
    "* Don't clear the screen, but flip buffers, for the last object"
   ]
  },
  {
   "cell_type": "code",
   "execution_count": 31,
   "metadata": {},
   "outputs": [
    {
     "name": "stdout",
     "output_type": "stream",
     "text": [
      "Standard output and error logging is switched off under IPython.\n"
     ]
    }
   ],
   "source": [
    "with StimuliDemo(\"Experiment\") as exp: \n",
    "    stim1 = stimuli.Circle(radius=25, colour=(255, 255, 255), position=[-100,0])\n",
    "    stim2 = stimuli.Circle(radius=25, colour=(255, 255, 255), position=[100,0])\n",
    "    stim1.present(clear=True, update=False)\n",
    "    stim2.present(clear=False, update=True)\n",
    "    exp.clock.wait(3000)"
   ]
  },
  {
   "cell_type": "markdown",
   "metadata": {},
   "source": [
    "### Complex objects"
   ]
  },
  {
   "cell_type": "code",
   "execution_count": 32,
   "metadata": {},
   "outputs": [
    {
     "name": "stdout",
     "output_type": "stream",
     "text": [
      "Standard output and error logging is switched off under IPython.\n"
     ]
    }
   ],
   "source": [
    "with StimuliDemo(\"Experiment\") as exp:    \n",
    "    button = stimuli.Rectangle(size=(40,20), position=(exp.screen.size[0]//2-25, 15-exp.screen.size[1]//2))\n",
    "    button_text = stimuli.TextLine(text=\"ok\", position=button.position, text_colour=misc.constants.C_WHITE)\n",
    "    canvas = stimuli.BlankScreen()\n",
    "    button.plot(canvas)\n",
    "    button_text.plot(canvas)\n",
    "    canvas.present()\n",
    "    exp.clock.wait(5000)"
   ]
  },
  {
   "cell_type": "markdown",
   "metadata": {},
   "source": [
    "We see that we cannot click the button, because sleeping simply *blocks* the view."
   ]
  },
  {
   "cell_type": "markdown",
   "metadata": {},
   "source": [
    "## Defaults\n",
    "\n",
    "Expyriment works with a defaults-system for all its values (font, background-color, ...). Every package of Expyriment contains a ```defaults```-object, where these values can be overwritten."
   ]
  },
  {
   "cell_type": "markdown",
   "metadata": {},
   "source": [
    "https://docs.expyriment.org/expyriment.stimuli.defaults.html, \n",
    "https://docs.expyriment.org/expyriment.control.defaults.html"
   ]
  },
  {
   "cell_type": "code",
   "execution_count": 4,
   "metadata": {},
   "outputs": [
    {
     "name": "stdout",
     "output_type": "stream",
     "text": [
      "*** NORMAL MODE ***\n",
      "Standard output and error logging is switched off under IPython.\n"
     ]
    },
    {
     "data": {
      "text/plain": [
       "True"
      ]
     },
     "execution_count": 4,
     "metadata": {},
     "output_type": "execute_result"
    }
   ],
   "source": [
    "from expyriment import design, control, stimuli\n",
    "from time import sleep\n",
    "control.set_develop_mode(False)\n",
    "\n",
    "control.defaults.window_mode = True # True corresponds to windowed\n",
    "control.defaults.window_size = [800,600] # 800x600 resolution\n",
    "# we are going to change the default background color for this experiment\n",
    "# however this can also be changed later after initialization using exp.screen.colour()\n",
    "\n",
    "design.defaults.experiment_background_colour = (230,230,70)\n",
    "\n",
    "exp = design.Experiment(name=\"Cool Experiment\")\n",
    "control.initialize(exp)\n",
    "control.start()\n",
    "stimuli.FixCross().present()\n",
    "exp.clock.wait(1000)\n",
    "control.end()"
   ]
  },
  {
   "cell_type": "code",
   "execution_count": null,
   "metadata": {},
   "outputs": [],
   "source": [
    "# Restart the kernel to reset defaults."
   ]
  },
  {
   "cell_type": "code",
   "execution_count": 16,
   "metadata": {},
   "outputs": [
    {
     "name": "stdout",
     "output_type": "stream",
     "text": [
      "*** DEVELOP MODE ***\n"
     ]
    }
   ],
   "source": [
    "from expyriment import design, control, stimuli, misc\n",
    "control.set_develop_mode(True)\n",
    "used_exp_names = []\n",
    "\n",
    "# the same as before but gives each experiment a new name\n",
    "class StimuliDemo:\n",
    "    \n",
    "    def get_name(self, name):\n",
    "        global used_exp_names\n",
    "        used_name = name; i = 0\n",
    "        while used_name in used_exp_names:\n",
    "            used_name = name+str(i)\n",
    "            i += 1\n",
    "        used_exp_names.append(used_name)\n",
    "        return used_name\n",
    "    \n",
    "    def __init__(self, name):\n",
    "        exp = design.Experiment(name=self.get_name(name))\n",
    "        control.initialize(exp)\n",
    "        self.exp = exp\n",
    "\n",
    "    def __enter__(self):\n",
    "        control.start()\n",
    "        return self.exp\n",
    "\n",
    "    def __exit__(self, *args):\n",
    "        control.end()"
   ]
  },
  {
   "cell_type": "markdown",
   "metadata": {},
   "source": [
    "## User Input\n",
    "\n",
    "Expyriment's IO module is for logging as well as user-input. It can also be used independently from other packages, to get eg. mouse presses or serial port communication."
   ]
  },
  {
   "cell_type": "markdown",
   "metadata": {},
   "source": [
    "### Keyboard.wait()\n",
    "\n",
    "As mentioned above, every initialized experiment has access to the keyboard-object, which contains the method wait():  \n",
    "```wait(keys=None, duration=None, wait_for_keyup=False, callback_function=None, process_control_events=True)```\n",
    "\n",
    "As arguments, you can specify which keys to look for, if you want to wait for a key-release, you can specify a callback-function upon clicking, and you can set a timeout until its's no longer waited for the keypress.\n",
    "\n",
    "The result is a tuple of (clicked character, reaction-time in ms)"
   ]
  },
  {
   "cell_type": "code",
   "execution_count": 22,
   "metadata": {},
   "outputs": [
    {
     "name": "stdout",
     "output_type": "stream",
     "text": [
      "Standard output and error logging is switched off under IPython.\n",
      "Experiment4\n",
      "32\n",
      "725\n",
      "False\n"
     ]
    }
   ],
   "source": [
    "with StimuliDemo(\"Experiment\") as exp:\n",
    "    target = stimuli.TextLine(text=\"Any key to continue.\", text_size=60)\n",
    "    target.present()\n",
    "    button, time = exp.keyboard.wait()\n",
    "\n",
    "print(button)  \n",
    "print(time)\n",
    "print(button == misc.constants.K_BACKSPACE)"
   ]
  },
  {
   "cell_type": "markdown",
   "metadata": {},
   "source": [
    "![](figures/ascii_table.png)"
   ]
  },
  {
   "cell_type": "markdown",
   "metadata": {},
   "source": [
    "All key- and color-constants can be found in Expyriment's documentation: https://docs.expyriment.org/expyriment.misc.constants.html"
   ]
  },
  {
   "cell_type": "markdown",
   "metadata": {},
   "source": [
    "### Mouse input:\n",
    "(https://docs.expyriment.org/expyriment.io.Mouse.html)\n",
    "\n",
    "We use a while loop here, so we keep going when a mouse event is registered that does not activate the button.\n",
    "There are button classes in expyriment. This is just one example that showcases the general mouse input."
   ]
  },
  {
   "cell_type": "code",
   "execution_count": 35,
   "metadata": {},
   "outputs": [
    {
     "name": "stdout",
     "output_type": "stream",
     "text": [
      "Standard output and error logging is switched off under IPython.\n"
     ]
    }
   ],
   "source": [
    "with StimuliDemo(\"Experiment\") as exp:  \n",
    "    while True:\n",
    "        # make cursor visible\n",
    "        exp.mouse.show_cursor()\n",
    "\n",
    "        button = stimuli.Rectangle(size=(50,20), position=(exp.screen.size[0]//2-35, 15-exp.screen.size[1]//2))\n",
    "        button_text = stimuli.TextLine(text=\"close\", position=button.position, text_colour=misc.constants.C_WHITE)\n",
    "        canvas = stimuli.BlankScreen()\n",
    "        button.plot(canvas)\n",
    "\n",
    "        button_text.plot(canvas)\n",
    "        canvas.present()\n",
    "        # returns event_id, position and reactiontime\n",
    "        bid, pos, _rt = exp.mouse.wait_press()\n",
    "        # check if event wad left mouse click and if position overlaps with button\n",
    "        if (bid == 0 and button.overlapping_with_position(pos)):\n",
    "            break\n"
   ]
  },
  {
   "cell_type": "markdown",
   "metadata": {},
   "source": [
    "# Experiment Design\n",
    "\n",
    "Everybody who already participated in an experiment should be familiar with the basic structure of an experiment -- Some stimulus is shown in a multitude of similar or equal versions in a random order, sometimes mixed with distractors. Each display of a stimulus is a *trial*. Often, experiments are split up into multiple *blocks*, showing for example different versions of the stimuli.  \n",
    " \n",
    "The general order is thus:\n",
    "\n",
    "* There is an experiment (what's returned by ```design.experiment()```)\n",
    "  * The experiments consist of blocks\n",
    "    * Every block consists of trials\n",
    "      * (The trials probably contain one or more stimuli)"
   ]
  },
  {
   "cell_type": "code",
   "execution_count": 42,
   "metadata": {},
   "outputs": [],
   "source": [
    "import os\n",
    "os.chdir('../expyriment')\n",
    "#os.chdir('expyriment')"
   ]
  },
  {
   "cell_type": "markdown",
   "metadata": {},
   "source": [
    "**Wiki**: \n",
    "\n",
    "*In psychology, the Simon effect is the finding that the difference in accuracy or reaction time between trials in which stimulus and response are on the same side and trials in which they are on opposite sides, with responses being generally slower and less accurate when the stimulus and response are on opposite sides. It is named for J. R. Simon who first published the effect in the late 1960s. Simon's original explanation for the effect was that there is an innate tendency to respond toward the source of stimulation. *\n",
    "\n",
    "![](https://www.psytoolkit.org/lessons/srctrials.png)"
   ]
  },
  {
   "cell_type": "code",
   "execution_count": 43,
   "metadata": {},
   "outputs": [
    {
     "name": "stdout",
     "output_type": "stream",
     "text": [
      "*** DEVELOP MODE ***\n",
      "Standard output and error logging is switched off under IPython.\n"
     ]
    }
   ],
   "source": [
    "%run simon_task_short"
   ]
  },
  {
   "cell_type": "markdown",
   "metadata": {},
   "source": [
    "## Expyriment's Design-package\n",
    "* Contains classes describing experimental structures $\\Rightarrow$ Hierachy between experiment, exp. blocks. exp. trials\n",
    "* Allows for between-subject-factors, that are different dependent on the subject-ID\n",
    "* Can export everything to be used by other packages (including PsychoPy!), can thus be used stand-alone"
   ]
  },
  {
   "cell_type": "markdown",
   "metadata": {},
   "source": [
    "The design of an experiment is specified before calling ```control.start()```, such that in the actual experiment, it is enough to loop over all ```blocks``` and ```trials```, loading and presenting the stimuli from the trials.\n",
    "Blocks and Trials can have Factors. A factor is a simple key-value-pair, that can be used to store information about a Block or Trial, such that you can restore this information throughout the experiment, and use it to display custom things and to log conditions of blocks and trials."
   ]
  },
  {
   "cell_type": "code",
   "execution_count": 87,
   "metadata": {},
   "outputs": [
    {
     "name": "stdout",
     "output_type": "stream",
     "text": [
      "*** DEVELOP MODE ***\n",
      "Standard output and error logging is switched off under IPython.\n"
     ]
    },
    {
     "data": {
      "text/plain": [
       "True"
      ]
     },
     "execution_count": 87,
     "metadata": {},
     "output_type": "execute_result"
    }
   ],
   "source": [
    "# %load open_debugger/blocks_1.py\n",
    "from expyriment import design, control, stimuli, misc, io\n",
    "\n",
    "control.set_develop_mode(True)\n",
    "\n",
    "exp = design.Experiment(name=\"My Experiment\")\n",
    "control.initialize(exp)\n",
    "\n",
    "for name, color in [[\"green\", misc.constants.C_GREEN], [\"red\", misc.constants.C_RED]]:\n",
    "    block = design.Block(name=name.capitalize() + \" Stimuli\")\n",
    "    block.set_factor(\"Color\", name)\n",
    "    for where in [[\"left\", -300], [\"right\", 300]]:\n",
    "        t = design.Trial()\n",
    "        t.set_factor(\"Position\", where[0])\n",
    "        s = stimuli.Rectangle([50, 50], position=[where[1], 0], colour=color)\n",
    "        t.add_stimulus(s)\n",
    "        block.add_trial(t)\n",
    "    exp.add_block(block)\n",
    "\n",
    "control.start()\n",
    "\n",
    "for block in exp.blocks:\n",
    "    for trial in block.trials:\n",
    "        trial.stimuli[0].present()\n",
    "        exp.clock.wait(1000)\n",
    "\n",
    "control.end()"
   ]
  },
  {
   "cell_type": "code",
   "execution_count": 2,
   "metadata": {},
   "outputs": [
    {
     "name": "stdout",
     "output_type": "stream",
     "text": [
      "*** DEVELOP MODE ***\n",
      "Standard output and error logging is switched off under IPython.\n",
      "Now we're printing green Circles.\n",
      "Now we're printing red Circles.\n"
     ]
    },
    {
     "data": {
      "text/plain": [
       "True"
      ]
     },
     "execution_count": 2,
     "metadata": {},
     "output_type": "execute_result"
    }
   ],
   "source": [
    "from expyriment import design, control, stimuli, misc, io\n",
    "control.set_develop_mode(True)\n",
    "from time import sleep\n",
    "\n",
    "exp = design.Experiment(name=\"My Experiment\")\n",
    "control.initialize(exp)\n",
    "\n",
    "blankscreen = stimuli.BlankScreen(colour=(0,0,0))\n",
    "blankscreen.preload()\n",
    "\n",
    "block1 = design.Block(name=\"Block1\")\n",
    "block1.set_factor(\"Color\", \"green\")\n",
    "trial = design.Trial()\n",
    "stimulus = stimuli.Circle(50, colour = misc.constants.C_GREEN)\n",
    "trial.add_stimulus(stimulus)\n",
    "block1.add_trial(trial, copies = 2)\n",
    "exp.add_block(block1)\n",
    "\n",
    "block2 = design.Block(name=\"Block2\")\n",
    "block2.set_factor(\"Color\", \"red\")\n",
    "trial = design.Trial()\n",
    "stimulus = stimuli.Circle(50, colour = misc.constants.C_RED)\n",
    "trial.add_stimulus(stimulus)\n",
    "block2.add_trial(trial, copies = 2)\n",
    "exp.add_block(block2)\n",
    "\n",
    "control.start()\n",
    "                        \n",
    "for block in exp.blocks:\n",
    "    print(\"Now we're printing\", block.get_factor(\"Color\"), \"Circles.\")\n",
    "    for trial in block.trials:\n",
    "        trial.stimuli[0].present()\n",
    "        exp.clock.wait(500)\n",
    "        blankscreen.present()\n",
    "        exp.clock.wait(500)\n",
    "        \n",
    "        \n",
    "control.end()"
   ]
  },
  {
   "cell_type": "markdown",
   "metadata": {},
   "source": [
    "Of course, you'd normally set blocks and trials algorithmically in a loop."
   ]
  },
  {
   "cell_type": "markdown",
   "metadata": {},
   "source": [
    "Blocks also provide the possibility to shuffle trials with it's method ```shuffle_trials(method=0, max_repetitions=None, n_segments=None)```. Note that this method even allows a possibility to not repeat too many equal trials inside a block!"
   ]
  },
  {
   "cell_type": "markdown",
   "metadata": {},
   "source": [
    "You can use the design-package alone and export the designs for other libraries:"
   ]
  },
  {
   "cell_type": "code",
   "execution_count": 4,
   "metadata": {},
   "outputs": [],
   "source": [
    "from expyriment import design, control, stimuli, misc, io\n",
    "\n",
    "exp = design.Experiment('Example experiment')\n",
    "block1 = design.Block('Experimental block')\n",
    "for cond in ['A', 'B', 'C']:\n",
    "    trial = design.Trial()\n",
    "    trial.set_factor('Condition', cond)\n",
    "    block1.add_trial(trial, copies=5)\n",
    "block2 = block1.copy()\n",
    "block1.shuffle_trials()\n",
    "block2.shuffle_trials()\n",
    "exp.add_block(block1)\n",
    "exp.add_block(block2)\n",
    "\n",
    "exp.save_design('demodesign.csv')"
   ]
  },
  {
   "cell_type": "markdown",
   "metadata": {},
   "source": [
    "Note that we didn't add any stimuli here. Unfortunately, Expyriment does not allow to save stimuli to a csv."
   ]
  },
  {
   "cell_type": "code",
   "execution_count": 6,
   "metadata": {},
   "outputs": [
    {
     "name": "stdout",
     "output_type": "stream",
     "text": [
      "# -*- coding: UTF-8 -*-\n",
      "#exp: Example experiment\n",
      "block_cnt,block_id,trial_cnt,trial_id,Condition\n",
      "0,0,0,4,A\n",
      "0,0,1,14,C\n",
      "0,0,2,3,A\n",
      "0,0,3,12,C\n",
      "0,0,4,6,B\n",
      "0,0,5,13,C\n",
      "0,0,6,5,B\n",
      "0,0,7,1,A\n",
      "0,0,8,8,B\n",
      "0,0,9,2,A\n",
      "0,0,10,9,B\n",
      "0,0,11,10,C\n",
      "0,0,12,7,B\n",
      "0,0,13,0,A\n",
      "0,0,14,11,C\n",
      "1,1,0,4,A\n",
      "1,1,1,9,B\n",
      "1,1,2,6,B\n",
      "1,1,3,13,C\n",
      "1,1,4,1,A\n",
      "1,1,5,14,C\n",
      "1,1,6,5,B\n",
      "1,1,7,10,C\n",
      "1,1,8,3,A\n",
      "1,1,9,12,C\n",
      "1,1,10,11,C\n",
      "1,1,11,2,A\n",
      "1,1,12,0,A\n",
      "1,1,13,8,B\n",
      "1,1,14,7,B"
     ]
    }
   ],
   "source": [
    "!cat demodesign.csv"
   ]
  },
  {
   "cell_type": "code",
   "execution_count": 7,
   "metadata": {},
   "outputs": [
    {
     "data": {
      "text/html": [
       "<div>\n",
       "<style scoped>\n",
       "    .dataframe tbody tr th:only-of-type {\n",
       "        vertical-align: middle;\n",
       "    }\n",
       "\n",
       "    .dataframe tbody tr th {\n",
       "        vertical-align: top;\n",
       "    }\n",
       "\n",
       "    .dataframe thead th {\n",
       "        text-align: right;\n",
       "    }\n",
       "</style>\n",
       "<table border=\"1\" class=\"dataframe\">\n",
       "  <thead>\n",
       "    <tr style=\"text-align: right;\">\n",
       "      <th></th>\n",
       "      <th>block_cnt</th>\n",
       "      <th>block_id</th>\n",
       "      <th>trial_cnt</th>\n",
       "      <th>trial_id</th>\n",
       "      <th>Condition</th>\n",
       "    </tr>\n",
       "  </thead>\n",
       "  <tbody>\n",
       "    <tr>\n",
       "      <th>0</th>\n",
       "      <td>0</td>\n",
       "      <td>0</td>\n",
       "      <td>0</td>\n",
       "      <td>4</td>\n",
       "      <td>A</td>\n",
       "    </tr>\n",
       "    <tr>\n",
       "      <th>1</th>\n",
       "      <td>0</td>\n",
       "      <td>0</td>\n",
       "      <td>1</td>\n",
       "      <td>14</td>\n",
       "      <td>C</td>\n",
       "    </tr>\n",
       "    <tr>\n",
       "      <th>2</th>\n",
       "      <td>0</td>\n",
       "      <td>0</td>\n",
       "      <td>2</td>\n",
       "      <td>3</td>\n",
       "      <td>A</td>\n",
       "    </tr>\n",
       "    <tr>\n",
       "      <th>3</th>\n",
       "      <td>0</td>\n",
       "      <td>0</td>\n",
       "      <td>3</td>\n",
       "      <td>12</td>\n",
       "      <td>C</td>\n",
       "    </tr>\n",
       "    <tr>\n",
       "      <th>4</th>\n",
       "      <td>0</td>\n",
       "      <td>0</td>\n",
       "      <td>4</td>\n",
       "      <td>6</td>\n",
       "      <td>B</td>\n",
       "    </tr>\n",
       "    <tr>\n",
       "      <th>5</th>\n",
       "      <td>0</td>\n",
       "      <td>0</td>\n",
       "      <td>5</td>\n",
       "      <td>13</td>\n",
       "      <td>C</td>\n",
       "    </tr>\n",
       "    <tr>\n",
       "      <th>6</th>\n",
       "      <td>0</td>\n",
       "      <td>0</td>\n",
       "      <td>6</td>\n",
       "      <td>5</td>\n",
       "      <td>B</td>\n",
       "    </tr>\n",
       "    <tr>\n",
       "      <th>7</th>\n",
       "      <td>0</td>\n",
       "      <td>0</td>\n",
       "      <td>7</td>\n",
       "      <td>1</td>\n",
       "      <td>A</td>\n",
       "    </tr>\n",
       "    <tr>\n",
       "      <th>8</th>\n",
       "      <td>0</td>\n",
       "      <td>0</td>\n",
       "      <td>8</td>\n",
       "      <td>8</td>\n",
       "      <td>B</td>\n",
       "    </tr>\n",
       "    <tr>\n",
       "      <th>9</th>\n",
       "      <td>0</td>\n",
       "      <td>0</td>\n",
       "      <td>9</td>\n",
       "      <td>2</td>\n",
       "      <td>A</td>\n",
       "    </tr>\n",
       "    <tr>\n",
       "      <th>10</th>\n",
       "      <td>0</td>\n",
       "      <td>0</td>\n",
       "      <td>10</td>\n",
       "      <td>9</td>\n",
       "      <td>B</td>\n",
       "    </tr>\n",
       "    <tr>\n",
       "      <th>11</th>\n",
       "      <td>0</td>\n",
       "      <td>0</td>\n",
       "      <td>11</td>\n",
       "      <td>10</td>\n",
       "      <td>C</td>\n",
       "    </tr>\n",
       "    <tr>\n",
       "      <th>12</th>\n",
       "      <td>0</td>\n",
       "      <td>0</td>\n",
       "      <td>12</td>\n",
       "      <td>7</td>\n",
       "      <td>B</td>\n",
       "    </tr>\n",
       "    <tr>\n",
       "      <th>13</th>\n",
       "      <td>0</td>\n",
       "      <td>0</td>\n",
       "      <td>13</td>\n",
       "      <td>0</td>\n",
       "      <td>A</td>\n",
       "    </tr>\n",
       "    <tr>\n",
       "      <th>14</th>\n",
       "      <td>0</td>\n",
       "      <td>0</td>\n",
       "      <td>14</td>\n",
       "      <td>11</td>\n",
       "      <td>C</td>\n",
       "    </tr>\n",
       "    <tr>\n",
       "      <th>15</th>\n",
       "      <td>1</td>\n",
       "      <td>1</td>\n",
       "      <td>0</td>\n",
       "      <td>4</td>\n",
       "      <td>A</td>\n",
       "    </tr>\n",
       "  </tbody>\n",
       "</table>\n",
       "</div>"
      ],
      "text/plain": [
       "    block_cnt  block_id  trial_cnt  trial_id Condition\n",
       "0           0         0          0         4         A\n",
       "1           0         0          1        14         C\n",
       "2           0         0          2         3         A\n",
       "3           0         0          3        12         C\n",
       "4           0         0          4         6         B\n",
       "5           0         0          5        13         C\n",
       "6           0         0          6         5         B\n",
       "7           0         0          7         1         A\n",
       "8           0         0          8         8         B\n",
       "9           0         0          9         2         A\n",
       "10          0         0         10         9         B\n",
       "11          0         0         11        10         C\n",
       "12          0         0         12         7         B\n",
       "13          0         0         13         0         A\n",
       "14          0         0         14        11         C\n",
       "15          1         1          0         4         A"
      ]
     },
     "execution_count": 7,
     "metadata": {},
     "output_type": "execute_result"
    }
   ],
   "source": [
    "import pandas as pd\n",
    "pd.read_csv('demodesign.csv', comment='#').head(16)"
   ]
  },
  {
   "cell_type": "markdown",
   "metadata": {},
   "source": [
    "### Between-Subject-Factors\n",
    "\n",
    "In many studies, it is necessary to provide different stimuli for different subjects. Keep in mind however that doing so is a major design choice which requires far more experimental subjects to be statistically significant and comes with many other caveats.\n",
    "\n",
    "In Expyriment, this are simply factors that are supposed to be different <b>B</b>et<b>W</b>een <b>S</b>ubjects. Expyriment allows to differ between subjects, based on their subject-ID: The between-subjects-factor is coupled to the subject ID that was assigned when the experiment was started.\n",
    "\n",
    "In the below example the between subject factor is the order in which the two blocks are presented ie. whether `left=green` or `left=red` comes first."
   ]
  },
  {
   "cell_type": "code",
   "execution_count": 91,
   "metadata": {},
   "outputs": [
    {
     "name": "stdout",
     "output_type": "stream",
     "text": [
      "Standard output and error logging is switched off under IPython.\n"
     ]
    },
    {
     "data": {
      "text/plain": [
       "True"
      ]
     },
     "execution_count": 91,
     "metadata": {},
     "output_type": "execute_result"
    }
   ],
   "source": [
    "from expyriment import design, control, stimuli, io, misc\n",
    "#control.set_develop_mode(False)\n",
    " \n",
    "# Create and initialize an Experiment\n",
    "exp = design.Experiment(\"Simon Task\")\n",
    "control.initialize(exp)\n",
    "\n",
    "# Define and preload standard stimuli\n",
    "fixcross = stimuli.FixCross()\n",
    "fixcross.preload()\n",
    "blankscreen = stimuli.BlankScreen()\n",
    "blankscreen.preload()\n",
    "# left and right arrow keys for responses\n",
    "response_keys = [misc.constants.K_LEFT, misc.constants.K_RIGHT]\n",
    "\n",
    "# Create design\n",
    "for mapping in [\"left=green\", \"left=red\"]:\n",
    "    b = design.Block()\n",
    "    b.set_factor(\"Mapping\", mapping)\n",
    "    for where in [[\"left\", -300], [\"right\", 300]]:\n",
    "        for what in [[\"red\", misc.constants.C_RED],\n",
    "                     [\"green\", misc.constants.C_GREEN]]:\n",
    "            t = design.Trial()\n",
    "            t.set_factor(\"Position\", where[0])\n",
    "            t.set_factor(\"Colour\", what[0])\n",
    "            s = stimuli.Rectangle([50, 50], position=[where[1], 0], colour=what[1])\n",
    "            t.add_stimulus(s)\n",
    "            b.add_trial(t, copies=2)\n",
    "    b.shuffle_trials()\n",
    "    exp.add_block(b)\n",
    "\n",
    "# set factor to bws factor\n",
    "exp.add_bws_factor(\"TaskOrder\",[\"left=green first\",\"left=red first\"])\n",
    "\n",
    "# Start Experiment\n",
    "control.start()\n",
    "# get_permuted_bws_factor_condition returns condition based on subject id\n",
    "if exp.get_permuted_bws_factor_condition(\"TaskOrder\") == \"left=red first\":\n",
    "    exp.swap_blocks(0,1)\n",
    "    \n",
    "for block in exp.blocks:\n",
    "    stimuli.TextScreen(\"Instructions\", block.get_factor(\"Mapping\")).present()\n",
    "    exp.keyboard.wait()\n",
    "    for trial in block.trials:\n",
    "        fixcross.present()\n",
    "        exp.clock.wait(1000 - trial.stimuli[0].preload())\n",
    "        trial.stimuli[0].present()\n",
    "        button, rt = exp.keyboard.wait(keys=response_keys)\n",
    "control.end()"
   ]
  },
  {
   "cell_type": "markdown",
   "metadata": {},
   "source": [
    "## PsychoPy\n",
    "\n",
    "Psychopy has two classes for experimental design: the **Trialhandler** and the **StairHandler**. The TrialHandler chooses a trial (sequentially or randomly) out of a list of pre-defined conditions, whereas the stairhandler uses an *adaptive staircase*, where for each trial, the next condition is based on the participant's response."
   ]
  },
  {
   "cell_type": "markdown",
   "metadata": {},
   "source": [
    "### TrialHandler\n",
    "\n",
    "For our first example, we'll look at the simple [TrialHandler](https://www.psychopy.org/api/data.html#psychopy.data.TrialHandler)"
   ]
  },
  {
   "cell_type": "code",
   "execution_count": 77,
   "metadata": {},
   "outputs": [],
   "source": [
    "import os\n",
    "os.chdir('../psychopy')\n",
    "#os.chdir('psychopy')"
   ]
  },
  {
   "cell_type": "code",
   "execution_count": 78,
   "metadata": {},
   "outputs": [
    {
     "ename": "AssertionError",
     "evalue": "",
     "output_type": "error",
     "traceback": [
      "\u001b[0;31m---------------------------------------------------------------------------\u001b[0m",
      "\u001b[0;31mAssertionError\u001b[0m                            Traceback (most recent call last)",
      "\u001b[0;32m<ipython-input-78-4d257131833f>\u001b[0m in \u001b[0;36m<module>\u001b[0;34m\u001b[0m\n\u001b[1;32m      2\u001b[0m \u001b[0;31m#Show the grating stimulus at different positions\u001b[0m\u001b[0;34m\u001b[0m\u001b[0;34m\u001b[0m\u001b[0;34m\u001b[0m\u001b[0m\n\u001b[1;32m      3\u001b[0m \u001b[0;34m\u001b[0m\u001b[0m\n\u001b[0;32m----> 4\u001b[0;31m \u001b[0;32massert\u001b[0m \u001b[0;34m'__file__'\u001b[0m \u001b[0;32min\u001b[0m \u001b[0mlocals\u001b[0m\u001b[0;34m(\u001b[0m\u001b[0;34m)\u001b[0m \u001b[0;31m#to make sure to not run this inside Jupyter\u001b[0m\u001b[0;34m\u001b[0m\u001b[0;34m\u001b[0m\u001b[0m\n\u001b[0m\u001b[1;32m      5\u001b[0m \u001b[0;34m\u001b[0m\u001b[0m\n\u001b[1;32m      6\u001b[0m \u001b[0;32mfrom\u001b[0m \u001b[0mpsychopy\u001b[0m \u001b[0;32mimport\u001b[0m \u001b[0mvisual\u001b[0m\u001b[0;34m,\u001b[0m \u001b[0mevent\u001b[0m\u001b[0;34m,\u001b[0m \u001b[0mcore\u001b[0m\u001b[0;34m,\u001b[0m \u001b[0mdata\u001b[0m\u001b[0;34m\u001b[0m\u001b[0;34m\u001b[0m\u001b[0m\n",
      "\u001b[0;31mAssertionError\u001b[0m: "
     ]
    }
   ],
   "source": [
    "# %load psychopy_4.py\n",
    "#Show the grating stimulus at different positions\n",
    "\n",
    "assert '__file__' in locals() #to make sure to not run this inside Jupyter\n",
    "\n",
    "from psychopy import visual, event, core, data\n",
    "mywin = visual.Window(size=[800,600], monitor=\"testMonitor\", units=\"norm\", color=[255,255,255])\n",
    "fixation = visual.GratingStim(win=mywin, size=0.015, pos=[0,0], sf=0, color=-1)\n",
    "grating = visual.GratingStim(win=mywin, mask=\"circle\", size=0.2, pos=[0,0], sf=3)\n",
    "event.globalKeys.add(key='escape', func=core.quit)\n",
    "#we know that stuff...\n",
    "\n",
    "positions = [-1, -0.5, 0, 0.5, 1]\n",
    "\n",
    "# 1 repetition of all trials, in sequential order\n",
    "handler = data.TrialHandler(trialList=positions, nReps=1, method='sequential')\n",
    "\n",
    "# go through all trials as given by the TrialHandler\n",
    "for trial in handler:\n",
    "    # set grating stimulus to new position\n",
    "    grating.setPos([trial,0])\n",
    "    fixation.draw()\n",
    "    grating.draw()\n",
    "    mywin.flip()\n",
    "    event.waitKeys()"
   ]
  },
  {
   "cell_type": "code",
   "execution_count": 79,
   "metadata": {},
   "outputs": [
    {
     "name": "stdout",
     "output_type": "stream",
     "text": [
      "^C\n",
      "Traceback (most recent call last):\n",
      "  File \"psychopy_4.py\", line 24, in <module>\n",
      "    event.waitKeys()\n",
      "  File \"/home/nion/anaconda3/envs/psychopy/lib/python3.6/site-packages/psychopy/event.py\", line 541, in waitKeys\n",
      "    timeStamped=timeStamped)\n",
      "  File \"/home/nion/anaconda3/envs/psychopy/lib/python3.6/site-packages/psychopy/event.py\", line 417, in getKeys\n",
      "    win.dispatch_events()  # pump events on pyglet windows\n",
      "  File \"/home/nion/anaconda3/envs/psychopy/lib/python3.6/site-packages/pyglet/window/xlib/__init__.py\", line 943, in dispatch_events\n",
      "    while xlib.XCheckWindowEvent(_x_display, _view, 0x1ffffff, byref(e)):\n",
      "KeyboardInterrupt\n"
     ]
    }
   ],
   "source": [
    "!python psychopy_4.py"
   ]
  },
  {
   "cell_type": "markdown",
   "metadata": {},
   "source": [
    "In general when using either PsychoPy and Expyriment, make sure to adhere to the order of things here: \n",
    "* First, create window and handler\n",
    "* Afterwards (before you use them!) prepare all the stimuli\n",
    "* Then set up everything else that can be set up already (as eg. global keys) (before the actual procedure!)\n",
    "* Keep the actual procedure (`for trial in handler`) as short as possible to not mess up timing!"
   ]
  },
  {
   "cell_type": "markdown",
   "metadata": {},
   "source": [
    "### StairHandler\n",
    "\n",
    "As our second example, we'll steal (and dumb down for now) the second tutorial for PsychoPy's Coder-Interface, available at https://www.psychopy.org/coder/tutorial2.html. In this experiment, we measure your **JND** (just noticable difference) in orientation using a [StairHandler](https://www.psychopy.org/api/data.html#psychopy.data.StairHandler).\n",
    "\n",
    "*Note that this example still doesn't contain any data logging and is still dumbed down a bit - the way we do data analysis at the end is not the correct way to do this, and as another example, in time-critical experiments you wouldn't use core.wait*"
   ]
  },
  {
   "cell_type": "code",
   "execution_count": 24,
   "metadata": {},
   "outputs": [
    {
     "ename": "AssertionError",
     "evalue": "",
     "output_type": "error",
     "traceback": [
      "\u001b[0;31m---------------------------------------------------------------------------\u001b[0m",
      "\u001b[0;31mAssertionError\u001b[0m                            Traceback (most recent call last)",
      "\u001b[0;32m<ipython-input-24-2cb155c8fa76>\u001b[0m in \u001b[0;36m<module>\u001b[0;34m\u001b[0m\n\u001b[0;32m----> 1\u001b[0;31m \u001b[0;32massert\u001b[0m \u001b[0;34m'__file__'\u001b[0m \u001b[0;32min\u001b[0m \u001b[0mlocals\u001b[0m\u001b[0;34m(\u001b[0m\u001b[0;34m)\u001b[0m \u001b[0;31m#to make sure to not run this inside Jupyter\u001b[0m\u001b[0;34m\u001b[0m\u001b[0;34m\u001b[0m\u001b[0m\n\u001b[0m\u001b[1;32m      2\u001b[0m \u001b[0;34m\u001b[0m\u001b[0m\n\u001b[1;32m      3\u001b[0m \u001b[0;32mfrom\u001b[0m \u001b[0mpsychopy\u001b[0m \u001b[0;32mimport\u001b[0m \u001b[0mcore\u001b[0m\u001b[0;34m,\u001b[0m \u001b[0mvisual\u001b[0m\u001b[0;34m,\u001b[0m \u001b[0mgui\u001b[0m\u001b[0;34m,\u001b[0m \u001b[0mdata\u001b[0m\u001b[0;34m,\u001b[0m \u001b[0mevent\u001b[0m\u001b[0;34m\u001b[0m\u001b[0;34m\u001b[0m\u001b[0m\n\u001b[1;32m      4\u001b[0m \u001b[0;32mfrom\u001b[0m \u001b[0mpsychopy\u001b[0m\u001b[0;34m.\u001b[0m\u001b[0mtools\u001b[0m\u001b[0;34m.\u001b[0m\u001b[0mfiletools\u001b[0m \u001b[0;32mimport\u001b[0m \u001b[0mfromFile\u001b[0m\u001b[0;34m,\u001b[0m \u001b[0mtoFile\u001b[0m\u001b[0;34m\u001b[0m\u001b[0;34m\u001b[0m\u001b[0m\n\u001b[1;32m      5\u001b[0m \u001b[0;32mimport\u001b[0m \u001b[0mnumpy\u001b[0m\u001b[0;34m,\u001b[0m \u001b[0mrandom\u001b[0m\u001b[0;34m\u001b[0m\u001b[0;34m\u001b[0m\u001b[0m\n",
      "\u001b[0;31mAssertionError\u001b[0m: "
     ]
    }
   ],
   "source": [
    "assert '__file__' in locals() #to make sure to not run this inside Jupyter\n",
    "\n",
    "from psychopy import core, visual, gui, data, event\n",
    "from psychopy.tools.filetools import fromFile, toFile\n",
    "import numpy, random\n",
    "\n",
    "expInfo = {'observer':'jwp', 'refOrientation':0}\n",
    "\n",
    "staircase = data.StairHandler(startVal = 20.0,\n",
    "                          stepType = 'db', stepSizes=[8,4,4,2],\n",
    "                          nUp=1, nDown=3,  # will home in on the 80% threshold\n",
    "                          nTrials=1)\n",
    "\n",
    "\n",
    "# create window and stimuli\n",
    "win = visual.Window([800,600],allowGUI=True, monitor='testMonitor', units='deg')\n",
    "foil = visual.GratingStim(win, sf=1, size=4, mask='gauss', ori=expInfo['refOrientation'])\n",
    "target = visual.GratingStim(win, sf=1, size=4, mask='gauss', ori=expInfo['refOrientation'])\n",
    "fixation = visual.GratingStim(win, color=-1, colorSpace='rgb',tex=None, mask='circle', size=0.2)\n",
    "\n",
    "# display instructions and wait\n",
    "message1 = visual.TextStim(win, pos=[0,+3],text='Hit a key when ready.')\n",
    "message2 = visual.TextStim(win, pos=[0,-3], text=\"Then press left or right to identify the %.1f deg probe.\" %expInfo['refOrientation'])\n",
    "message1.draw()\n",
    "message2.draw()\n",
    "fixation.draw()\n",
    "win.flip()\n",
    "\n",
    "event.waitKeys()\n",
    "\n",
    "for thisIncrement in staircase:  \n",
    "    targetSide= random.choice([-1,1])  # will be either +1(right) or -1(left)\n",
    "    foil.setPos([-5*targetSide, 0])\n",
    "    target.setPos([5*targetSide, 0])  # in other location\n",
    "\n",
    "    # set orientation of probe\n",
    "    foil.setOri(expInfo['refOrientation'] + thisIncrement)\n",
    "\n",
    "    foil.draw()\n",
    "    target.draw()\n",
    "    fixation.draw()\n",
    "    win.flip()\n",
    "\n",
    "    core.wait(0.5) # wait 500ms; but use a loop of x frames for more accurate timing\n",
    "\n",
    "    fixation.draw()\n",
    "    win.flip()\n",
    "\n",
    "    # get response\n",
    "    thisResp=None\n",
    "    while thisResp==None:\n",
    "        allKeys=event.waitKeys()\n",
    "        for thisKey in allKeys:\n",
    "            if thisKey=='left':\n",
    "                if targetSide==-1: thisResp = 1  # correct\n",
    "                else: thisResp = 0              # incorrect\n",
    "            elif thisKey=='right':\n",
    "                if targetSide== 1: thisResp = 1  # correct\n",
    "                else: thisResp = 0              # incorrect\n",
    "            elif thisKey in ['q', 'escape']:\n",
    "                core.quit()  # abort experiment\n",
    "        event.clearEvents()  # clear other (eg mouse) events - they clog the buffer\n",
    "\n",
    "    # add the data to the staircase so it can calculate the next level\n",
    "    staircase.addResponse(thisResp)\n",
    "    core.wait(1)\n",
    "\n",
    "# staircase has ended\n",
    "\n",
    "# give some output to user in the command line in the output window\n",
    "print('reversals:')\n",
    "print(staircase.reversalIntensities)\n",
    "approxThreshold = numpy.average(staircase.reversalIntensities[-6:])\n",
    "print('mean of final 6 reversals = %.3f' % (approxThreshold))\n",
    "\n",
    "# give some on-screen feedback\n",
    "feedback1 = visual.TextStim(\n",
    "        win, pos=[0,+3],\n",
    "        text='mean of final 6 reversals = %.3f' % (approxThreshold))\n",
    "\n",
    "feedback1.draw()\n",
    "fixation.draw()\n",
    "win.flip()\n",
    "event.waitKeys()  # wait for participant to respond\n",
    "\n",
    "win.close()\n",
    "core.quit()"
   ]
  },
  {
   "cell_type": "code",
   "execution_count": 25,
   "metadata": {},
   "outputs": [],
   "source": [
    "!python psychopy_5_jnd1.py"
   ]
  },
  {
   "cell_type": "markdown",
   "metadata": {},
   "source": [
    "*Description of the code:*\n",
    "\n",
    "PsychoPy allows us to set up an object to handle the presentation of stimuli in a staircase procedure, the `StairHandler`. This will define the increment of the orientation (i.e. how far it is from the reference orientation).    \n",
    "The staircase can be configured in many ways, but we’ll set it up to begin with an increment of 20deg (very detectable) and home in on the 80% threshold value.  \n",
    "We’ll step up our increment every time the subject gets a wrong answer and step down if they get three right answers in a row. The step size will also decrease after every 2 reversals, starting with an 8dB step (large) and going down to 1dB steps (smallish). We’ll finish after 50 trials.\n",
    "\n",
    "With each pass through the loop the staircase object will provide the new value for the intensity (which we will call thisIncrement). We will randomly choose a side to present the target stimulus using numpy, setting the position of the target to be there and the foil to be on the other side of the fixation point.  \n",
    "Note, that we must tell the staircase the result of this trial with its `addResponse()` method. Then it can work out whether the next trial is an increment or decrement."
   ]
  },
  {
   "cell_type": "markdown",
   "metadata": {},
   "source": [
    "# Measuring & Logging"
   ]
  },
  {
   "cell_type": "markdown",
   "metadata": {},
   "source": [
    "## Measuring time\n",
    "\n",
    "Accurate timing of stimuli and IO as well as measuring response times is crucial for all kinds of experiments, so be aware of how you measure time!  "
   ]
  },
  {
   "cell_type": "markdown",
   "metadata": {},
   "source": [
    "\n",
    "  \n",
    "A standard way of measuring time is:"
   ]
  },
  {
   "cell_type": "code",
   "execution_count": 39,
   "metadata": {},
   "outputs": [
    {
     "name": "stdout",
     "output_type": "stream",
     "text": [
      "This took 1.0016283988952637 seconds\n"
     ]
    }
   ],
   "source": [
    "import time\n",
    "start = time.time()\n",
    "time.sleep(1)\n",
    "print(\"This took \" + str(time.time()-start) + \" seconds\")"
   ]
  },
  {
   "cell_type": "markdown",
   "metadata": {},
   "source": [
    "While generally a good idea, Python's time()-function may not be as accurate as you may think!  \n",
    "\n",
    "For Linux and Mac, time.time()'s precision is **allegedly** around +-0.001 milliseconds.  \n",
    "For Windows, the precision +- 16 milliseconds precision due to clock implementation problems due to process interrupts.\n",
    "*[source1](https://stackoverflow.com/questions/1938048/high-precision-clock-in-python/38256446#38256446), [source2](https://docs.microsoft.com/en-us/windows-hardware/drivers/kernel/high-resolution-timers)*\n",
    "\n",
    "For measuring time differences, Python provides the performance-counter, that uses the most accurate measure of time your system provides (in the case of Windows, one that doesn't rely on the Windows-clock)"
   ]
  },
  {
   "cell_type": "code",
   "execution_count": 40,
   "metadata": {},
   "outputs": [
    {
     "name": "stdout",
     "output_type": "stream",
     "text": [
      "This took 1.0016537379997317 seconds\n"
     ]
    }
   ],
   "source": [
    "start = time.perf_counter()\n",
    "time.sleep(1)\n",
    "print(\"This took \" + str(time.perf_counter()-start) + \" seconds\")"
   ]
  },
  {
   "cell_type": "markdown",
   "metadata": {},
   "source": [
    "`time.process_time()` only measures the time the system is processing ie. ignoring the sleeping time. We can get a more accurate \n",
    "timing by substracting the processing time."
   ]
  },
  {
   "cell_type": "code",
   "execution_count": 41,
   "metadata": {},
   "outputs": [
    {
     "name": "stdout",
     "output_type": "stream",
     "text": [
      "This took 0.9997030180042188 seconds\n"
     ]
    }
   ],
   "source": [
    "import time\n",
    "start_p = time.process_time()\n",
    "start = time.perf_counter()\n",
    "time.sleep(1)\n",
    "end_p = time.process_time()\n",
    "end = time.perf_counter()\n",
    "print(\"This took \" + str((end-start)-(end_p-start_p)) + \" seconds\")"
   ]
  },
  {
   "cell_type": "markdown",
   "metadata": {},
   "source": [
    "### Expyriment and timing"
   ]
  },
  {
   "cell_type": "markdown",
   "metadata": {},
   "source": [
    "Expyriment's measurement of response times **allegedly** automatically uses the most accurate timers available.  \n",
    "Further, expyriment provides its own stopwatch (```exp.clock```), that **should be used at all times in an experiment.**   \n",
    "To quote their paper: ```\"Since Python wraps C functions for getting the system time, the accuracy is even more precise than milliseconds (which is the unit Expyriment uses).\"```"
   ]
  },
  {
   "cell_type": "code",
   "execution_count": 42,
   "metadata": {},
   "outputs": [
    {
     "name": "stdout",
     "output_type": "stream",
     "text": [
      "*** DEVELOP MODE ***\n"
     ]
    }
   ],
   "source": [
    "from expyriment import design, control, stimuli, misc\n",
    "control.set_develop_mode(True)\n",
    "used_exp_names = []\n",
    "\n",
    "class StimuliDemo:\n",
    "    \n",
    "    def get_name(self, name):\n",
    "        global used_exp_names\n",
    "        used_name = name; i = 0\n",
    "        while used_name in used_exp_names:\n",
    "            used_name = name+str(i)\n",
    "            i += 1\n",
    "        used_exp_names.append(used_name)\n",
    "        return used_name\n",
    "    \n",
    "    def __init__(self, name):\n",
    "        exp = design.Experiment(name=self.get_name(name))\n",
    "        control.initialize(exp)\n",
    "        self.exp = exp\n",
    "\n",
    "    def __enter__(self):\n",
    "        control.start()\n",
    "        return self.exp\n",
    "\n",
    "    def __exit__(self, *args):\n",
    "        control.end()"
   ]
  },
  {
   "cell_type": "code",
   "execution_count": 43,
   "metadata": {},
   "outputs": [
    {
     "name": "stdout",
     "output_type": "stream",
     "text": [
      "Standard output and error logging is switched off under IPython.\n"
     ]
    }
   ],
   "source": [
    "with StimuliDemo(\"Experiment\") as exp:    \n",
    "    target = stimuli.TextLine(text=\"I am a text!\", text_size=80)\n",
    "    target.preload()\n",
    "    target.present()\n",
    "    exp.clock.wait(500)"
   ]
  },
  {
   "cell_type": "markdown",
   "metadata": {},
   "source": [
    "It is important to know if expyriment presents stimuli accurately on time.\n",
    "\n",
    "Expyriment **allegedly** synchronizes visual stimulus presentation to the refresh rate of the display $\\rightarrow$ time a stimulus is allgedly presented is the one you actually see it!\n",
    "* Pygame doesn't do that, which is why it has several milliseconds uncertainty!\n",
    "* video latency is **allegedly** 0 ms (17ms max update interval on 60hz screen)\n",
    "* audio latency is **allegedly** between 15 and 20 ms\n",
    "* serial port latency <1ms\n",
    "* in a benchmark (automatic reaction to stimulus), the response time was reliably under 2ms for visual, and under 20ms (and stable) for auditory stimuli.\n"
   ]
  },
  {
   "cell_type": "markdown",
   "metadata": {},
   "source": [
    "To make sure that stimuli are also accurately presented precisely on time, the ```preload()``` and ```present()```-methods return the number of milliseconds they took - so you can (and should!) use this time to subtract it from other waiting times!"
   ]
  },
  {
   "cell_type": "code",
   "execution_count": 37,
   "metadata": {},
   "outputs": [
    {
     "name": "stdout",
     "output_type": "stream",
     "text": [
      "Standard output and error logging is switched off under IPython.\n"
     ]
    }
   ],
   "source": [
    "letters = list(\"ABCDE\")\n",
    "with StimuliDemo(\"Experiment\") as exp:   \n",
    "    for letter in letters:\n",
    "        target = stimuli.TextLine(text=letter, text_size=80)\n",
    "        exp.clock.wait(500 - stimuli.FixCross().present() - target.preload())\n",
    "        target.present()\n",
    "        exp.clock.wait(1000)\n",
    "        exp.clock.wait(1000 - stimuli.BlankScreen().present() - target.unload())"
   ]
  },
  {
   "cell_type": "markdown",
   "metadata": {},
   "source": [
    "### Recent findings and PsychoPy"
   ]
  },
  {
   "cell_type": "markdown",
   "metadata": {},
   "source": [
    "According to a new paper from the developers of PsychoPy ([https://psyarxiv.com/d6nu5/](https://psyarxiv.com/d6nu5/)), in which they measured variability and lag of stimulus presentation as well as response logging, Expyriment is really imprecise when it comes to timing:"
   ]
  },
  {
   "cell_type": "markdown",
   "metadata": {},
   "source": [
    "![](figures/timing_study.png)"
   ]
  },
  {
   "cell_type": "markdown",
   "metadata": {},
   "source": [
    "There are several things this study points out when it comes to timing:\n",
    "* \"Expyriment’s stimulus presentation and response monitoring is built up on the Pygame Python library, which has not been optimized for low-latency, high-precision timing. We would not recommend the use of this package where precise stimulus/response timing is required.\"\n",
    "    * PsychoPy stopped using Pygame as a default backend\n",
    "* Using a USB-Keyboard to measure response time (instead of a high-precision button-box) adds another 20-40ms of delay\n",
    "* Often, especially in Expyriment, a stimulus is shown for 1 extra screen-update-frame (which, at 60hz, is 16.7ms)\n",
    "* Expyriment's audio-presentation is incredibly imprrecise\n",
    "* The further down on a monitor you present a stimulus, the more lag it has (up to, again, 16.7ms after upper ones)\n",
    "* Monitors sometimes have seconds that add lag (make sure to select gaming-settings, as they are generally the fastest)\n",
    "* Operating systems can add extra-lag \n",
    "    * Windows 10 adds a 1-frame-lag (16.7ms) if you turn on screen scaling\n",
    "    * Mac is the worst in Timing\n",
    "* *\"It should be noted that substantial timing improvements were made to [Psychopy] in the 2020.1 release\"*\n",
    "    * You wouldn't use `core.wait()` in Psychopy if precise timing is important, as you'll probably overshoot by 1 frame. \n",
    "    * PsychoPy allows you to present a stimulus for acertian number of screen refreshes instead which is better for short stimuli.\n",
    "    * PsychoPy has several settings to make sure you'll get the most precise timing! Take [the paper](https://psyarxiv.com/d6nu5/) as reference!"
   ]
  },
  {
   "cell_type": "code",
   "execution_count": 46,
   "metadata": {},
   "outputs": [],
   "source": [
    "from psychopy import core\n",
    "# We can have as many timers as we like and reset them at any time during the experiment, \n",
    "# for example one for the experiment and one for the trials\n",
    "globalClock = core.Clock()\n",
    "trialClock = core.Clock()"
   ]
  },
  {
   "cell_type": "code",
   "execution_count": 38,
   "metadata": {},
   "outputs": [
    {
     "data": {
      "text/html": [
       "\n",
       "        <iframe\n",
       "            width=\"100%\"\n",
       "            height=\"800\"\n",
       "            src=\"https://www.psychopy.org/api/clock.html\"\n",
       "            frameborder=\"0\"\n",
       "            allowfullscreen\n",
       "        ></iframe>\n",
       "        "
      ],
      "text/plain": [
       "<IPython.lib.display.IFrame at 0x7f07b2e8d6d8>"
      ]
     },
     "execution_count": 38,
     "metadata": {},
     "output_type": "execute_result"
    }
   ],
   "source": [
    "from IPython.display import IFrame\n",
    "\n",
    "IFrame(\n",
    "    \"https://www.psychopy.org/api/clock.html\",\n",
    "    width=\"100%\",\n",
    "    height=800,\n",
    ")"
   ]
  },
  {
   "cell_type": "markdown",
   "metadata": {},
   "source": [
    "## Data logging\n",
    "\n",
    "Both Expyriment and PschoPy provide the possibility to log everything that's happening throughout the experiment.  \n",
    "Further, both libraries actually log to *two files*, one of which is a full log containing everything that could be remotely relevant, the other basically containing only what you want it to."
   ]
  },
  {
   "cell_type": "markdown",
   "metadata": {},
   "source": [
    "### Expyriment"
   ]
  },
  {
   "cell_type": "markdown",
   "metadata": {},
   "source": [
    "After the experiment ended using control.end(), two files will automatically be saved: \n",
    "* An event log file (```events/name_vpnr_timestamp.xpe```) that contains an automatic history of all events: \n",
    "  * A detailed description of experimental design (including a complete listing of trials)\n",
    "  * Stimulus presentation and expected IO events and device communications\n",
    "  * Upon selection even more (all screen operations, full serial port communication, ...)\n",
    "* A data file (```data/name_vpnr_timestamp.xpd```), containing what was manually saved during the experiment\n",
    "\n",
    "Both files are *commented* csv-files and can be inspected with most csv-viewers (and with pandas, when explicitly skipping the commented rows!)\n",
    "\n",
    "To add something to the data-file, you use the ```exp.data``` attribute.  \n",
    "Before ```control.start()```, you can add the column names via:  \n",
    "```exp.data_variable_names = [\"name1\", \"name\"]```  \n",
    "Adding variables happens using \n",
    "```exp.data.add([value1, value2])```"
   ]
  },
  {
   "cell_type": "code",
   "execution_count": 47,
   "metadata": {},
   "outputs": [],
   "source": [
    "import os\n",
    "os.chdir('../expyriment')"
   ]
  },
  {
   "cell_type": "code",
   "execution_count": 50,
   "metadata": {},
   "outputs": [
    {
     "name": "stdout",
     "output_type": "stream",
     "text": [
      "*** DEVELOP MODE ***\n",
      "Standard output and error logging is switched off under IPython.\n"
     ]
    },
    {
     "data": {
      "text/plain": [
       "True"
      ]
     },
     "execution_count": 50,
     "metadata": {},
     "output_type": "execute_result"
    }
   ],
   "source": [
    "# %load responsetime.py\n",
    "# here we have to run the script because output logging does not work with ipython\n",
    "assert '__file__' in locals() #to make sure to not run this inside Jupyter\n",
    "\n",
    "from expyriment import design, control, stimuli, misc, io\n",
    "import random\n",
    "control.set_develop_mode(True)\n",
    "\n",
    "exp = design.Experiment(name=\"My Experiment\")\n",
    "control.initialize(exp)\n",
    "\n",
    "fixcross = stimuli.FixCross()\n",
    "fixcross.preload()\n",
    "blankscreen = stimuli.BlankScreen()\n",
    "blankscreen.preload()\n",
    "\n",
    "b = design.Block(name=\"Only Block\")\n",
    "for i in range(5):\n",
    "    waiting_time = random.randint(200, 2000)\n",
    "    t = design.Trial()\n",
    "    t.set_factor(\"waiting_time\", waiting_time)\n",
    "    s = stimuli.Circle(50)\n",
    "    t.add_stimulus(s)\n",
    "    b.add_trial(t)\n",
    "exp.add_block(b)\n",
    "    \n",
    "    \n",
    "exp.data_variable_names = [\"Waiting Time\", \"Response Time\"]\n",
    "   \n",
    "control.start()\n",
    "\n",
    "for block in exp.blocks:\n",
    "    for trial in block.trials:\n",
    "        fixcross.present()\n",
    "        exp.clock.wait(trial.get_factor(\"waiting_time\") - trial.stimuli[0].preload())\n",
    "        trial.stimuli[0].present() \n",
    "        button, rt = exp.keyboard.wait(keys=[misc.constants.K_SPACE])\n",
    "        exp.data.add([trial.get_factor(\"waiting_time\"), rt])\n",
    "        \n",
    "            \n",
    "control.end()            "
   ]
  },
  {
   "cell_type": "code",
   "execution_count": 55,
   "metadata": {},
   "outputs": [
    {
     "name": "stdout",
     "output_type": "stream",
     "text": [
      "*** DEVELOP MODE ***\n",
      "Standard output and error logging is switched off under IPython.\n"
     ]
    }
   ],
   "source": [
    "%run responsetime.py"
   ]
  },
  {
   "cell_type": "code",
   "execution_count": 56,
   "metadata": {},
   "outputs": [
    {
     "name": "stdout",
     "output_type": "stream",
     "text": [
      "#Expyriment 0.10.0 (Python 3.6.13), .xpd-file, coding: UTF-8\n",
      "#date: Sat Jun 26 2021 18:17:24\n",
      "#--EXPERIMENT INFO\n",
      "#e mainfile: responsetime.py\n",
      "#e sha1: None\n",
      "#e modules: \n",
      "#e Experiment: My Experiment\n",
      "#e no between subject factors\n",
      "#e Block 0: Only Block\n",
      "#e     block factors: \n",
      "#e     n trials: 5\n",
      "#e     trial factors: waiting_time = [1384, 1571, 211, 491, 851]\n",
      "#e                    \n",
      "#--SUBJECT INFO\n",
      "#s id: 1\n",
      "subject_id,Waiting Time,Response Time\n",
      "1,851,285\n",
      "1,211,487\n",
      "1,491,329\n",
      "1,1384,312\n",
      "1,1571,299\n"
     ]
    }
   ],
   "source": [
    "%cat data/responsetime_01.xpd"
   ]
  },
  {
   "cell_type": "code",
   "execution_count": 57,
   "metadata": {},
   "outputs": [
    {
     "name": "stdout",
     "output_type": "stream",
     "text": [
      "#Expyriment 0.10.0 (Python 3.6.13), .xpe-file, coding: UTF-8\n",
      "#date: Sat Jun 26 2021 18:17:24\n",
      "#sha1: None\n",
      "#modules: \n",
      "#display: size=(800, 600), window_mode=True, open_gl=2\n",
      "#os: uname_result(system='Linux', node='nion-ThinkPad-E470', release='5.4.0-77-generic', version='#86~18.04.1-Ubuntu SMP Fri Jun 18 01:23:22 UTC 2021', machine='x86_64', processor='x86_64')\n",
      "Time,Type,Event,Value,Detail,Detail2\n",
      "1672,design,log,\n",
      "#design: #exp: My Experiment\n",
      "#design: #dvn: Waiting Time,Response Time\n",
      "#design: block_cnt,block_id,trial_cnt,trial_id,waiting_time\n",
      "#design: 0,0,0,0,851\n",
      "#design: 0,0,1,1,211\n",
      "#design: 0,0,2,2,491\n",
      "#design: 0,0,3,3,1384\n",
      "#design: 0,0,4,4,1571\n",
      "1672,design,logged,\n",
      "1672,Experiment,started\n",
      "1673,Stimulus,presented,0\n",
      "2526,Stimulus,presented,2\n",
      "2812,Keyboard,received,32,wait\n",
      "2813,Stimulus,presented,0\n",
      "3024,Stimulus,presented,3\n",
      "3513,Keyboard,received,32,wait\n",
      "3513,Stimulus,presented,0\n",
      "4005,Stimulus,presented,4\n",
      "4336,Keyboard,received,32,wait\n",
      "4337,Stimulus,presented,0\n",
      "5721,Stimulus,presented,5\n",
      "6035,Keyboard,received,32,wait\n",
      "6036,Stimulus,presented,0\n",
      "7607,Stimulus,presented,6\n",
      "7908,Keyboard,received,32,wait\n",
      "7908,Experiment,ended\n"
     ]
    }
   ],
   "source": [
    "%cat events/responsetime_01.xpe"
   ]
  },
  {
   "cell_type": "code",
   "execution_count": 58,
   "metadata": {},
   "outputs": [
    {
     "data": {
      "text/html": [
       "<div>\n",
       "<style scoped>\n",
       "    .dataframe tbody tr th:only-of-type {\n",
       "        vertical-align: middle;\n",
       "    }\n",
       "\n",
       "    .dataframe tbody tr th {\n",
       "        vertical-align: top;\n",
       "    }\n",
       "\n",
       "    .dataframe thead th {\n",
       "        text-align: right;\n",
       "    }\n",
       "</style>\n",
       "<table border=\"1\" class=\"dataframe\">\n",
       "  <thead>\n",
       "    <tr style=\"text-align: right;\">\n",
       "      <th></th>\n",
       "      <th>Time</th>\n",
       "      <th>Type</th>\n",
       "      <th>Event</th>\n",
       "      <th>Value</th>\n",
       "      <th>Detail</th>\n",
       "      <th>Detail2</th>\n",
       "    </tr>\n",
       "  </thead>\n",
       "  <tbody>\n",
       "    <tr>\n",
       "      <th>0</th>\n",
       "      <td>1672</td>\n",
       "      <td>design</td>\n",
       "      <td>log</td>\n",
       "      <td>NaN</td>\n",
       "      <td>NaN</td>\n",
       "      <td>NaN</td>\n",
       "    </tr>\n",
       "    <tr>\n",
       "      <th>1</th>\n",
       "      <td>1672</td>\n",
       "      <td>design</td>\n",
       "      <td>logged</td>\n",
       "      <td>NaN</td>\n",
       "      <td>NaN</td>\n",
       "      <td>NaN</td>\n",
       "    </tr>\n",
       "    <tr>\n",
       "      <th>2</th>\n",
       "      <td>1672</td>\n",
       "      <td>Experiment</td>\n",
       "      <td>started</td>\n",
       "      <td>NaN</td>\n",
       "      <td>NaN</td>\n",
       "      <td>NaN</td>\n",
       "    </tr>\n",
       "    <tr>\n",
       "      <th>3</th>\n",
       "      <td>1673</td>\n",
       "      <td>Stimulus</td>\n",
       "      <td>presented</td>\n",
       "      <td>0.0</td>\n",
       "      <td>NaN</td>\n",
       "      <td>NaN</td>\n",
       "    </tr>\n",
       "    <tr>\n",
       "      <th>4</th>\n",
       "      <td>2526</td>\n",
       "      <td>Stimulus</td>\n",
       "      <td>presented</td>\n",
       "      <td>2.0</td>\n",
       "      <td>NaN</td>\n",
       "      <td>NaN</td>\n",
       "    </tr>\n",
       "  </tbody>\n",
       "</table>\n",
       "</div>"
      ],
      "text/plain": [
       "   Time        Type      Event  Value Detail  Detail2\n",
       "0  1672      design        log    NaN    NaN      NaN\n",
       "1  1672      design     logged    NaN    NaN      NaN\n",
       "2  1672  Experiment    started    NaN    NaN      NaN\n",
       "3  1673    Stimulus  presented    0.0    NaN      NaN\n",
       "4  2526    Stimulus  presented    2.0    NaN      NaN"
      ]
     },
     "execution_count": 58,
     "metadata": {},
     "output_type": "execute_result"
    }
   ],
   "source": [
    "pd.read_csv(\"events/responsetime_01.xpe\", comment='#').head()"
   ]
  },
  {
   "cell_type": "code",
   "execution_count": 59,
   "metadata": {},
   "outputs": [
    {
     "data": {
      "text/html": [
       "<div>\n",
       "<style scoped>\n",
       "    .dataframe tbody tr th:only-of-type {\n",
       "        vertical-align: middle;\n",
       "    }\n",
       "\n",
       "    .dataframe tbody tr th {\n",
       "        vertical-align: top;\n",
       "    }\n",
       "\n",
       "    .dataframe thead th {\n",
       "        text-align: right;\n",
       "    }\n",
       "</style>\n",
       "<table border=\"1\" class=\"dataframe\">\n",
       "  <thead>\n",
       "    <tr style=\"text-align: right;\">\n",
       "      <th></th>\n",
       "      <th>subject_id</th>\n",
       "      <th>Waiting Time</th>\n",
       "      <th>Response Time</th>\n",
       "    </tr>\n",
       "  </thead>\n",
       "  <tbody>\n",
       "    <tr>\n",
       "      <th>0</th>\n",
       "      <td>1</td>\n",
       "      <td>851</td>\n",
       "      <td>285</td>\n",
       "    </tr>\n",
       "    <tr>\n",
       "      <th>1</th>\n",
       "      <td>1</td>\n",
       "      <td>211</td>\n",
       "      <td>487</td>\n",
       "    </tr>\n",
       "    <tr>\n",
       "      <th>2</th>\n",
       "      <td>1</td>\n",
       "      <td>491</td>\n",
       "      <td>329</td>\n",
       "    </tr>\n",
       "    <tr>\n",
       "      <th>3</th>\n",
       "      <td>1</td>\n",
       "      <td>1384</td>\n",
       "      <td>312</td>\n",
       "    </tr>\n",
       "    <tr>\n",
       "      <th>4</th>\n",
       "      <td>1</td>\n",
       "      <td>1571</td>\n",
       "      <td>299</td>\n",
       "    </tr>\n",
       "  </tbody>\n",
       "</table>\n",
       "</div>"
      ],
      "text/plain": [
       "   subject_id  Waiting Time  Response Time\n",
       "0           1           851            285\n",
       "1           1           211            487\n",
       "2           1           491            329\n",
       "3           1          1384            312\n",
       "4           1          1571            299"
      ]
     },
     "execution_count": 59,
     "metadata": {},
     "output_type": "execute_result"
    }
   ],
   "source": [
    "pd.read_csv(\"data/responsetime_01.xpd\", comment='#').head()"
   ]
  },
  {
   "cell_type": "markdown",
   "metadata": {},
   "source": [
    "### PsychoPy"
   ]
  },
  {
   "cell_type": "code",
   "execution_count": 60,
   "metadata": {},
   "outputs": [],
   "source": [
    "import os\n",
    "os.chdir('../psychopy')"
   ]
  },
  {
   "cell_type": "markdown",
   "metadata": {},
   "source": [
    "#### Full log"
   ]
  },
  {
   "cell_type": "markdown",
   "metadata": {},
   "source": [
    "PsychoPy extends Pythons own [*logging*](https://docs.python.org/3/library/logging.html) module [(how to log)](https://docs.python.org/3/howto/logging.html) to do the *full log*.  PsychoPy uses this to, for example, log the time after program execution instead of the actual date, and adds two logging-level `DATA` and `EXP` (between WARNING and INFO)\n",
    "  \n",
    "[https://www.psychopy.org/api/logging.html](https://www.psychopy.org/api/logging.html)\n"
   ]
  },
  {
   "cell_type": "markdown",
   "metadata": {},
   "source": [
    "#### Tabular log"
   ]
  },
  {
   "cell_type": "markdown",
   "metadata": {},
   "source": [
    "To create the tabular log, PsychoPy provides the [`psychopy.data`](https://www.psychopy.org/api/data.html) submodule, which contains the `ExperimentHandler`.\n",
    "\n",
    "The `ExperimentHandler` provides the method `addData(key, val)` which allows to add a key-value-pair. The data is saved as Pandas-Style tabular data, meaning that a key can have several values (and normally has one for each trial). When `ExperimentHandler`s `nextEntry()` is called, the handler will go over to the next row. Not every key has to have a value in every single row, such that it's possible to write some general information into the first row of the resulting file.\n",
    "```\n",
    "# add some data for this trial\n",
    "exp.addData('resp.rt', 0.8)\n",
    "exp.addData('resp.key', 'k')\n",
    "# end of trial - move to next line in data output\n",
    "exp.nextEntry()\n",
    "```\n",
    "\n",
    "Further, you can add multiple `TrialHandler`s or `StairHandler`s (or more) to one `ExperimentHandler` using it's `addLoop` method. Every `Handler` also has the `addData` method. \n",
    "The `nextEntry()` only exists for the experiment handler.\n",
    "\n",
    "Normally you use the `ExperimentHandler` to create a single data file from an experiment with many different loops.\n",
    "Here I just show a toy example with one trial handler."
   ]
  },
  {
   "cell_type": "markdown",
   "metadata": {},
   "source": [
    "Furthermore, you can easily save an experiment to using [pickle](https://docs.python.org/3/library/pickle.html). PsychoPy uses the standard that it names this serialized Experiments `name.psydat`. The Experiment handler will do this on default."
   ]
  },
  {
   "cell_type": "code",
   "execution_count": 83,
   "metadata": {},
   "outputs": [
    {
     "ename": "AssertionError",
     "evalue": "",
     "output_type": "error",
     "traceback": [
      "\u001b[0;31m---------------------------------------------------------------------------\u001b[0m",
      "\u001b[0;31mAssertionError\u001b[0m                            Traceback (most recent call last)",
      "\u001b[0;32m<ipython-input-83-3b2be5f83854>\u001b[0m in \u001b[0;36m<module>\u001b[0;34m\u001b[0m\n\u001b[1;32m      1\u001b[0m \u001b[0;31m# %load psychopy_7.py\u001b[0m\u001b[0;34m\u001b[0m\u001b[0;34m\u001b[0m\u001b[0;34m\u001b[0m\u001b[0m\n\u001b[0;32m----> 2\u001b[0;31m \u001b[0;32massert\u001b[0m \u001b[0;34m'__file__'\u001b[0m \u001b[0;32min\u001b[0m \u001b[0mlocals\u001b[0m\u001b[0;34m(\u001b[0m\u001b[0;34m)\u001b[0m \u001b[0;31m#to make sure to not run this inside Jupyter\u001b[0m\u001b[0;34m\u001b[0m\u001b[0;34m\u001b[0m\u001b[0m\n\u001b[0m\u001b[1;32m      3\u001b[0m \u001b[0;32mimport\u001b[0m \u001b[0mpsychopy\u001b[0m\u001b[0;34m\u001b[0m\u001b[0;34m\u001b[0m\u001b[0m\n\u001b[1;32m      4\u001b[0m \u001b[0;32mfrom\u001b[0m \u001b[0mpsychopy\u001b[0m \u001b[0;32mimport\u001b[0m \u001b[0mvisual\u001b[0m\u001b[0;34m,\u001b[0m \u001b[0mevent\u001b[0m\u001b[0;34m,\u001b[0m \u001b[0mcore\u001b[0m\u001b[0;34m,\u001b[0m \u001b[0mdata\u001b[0m\u001b[0;34m,\u001b[0m \u001b[0mlogging\u001b[0m\u001b[0;34m,\u001b[0m \u001b[0mgui\u001b[0m\u001b[0;34m\u001b[0m\u001b[0;34m\u001b[0m\u001b[0m\n\u001b[1;32m      5\u001b[0m \u001b[0;34m\u001b[0m\u001b[0m\n",
      "\u001b[0;31mAssertionError\u001b[0m: "
     ]
    }
   ],
   "source": [
    "# %load psychopy_7.py\n",
    "assert '__file__' in locals()  # to make sure to not run this inside Jupyter\n",
    "import psychopy\n",
    "from psychopy import visual, event, core, data, logging, gui\n",
    "\n",
    "# Store info about the experiment session\n",
    "psychopyVersion = psychopy.__version__\n",
    "expName = 'myexperiment'\n",
    "expInfo = {'participant': '', 'session': '001'}\n",
    "dlg = gui.DlgFromDict(dictionary=expInfo, sortKeys=False, title=expName)\n",
    "if not dlg.OK:\n",
    "    core.quit()  # user pressed cancel\n",
    "expInfo['date'] = data.getDateStr()  # add a simple timestamp\n",
    "expInfo['expName'] = expName\n",
    "expInfo['psychopyVersion'] = psychopyVersion\n",
    "\n",
    "# path for data file\n",
    "filename = 'data/%s_%s_%s' % (expInfo['participant'], expName, expInfo['date'])\n",
    "\n",
    "# store general experiment information in experiment handler\n",
    "thisExp = data.ExperimentHandler(name=expName, version='',\n",
    "                                 extraInfo=expInfo, runtimeInfo=None,\n",
    "                                 savePickle=True, saveWideText=True,\n",
    "                                 dataFileName=filename)\n",
    "\n",
    "# save a log file for detail verbose info\n",
    "logFile = logging.LogFile(filename + '.log', level=logging.EXP)\n",
    "logging.console.setLevel(logging.WARNING)  # this outputs to the screen, not a file\n",
    "\n",
    "mywin = visual.Window(size=[800, 600], monitor=\"testMonitor\", units=\"norm\", color=[255, 255, 255])\n",
    "fixation = visual.GratingStim(win=mywin, size=0.015, pos=[0, 0], sf=0, color=-1)\n",
    "grating = visual.GratingStim(win=mywin, mask=\"circle\", size=0.2, pos=[0, 0], sf=3)\n",
    "event.globalKeys.add(key='escape', func=core.quit)\n",
    "# we know that stuff...\n",
    "\n",
    "positions = [-1, -0.5, 0, 0.5, 1]\n",
    "\n",
    "# 1 repetition of all trials, in sequential order\n",
    "handler = data.TrialHandler(trialList=positions, nReps=1, method='sequential', extraInfo=expInfo)\n",
    "# add trial loop to experiment\n",
    "thisExp.addLoop(handler)\n",
    "# go through all trials as given by the TrialHandler\n",
    "for trial in handler:\n",
    "    # set grating stimulus to new position\n",
    "    grating.setPos([trial, 0])\n",
    "    fixation.draw()\n",
    "    grating.draw()\n",
    "    mywin.flip()\n",
    "    key = event.waitKeys()\n",
    "    # log data\n",
    "    handler.addData('key', key)\n",
    "    # move to next row\n",
    "    thisExp.nextEntry()"
   ]
  },
  {
   "cell_type": "code",
   "execution_count": 84,
   "metadata": {},
   "outputs": [],
   "source": [
    "!python psychopy_7.py"
   ]
  },
  {
   "cell_type": "code",
   "execution_count": 82,
   "metadata": {},
   "outputs": [
    {
     "data": {
      "text/html": [
       "<div>\n",
       "<style scoped>\n",
       "    .dataframe tbody tr th:only-of-type {\n",
       "        vertical-align: middle;\n",
       "    }\n",
       "\n",
       "    .dataframe tbody tr th {\n",
       "        vertical-align: top;\n",
       "    }\n",
       "\n",
       "    .dataframe thead th {\n",
       "        text-align: right;\n",
       "    }\n",
       "</style>\n",
       "<table border=\"1\" class=\"dataframe\">\n",
       "  <thead>\n",
       "    <tr style=\"text-align: right;\">\n",
       "      <th></th>\n",
       "      <th>.thisRepN</th>\n",
       "      <th>.thisTrialN</th>\n",
       "      <th>.thisN</th>\n",
       "      <th>.thisIndex</th>\n",
       "      <th>key</th>\n",
       "      <th>participant</th>\n",
       "      <th>session</th>\n",
       "      <th>date</th>\n",
       "      <th>expName</th>\n",
       "      <th>psychopyVersion</th>\n",
       "      <th>Unnamed: 10</th>\n",
       "    </tr>\n",
       "  </thead>\n",
       "  <tbody>\n",
       "    <tr>\n",
       "      <th>0</th>\n",
       "      <td>0</td>\n",
       "      <td>0</td>\n",
       "      <td>0</td>\n",
       "      <td>0</td>\n",
       "      <td>['space']</td>\n",
       "      <td>Nion</td>\n",
       "      <td>1</td>\n",
       "      <td>2021_Jun_27_1152</td>\n",
       "      <td>myexperiment</td>\n",
       "      <td>2021.1.4</td>\n",
       "      <td>NaN</td>\n",
       "    </tr>\n",
       "    <tr>\n",
       "      <th>1</th>\n",
       "      <td>0</td>\n",
       "      <td>1</td>\n",
       "      <td>1</td>\n",
       "      <td>1</td>\n",
       "      <td>['space']</td>\n",
       "      <td>Nion</td>\n",
       "      <td>1</td>\n",
       "      <td>2021_Jun_27_1152</td>\n",
       "      <td>myexperiment</td>\n",
       "      <td>2021.1.4</td>\n",
       "      <td>NaN</td>\n",
       "    </tr>\n",
       "    <tr>\n",
       "      <th>2</th>\n",
       "      <td>0</td>\n",
       "      <td>2</td>\n",
       "      <td>2</td>\n",
       "      <td>2</td>\n",
       "      <td>['space']</td>\n",
       "      <td>Nion</td>\n",
       "      <td>1</td>\n",
       "      <td>2021_Jun_27_1152</td>\n",
       "      <td>myexperiment</td>\n",
       "      <td>2021.1.4</td>\n",
       "      <td>NaN</td>\n",
       "    </tr>\n",
       "    <tr>\n",
       "      <th>3</th>\n",
       "      <td>0</td>\n",
       "      <td>3</td>\n",
       "      <td>3</td>\n",
       "      <td>3</td>\n",
       "      <td>['s']</td>\n",
       "      <td>Nion</td>\n",
       "      <td>1</td>\n",
       "      <td>2021_Jun_27_1152</td>\n",
       "      <td>myexperiment</td>\n",
       "      <td>2021.1.4</td>\n",
       "      <td>NaN</td>\n",
       "    </tr>\n",
       "    <tr>\n",
       "      <th>4</th>\n",
       "      <td>0</td>\n",
       "      <td>4</td>\n",
       "      <td>4</td>\n",
       "      <td>4</td>\n",
       "      <td>['l']</td>\n",
       "      <td>Nion</td>\n",
       "      <td>1</td>\n",
       "      <td>2021_Jun_27_1152</td>\n",
       "      <td>myexperiment</td>\n",
       "      <td>2021.1.4</td>\n",
       "      <td>NaN</td>\n",
       "    </tr>\n",
       "  </tbody>\n",
       "</table>\n",
       "</div>"
      ],
      "text/plain": [
       "   .thisRepN  .thisTrialN  .thisN  .thisIndex        key participant  session  \\\n",
       "0          0            0       0           0  ['space']        Nion        1   \n",
       "1          0            1       1           1  ['space']        Nion        1   \n",
       "2          0            2       2           2  ['space']        Nion        1   \n",
       "3          0            3       3           3      ['s']        Nion        1   \n",
       "4          0            4       4           4      ['l']        Nion        1   \n",
       "\n",
       "               date       expName psychopyVersion  Unnamed: 10  \n",
       "0  2021_Jun_27_1152  myexperiment        2021.1.4          NaN  \n",
       "1  2021_Jun_27_1152  myexperiment        2021.1.4          NaN  \n",
       "2  2021_Jun_27_1152  myexperiment        2021.1.4          NaN  \n",
       "3  2021_Jun_27_1152  myexperiment        2021.1.4          NaN  \n",
       "4  2021_Jun_27_1152  myexperiment        2021.1.4          NaN  "
      ]
     },
     "execution_count": 82,
     "metadata": {},
     "output_type": "execute_result"
    }
   ],
   "source": [
    "df = pd.read_csv('data/Nion_myexperiment_2021_Jun_27_1152.csv')\n",
    "df"
   ]
  },
  {
   "cell_type": "code",
   "execution_count": 86,
   "metadata": {},
   "outputs": [
    {
     "name": "stdout",
     "output_type": "stream",
     "text": [
      "6.5909 \tEXP \tCreated window1 = Window(allowGUI=True, allowStencil=False, autoLog=True, backendConf=UNKNOWN, bitsMode=UNKNOWN, blendMode='avg', bpc=(8, 8, 8), color=array([255, 255, 255]), colorSpace='rgb', depthBits=8, fullscr=<method-wrapper '__getattribute__' of attributeSetter object at 0x7f9b6d2d9ef0>, gamma=None, gammaErrorPolicy='raise', lms=UNKNOWN, monitor=<psychopy.monitors.calibTools.Monitor object at 0x7f9b65ae07b8>, multiSample=False, name='window1', numSamples=2, pos=[560.0, 240.0], screen=0, size=array([800, 600]), stencilBits=0, stereo=False, units='norm', useFBO=False, useRetina=False, viewOri=0.0, viewPos=None, viewScale=None, waitBlanking=True, winType='pyglet')\n",
      "6.5911 \tEXP \twindow1: mouseVisible = True\n",
      "6.5959 \tEXP \tCreated unnamed GratingStim = GratingStim(__class__=<class 'psychopy.visual.grating.GratingStim'>, autoDraw=False, autoLog=True, blendmode='avg', color=array([-1, -1, -1]), colorSpace='rgb', contrast=1.0, depth=0, interpolate=False, mask='none', maskParams=None, name='unnamed GratingStim', opacity=1, ori=0.0, phase=array([0., 0.]), pos=array([0., 0.]), rgbPedestal=array([0., 0., 0.]), sf=array([0., 0.]), size=array([0.015, 0.015]), tex='sin', texRes=128, units='norm', win=Window(...))\n",
      "6.5996 \tEXP \tCreated unnamed GratingStim = GratingStim(__class__=<class 'psychopy.visual.grating.GratingStim'>, autoDraw=False, autoLog=True, blendmode='avg', color=array([1., 1., 1.]), colorSpace='rgb', contrast=1.0, depth=0, interpolate=False, mask='circle', maskParams=None, name='unnamed GratingStim', opacity=1, ori=0.0, phase=array([0., 0.]), pos=array([0., 0.]), rgbPedestal=array([0., 0., 0.]), sf=array([3., 3.]), size=array([0.2, 0.2]), tex='sin', texRes=128, units='norm', win=Window(...))\n",
      "6.5997 \tEXP \tAdded new global key event: quit\n",
      "6.6001 \tEXP \tCreated sequence: sequential, trialTypes=5, nReps=1, seed=None\n",
      "6.7613 \tEXP \tNew trial (rep=0, index=0): -1\n",
      "6.7678 \tEXP \tunnamed GratingStim: pos = array([-1.,  0.])\n",
      "6.7678 \tEXP \tunnamed GratingStim: tex = 'sin'\n",
      "6.7678 \tEXP \tunnamed GratingStim: tex = 'sin'\n"
     ]
    }
   ],
   "source": [
    "%%bash\n",
    "head data/Nion_myexperiment_2021_Jun_27_1152.log"
   ]
  },
  {
   "cell_type": "markdown",
   "metadata": {},
   "source": [
    "# Putting it together\n",
    "\n",
    "Here you can have a look at a full experiemnt using the previously explained features.\n",
    "This is for you to look through on your own. "
   ]
  },
  {
   "cell_type": "markdown",
   "metadata": {},
   "source": [
    "## Expyriment: Simon-Task\n",
    "\n",
    "As first example, let's look at the code for an experiment testing the **Simon effect**, which says that reaction times are faster, and reactions more accurate, when the stimulus occurs in the same relative location as the response, even if the stimulus location is irrelevant to the task."
   ]
  },
  {
   "cell_type": "markdown",
   "metadata": {},
   "source": [
    "In two experimental tasks, participants have to respond to a rectangle on the screen, according to its color (red or green), by pressing the left or the right arrow key on the computer’s keyboard. Additionally, the position of the rectangles can be either left or right. Each trial will start with the presentation of a fixation cross for 500 ms, ollowed by the rectangle that will remain on the display until a response is given. Between trials, a blank screen is shown for 3,000 ms. Each block will contain 128 trials in random order. The two tasks will differ only in the mapping of responses (i.e., which button to press for which color), which will be shown to the participant as a brief  nstruction at the beginning of each block. The order of tasks will be counterb alanced over participants. The experiment has a 2×2×2×2 factorial design, with the within-subjects  actors Color (red, green), Position (left, right), and Task (left = green, left = red), as well as the between-subjects factor Task Order (left = green first,left = red first). (From the [paper](https://link.springer.com/article/10.3758%2Fs13428-013-0390-6))"
   ]
  },
  {
   "cell_type": "code",
   "execution_count": 70,
   "metadata": {},
   "outputs": [],
   "source": [
    "import os\n",
    "os.chdir('../expyriment')"
   ]
  },
  {
   "cell_type": "code",
   "execution_count": null,
   "metadata": {},
   "outputs": [],
   "source": [
    "from expyriment import design, control, stimuli, io, misc\n",
    "control.set_develop_mode(False)\n",
    "io.defaults.outputfile_time_stamp = False\n",
    "\n",
    "# Create and initialize an Experiment\n",
    "exp = design.Experiment(\"Simon Task\")\n",
    "control.initialize(exp)\n",
    "\n",
    "# Define and preload standard stimuli\n",
    "fixcross = stimuli.FixCross()\n",
    "fixcross.preload()\n",
    "blankscreen = stimuli.BlankScreen()\n",
    "blankscreen.preload()\n",
    "# left and right arrow keys for responses\n",
    "response_keys = [misc.constants.K_LEFT, misc.constants.K_RIGHT]\n",
    "\n",
    "# Create design\n",
    "for mapping in [\"left=green\", \"left=red\"]:\n",
    "    b = design.Block()\n",
    "    b.set_factor(\"Mapping\", mapping)\n",
    "    for where in [[\"left\", -300], [\"right\", 300]]:\n",
    "        for what in [[\"red\", misc.constants.C_RED],\n",
    "                     [\"green\", misc.constants.C_GREEN]]:\n",
    "            t = design.Trial()\n",
    "            t.set_factor(\"Position\", where[0])\n",
    "            t.set_factor(\"Colour\", what[0])\n",
    "            s = stimuli.Rectangle([50, 50], position=[where[1], 0], colour=what[1])\n",
    "            t.add_stimulus(s)\n",
    "            b.add_trial(t, copies=2)\n",
    "    b.shuffle_trials()\n",
    "    exp.add_block(b)\n",
    "    \n",
    "exp.add_bws_factor(\"TaskOrder\",[\"left=green first\",\"left=red first\"])\n",
    "exp.data_variable_names = [\"Mapping\", \"Colour\", \"Position\", \"Button\", \"RT\"]\n",
    "exp.save_design('simon_design.csv')\n",
    "\n",
    "# Start Experiment\n",
    "control.start()\n",
    "if exp.get_permuted_bws_factor_condition(\"TaskOrder\") == \"left=red first\":\n",
    "    exp.swap_blocks(0,1)\n",
    "    \n",
    "for block in exp.blocks:\n",
    "    stimuli.TextScreen(\"Instructions\", block.get_factor(\"Mapping\")).present()\n",
    "    exp.keyboard.wait()\n",
    "    for trial in block.trials:\n",
    "        fixcross.present()\n",
    "        exp.clock.wait(1000 - trial.stimuli[0].preload())\n",
    "        trial.stimuli[0].present()\n",
    "        button, rt = exp.keyboard.wait(keys=response_keys)\n",
    "        exp.data.add([block.get_factor(\"Mapping\"), trial.get_factor(\"Colour\"), trial.get_factor(\"Position\"), button, rt])\n",
    "\n",
    "# End Experiment\n",
    "control.end(goodbye_text=\"Thank you for participating!\")\n",
    "exp.save_design('simon_design_subject'+str(exp.subject)+'.csv')"
   ]
  },
  {
   "cell_type": "code",
   "execution_count": 71,
   "metadata": {},
   "outputs": [
    {
     "name": "stdout",
     "output_type": "stream",
     "text": [
      "# -*- coding: UTF-8 -*-\n",
      "#exp: Simon Task\n",
      "#bws: TaskOrder=left=green first,left=red first\n",
      "#bws-rand: 0\n",
      "#dvn: Mapping,Colour,Position,Button,RT\n",
      "block_cnt,block_id,block_Mapping,trial_cnt,trial_id,Colour,Position\n",
      "0,0,left=green,0,5,red,right\n",
      "0,0,left=green,1,3,green,left\n",
      "0,0,left=green,2,6,green,right\n",
      "0,0,left=green,3,4,red,right\n",
      "0,0,left=green,4,1,red,left\n",
      "0,0,left=green,5,7,green,right\n",
      "0,0,left=green,6,0,red,left\n",
      "0,0,left=green,7,2,green,left\n",
      "1,1,left=red,0,7,green,right\n",
      "1,1,left=red,1,6,green,right\n",
      "1,1,left=red,2,4,red,right\n",
      "1,1,left=red,3,1,red,left\n",
      "1,1,left=red,4,0,red,left\n",
      "1,1,left=red,5,3,green,left\n",
      "1,1,left=red,6,2,green,left\n",
      "1,1,left=red,7,5,red,right"
     ]
    }
   ],
   "source": [
    "%cat simon_design.csv"
   ]
  },
  {
   "cell_type": "code",
   "execution_count": 74,
   "metadata": {},
   "outputs": [
    {
     "name": "stdout",
     "output_type": "stream",
     "text": [
      "*** DEVELOP MODE ***\n",
      "Standard output and error logging is switched off under IPython.\n"
     ]
    }
   ],
   "source": [
    "%run simon_task_short.py"
   ]
  },
  {
   "cell_type": "markdown",
   "metadata": {},
   "source": [
    "## Full Psychopy-JND code\n",
    "\n",
    "In the above example for measuring the *Just Notifiable Difference* for the angle of a grating stimulus, we didn't do any data logging and stripped the PsychoPy-[Tutorial](https://www.psychopy.org/coder/tutorial2.html) a bit, so here's the full code of that. Note however that the logging here is done manually, probably to dumb down the example a bit. I'd definitely recommend to use the logging from PsychoPy!\n",
    "For an explanation of this code, see https://www.psychopy.org/coder/tutorial2.html"
   ]
  },
  {
   "cell_type": "code",
   "execution_count": 87,
   "metadata": {},
   "outputs": [],
   "source": [
    "import os\n",
    "os.chdir('../psychopy')"
   ]
  },
  {
   "cell_type": "code",
   "execution_count": 48,
   "metadata": {
    "scrolled": true
   },
   "outputs": [],
   "source": [
    "# %load psychopy_6_jnd2.py\n",
    "\"\"\"measure your JND in orientation using a staircase method\"\"\"\n",
    "\n",
    "assert '__file__' in locals() #to make sure to not run this inside Jupyter\n",
    "\n",
    "# explanation https://www.psychopy.org/coder/tutorial2.html\n",
    "# code https://raw.githubusercontent.com/psychopy/psychopy/master/docs/source/coder/tutorial2.py\n",
    "\n",
    "\n",
    "from psychopy import core, visual, gui, data, event\n",
    "from psychopy.tools.filetools import fromFile, toFile\n",
    "import numpy, random\n",
    "\n",
    "try:  # try to get a previous parameters file\n",
    "    expInfo = fromFile('lastParams.pickle')\n",
    "except:  # if not there then use a default set\n",
    "    expInfo = {'observer':'jwp', 'refOrientation':0}\n",
    "expInfo['dateStr'] = data.getDateStr()  # add the current time\n",
    "# present a dialogue to change params\n",
    "dlg = gui.DlgFromDict(expInfo, title='simple JND Exp', fixed=['dateStr'])\n",
    "if dlg.OK:\n",
    "    toFile('lastParams.pickle', expInfo)  # save params to file for next time\n",
    "else:\n",
    "    core.quit()  # the user hit cancel so exit\n",
    "\n",
    "# make a text file to save data\n",
    "fileName = expInfo['observer'] + expInfo['dateStr']\n",
    "dataFile = open(fileName+'.csv', 'w')  # a simple text file with 'comma-separated-values'\n",
    "dataFile.write('targetSide,oriIncrement,correct\\n')\n",
    "\n",
    "# create the staircase handler\n",
    "staircase = data.StairHandler(startVal = 20.0,\n",
    "                          stepType = 'db', stepSizes=[8,4,4,2],\n",
    "                          nUp=1, nDown=3,  # will home in on the 80% threshold\n",
    "                          nTrials=1)\n",
    "\n",
    "# create window and stimuli\n",
    "win = visual.Window([800,600],allowGUI=True,\n",
    "                    monitor='testMonitor', units='deg')\n",
    "foil = visual.GratingStim(win, sf=1, size=4, mask='gauss',\n",
    "                          ori=expInfo['refOrientation'])\n",
    "target = visual.GratingStim(win, sf=1, size=4, mask='gauss',\n",
    "                            ori=expInfo['refOrientation'])\n",
    "fixation = visual.GratingStim(win, color=-1, colorSpace='rgb',\n",
    "                              tex=None, mask='circle', size=0.2)\n",
    "# and some handy clocks to keep track of time\n",
    "globalClock = core.Clock()\n",
    "trialClock = core.Clock()\n",
    "\n",
    "# display instructions and wait\n",
    "message1 = visual.TextStim(win, pos=[0,+3],text='Hit a key when ready.')\n",
    "message2 = visual.TextStim(win, pos=[0,-3],\n",
    "    text=\"Then press left or right to identify the %.1f deg probe.\" %expInfo['refOrientation'])\n",
    "message1.draw()\n",
    "message2.draw()\n",
    "fixation.draw()\n",
    "win.flip()#to show our newly drawn 'stimuli'\n",
    "#pause until there's a keypress\n",
    "event.waitKeys()\n",
    "\n",
    "for thisIncrement in staircase:  # will continue the staircase until it terminates!\n",
    "    # set location of stimuli\n",
    "    targetSide= random.choice([-1,1])  # will be either +1(right) or -1(left)\n",
    "    foil.setPos([-5*targetSide, 0])\n",
    "    target.setPos([5*targetSide, 0])  # in other location\n",
    "\n",
    "    # set orientation of probe\n",
    "    foil.setOri(expInfo['refOrientation'] + thisIncrement)\n",
    "\n",
    "    # draw all stimuli\n",
    "    foil.draw()\n",
    "    target.draw()\n",
    "    fixation.draw()\n",
    "    win.flip()\n",
    "\n",
    "    # wait 500ms; but use a loop of x frames for more accurate timing\n",
    "    core.wait(0.5)\n",
    "\n",
    "    # blank screen\n",
    "    fixation.draw()\n",
    "    win.flip()\n",
    "\n",
    "    # get response\n",
    "    thisResp=None\n",
    "    while thisResp==None:\n",
    "        allKeys=event.waitKeys()\n",
    "        for thisKey in allKeys:\n",
    "            if thisKey=='left':\n",
    "                if targetSide==-1: thisResp = 1  # correct\n",
    "                else: thisResp = -1              # incorrect\n",
    "            elif thisKey=='right':\n",
    "                if targetSide== 1: thisResp = 1  # correct\n",
    "                else: thisResp = -1              # incorrect\n",
    "            elif thisKey in ['q', 'escape']:\n",
    "                core.quit()  # abort experiment\n",
    "        event.clearEvents()  # clear other (eg mouse) events - they clog the buffer\n",
    "\n",
    "    # add the data to the staircase so it can calculate the next level\n",
    "    staircase.addData(thisResp)\n",
    "    dataFile.write('%i,%.3f,%i\\n' %(targetSide, thisIncrement, thisResp))\n",
    "    core.wait(1)\n",
    "\n",
    "# staircase has ended\n",
    "dataFile.close()\n",
    "staircase.saveAsPickle(fileName)  # special python binary file to save all the info\n",
    "\n",
    "# give some output to user in the command line in the output window\n",
    "print('reversals:')\n",
    "print(staircase.reversalIntensities)\n",
    "approxThreshold = numpy.average(staircase.reversalIntensities[-6:])\n",
    "print('mean of final 6 reversals = %.3f' % (approxThreshold))\n",
    "\n",
    "# give some on-screen feedback\n",
    "feedback1 = visual.TextStim(\n",
    "        win, pos=[0,+3],\n",
    "        text='mean of final 6 reversals = %.3f' % (approxThreshold))\n",
    "\n",
    "feedback1.draw()\n",
    "fixation.draw()\n",
    "win.flip()\n",
    "event.waitKeys()  # wait for participant to respond\n",
    "\n",
    "win.close()\n",
    "core.quit()\n",
    " \n"
   ]
  },
  {
   "cell_type": "markdown",
   "metadata": {},
   "source": [
    "# More resources\n",
    "* PsychoPy\n",
    "    * PsychoPy's Getting Started: https://www.psychopy.org/gettingStarted.html\n",
    "    * The documentation for PsychoPy's Coder-Interface (including the tutorial we had here in detail): https://www.psychopy.org/coder/index.html#tutorials\n",
    "* Expyriment\n",
    "    * First address for Expyriment: Their [website](http://www.expyriment.org/).\n",
    "    * A nice introduction is given by their paper: Krause, F. & Lindemann, O. (2014). Expyriment: A Python library for cognitive and neuroscientific experiments. Behavior Research Methods, 46(2), 416-428. [doi:10.3758/s13428-013-0390-6](https://link.springer.com/article/10.3758%2Fs13428-013-0390-6).\n",
    "    * It's always, always, always helpful to look at the docs! They provide a nice Overview, as well as the API reference, under [https://docs.expyriment.org/](https://docs.expyriment.org/)\n",
    "    * A nice starting point if you want to make your own experiments is also their experiment-stash: [https://github.com/expyriment/expyriment-stash](https://github.com/expyriment/expyriment-stash)\n",
    "* The study on timing-accuracies of different experiment-libraries: https://psyarxiv.com/d6nu5/\n",
    "\n",
    " \n"
   ]
  },
  {
   "cell_type": "markdown",
   "metadata": {},
   "source": [
    "## TODO\n",
    "- between subjects design\n",
    "- example projects"
   ]
  },
  {
   "cell_type": "code",
   "execution_count": null,
   "metadata": {},
   "outputs": [],
   "source": []
  },
  {
   "cell_type": "code",
   "execution_count": null,
   "metadata": {},
   "outputs": [],
   "source": []
  }
 ],
 "metadata": {
  "kernelspec": {
   "display_name": "psychopy",
   "language": "python",
   "name": "psychopy"
  },
  "language_info": {
   "codemirror_mode": {
    "name": "ipython",
    "version": 3
   },
   "file_extension": ".py",
   "mimetype": "text/x-python",
   "name": "python",
   "nbconvert_exporter": "python",
   "pygments_lexer": "ipython3",
   "version": "3.6.13"
  },
  "toc-autonumbering": true
 },
 "nbformat": 4,
 "nbformat_minor": 4
}
