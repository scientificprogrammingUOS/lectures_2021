{
 "cells": [
  {
   "cell_type": "markdown",
   "metadata": {
    "slideshow": {
     "slide_type": "-"
    },
    "toc-hr-collapsed": true
   },
   "source": [
    "# L07 - Basic Visualization \n",
    "\n",
    "Credits to Ben Root and the [Anatomy of Matplotlib](https://github.com/matplotlib/AnatomyOfMatplotlib) tutorial on which this document is based, as well as to previous lecturers of this course, who have put much work into this document. *The Anatomy of Matplotlib* is also available as a [3h video talk](https://www.youtube.com/watch?v=6gdNUDs6QPc) in case that suits your learning style better.\n",
    "\n",
    "This week is about basic visualization, which in our case mostly means learning how to use the package [matplotlib](https://matplotlib.org/).\n",
    "\n",
    "## Introduction\n",
    "\n",
    "`matplotlib` is a library for producing publication-quality figures. It can create static, animated, and interactive plots - we will focus on static plots in this week. Its great strength is its comprehensiveness and modifiability. This makes it possible to create virtually any kind plot in Python, if one is ready to invest time into understanding the low-level API and tinkering with it.\n",
    "\n",
    "The most often used part of matplotlib is the `pyplot` submodule, commonly imported as follows:"
   ]
  },
  {
   "cell_type": "code",
   "execution_count": null,
   "metadata": {},
   "outputs": [],
   "source": [
    "import matplotlib.pyplot as plt"
   ]
  },
  {
   "cell_type": "markdown",
   "metadata": {},
   "source": [
    "If that didn't work, close this notebook, shut down the server and install matplotlib with `pip install matplotlib`. Alternatively, you can also try executing the cell below:"
   ]
  },
  {
   "cell_type": "code",
   "execution_count": null,
   "metadata": {},
   "outputs": [],
   "source": [
    "!pip install matplotlib"
   ]
  },
  {
   "cell_type": "markdown",
   "metadata": {},
   "source": [
    "## Matplotlib Resources\n",
    "\n",
    "The [matplotlib.org](http://matplotlib.org) project website is the primary online resource for the library's documentation. It contains [tutorials](https://matplotlib.org/stable/tutorials/index.html), [FAQs](https://matplotlib.org/stable/faq/index.html), [API documentation](http://matplotlib.org/stable/api/index.html), and, most importantly, the [gallery](http://matplotlib.org/stable/gallery/index.html).\n",
    "\n",
    "### Gallery\n",
    "Many users of Matplotlib are often faced with the question, \"I want to make a figure that has X with Y in the same figure, but it needs to look like Z\". Good luck getting an answer from a web search with that query! This is why the [gallery](https://matplotlib.org/stable/gallery/index.html) is so useful, because it showcases the variety of ways one can make figures. Browse through the gallery, click on any figure that has pieces of what you want to see and the code that generated it. Soon enough, you will be like a chef, mixing and matching components to produce your masterpiece!\n"
   ]
  },
  {
   "cell_type": "markdown",
   "metadata": {},
   "source": [
    "### Main Docs\n",
    "\n",
    "* Documentation of `plt`: [matplotlib.pyplot](https://matplotlib.org/stable/api/_as_gen/matplotlib.pyplot.html)\n",
    "* Documentation of `Axes`: [matplotlib.axes](https://matplotlib.org/stable/api/axes_api.html)\n",
    "* Documentation of `Figure`: [matplotlib.figure](https://matplotlib.org/stable/api/figure_api.html)"
   ]
  },
  {
   "cell_type": "markdown",
   "metadata": {},
   "source": [
    "### StackOverflow\n",
    "Another community resource is [StackOverflow](http://stackoverflow.com/questions/tagged/matplotlib), so if you need to build up karma points, submit your questions here, and help others out too!\n",
    "\n",
    "### Github Repository\n",
    "[Matplotlib](https://github.com/matplotlib) is hosted by GitHub. If you think you found a bug, you can also submit an issue there.\n",
    "\n"
   ]
  },
  {
   "cell_type": "markdown",
   "metadata": {},
   "source": [
    "## Note on Backends in Jupyter Notebooks\n",
    "\n",
    "Matplotlib has multiple backends. The backends allow matplotlib to be used on a variety of platforms with a variety of GUI toolkits (GTK, Qt, Wx, etc.), all of them written so that most of the time, you will not need to care which backend you are using. "
   ]
  },
  {
   "cell_type": "code",
   "execution_count": null,
   "metadata": {},
   "outputs": [],
   "source": [
    "import matplotlib\n",
    "\n",
    "print(matplotlib.__version__)\n",
    "print(matplotlib.get_backend())"
   ]
  },
  {
   "cell_type": "markdown",
   "metadata": {},
   "source": [
    "Normally we wouldn't need to think about this too much, but IPython/Jupyter notebooks behave a touch differently than \"normal\" Python. In JupyterLab notebooks we \n",
    "either want to use the `inline` backend, to statically embed figures in the notebook or use the `widget` backend to get interactive figures. \n",
    "\n",
    "\n",
    "We can do this in two ways:\n",
    "\n",
    "1. The IPython ``%matplotlib [BACKEND-NAME]`` magic command\n",
    "\n",
    "   &rarr; Figures will be shown automatically, even if you don't call ``plt.show()``.  \n",
    "   \n",
    "     \n",
    "2. ``matplotlib.use(\"[BACKEND-NAME]\")``\n",
    "\n",
    "   &rarr; Figures will only be shown when you call ``plt.show()``.\n",
    "\n",
    "We will be using the `inline` backend in this notebook - you can activate it by running the cell below.\n",
    "\n",
    "However, it's important to note that when you use matplotlib in a plain `.py` script, you will always have to run `plt.show()` to see plots. "
   ]
  },
  {
   "cell_type": "code",
   "execution_count": null,
   "metadata": {},
   "outputs": [],
   "source": [
    "%matplotlib inline"
   ]
  },
  {
   "cell_type": "markdown",
   "metadata": {},
   "source": [
    "You can find more information on the different matplotlib backends [here](https://matplotlib.org/stable/tutorials/introductory/usage.html)."
   ]
  },
  {
   "cell_type": "markdown",
   "metadata": {
    "toc-hr-collapsed": false
   },
   "source": [
    "# Anatomy of a Plot\n",
    "\n",
    "Matplotlib is a large project and can seem daunting at first. However, by learning the components, it should begin to feel much smaller and more approachable.\n",
    "\n",
    "People use \"plot\" to mean many different things.  Here, we'll be using a consistent terminology (mirrored by the names of the underlying classes, etc):\n",
    "\n",
    "![https://github.com/matplotlib/AnatomyOfMatplotlib/raw/master/images/figure_axes_axis_labeled.png](https://github.com/matplotlib/AnatomyOfMatplotlib/raw/master/images/figure_axes_axis_labeled.png)\n",
    "\n",
    "The ``Figure`` is the top-level container in this hierarchy.  It is the overall window/page that everything is drawn on.  You can have multiple independent figures and ``Figure``s can contain multiple ``Axes``. \n",
    "\n",
    "Most plotting ocurs on an ``Axes``.  The axes is effectively the area that we plot data on and any ticks/labels/etc associated with it.  Usually we'll set up an `Axes` with a call to `plt.subplots`, so the names **axes** and **subplot** can mostly be used interchangeably.\n",
    "\n",
    "Each ``Axes`` has an ``XAxis`` and a ``YAxis``.  These contain the ticks, tick locations, labels, etc.  In this tutorial, we'll mostly control ticks, tick labels, and data limits through other mechanisms, so we won't touch the individual ``Axis`` part of things all that much.  However, it is worth mentioning here to explain where the term ``Axes`` comes from.\n"
   ]
  },
  {
   "cell_type": "markdown",
   "metadata": {},
   "source": [
    "## Getting Started"
   ]
  },
  {
   "cell_type": "code",
   "execution_count": null,
   "metadata": {},
   "outputs": [],
   "source": [
    "import matplotlib.pyplot as plt\n",
    "import numpy as np"
   ]
  },
  {
   "cell_type": "code",
   "execution_count": null,
   "metadata": {},
   "outputs": [],
   "source": [
    "fig = plt.figure()"
   ]
  },
  {
   "cell_type": "markdown",
   "metadata": {},
   "source": [
    "Awww, nothing happened! This is because by default matplotlib will not show anything until told to do so, as we mentioned earlier in the \"backend\" discussion.\n",
    "\n",
    "Instead, we'll need to call ``plt.show()``"
   ]
  },
  {
   "cell_type": "code",
   "execution_count": null,
   "metadata": {},
   "outputs": [],
   "source": [
    "plt.show()"
   ]
  },
  {
   "cell_type": "markdown",
   "metadata": {},
   "source": [
    "Still nothing. That is because the notebook does not want to show empty figures. In a plain python script, you would actually get an empty figure here. To see the figure in the notebook, we need to add some axes..."
   ]
  },
  {
   "cell_type": "markdown",
   "metadata": {
    "toc-hr-collapsed": false
   },
   "source": [
    "## Axes\n",
    "\n",
    "All plotting is done with respect to an [Axes](https://matplotlib.org/stable/api/axes_api.html). An `Axes` is made up of multiple [Axis](http://matplotlib.org/stable/api/axis_api.html) objects (such as `XAxis` and `YAxis`). An `Axes` object must belong to exactly one `Figure`. Most commands you will ever use will be with respect to an `Axes` object.\n",
    "\n",
    "You can either set up a `Figure` and add `Axes` to it later, or - more commonly done - create both in one go with `plt.subplots`, which returns one `Figure` and one `Axes` object when called without arguments."
   ]
  },
  {
   "cell_type": "code",
   "execution_count": null,
   "metadata": {},
   "outputs": [],
   "source": [
    "fig = plt.figure()\n",
    "ax = fig.add_subplot()\n",
    "\n",
    "# alternatively: fig, ax = plt.subplots()\n",
    "\n",
    "plt.show()"
   ]
  },
  {
   "cell_type": "markdown",
   "metadata": {},
   "source": [
    "You can control the size of the figure through the ``figsize`` argument, which expects a tuple of ``(width, height)`` in inches. "
   ]
  },
  {
   "cell_type": "code",
   "execution_count": null,
   "metadata": {},
   "outputs": [],
   "source": [
    "fig = plt.figure(figsize=(5, 10))\n",
    "ax = fig.add_subplot()\n",
    "plt.show()"
   ]
  },
  {
   "cell_type": "markdown",
   "metadata": {},
   "source": [
    "Matplotlib's objects typically have lots of \"explicit setters\" -- in other words, functions that start with ``set_<something>`` and control a particular option. \n",
    "\n",
    "To demonstrate this (and as an example of IPython's tab-completion), try typing `ax.set_` in a code cell, then hit the `<Tab>` key.  You'll see a long list of `Axes` methods that start with `set`.\n",
    "\n",
    "For example, we could have written the third line above as:"
   ]
  },
  {
   "cell_type": "code",
   "execution_count": null,
   "metadata": {},
   "outputs": [],
   "source": [
    "fig, ax = plt.subplots()\n",
    "\n",
    "ax.set_xlim([0.5, 4.5])\n",
    "ax.set_ylim([-2, 8])\n",
    "ax.set_title(\"An Example Axes\")\n",
    "ax.set_ylabel(\"Y-Axis\")\n",
    "ax.set_xlabel(\"X-Axis\")\n",
    "\n",
    "plt.show()"
   ]
  },
  {
   "cell_type": "markdown",
   "metadata": {},
   "source": [
    "Clearly this can get repetitive quickly.  Therefore, Matplotlib's `set` method can be very handy.  It takes each kwarg you pass it and tries to call the corresponding \"setter\".  For example, `ax.set(foo='bar')` would call `ax.set_foo('bar')`.\n",
    "\n",
    "Note that the `set` method doesn't just apply to `Axes`; it applies to more-or-less all matplotlib objects.\n",
    "\n",
    "However, there are cases where you'll want to use things like `ax.set_xlabel('Some Label', size=25)` to control other options for a particular function."
   ]
  },
  {
   "cell_type": "code",
   "execution_count": null,
   "metadata": {},
   "outputs": [],
   "source": [
    "fig, ax = plt.subplots()\n",
    "\n",
    "ax.set(\n",
    "    xlim=[0.5, 4.5], \n",
    "    ylim=[-2, 8], \n",
    "    title=\"An Example Axes\",\n",
    "    ylabel=\"Y-Axis\", \n",
    "    xlabel=\"X-Axis\",\n",
    ")\n",
    "\n",
    "plt.show()"
   ]
  },
  {
   "cell_type": "markdown",
   "metadata": {},
   "source": [
    "## Basic Plotting\n",
    "\n",
    "Most plotting happens on an `Axes`.  Therefore, if you're plotting something on an axes, then you'll use one of its methods.\n",
    "\n",
    "We'll talk about different plotting methods in more depth in the next section.  For now, let's focus on two methods: `plot` and `scatter`.\n",
    "\n",
    "`plot` draws points and **interpolates lines** in between them - that's why the resulting plots are also called `lineplots`.  \n",
    "\n",
    "`scatter` draws unconnected points, optionally scaled or colored by additional variables, a `scatterplot`.  \n",
    "\n",
    "As a basic example:"
   ]
  },
  {
   "cell_type": "code",
   "execution_count": null,
   "metadata": {},
   "outputs": [],
   "source": [
    "fig, ax = plt.subplots(figsize=(9, 6))\n",
    "\n",
    "x = [1, 2, 3, 4]\n",
    "y = [10, 20, 25, 35]\n",
    "\n",
    "ax.plot(x, y)\n",
    "\n",
    "plt.show()"
   ]
  },
  {
   "cell_type": "markdown",
   "metadata": {},
   "source": [
    "Multiple calls to the plot function will result in multiple plots. This works with many functions in matplotlib (`plot`, `scatter`, `bar`, etc.) and assigns different colors to the different calls."
   ]
  },
  {
   "cell_type": "code",
   "execution_count": null,
   "metadata": {},
   "outputs": [],
   "source": [
    "fig, ax = plt.subplots(figsize=(9, 6))\n",
    "\n",
    "ax.plot([10, 20, 25, 35]) # when no x is given, an integer range is assumed as x\n",
    "ax.plot([65, 34, 12, -12])\n",
    "\n",
    "plt.show()"
   ]
  },
  {
   "cell_type": "markdown",
   "metadata": {},
   "source": [
    "## `Axes` methods (object-oriented interface) vs. `plt` (state-machine interface)\n",
    "\n",
    "Many methods of an `Axes` object can also be called on the `plt` module itself.  \n",
    "\n",
    "For example, when calling `plt.xlim(1, 10)`, `plt` calls `ax.set_xlim(1, 10)` on whichever `Axes` is *current*. Here is an equivalent version of the above example using just `pyplot`."
   ]
  },
  {
   "cell_type": "code",
   "execution_count": null,
   "metadata": {
    "scrolled": true
   },
   "outputs": [],
   "source": [
    "plt.figure()\n",
    "plt.plot([10, 20, 25, 35])\n",
    "plt.plot([65, 34, 12, -12])\n",
    "plt.show()"
   ]
  },
  {
   "cell_type": "markdown",
   "metadata": {},
   "source": [
    "Much cleaner, and much clearer! So, why will most of my examples not follow the pyplot approach? Because [PEP20](http://www.python.org/dev/peps/pep-0020/) *The Zen of Python* says:\n",
    "\n",
    "``Explicit is better than implicit``\n",
    "\n",
    "While very simple plots, with short scripts would benefit from the conciseness of the implicit `plt` approach, when doing more complicated plots, or working within larger scripts, you will want to explicitly pass around the `Axes` and/or `Figure` object to operate upon.\n",
    "\n",
    "The advantage of keeping which axes we're working with very clear in our code will become more obvious when we start to have multiple axes in one figure."
   ]
  },
  {
   "cell_type": "markdown",
   "metadata": {},
   "source": [
    "Fun fact: The *Zen of Python* is ingrained in the very heart of Python:"
   ]
  },
  {
   "cell_type": "code",
   "execution_count": null,
   "metadata": {},
   "outputs": [],
   "source": [
    "import this"
   ]
  },
  {
   "cell_type": "markdown",
   "metadata": {},
   "source": [
    "## Multiple Subplots\n",
    "\n",
    "We've mentioned before that a `Figure` can have more than one `Axes` on it.  If you want your axes to be on a regular grid system, then it's easiest to use `plt.subplots` to create a `Figure` and `Axes` on it automatically.\n",
    "\n",
    "For example:"
   ]
  },
  {
   "cell_type": "code",
   "execution_count": null,
   "metadata": {},
   "outputs": [],
   "source": [
    "fig, axes = plt.subplots(nrows=2, ncols=2)\n",
    "plt.show()"
   ]
  },
  {
   "cell_type": "markdown",
   "metadata": {},
   "source": [
    "`plt.subplots` created a new figure and added 4 subplots to it.  The `Axes` object that was returned is a 2D numpy object array.  Each item in the array is one of the subplots.  They're laid out as you see them on the figure.  \n",
    "\n",
    "Therefore, when we want to work with one of these axes, we can index the `Axes` array and use that item's methods.\n",
    "\n",
    "For example:"
   ]
  },
  {
   "cell_type": "code",
   "execution_count": null,
   "metadata": {},
   "outputs": [],
   "source": [
    "fig, axes = plt.subplots(nrows=2, ncols=2)\n",
    "\n",
    "axes[0, 0].set(title=\"Upper Left\") # each subplot can have its individual title, labels, etc.\n",
    "axes[0, 1].set(title=\"Upper Right\")\n",
    "axes[1, 0].set(title=\"Lower Left\")\n",
    "axes[1, 1].set(title=\"Lower Right\")\n",
    "\n",
    "# tight_layout makes things do not overlap - call it after you have finished everything else\n",
    "fig.tight_layout()\n",
    "\n",
    "plt.show()"
   ]
  },
  {
   "cell_type": "markdown",
   "metadata": {},
   "source": [
    "Speaking of titles, you can also set a **supertitle** or `suptitle` for an entire `Figure`."
   ]
  },
  {
   "cell_type": "code",
   "execution_count": null,
   "metadata": {},
   "outputs": [],
   "source": [
    "fig, axes = plt.subplots(nrows=2, ncols=2)\n",
    "\n",
    "axes[0, 0].set(title=\"Upper Left\")\n",
    "axes[0, 1].set(title=\"Upper Right\")\n",
    "axes[1, 0].set(title=\"Lower Left\")\n",
    "axes[1, 1].set(title=\"Lower Right\")\n",
    "\n",
    "fig.suptitle(\"Four Subplots\")\n",
    "\n",
    "fig.tight_layout()\n",
    "\n",
    "plt.show()"
   ]
  },
  {
   "cell_type": "markdown",
   "metadata": {},
   "source": [
    "## Sharing an Axis\n",
    "\n",
    "Multiple subplots can *share* an axis so as to prevent duplication of ticks and to make them comparable. `plt.subplots` has the kwargs `sharex` and `sharey` for that."
   ]
  },
  {
   "cell_type": "code",
   "execution_count": null,
   "metadata": {},
   "outputs": [],
   "source": [
    "fig, axes = plt.subplots(nrows=2, ncols=1, sharex=True, figsize=(9, 6))\n",
    "\n",
    "axes[0].set(title=\"Upper Plot\")\n",
    "axes[1].set(title=\"Lower Plot\")\n",
    "\n",
    "fig.suptitle(\"Two Subplots\")\n",
    "\n",
    "fig.tight_layout()\n",
    "\n",
    "plt.show()"
   ]
  },
  {
   "cell_type": "markdown",
   "metadata": {},
   "source": [
    "As you may have observed, the returned `Axes` array of `plt.subplots` are *squeezed*, meaning there are no dimensions with only a single element in it."
   ]
  },
  {
   "cell_type": "code",
   "execution_count": null,
   "metadata": {},
   "outputs": [],
   "source": [
    "fig, four_plots = plt.subplots(nrows=2, ncols=2)\n",
    "fig, two_plots = plt.subplots(nrows=2, ncols=1)\n",
    "fig, one_plot = plt.subplots(nrows=1, ncols=1)\n",
    "\n",
    "print(four_plots.shape)\n",
    "print(two_plots.shape)\n",
    "print(type(one_plot))"
   ]
  },
  {
   "cell_type": "markdown",
   "metadata": {
    "toc-hr-collapsed": false
   },
   "source": [
    "# Types of  Plots\n",
    "\n",
    "We've talked a lot about laying things out, etc, but we haven't talked about actually plotting data yet. Matplotlib has a number of different plotting functions -- many more than we'll cover here, in fact. However, a full list and/or the gallery can be a bit overwhelming at first. Instead we'll condense it down and give you a look at some of the ones you're most likely to use. Below are some **common examples** of plot types:"
   ]
  },
  {
   "cell_type": "markdown",
   "metadata": {},
   "source": [
    "![https://github.com/matplotlib/AnatomyOfMatplotlib/raw/master/images/plot_example.png](https://github.com/matplotlib/AnatomyOfMatplotlib/raw/master/images/plot_example.png)"
   ]
  },
  {
   "cell_type": "markdown",
   "metadata": {},
   "source": [
    "![https://github.com/matplotlib/AnatomyOfMatplotlib/raw/master/images/scatter_example.png](https://github.com/matplotlib/AnatomyOfMatplotlib/raw/master/images/scatter_example.png)"
   ]
  },
  {
   "cell_type": "markdown",
   "metadata": {},
   "source": [
    "![https://github.com/matplotlib/AnatomyOfMatplotlib/raw/master/images/vector_example.png](https://github.com/matplotlib/AnatomyOfMatplotlib/raw/master/images/vector_example.png)"
   ]
  },
  {
   "cell_type": "markdown",
   "metadata": {},
   "source": [
    "![https://github.com/matplotlib/AnatomyOfMatplotlib/raw/master/images/statistical_example.png](https://github.com/matplotlib/AnatomyOfMatplotlib/raw/master/images/statistical_example.png)"
   ]
  },
  {
   "cell_type": "markdown",
   "metadata": {},
   "source": [
    "![https://github.com/matplotlib/AnatomyOfMatplotlib/raw/master/images/imshow_example.png](https://github.com/matplotlib/AnatomyOfMatplotlib/raw/master/images/imshow_example.png)"
   ]
  },
  {
   "cell_type": "markdown",
   "metadata": {
    "toc-hr-collapsed": false
   },
   "source": [
    "## Input Data: 1D Series\n",
    "\n",
    "We've briefly mentioned `ax.plot(x, y)` and `ax.scatter(x, y)` to draw lines and points, respectively.  We'll cover some of their options (markers, colors, linestyles, etc) in the next section. Let's move on to a couple of other common plot types.\n",
    "\n",
    "### Bar Plots: `Axes.bar` and `Axes.barh`\n",
    "\n",
    "Bar plots are one of the most common plot types.  Matplotlib's `ax.bar` method can also plot general rectangles, but the default is optimized for a simple sequence of x, y values, where the rectangles have a constant width.  There's also `ax.barh` (for horizontal), which makes a constant-height assumption instead of a constant-width assumption."
   ]
  },
  {
   "cell_type": "markdown",
   "metadata": {},
   "source": [
    "### Simple Bar Plot"
   ]
  },
  {
   "cell_type": "code",
   "execution_count": null,
   "metadata": {},
   "outputs": [],
   "source": [
    "import numpy as np\n",
    "\n",
    "np.random.seed(2)\n",
    "\n",
    "x = np.arange(5)\n",
    "y = np.random.random(5) * 2\n",
    "\n",
    "fig, ax = plt.subplots()\n",
    "\n",
    "ax.bar(x, y)\n",
    "\n",
    "plt.show()"
   ]
  },
  {
   "cell_type": "code",
   "execution_count": null,
   "metadata": {},
   "outputs": [],
   "source": [
    "x"
   ]
  },
  {
   "cell_type": "code",
   "execution_count": null,
   "metadata": {},
   "outputs": [],
   "source": [
    "y"
   ]
  },
  {
   "cell_type": "markdown",
   "metadata": {},
   "source": [
    "Adding errorbars:"
   ]
  },
  {
   "cell_type": "code",
   "execution_count": null,
   "metadata": {},
   "outputs": [],
   "source": [
    "x = np.arange(5)\n",
    "y = np.random.random(5) * 2\n",
    "error = y * 0.1\n",
    "\n",
    "fig, ax = plt.subplots()\n",
    "\n",
    "ax.bar(x, y, yerr=error)\n",
    "\n",
    "plt.show()"
   ]
  },
  {
   "cell_type": "markdown",
   "metadata": {},
   "source": [
    "If we have negative values, we can use `axhline` to draw an axis \"spine\" to mark the zero line."
   ]
  },
  {
   "cell_type": "code",
   "execution_count": null,
   "metadata": {},
   "outputs": [],
   "source": [
    "x = np.arange(5)\n",
    "y = np.random.randn(5)\n",
    "\n",
    "fig, ax = plt.subplots()\n",
    "\n",
    "ax.bar(x, y)\n",
    "ax.axhline(y=0, color='black', linewidth=2)\n",
    "\n",
    "plt.show()"
   ]
  },
  {
   "cell_type": "markdown",
   "metadata": {},
   "source": [
    "Matplotlib plotting methods return an `Artist` or a sequence of artists.  Anything you can see in a Matplotlib figure/axes/etc is an `Artist` of some sort. Most of the time, you will not need to retain these returned objects. You will want to capture them for special customizing that may not be possible through the normal plotting mechanism.\n",
    "\n",
    "Let's re-visit that last example and modify what's plotted.  In the case of `bar`, a container artist is returned, so we'll modify its contents instead of the container itself (thus, `for bar in vert_bars`)."
   ]
  },
  {
   "cell_type": "code",
   "execution_count": null,
   "metadata": {},
   "outputs": [],
   "source": [
    "x = np.arange(5)\n",
    "y = np.random.randn(5)\n",
    "\n",
    "fig, ax = plt.subplots()\n",
    "vert_bars = ax.bar(x, y) # store the output of the call to bar\n",
    "\n",
    "for bar, height in zip(vert_bars, y):\n",
    "    if height < 0:\n",
    "        bar.set(color='red')\n",
    "        \n",
    "ax.axhline(y=0, color='black', linewidth=2)\n",
    "\n",
    "plt.show()"
   ]
  },
  {
   "cell_type": "markdown",
   "metadata": {},
   "source": [
    "Looking at the artist returned by `ax.bar` we can see that they are all plain rectangles."
   ]
  },
  {
   "cell_type": "code",
   "execution_count": null,
   "metadata": {},
   "outputs": [],
   "source": [
    "for bar in vert_bars:\n",
    "    print(bar)"
   ]
  },
  {
   "cell_type": "markdown",
   "metadata": {},
   "source": [
    "### Stacking Bar Plots"
   ]
  },
  {
   "cell_type": "markdown",
   "metadata": {},
   "source": [
    "Bar plots can also be stacked by controlling where to start drawing the bars with the `bottom` keyword."
   ]
  },
  {
   "cell_type": "code",
   "execution_count": null,
   "metadata": {},
   "outputs": [],
   "source": [
    "x = np.arange(5)\n",
    "y = np.random.randn(5)\n",
    "\n",
    "fig, ax = plt.subplots()\n",
    "\n",
    "ax.bar(x, y, color=\"green\")\n",
    "ax.bar(x, y, bottom=y, color=\"red\")"
   ]
  },
  {
   "cell_type": "markdown",
   "metadata": {},
   "source": [
    "### Filled Regions: `Axes.fill` and `Axes.fill_between`\n",
    "\n",
    "Of these functions, `Axes.fill_between` is probably the one you'll use the most often.  In its most basic form, it fills between the given y-values and 0:"
   ]
  },
  {
   "cell_type": "code",
   "execution_count": null,
   "metadata": {},
   "outputs": [],
   "source": [
    "y = np.random.randn(100).cumsum()\n",
    "x = np.linspace(0, 10, 100)\n",
    "\n",
    "fig, ax = plt.subplots()\n",
    "ax.fill_between(x, y, color='lightblue')\n",
    "plt.show()"
   ]
  },
  {
   "cell_type": "code",
   "execution_count": null,
   "metadata": {},
   "outputs": [],
   "source": [
    "x = np.linspace(0, 10, 200)\n",
    "\n",
    "y1 = 2 * x + 1\n",
    "y2 = 3 * x + 1.2\n",
    "y_mean = 0.5 * x * np.cos(2*x) + 2.5 * x + 1.1\n",
    "\n",
    "fig, ax = plt.subplots()\n",
    "\n",
    "# plot the envelope with `fill_between`\n",
    "ax.fill_between(x, y1, y2, color='yellow')\n",
    "\n",
    "# plot the \"centerline\" with `plot`\n",
    "ax.plot(x, y_mean, color='black')\n",
    "\n",
    "plt.show()"
   ]
  },
  {
   "cell_type": "markdown",
   "metadata": {
    "toc-hr-collapsed": false
   },
   "source": [
    "## Input Data: 2D Arrays or Images\n",
    "\n",
    "There are several options for plotting 2D data such as images. `imshow`, `pcolor`, and `pcolormesh` have a lot of overlap, at first glance.\n",
    "\n",
    "In short, `imshow` can interpolate and display large arrays very quickly, while `pcolormesh` and `pcolor` are much slower, but can handle flexible (i.e. more than just rectangular) arrangements of cells.\n",
    "\n",
    "We won't dwell too much on the differences and overlaps here.  They have overlapping capabilities, but different default behavior because their primary use-cases are a bit different (there's also `matshow`, which is `imshow` with different defaults).  \n",
    "\n",
    "Instead we'll focus on what they have in common.\n",
    "\n",
    "`imshow`, `pcolor`, `pcolormesh`, `scatter`, and any other matplotlib plotting methods that map a range of data values onto a colormap will return artists that are instances of `ScalarMappable.`  In practice, what that means is you can display a colorbar for them, and they share several keyword arguments. `imshow` is perhaps the most useful within this course."
   ]
  },
  {
   "cell_type": "markdown",
   "metadata": {},
   "source": [
    "### Displaying 2D Data with `imshow`"
   ]
  },
  {
   "cell_type": "code",
   "execution_count": null,
   "metadata": {},
   "outputs": [],
   "source": [
    "arr_2d = np.arange(9).reshape((3, 3))\n",
    "arr_2d"
   ]
  },
  {
   "cell_type": "code",
   "execution_count": null,
   "metadata": {},
   "outputs": [],
   "source": [
    "fig, ax = plt.subplots()\n",
    "ax.imshow(arr_2d)\n",
    "plt.show()"
   ]
  },
  {
   "cell_type": "markdown",
   "metadata": {},
   "source": [
    "`imshow` is used most of the times to display images."
   ]
  },
  {
   "cell_type": "code",
   "execution_count": null,
   "metadata": {},
   "outputs": [],
   "source": [
    "grace_hopper_url = \"https://matplotlib.org/stable/_images/sphx_glr_image_clip_path_001.png\" \n",
    "img = plt.imread(grace_hopper_url) # this could also be a local path (relative or absolute) instead of an url \n",
    "\n",
    "fig, ax = plt.subplots()\n",
    "ax.imshow(img)\n",
    "ax.axis(\"off\")\n",
    "plt.show()"
   ]
  },
  {
   "cell_type": "markdown",
   "metadata": {},
   "source": [
    "For visualizing matrices, `matshow` provides better defaults, e.g. axis labelling."
   ]
  },
  {
   "cell_type": "code",
   "execution_count": null,
   "metadata": {},
   "outputs": [],
   "source": [
    "fig, ax = plt.subplots()\n",
    "ax.matshow(arr_2d)\n",
    "plt.show()"
   ]
  },
  {
   "cell_type": "markdown",
   "metadata": {},
   "source": [
    "### Colorbars\n",
    "\n",
    "Just seeing the colors does not necessarily tell us something about the values beneath. Let's add a colorbar to the figure to display what colors correspond to values of `data` we've plotted. "
   ]
  },
  {
   "cell_type": "code",
   "execution_count": null,
   "metadata": {},
   "outputs": [],
   "source": [
    "fig, ax = plt.subplots()\n",
    "im = ax.imshow(arr_2d)\n",
    "fig.colorbar(im)\n",
    "plt.show()"
   ]
  },
  {
   "cell_type": "code",
   "execution_count": null,
   "metadata": {},
   "outputs": [],
   "source": [
    "print(arr_2d)"
   ]
  },
  {
   "cell_type": "markdown",
   "metadata": {},
   "source": [
    "You may notice that `colorbar` is a `Figure` method and not an `Axes` method.  That's because `colorbar` doesn't operate on the axes. Instead, it shrinks the current axes by a bit, adds a _new_ axes to the figure, and places the colorbar on that axes.\n",
    "\n",
    "The new axes that `fig.colorbar` creates is fairly limited in where it can be positioned.   For example, it's always outside the axes it \"steals\" room from. Sometimes you may want to avoid \"stealing\" room from an axes or maybe even have the colorbar _inside_ another axes.  In that case, you can manually create the axes for the colorbar and position it where you'd like:"
   ]
  },
  {
   "cell_type": "code",
   "execution_count": null,
   "metadata": {},
   "outputs": [],
   "source": [
    "fig, ax = plt.subplots()\n",
    "cax = fig.add_axes([0.27, 0.8, 0.5, 0.05])\n",
    "\n",
    "im = ax.imshow(arr_2d)\n",
    "fig.colorbar(im, cax=cax, orientation=\"horizontal\")\n",
    "plt.show()"
   ]
  },
  {
   "cell_type": "markdown",
   "metadata": {},
   "source": [
    "### Shared parameters for `imshow`, `pcolormesh`, `contour`, `scatter`, etc\n",
    "  \n",
    "  As we mentioned earlier, any plotting method that creates a `ScalarMappable` will have some common kwargs.  The ones you'll use the most frequently are:\n",
    "  \n",
    "  * `cmap` : The colormap (or name of the colormap) used to display the input (a mapping from numbers to colors)\n",
    "  * `vmin` : The minimum data value that will correspond to the \"bottom\" of the colormap (defaults to the minimum of your input data).\n",
    "  * `vmax` : The maximum data value that will correspond to the \"top\" of the colormap (defaults to the maximum of your input data).\n",
    "  * `norm` : A `Normalize` instance to control how the data values are mapped to the colormap. By default, this will be a linear scaling between `vmin` and `vmax`, but other norms are available (e.g. `LogNorm`, `PowerNorm`, etc).\n",
    "  \n",
    "`vmin` and `vmax` are particularly useful.  Quite often, you'll want the colors to be mapped to a set range of data values, which aren't the min/max of your input data. For example, you might want a symmetric ranges of values around 0.\n",
    "\n",
    "As an example of that, let's use a divergent colormap on some example data. Note how the colormap is **not** centered at zero."
   ]
  },
  {
   "cell_type": "code",
   "execution_count": null,
   "metadata": {},
   "outputs": [],
   "source": [
    "from matplotlib.cbook import get_sample_data\n",
    "\n",
    "data = get_sample_data(\"axes_grid/bivariate_normal.npy\", np_load=True)\n",
    "\n",
    "fig, ax = plt.subplots()\n",
    "im = ax.imshow(data, cmap=\"seismic\")\n",
    "fig.colorbar(im)\n",
    "plt.show()"
   ]
  },
  {
   "cell_type": "code",
   "execution_count": null,
   "metadata": {},
   "outputs": [],
   "source": [
    "fig, ax = plt.subplots()\n",
    "im = ax.imshow(data, cmap=\"seismic\", vmin=-2, vmax=2)\n",
    "fig.colorbar(im)\n",
    "plt.show()"
   ]
  },
  {
   "cell_type": "markdown",
   "metadata": {},
   "source": [
    "## Scatter for n-dimensional data\n",
    "`scatter` allows to map several dimensions to different aesthetics such as x-postion, color, size and shape."
   ]
  },
  {
   "cell_type": "code",
   "execution_count": null,
   "metadata": {},
   "outputs": [],
   "source": [
    "n = 50\n",
    "x1 = np.random.random(n)\n",
    "x2 = np.random.random(n) * 50\n",
    "x3 = np.random.random(n)\n",
    "y = x1 + x2 + x3\n",
    "\n",
    "fig, ax = plt.subplots()\n",
    "sc = ax.scatter(x=x1, y=y, s=x2, c=x3, marker='o')\n",
    "fig.colorbar(sc)\n",
    "plt.show()"
   ]
  },
  {
   "cell_type": "markdown",
   "metadata": {},
   "source": [
    "There are lots of different markers that matplotlib supports which can help to emphasize different distributions. Have a look [here](https://matplotlib.org/stable/api/markers_api.html) to get a list of marker options."
   ]
  },
  {
   "cell_type": "code",
   "execution_count": null,
   "metadata": {},
   "outputs": [],
   "source": [
    "num = 100\n",
    "x1 = np.random.normal(-1, 2, num)\n",
    "y1 = np.random.normal(3, 4, num)\n",
    "x2 = np.random.normal(3, 2, num)\n",
    "y2 = np.random.normal(1, 1, num)\n",
    "\n",
    "fig, ax = plt.subplots()\n",
    "ax.scatter(x1, y1, marker='.')\n",
    "ax.scatter(x2, y2, marker='x')\n",
    "plt.show()"
   ]
  },
  {
   "cell_type": "markdown",
   "metadata": {},
   "source": [
    "## Visualizing Statistical Distributions"
   ]
  },
  {
   "cell_type": "markdown",
   "metadata": {},
   "source": [
    "Draw samples from a normal distribution."
   ]
  },
  {
   "cell_type": "code",
   "execution_count": null,
   "metadata": {},
   "outputs": [],
   "source": [
    "μ = 0\n",
    "σ = 1\n",
    "num_samples = 1000\n",
    "dist = np.random.normal(μ, σ, num_samples)"
   ]
  },
  {
   "cell_type": "markdown",
   "metadata": {},
   "source": [
    "**Side note:** Since Python 3 we can use any unicode character such as μ and σ as variables. This can make sense in scientific programming if strong naming conventions exist. A good example is mean and standard deviation of a normal distribution. To easily obtain common characters you can use `LaTex` style and type e.g. `\\mu` followed by <kbd>tab</kbd> to obtain μ. However, do not overuse this. Clearly named characters are often easier to read."
   ]
  },
  {
   "cell_type": "markdown",
   "metadata": {},
   "source": [
    "### Histograms\n",
    "Histograms a great way to visualize univariate distributions. The data is divided into equally sized bins. Then we count how many data points fall into each bin. Finally, we draw a bar with the width of the corresponding bin and the height of the count.\n",
    "\n",
    "The standard histogram looks like this."
   ]
  },
  {
   "cell_type": "code",
   "execution_count": null,
   "metadata": {},
   "outputs": [],
   "source": [
    "fig, ax = plt.subplots()\n",
    "ax.hist(dist)\n",
    "plt.show()"
   ]
  },
  {
   "cell_type": "markdown",
   "metadata": {},
   "source": [
    "We can control the number of bins."
   ]
  },
  {
   "cell_type": "code",
   "execution_count": null,
   "metadata": {},
   "outputs": [],
   "source": [
    "fig, ax = plt.subplots()\n",
    "ax.hist(dist, bins=500)\n",
    "plt.show()"
   ]
  },
  {
   "cell_type": "markdown",
   "metadata": {},
   "source": [
    "Or let it be automatically determined."
   ]
  },
  {
   "cell_type": "code",
   "execution_count": null,
   "metadata": {},
   "outputs": [],
   "source": [
    "fig, ax = plt.subplots()\n",
    "ax.hist(dist, bins=\"auto\")\n",
    "plt.show()"
   ]
  },
  {
   "cell_type": "markdown",
   "metadata": {},
   "source": [
    "Using `density=True` will create a normalized histogram that can be interpreted as a probability density. "
   ]
  },
  {
   "cell_type": "code",
   "execution_count": null,
   "metadata": {},
   "outputs": [],
   "source": [
    "fig, ax = plt.subplots()\n",
    "ax.hist(dist, bins=\"auto\", density=True)\n",
    "plt.show()"
   ]
  },
  {
   "cell_type": "markdown",
   "metadata": {},
   "source": [
    "### Boxplots\n",
    "Boxplots are another standard way to summarize univariate distributions. The give a compact visual description of important *summary statistics*.  \n",
    "\n",
    "A box is drawn at the 25% and 75% quantile, that is where most of the data is. Additionally, the median is marked by a line inside the box.  \n",
    "\n",
    "The *whiskers* extend 1.5 times the *inter-quartile range* beyond the quartiles. Every point beyond that is drawn individually as a *flier* or *outlier*. Check also [this blog post](https://flowingdata.com/2008/02/15/how-to-read-and-use-a-box-and-whisker-plot/) for a nice illustration and further explanation."
   ]
  },
  {
   "cell_type": "code",
   "execution_count": null,
   "metadata": {},
   "outputs": [],
   "source": [
    "fig, ax = plt.subplots()\n",
    "ax.boxplot(dist)\n",
    "plt.show()"
   ]
  },
  {
   "cell_type": "markdown",
   "metadata": {},
   "source": [
    "`boxplot` can also be used to display several distributions at once."
   ]
  },
  {
   "cell_type": "code",
   "execution_count": null,
   "metadata": {},
   "outputs": [],
   "source": [
    "# distribution parameters\n",
    "means = [0, -1, 2.5, 4.3, -3.6]\n",
    "sigmas = [1.2, 5, 3, 1.5, 2]\n",
    "\n",
    "# each distribution has a different number of samples.\n",
    "nums = [150, 1000, 100, 200, 500]\n",
    "\n",
    "dists = [np.random.normal(*args) for args in zip(means, sigmas, nums)]"
   ]
  },
  {
   "cell_type": "code",
   "execution_count": null,
   "metadata": {},
   "outputs": [],
   "source": [
    "fig, ax = plt.subplots()\n",
    "ax.boxplot(dists)\n",
    "plt.show()"
   ]
  },
  {
   "cell_type": "markdown",
   "metadata": {},
   "source": [
    "### Violinplots\n",
    "Violinplots are a third common way to visualize distributions. For violinplots a *kernel density estimate* is computed for the whole range of data. This gives a smooth estimate of the probabiliy density function underlying the data.\n",
    "The `violinplot`function behaves similar to `boxplot`. For further information, have a look at [Wikipedia](https://en.wikipedia.org/wiki/Violin_plot)."
   ]
  },
  {
   "cell_type": "code",
   "execution_count": null,
   "metadata": {},
   "outputs": [],
   "source": [
    "fig, ax = plt.subplots()\n",
    "ax.violinplot(dist)\n",
    "plt.show()"
   ]
  },
  {
   "cell_type": "code",
   "execution_count": null,
   "metadata": {},
   "outputs": [],
   "source": [
    "fig, ax = plt.subplots()\n",
    "ax.violinplot(dists)\n",
    "plt.show()"
   ]
  },
  {
   "cell_type": "markdown",
   "metadata": {},
   "source": [
    "### Pie Charts\n",
    "Pie charts a well-known way to visualize categorical distributions."
   ]
  },
  {
   "cell_type": "code",
   "execution_count": null,
   "metadata": {},
   "outputs": [],
   "source": [
    "# pie chart, where the slices will be ordered and plotted counter-clockwise:\n",
    "labels = [\"Frogs\", \"Hogs\", \"Dogs\", \"Logs\"]\n",
    "sizes = [15, 30, 45, 20]\n",
    "\n",
    "fig, ax = plt.subplots()\n",
    "ax.pie(sizes, labels=labels, autopct=\"%.1f\")\n",
    "\n",
    "plt.show()"
   ]
  },
  {
   "cell_type": "markdown",
   "metadata": {},
   "source": [
    "We will cover more advanced and more convenient methods for statistical visualization in a later lecture."
   ]
  },
  {
   "cell_type": "markdown",
   "metadata": {},
   "source": [
    "## Annotating Plots\n",
    "Especially for scientific figures, you often want to hightlight the part of a plot that supports your hypothesis. With maplotlib you have the full flexibility to do this using `annotate`. By default it will just add text at certain x, y coordinate.  "
   ]
  },
  {
   "cell_type": "code",
   "execution_count": null,
   "metadata": {},
   "outputs": [],
   "source": [
    "fig, ax = plt.subplots()\n",
    "\n",
    "t = np.arange(0.0, 5.0, 0.01)\n",
    "s = np.cos(2 * np.pi * t)\n",
    "\n",
    "# plot a line and add some simple annotations\n",
    "line, = ax.plot(t, s)\n",
    "ax.annotate(\"local maximum\", xy=(3.5, 1.5))\n",
    "ax.set(ylim=(-2, 2))\n",
    "plt.show()"
   ]
  },
  {
   "cell_type": "markdown",
   "metadata": {},
   "source": [
    "We can also put the text at a different x, y-coordinat using the `xytext` argument."
   ]
  },
  {
   "cell_type": "code",
   "execution_count": null,
   "metadata": {},
   "outputs": [],
   "source": [
    "fig, ax = plt.subplots()\n",
    "\n",
    "t = np.arange(0.0, 5.0, 0.01)\n",
    "s = np.cos(2 * np.pi * t)\n",
    "\n",
    "line, = ax.plot(t, s)\n",
    "ax.annotate(\n",
    "    \"local maximum\", \n",
    "    xy=(3, 1), \n",
    "    xytext=(3.5, 1.5)\n",
    ")\n",
    "\n",
    "ax.set(ylim=(-2, 2))\n",
    "plt.show()"
   ]
  },
  {
   "cell_type": "markdown",
   "metadata": {},
   "source": [
    "Now that we have two x, y - coordinates we can connect them using arrows."
   ]
  },
  {
   "cell_type": "code",
   "execution_count": null,
   "metadata": {},
   "outputs": [],
   "source": [
    "fig, ax = plt.subplots()\n",
    "\n",
    "t = np.arange(0.0, 5.0, 0.01)\n",
    "s = np.cos(2 * np.pi * t)\n",
    "\n",
    "# plot a line and add some simple annotations\n",
    "line, = ax.plot(t, s)\n",
    "ax.annotate(\n",
    "    \"local maximum\", \n",
    "    xy=(3, 1), \n",
    "    xytext=(3.5, 1.5),\n",
    "    arrowprops=dict()\n",
    ")\n",
    "\n",
    "ax.set(ylim=(-2, 2))\n"
   ]
  },
  {
   "cell_type": "markdown",
   "metadata": {},
   "source": [
    "If we have to, we can go very fancy on the arrow styles. See [this tutorial](https://matplotlib.org/tutorials/text/annotations.html) for a more detailed overview."
   ]
  },
  {
   "cell_type": "code",
   "execution_count": null,
   "metadata": {},
   "outputs": [],
   "source": [
    "fig, ax = plt.subplots()\n",
    "\n",
    "t = np.arange(0.0, 5.0, 0.01)\n",
    "s = np.cos(2*np.pi*t)\n",
    "\n",
    "# plot a line and add some simple annotations\n",
    "line, = ax.plot(t, s)\n",
    "ax.annotate(\n",
    "    \"local maximum\", \n",
    "    xy=(3, 1), \n",
    "    xytext=(3.5, 1.5),\n",
    "    arrowprops={\n",
    "        \"arrowstyle\": \"wedge\", \n",
    "        \"connectionstyle\": \"angle3\", \n",
    "        \"facecolor\": \"red\"\n",
    "    }\n",
    ")\n",
    "\n",
    "ax.set(ylim=(-2, 2))\n",
    "plt.show()"
   ]
  },
  {
   "cell_type": "markdown",
   "metadata": {
    "toc-hr-collapsed": false
   },
   "source": [
    "# How to speak \"Matplotlib\"\n",
    "In the previous parts, you learned how Matplotlib organizes plot-making by figures and axes. We broke down the components of a basic figure and learned how to create them. You also learned how to add one or more axes to a figure, and how to tie them together. You even learned how to change some of the basic appearances of the axes. Finally, we went over some of the many plotting methods that Matplotlib has to draw on those axes. With all that knowledge, you should be off making great and wonderful figures.\n",
    "\n",
    "Why are you still here?\n",
    "\n",
    "`We don't know how to control our plots and figures!` \n",
    "\n",
    "says some random voice in the back of the room.\n",
    "\n",
    "Of course! While the previous sections may have taught you some of the structure and syntax of matplotlib, it did not describe much of the substance and vocabulary of the library. This section will go over many of the properties that are used throughout the library. Note that while many of the examples in this section may show one way of setting a particular property, that property may be applicible elsewhere in completely different context. This is the \"language\" of Matplotlib."
   ]
  },
  {
   "cell_type": "markdown",
   "metadata": {
    "toc-hr-collapsed": false
   },
   "source": [
    "## Colors\n",
    "This is, perhaps, the most important piece of vocabulary in Matplotlib. Given that Matplotlib is a plotting library, colors are associated with everything that is plotted in your figures. Matplotlib supports a robust [language](http://matplotlib.org/stable/api/colors_api.html#module-matplotlib.colors) for specifying colors that should be familiar to a wide variety of users.\n",
    "\n",
    "By default, matplotlib will choose different colors when combining data on the same axes."
   ]
  },
  {
   "cell_type": "code",
   "execution_count": null,
   "metadata": {},
   "outputs": [],
   "source": [
    "t = np.arange(0.0, 5.0, 0.2)\n",
    "fig, ax = plt.subplots()\n",
    "ax.plot(t, t, linewidth=5)\n",
    "ax.plot(t, t**2, linewidth=5)\n",
    "ax.plot(t, t**3, linewidth=5)\n",
    "plt.show()"
   ]
  },
  {
   "cell_type": "markdown",
   "metadata": {},
   "source": [
    "### Colornames\n",
    "First, colors can be given as strings. For very basic colors, you can even get away with just a single letter:\n",
    "\n",
    "- b: blue\n",
    "- g: green\n",
    "- r: red\n",
    "- c: cyan\n",
    "- m: magenta\n",
    "- y: yellow\n",
    "- k: black\n",
    "- w: white\n",
    "\n",
    "Other colornames that are allowed are the HTML/CSS colornames such as \"burlywood\" and \"chartreuse\". See the [full list](https://www.w3schools.com/colors/colors_names.asp) of the 147 colornames."
   ]
  },
  {
   "cell_type": "markdown",
   "metadata": {},
   "source": [
    "### Hex values\n",
    "Colors can also be specified by supplying a HTML/CSS hex string, such as `'#0000FF'` for blue. Support for an optional alpha channel was added for v2.0. For more information about hex colors have a look at [Wikipedia](https://en.wikipedia.org/wiki/Web_colors#Hex_triplet)."
   ]
  },
  {
   "cell_type": "code",
   "execution_count": null,
   "metadata": {},
   "outputs": [],
   "source": [
    "t = np.arange(0.0, 5.0, 0.2)\n",
    "fig, ax = plt.subplots()\n",
    "ax.plot(t, t, linewidth=5, color=\"#00ffff\")\n",
    "ax.plot(t, t**2, linewidth=5, color=\"#ff00ff\")\n",
    "ax.plot(t, t**3, linewidth=5, color=\"#ffcc00\")\n",
    "plt.show()"
   ]
  },
  {
   "cell_type": "markdown",
   "metadata": {},
   "source": [
    "### 256 Shades of Gray\n",
    "A gray level can be given instead of a color by passing a string representation of a number between 0 and 1 (inclusive). `\"0.0\"` is black, while `\"1.0\"` is white. `\"0.75\"` would be a light shade of gray.\n"
   ]
  },
  {
   "cell_type": "code",
   "execution_count": null,
   "metadata": {},
   "outputs": [],
   "source": [
    "t = np.arange(0.0, 5.0, 0.2)\n",
    "fig, ax = plt.subplots()\n",
    "ax.plot(t, t, linewidth=5, color=\"1.0\")\n",
    "ax.plot(t, t**2, linewidth=5, color=\"0.5\")\n",
    "ax.plot(t, t**3, linewidth=5, color=\"0.0\")\n",
    "plt.show()"
   ]
  },
  {
   "cell_type": "markdown",
   "metadata": {},
   "source": [
    "### RGB[A] Tuples\n",
    "You may come upon instances where the previous ways of specifying colors do not work. This can sometimes happen in some of the deeper, stranger levels of the library. When all else fails, the universal language of colors for matplotlib is the RGB[A] tuple. This is the \"Red\", \"Green\", \"Blue\", and sometimes \"Alpha\" tuple of floats in the range of [0, 1]. One means full saturation of that channel, so a red RGBA tuple would be `(1.0, 0.0, 0.0, 1.0)`, whereas a partly transparent green RGBA tuple would be `(0.0, 1.0, 0.0, 0.75)`.  The documentation will usually specify whether it accepts RGB or RGBA tuples. Sometimes, a list of tuples would be required for multiple colors, and you can even supply a Nx3 or Nx4 numpy array in such cases.\n",
    "\n",
    "In functions such as `plot` and `scatter`, while it may appear that they can take a color specification, what they really need is a \"format specification\", which includes color as part of the format. Unfortunately, such specifications are string only and so RGB[A] tuples are not supported for such arguments (but you can still pass an RGB[A] tuple for a \"color\" argument).\n",
    "\n",
    "Oftentimes there is a separate argument for \"alpha\" whenever you can specify a color. The value for \"alpha\" will usually take precedence over the alpha value in the RGBA tuple. There is no easy way around this inconsistency."
   ]
  },
  {
   "cell_type": "code",
   "execution_count": null,
   "metadata": {},
   "outputs": [],
   "source": [
    "t = np.arange(0.0, 3.0, 0.2)\n",
    "fig, ax = plt.subplots()\n",
    "\n",
    "ax.plot(t, t, linewidth=5, color=(0, 0, 1))\n",
    "ax.plot(t, t**2, linewidth=5, color=(0, 0.5, 0.5))\n",
    "ax.plot(t, t**3, linewidth=5, color=(0, 0, 1, 0.3))\n",
    "\n",
    "# the alpha value can also be specified as an additional kwarg\n",
    "ax.plot(t, t**4, linewidth=5, color=(0, 1, 1), alpha=0.2)\n",
    "plt.show()"
   ]
  },
  {
   "cell_type": "markdown",
   "metadata": {},
   "source": [
    "## Markers\n",
    "[Markers](http://matplotlib.org/stable/api/markers_api.html) are commonly used in line and scatter plots, but also show up elsewhere. There is a wide set of markers available, and custom markers can even be specified.\n",
    "\n",
    "marker     |  description  | marker    |  description    |marker    |  description  | marker    |  description  \n",
    ":----------|:--------------| :---------|:--------------  |:---------|:--------------| :---------|:--------------\n",
    "\".\"        |  point        | \"+\"       |  plus           |\",\"       |  pixel        | \"x\"       |  cross\n",
    "\"o\"        |  circle       | \"D\"       |  diamond        |\"d\"       |  thin_diamond |           |\n",
    "\"8\"        |  octagon      | \"s\"       |  square         |\"p\"       |  pentagon     | \"\\*\"      |  star\n",
    "\"&#124;\"   |  vertical line| \"\\_\"      | horizontal line | \"h\"      |  hexagon1     | \"H\"       |  hexagon2\n",
    "0          |  tickleft     | 4         |  caretleft      |\"<\"       | triangle_left | \"3\"       |  tri_left\n",
    "1          |  tickright    | 5         |  caretright     |\">\"       | triangle_right| \"4\"       |  tri_right\n",
    "2          |  tickup       | 6         |  caretup        |\"^\"       | triangle_up   | \"2\"       |  tri_up\n",
    "3          |  tickdown     | 7         |  caretdown      |\"v\"       | triangle_down | \"1\"       |  tri_down\n",
    "\"None\"     |  nothing      | `None`    |  default        |\" \"       |  nothing      |\"\"         |  nothing\n"
   ]
  },
  {
   "cell_type": "code",
   "execution_count": null,
   "metadata": {},
   "outputs": [],
   "source": [
    "t = np.arange(0.0, 5.0, 0.2)\n",
    "fig, ax = plt.subplots()\n",
    "ax.plot(t, t, '.', linewidth=5)\n",
    "ax.plot(t, t**2, 'o', linewidth=5)\n",
    "ax.plot(t, t**3, marker='+', linewidth=1) # with explicit arguments, you can set maker and linestyle separately.\n",
    "ax.plot(t, -t, ls='', marker='v', linewidth=5) \n",
    "plt.show()"
   ]
  },
  {
   "cell_type": "markdown",
   "metadata": {
    "toc-hr-collapsed": false
   },
   "source": [
    "## Linestyles\n",
    "Line styles are about as commonly used as colors. There are a few predefined linestyles available to use. Note that there are some advanced techniques to specify some custom line styles. \n",
    "\n",
    "linestyle          | description\n",
    "-------------------|------------------------------\n",
    "'-'                | solid\n",
    "'--'               | dashed\n",
    "'-.'               | dashdot\n",
    "':'                | dotted\n",
    "'None'             | draw nothing\n",
    "' '                | draw nothing\n",
    "''                 | draw nothing\n",
    "\n",
    "Also, don't mix up `\".-\"` (line with dot markers) and `\"-.\"` (dash-dot line) when using the ``plot`` function!"
   ]
  },
  {
   "cell_type": "code",
   "execution_count": null,
   "metadata": {},
   "outputs": [],
   "source": [
    "t = np.arange(0.0, 5.0, 0.2)\n",
    "fig, ax = plt.subplots()\n",
    "ax.plot(t, t, linestyle='-', linewidth=5)\n",
    "ax.plot(t, t**2, linestyle='--', linewidth=5)\n",
    "ax.plot(t, t**3, linestyle='-.', linewidth=5)\n",
    "ax.plot(t, -t, linestyle=':', linewidth=5)\n",
    "plt.show()"
   ]
  },
  {
   "cell_type": "code",
   "execution_count": null,
   "metadata": {},
   "outputs": [],
   "source": [
    "fig, ax = plt.subplots(1, 1)\n",
    "ax.bar([1, 2, 3, 4], [10, 20, 15, 13], linestyle='--', edgecolor='r', linewidth=4)\n",
    "plt.show()"
   ]
  },
  {
   "cell_type": "markdown",
   "metadata": {},
   "source": [
    "## Colormaps\n",
    "Another very important property of many figures is the colormap. The job of a colormap is to relate a scalar value to a color. In addition to the regular portion of the colormap, an \"over\", \"under\" and \"bad\" color can be optionally defined as well. NaNs will trigger the \"bad\" part of the colormap.\n",
    "\n",
    "As we all know, we create figures in order to convey information visually to our readers. There is much care and consideration that have gone into the design of these colormaps. Your choice in which colormap to use depends on what you are displaying. In mpl, the \"jet\" colormap has historically been used by default, but it will often not be the colormap you would want to use. Much discussion has taken place on the mailing lists with regards to what colormap should be default. The v2.0 release of Matplotlib adopted a new default colormap, 'viridis', along with some other stylistic changes to the defaults.\n",
    "\n",
    "[Here is the talk](https://www.youtube.com/watch?v=xAoljeRJ3lU) by Nathaniel Smith and Stéfan van der Walt at SciPy 2015 that does an excellent job explaining colormaps and how the new perceptually uniform colormaps where designed.\n",
    "\n"
   ]
  },
  {
   "cell_type": "code",
   "execution_count": null,
   "metadata": {},
   "outputs": [],
   "source": [
    "def plot_cmap(name, value_range=(0, 1)):\n",
    "    \n",
    "    gradient = np.linspace(*value_range, 256)\n",
    "    gradient = np.vstack((gradient, gradient))\n",
    "    fig, ax = plt.subplots(figsize=plt.figaspect(0.1))\n",
    "    ax.imshow(gradient, aspect=\"auto\", cmap=plt.get_cmap(name), vmin=0, vmax=1)\n",
    "    pos = list(ax.get_position().bounds)\n",
    "    x_text = pos[0] - 0.01\n",
    "    y_text = pos[1] + pos[3]/2.\n",
    "    ax.set_title(name, fontsize=20)\n",
    "    ax.axis(\"off\")\n",
    "\n",
    "plot_cmap(\"inferno\")"
   ]
  },
  {
   "cell_type": "code",
   "execution_count": null,
   "metadata": {},
   "outputs": [],
   "source": [
    "plot_cmap(\"winter\")"
   ]
  },
  {
   "cell_type": "markdown",
   "metadata": {},
   "source": [
    "[Here](https://matplotlib.org/stable/tutorials/colors/colormaps.html) you can find the full gallery of all the pre-defined colormaps, organized by the types of data they are usually used for."
   ]
  },
  {
   "cell_type": "markdown",
   "metadata": {},
   "source": [
    "## Mathtext\n",
    "Oftentimes, you just simply need that superscript or some other math text in your labels. Matplotlib provides a very easy way to do this for those familiar with `LaTeX`. Any text that is surrounded by dollar signs will be treated as [mathtext](https://matplotlib.org/stable/tutorials/text/mathtext.html). Do note that because backslashes are prevalent in LaTeX, it is often a good idea to prepend an `r` to your string literal so that Python will not treat the backslashes as escape characters."
   ]
  },
  {
   "cell_type": "code",
   "execution_count": null,
   "metadata": {},
   "outputs": [],
   "source": [
    "print(\"a\\nb\")\n",
    "print(r\"a\\nb\")"
   ]
  },
  {
   "cell_type": "code",
   "execution_count": null,
   "metadata": {},
   "outputs": [],
   "source": [
    "fig, ax = plt.subplots()\n",
    "ax.scatter([1, 2, 3, 4], [4, 3, 2, 1])\n",
    "ax.spines[\"top\"].set(visible=False)  # remove spines so they don't intersect with the title\n",
    "ax.spines[\"right\"].set(visible=False)\n",
    "ax.set_title(r\"$\\sigma_i=\\frac{3}{5}$\", fontsize=25)\n",
    "plt.show()"
   ]
  },
  {
   "cell_type": "markdown",
   "metadata": {
    "toc-hr-collapsed": false
   },
   "source": [
    "# Limits, Legends and Layouts\n",
    "\n",
    "In this section, we'll focus on what happens around the edges of the axes:  Ticks, ticklabels, limits, layouts, and legends."
   ]
  },
  {
   "cell_type": "markdown",
   "metadata": {},
   "source": [
    "## Legends\n",
    "\n",
    "As you've seen in some of the examples so far, the X and Y axis can also be labeled, as well as the subplot itself via the title. \n",
    "\n",
    "However, another thing you can label is the line/point/bar/etc that you plot.  You can provide a label to your plot, which allows your legend to automatically build itself. "
   ]
  },
  {
   "cell_type": "code",
   "execution_count": null,
   "metadata": {},
   "outputs": [],
   "source": [
    "fig, ax = plt.subplots()\n",
    "ax.plot([1, 2, 3, 4], [10, 20, 25, 30])  # Philadelphia\n",
    "ax.plot([1, 2, 3, 4], [30, 23, 13, 4])  # Boston\n",
    "ax.set(ylabel=\"Temperature (C°)\", xlabel=\"Time\", title=\"A Tale of Two Cities\")\n",
    "plt.show()"
   ]
  },
  {
   "cell_type": "code",
   "execution_count": null,
   "metadata": {},
   "outputs": [],
   "source": [
    "fig, ax = plt.subplots()\n",
    "ax.plot([1, 2, 3, 4], [10, 20, 25, 30], label=\"Philadelphia\")\n",
    "ax.plot([1, 2, 3, 4], [30, 23, 13, 4], label=\"Boston\")\n",
    "ax.set(ylabel=\"Temperature (C°)\", xlabel=\"Time\", title=\"A Tale of Two Cities\")\n",
    "plt.show()"
   ]
  },
  {
   "cell_type": "markdown",
   "metadata": {},
   "source": [
    "The keyword argument `loc` allows to position the legend at different positions. The `\"best\"` argument is the default one which automatically chooses the location which overlaps the plot elements as little as possbile.\n",
    "\n",
    "| Location String | Location Code |\n",
    "| --- | --- |\n",
    "| best | 0 |\n",
    "| upper right | 1 |\n",
    "| upper left | 2 |\n",
    "| lower left | 3 |\n",
    "| lower right | 4 |\n",
    "| right | 5 |\n",
    "| center left | 6 |\n",
    "| center right | 7 |\n",
    "| lower center | 8 |\n",
    "| upper center | 9 |\n",
    "| center | 10 |"
   ]
  },
  {
   "cell_type": "code",
   "execution_count": null,
   "metadata": {},
   "outputs": [],
   "source": [
    "fig, ax = plt.subplots()\n",
    "ax.plot([1, 2, 3, 4], [10, 20, 25, 30], label=\"Philadelphia\")\n",
    "ax.plot([1, 2, 3, 4], [30, 23, 13, 4], label=\"Boston\")\n",
    "ax.set(ylabel=\"Temperature (C°)\", xlabel=\"Time\", title=\"A Tale of Two Cities\")\n",
    "ax.legend(loc=\"lower center\")\n",
    "plt.show()"
   ]
  },
  {
   "cell_type": "markdown",
   "metadata": {},
   "source": [
    "## Ticks, Ticklines, Ticklabels\n",
    "This is a constant source of confusion:\n",
    "\n",
    "* A Tick is the *location* of a Ticklabel.\n",
    "* A Tickline is the small line that denotes the location of the tick.\n",
    "* A Ticklabel is the text that is displayed at that tick."
   ]
  },
  {
   "cell_type": "code",
   "execution_count": null,
   "metadata": {},
   "outputs": [],
   "source": [
    "fig, ax = plt.subplots()\n",
    "ax.plot([1, 2, 3, 4], [10, 20, 25, 35])\n",
    "\n",
    "# manually set ticks and ticklabels on the x-axis\n",
    "ax.xaxis.set(ticks=range(1, 5), ticklabels=[3, 100, -12, \"foo\"]) \n",
    "\n",
    "# make the y-ticks a bit longer and go both in and out\n",
    "ax.tick_params(axis=\"y\", direction=\"in\", length=10)\n",
    "\n",
    "plt.show()"
   ]
  },
  {
   "cell_type": "code",
   "execution_count": null,
   "metadata": {},
   "outputs": [],
   "source": [
    "data = [('apples', 2), ('oranges', 3), ('peaches', 1)]\n",
    "fruit, value = zip(*data)\n",
    "\n",
    "fig, ax = plt.subplots()\n",
    "x = np.arange(len(fruit))\n",
    "\n",
    "ax.bar(x, value, align=\"center\", color=\"blue\")\n",
    "\n",
    "ax.set_xticks(x) # use the manual setter functions\n",
    "ax.set_xticklabels(fruit, rotation=\"45\", ha=\"right\", rotation_mode=\"anchor\") # rotate ticklabels for readability\n",
    "\n",
    "plt.show()"
   ]
  },
  {
   "cell_type": "markdown",
   "metadata": {},
   "source": [
    "## Subplot Spacing\n",
    "\n",
    "The spacing between the subplots can be adjusted using [Figure.subplots_adjust](https://matplotlib.org/stable/api/figure_api.html#matplotlib.figure.Figure.subplots_adjust). Play around with the example below to see how the different arguments affect the spacing."
   ]
  },
  {
   "cell_type": "code",
   "execution_count": null,
   "metadata": {},
   "outputs": [],
   "source": [
    "fig, axes = plt.subplots(2, 2, figsize=(9, 9))\n",
    "\n",
    "fig.subplots_adjust(wspace=0.3, hspace=0.7,\n",
    "                    left=0.125, right=0.8,\n",
    "                    top=0.7, bottom=0.2)\n",
    "\n",
    "plt.show()"
   ]
  },
  {
   "cell_type": "markdown",
   "metadata": {},
   "source": [
    "A common \"gotcha\" is that the labels are not automatically adjusted to avoid overlapping those of another subplot. Matplotlib does not currently have any sort of robust layout engine, as it is a design decision to minimize the amount of \"magical plotting\". We intend to let users have complete, 100% control over their plots. LaTeX users would be quite familiar with the amount of frustration that can occur with automatic placement of figures in their documents.\n",
    "\n",
    "That said, there have been some efforts to develop tools that users can use to help address the most common compaints. The [tight layout](https://matplotlib.org/stable/api/tight_layout_api.html) feature, when invoked, will attempt to resize margins and subplots so that nothing overlaps. However, be warned - this is not a silver bullet and can sometimes create more problems than it solvs.\n",
    "\n",
    "If you have multiple subplots, and want to avoid overlapping titles/axis labels/etc, `Figure.tight_layout` is a great way to do so:"
   ]
  },
  {
   "cell_type": "code",
   "execution_count": null,
   "metadata": {},
   "outputs": [],
   "source": [
    "def example_plot(ax):\n",
    "    \n",
    "    ax.plot([1, 2])\n",
    "    ax.set_xlabel('x-label', fontsize=16)\n",
    "    ax.set_ylabel('y-label', fontsize=8)\n",
    "    ax.set_title('Title', fontsize=24)"
   ]
  },
  {
   "cell_type": "code",
   "execution_count": null,
   "metadata": {},
   "outputs": [],
   "source": [
    "fig, ((ax1, ax2), (ax3, ax4)) = plt.subplots(nrows=2, ncols=2)\n",
    "\n",
    "example_plot(ax1)\n",
    "example_plot(ax2)\n",
    "example_plot(ax3)\n",
    "example_plot(ax4)\n",
    "\n",
    "plt.show()"
   ]
  },
  {
   "cell_type": "code",
   "execution_count": null,
   "metadata": {},
   "outputs": [],
   "source": [
    "fig, ((ax1, ax2), (ax3, ax4)) = plt.subplots(nrows=2, ncols=2)\n",
    "example_plot(ax1)\n",
    "example_plot(ax2)\n",
    "example_plot(ax3)\n",
    "example_plot(ax4)\n",
    "\n",
    "fig.tight_layout()\n",
    "\n",
    "plt.show()"
   ]
  },
  {
   "cell_type": "markdown",
   "metadata": {},
   "source": [
    "# 2021-homework07\n",
    "\n",
    "If you have reached the bottom of this notebook, you are now hopefully prepared to take on the current homework assignment, `2021-homework07`. You will find the link in a StudIP assignment as always.  \n",
    "\n",
    "In this homework, you will create for types of plots:\n",
    "\n",
    "* Line plot (with `Axes.plot`)\n",
    "* Bar plot (with `Axes.bar`)\n",
    "* Heatmap (with `Axes.imshow`)\n",
    "* Set plot (also with `Axes.imshow`)\n",
    "\n",
    "Have a good week!"
   ]
  }
 ],
 "metadata": {
  "kernelspec": {
   "display_name": "Python 3",
   "language": "python",
   "name": "python3"
  },
  "language_info": {
   "codemirror_mode": {
    "name": "ipython",
    "version": 3
   },
   "file_extension": ".py",
   "mimetype": "text/x-python",
   "name": "python",
   "nbconvert_exporter": "python",
   "pygments_lexer": "ipython3",
   "version": "3.6.9"
  },
  "toc-autonumbering": true,
  "widgets": {
   "application/vnd.jupyter.widget-state+json": {
    "state": {
     "646fe6a624ca42868779b7acd8f05ec2": {
      "model_module": "jupyter-matplotlib",
      "model_module_version": "^0.7.2",
      "model_name": "ToolbarModel",
      "state": {
       "_current_action": "",
       "_dom_classes": [],
       "_model_module": "jupyter-matplotlib",
       "_model_module_version": "^0.7.2",
       "_model_name": "ToolbarModel",
       "_view_count": null,
       "_view_module": "jupyter-matplotlib",
       "_view_module_version": "^0.7.2",
       "_view_name": "ToolbarView",
       "button_style": "",
       "collapsed": true,
       "layout": "IPY_MODEL_e9bd5b1148c2414199fc575bb975fd54",
       "orientation": "vertical",
       "toolitems": [
        [
         "Home",
         "Reset original view",
         "home",
         "home"
        ],
        [
         "Back",
         "Back to previous view",
         "arrow-left",
         "back"
        ],
        [
         "Forward",
         "Forward to next view",
         "arrow-right",
         "forward"
        ],
        [
         "Pan",
         "Pan axes with left mouse, zoom with right",
         "arrows",
         "pan"
        ],
        [
         "Zoom",
         "Zoom to rectangle",
         "square-o",
         "zoom"
        ],
        [
         "Download",
         "Download plot",
         "floppy-o",
         "save_figure"
        ]
       ]
      }
     },
     "b7304a17d8124a9e9d2f8b3ea42addcb": {
      "model_module": "jupyter-matplotlib",
      "model_module_version": "^0.7.2",
      "model_name": "MPLCanvasModel",
      "state": {
       "_cursor": "pointer",
       "_dom_classes": [],
       "_figure_label": "Figure",
       "_height": 0,
       "_image_mode": "full",
       "_message": "",
       "_model_module": "jupyter-matplotlib",
       "_model_module_version": "^0.7.2",
       "_model_name": "MPLCanvasModel",
       "_rubberband_height": 0,
       "_rubberband_width": 0,
       "_rubberband_x": 0,
       "_rubberband_y": 0,
       "_view_count": null,
       "_view_module": "jupyter-matplotlib",
       "_view_module_version": "^0.7.2",
       "_view_name": "MPLCanvasView",
       "_width": 0,
       "footer_visible": true,
       "header_visible": true,
       "layout": "IPY_MODEL_f67cadb80df7416fa3366f3a600b1d8a",
       "resizable": true,
       "toolbar": "IPY_MODEL_646fe6a624ca42868779b7acd8f05ec2",
       "toolbar_position": "left",
       "toolbar_visible": true
      }
     },
     "e9bd5b1148c2414199fc575bb975fd54": {
      "model_module": "@jupyter-widgets/base",
      "model_module_version": "1.2.0",
      "model_name": "LayoutModel",
      "state": {
       "_model_module": "@jupyter-widgets/base",
       "_model_module_version": "1.2.0",
       "_model_name": "LayoutModel",
       "_view_count": null,
       "_view_module": "@jupyter-widgets/base",
       "_view_module_version": "1.2.0",
       "_view_name": "LayoutView",
       "align_content": null,
       "align_items": null,
       "align_self": null,
       "border": null,
       "bottom": null,
       "display": null,
       "flex": null,
       "flex_flow": null,
       "grid_area": null,
       "grid_auto_columns": null,
       "grid_auto_flow": null,
       "grid_auto_rows": null,
       "grid_column": null,
       "grid_gap": null,
       "grid_row": null,
       "grid_template_areas": null,
       "grid_template_columns": null,
       "grid_template_rows": null,
       "height": null,
       "justify_content": null,
       "justify_items": null,
       "left": null,
       "margin": null,
       "max_height": null,
       "max_width": null,
       "min_height": null,
       "min_width": null,
       "object_fit": null,
       "object_position": null,
       "order": null,
       "overflow": null,
       "overflow_x": null,
       "overflow_y": null,
       "padding": null,
       "right": null,
       "top": null,
       "visibility": null,
       "width": null
      }
     },
     "f67cadb80df7416fa3366f3a600b1d8a": {
      "model_module": "@jupyter-widgets/base",
      "model_module_version": "1.2.0",
      "model_name": "LayoutModel",
      "state": {
       "_model_module": "@jupyter-widgets/base",
       "_model_module_version": "1.2.0",
       "_model_name": "LayoutModel",
       "_view_count": null,
       "_view_module": "@jupyter-widgets/base",
       "_view_module_version": "1.2.0",
       "_view_name": "LayoutView",
       "align_content": null,
       "align_items": null,
       "align_self": null,
       "border": null,
       "bottom": null,
       "display": null,
       "flex": null,
       "flex_flow": null,
       "grid_area": null,
       "grid_auto_columns": null,
       "grid_auto_flow": null,
       "grid_auto_rows": null,
       "grid_column": null,
       "grid_gap": null,
       "grid_row": null,
       "grid_template_areas": null,
       "grid_template_columns": null,
       "grid_template_rows": null,
       "height": null,
       "justify_content": null,
       "justify_items": null,
       "left": null,
       "margin": null,
       "max_height": null,
       "max_width": null,
       "min_height": null,
       "min_width": null,
       "object_fit": null,
       "object_position": null,
       "order": null,
       "overflow": null,
       "overflow_x": null,
       "overflow_y": null,
       "padding": null,
       "right": null,
       "top": null,
       "visibility": null,
       "width": null
      }
     }
    },
    "version_major": 2,
    "version_minor": 0
   }
  }
 },
 "nbformat": 4,
 "nbformat_minor": 4
}
