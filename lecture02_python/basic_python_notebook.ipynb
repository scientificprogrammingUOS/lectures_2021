{
 "cells": [
  {
   "cell_type": "markdown",
   "id": "010463b2",
   "metadata": {},
   "source": [
    "# L02 - Basic Python Notebook\n",
    "\n",
    "This notebook accompanies the video for Lecture 02 on the basics of Python, which can be found on Courseware.\n",
    "\n",
    "**Executing cells:** Python cells can be executed by pressing **Ctrl + Enter**.\n",
    "\n",
    "Ideally, try to execute the cells in the correct order (top-to-bottom), or variables might have different values than expected."
   ]
  },
  {
   "cell_type": "code",
   "execution_count": null,
   "id": "95723e9c",
   "metadata": {},
   "outputs": [],
   "source": [
    "print(\"Hi there!\")"
   ]
  },
  {
   "cell_type": "markdown",
   "id": "adceedf9",
   "metadata": {},
   "source": [
    "## Syntax\n",
    "\n",
    "### Variable Assignments\n",
    "\n",
    "Variable assignments are done with `=`, comments are prefaced by `#`.\n",
    "\n",
    "Comments are short pieces of text that have no influence on the code execution and are only meant to inform the reader."
   ]
  },
  {
   "cell_type": "code",
   "execution_count": null,
   "id": "873b83e3",
   "metadata": {},
   "outputs": [],
   "source": [
    "a = 6\n",
    "b = 8\n",
    "\n",
    "print(\"a:\", a)\n",
    "print(\"b:\", b)"
   ]
  },
  {
   "cell_type": "code",
   "execution_count": null,
   "id": "acc84cb5",
   "metadata": {},
   "outputs": [],
   "source": [
    "a = 6\n",
    "b = 8\n",
    "\n",
    "print(\"a:\", a)\n",
    "print(\"b:\", b)\n",
    "\n",
    "c = b\n",
    "c = 9\n",
    "\n",
    "print(\"a:\", a)\n",
    "print(\"b:\", b)\n",
    "print(\"c:\", c)"
   ]
  },
  {
   "cell_type": "markdown",
   "id": "ad516ce9",
   "metadata": {},
   "source": [
    "Note that **the value of b has not changed**."
   ]
  },
  {
   "cell_type": "markdown",
   "id": "49afae37",
   "metadata": {},
   "source": [
    "**Naming Conventions:**\n",
    "\n",
    "[PEP 8](https://www.python.org/dev/peps/pep-0008/), the **P**ython **E**nhancement **P**roposal number 8, is a style guide for writing Python code. Having an official style guide makes Python code look really similar across different projects. Its role in the success of Python should not be underestimated. If you are unsure about the style of your code, have a look at PEP 8. Here are the PEP 8 recommendations for variable names:  \n",
    "\n",
    "`module_name, package_name, ClassName, method_name, ExceptionName, function_name, GLOBAL_CONSTANT_NAME, global_var_name, instance_var_name, function_parameter_name, local_var_name`\n",
    "\n",
    "Even if some of these concepts do not mean anything to you at the moment, it is good to keep this as reference in mind."
   ]
  },
  {
   "cell_type": "markdown",
   "id": "d36e63c7",
   "metadata": {},
   "source": [
    "### Data Types\n",
    "\n",
    "The basic data types are `int`, `bool`, `float` and `str`. The data type of a variable can be checked with the function `type()`.\n"
   ]
  },
  {
   "cell_type": "code",
   "execution_count": null,
   "id": "20b7fc21",
   "metadata": {},
   "outputs": [],
   "source": [
    "a = 8\n",
    "b = 7.0\n",
    "c = \"blubb\"\n",
    "\n",
    "print(\"type(a)\", type(a))\n",
    "print(\"type(b)\", type(b))\n",
    "print(\"type(c)\", type(c))"
   ]
  },
  {
   "cell_type": "markdown",
   "id": "e6cc517a",
   "metadata": {},
   "source": [
    "### Strings\n",
    "\n",
    "Strings literals are wrapped either in single `'` or double `\"` quotation marks. One of them can be contained in the other, e.g. as follows:"
   ]
  },
  {
   "cell_type": "code",
   "execution_count": null,
   "id": "1ce1560e",
   "metadata": {},
   "outputs": [],
   "source": [
    "str_1 = \"I like the word 'aqueduct'\"\n",
    "str_2 = 'I like the word \"aqueduct\"'\n",
    "\n",
    "print(str_1)\n",
    "print(str_2)"
   ]
  },
  {
   "cell_type": "markdown",
   "id": "a4025f1d",
   "metadata": {},
   "source": [
    "### Type Conversion and Calculations"
   ]
  },
  {
   "cell_type": "code",
   "execution_count": null,
   "id": "a1ca70e1",
   "metadata": {},
   "outputs": [],
   "source": [
    "a_float = float(a)  # this works"
   ]
  },
  {
   "cell_type": "code",
   "execution_count": null,
   "id": "09821b1e",
   "metadata": {},
   "outputs": [],
   "source": [
    "b_str = str(b)      # this also works"
   ]
  },
  {
   "cell_type": "code",
   "execution_count": null,
   "id": "b7db08a0",
   "metadata": {},
   "outputs": [],
   "source": [
    "c_int = int(c)      # this does not work (what kind of int should \"blubb\" even be?)"
   ]
  },
  {
   "cell_type": "code",
   "execution_count": null,
   "id": "d667a401",
   "metadata": {},
   "outputs": [],
   "source": [
    "d = True            # bool can be converted to any other data type\n",
    "\n",
    "d_float = float(d)  # True evaluates to 1.0, False to 0.0\n",
    "d_int = int(d)      # True evaluates to 1, False to 0\n",
    "d_str = str(d)      # True evaluates to \"True\", False to \"False\"\n",
    "\n",
    "print(\"d_float:\", d_float)\n",
    "print(\"d_int:\", d_int)\n",
    "print(\"d_str:\", d_str)\n"
   ]
  },
  {
   "cell_type": "code",
   "execution_count": null,
   "id": "e92f7f48",
   "metadata": {},
   "outputs": [],
   "source": [
    "a = 8\n",
    "b = 7.0\n",
    "c = \"blubb\"\n",
    "\n",
    "a_bool = bool(a)   # anything that is not 0 is True\n",
    "b_bool = bool(b)   # anything that is not 0.0 is True\n",
    "c_bool = bool(c)   # anything that is not \"\" (empty string) is True\n",
    "\n",
    "print(\"a_bool\", a_bool)\n",
    "print(\"b_bool\", b_bool)\n",
    "print(\"c_bool\", c_bool)"
   ]
  },
  {
   "cell_type": "code",
   "execution_count": null,
   "id": "ea108fa7",
   "metadata": {},
   "outputs": [],
   "source": [
    "a = \"seven\"\n",
    "a_bool = bool(a)   # before you execute this cell, make a guess: will this work?"
   ]
  },
  {
   "cell_type": "markdown",
   "id": "d3ebfd44",
   "metadata": {},
   "source": [
    "**Calculations**\n",
    "\n",
    "The basic operators are `*`, `/`, `+`, `-`, `%`."
   ]
  },
  {
   "cell_type": "code",
   "execution_count": null,
   "id": "9f7621a4",
   "metadata": {},
   "outputs": [],
   "source": [
    "a = 9\n",
    "b = 7\n",
    "\n",
    "print(\"a + b:\", a + b) # addition\n",
    "print(\"a * b:\", a * b) # multiplication\n",
    "print(\"a - b:\", a - b) # subtraction\n",
    "print(\"a / b:\", a / b) # division\n",
    "print(\"a % b:\", a % b) # modulo"
   ]
  },
  {
   "cell_type": "markdown",
   "id": "da96d05f",
   "metadata": {},
   "source": [
    "There is also a special operator for *floored division*, which is the double slash `//`. This always returns the nearest whole number below the division result and in a way complements the modulo operation."
   ]
  },
  {
   "cell_type": "code",
   "execution_count": null,
   "id": "ad795664",
   "metadata": {},
   "outputs": [],
   "source": [
    "a = 29\n",
    "b = 7\n",
    "\n",
    "print(\"a % b:\",  a % b) # modulo\n",
    "print(\"a // b:\",  a // b) # floored division\n",
    "\n",
    "print(\"b * (a // b) + a % b:\", b * (a // b) + a % b) # floored division and modulo complement each other"
   ]
  },
  {
   "cell_type": "markdown",
   "id": "395aa4ae",
   "metadata": {},
   "source": [
    "The increment operation can be executed as a combination of variable assignment and the `+` operator:"
   ]
  },
  {
   "cell_type": "code",
   "execution_count": null,
   "id": "a34d0c14",
   "metadata": {},
   "outputs": [],
   "source": [
    "a = 0\n",
    "print(\"a:\", a)\n",
    "\n",
    "a = a + 1\n",
    "print(\"a:\", a)\n",
    "\n",
    "a = a + 1\n",
    "print(\"a:\", a)"
   ]
  },
  {
   "cell_type": "code",
   "execution_count": null,
   "id": "aa5c0084",
   "metadata": {},
   "outputs": [],
   "source": [
    "a = 0\n",
    "a += 1 # this is a common shorthand for a = a + 1\n",
    "a += 1\n",
    "\n",
    "print(a)"
   ]
  },
  {
   "cell_type": "markdown",
   "id": "f455b501",
   "metadata": {},
   "source": [
    "For strings, operators are defined differently:"
   ]
  },
  {
   "cell_type": "code",
   "execution_count": null,
   "id": "2a4c9bc4",
   "metadata": {},
   "outputs": [],
   "source": [
    "a = \"hello\"\n",
    "b = \"world\"\n",
    "\n",
    "c = a + \" \" + b # \"+\" is concatenation\n",
    "print(c)"
   ]
  },
  {
   "cell_type": "code",
   "execution_count": null,
   "id": "7d4898d3",
   "metadata": {},
   "outputs": [],
   "source": [
    "a = \"hello\"\n",
    "print(\"hello\" * 5) # \"*\" is repetition"
   ]
  },
  {
   "cell_type": "markdown",
   "id": "99cd99a2",
   "metadata": {},
   "source": [
    "## Control Structures\n",
    "\n",
    "The basic control structures are **conditionals**, **loops** and **functions**.\n",
    "\n",
    "Especially for conditionals and loops, it is often necessary to **define conditions** using **comparison operators** which are evaluated to `bool`s."
   ]
  },
  {
   "cell_type": "code",
   "execution_count": null,
   "id": "6137b633",
   "metadata": {},
   "outputs": [],
   "source": [
    "a = 2\n",
    "b = 3\n",
    "\n",
    "print(\"a > b:\", a > b)\n",
    "print(\"a >= b:\", a >= b)\n",
    "print(\"a == b:\", a == b)\n",
    "print(\"a != b:\", a != b)\n",
    "print(\"a < b:\", a < b)\n",
    "print(\"a <= b:\", a <= b)"
   ]
  },
  {
   "cell_type": "markdown",
   "id": "424d04d1",
   "metadata": {},
   "source": [
    "**Before executing the cell below**, take a moment to guess what the type of c is going to be."
   ]
  },
  {
   "cell_type": "code",
   "execution_count": null,
   "id": "e714b965",
   "metadata": {},
   "outputs": [],
   "source": [
    "a = 2\n",
    "b = 3\n",
    "c = 2 == 3\n",
    "\n",
    "print(\"type(c):\", type(c))"
   ]
  },
  {
   "cell_type": "markdown",
   "id": "3280e0ad",
   "metadata": {},
   "source": [
    "### Conditionals"
   ]
  },
  {
   "cell_type": "markdown",
   "id": "4f6f2af2",
   "metadata": {},
   "source": [
    "The following is an example of an `if`-statement. You can also see how meaningful whitespace is used to separate instruction blocks."
   ]
  },
  {
   "cell_type": "code",
   "execution_count": null,
   "id": "039e85db",
   "metadata": {},
   "outputs": [],
   "source": [
    "a = 9 # play around with the value of a to see how this conditional behaves\n",
    "\n",
    "if a < 8:\n",
    "    print(\"a is less than 8!\") # here you can see whitespace indentation for the first time\n",
    "elif a == 8:\n",
    "    print(\"a is equal to 8!\")\n",
    "elif a == 9 or a == 10:\n",
    "    print(\"a is equal to 8 or 9!\")\n",
    "elif a > 8:\n",
    "    print(\"a is greater than 10!\")\n",
    "else:\n",
    "    print(\"This will never be executed.\")"
   ]
  },
  {
   "cell_type": "markdown",
   "id": "3104e61d",
   "metadata": {},
   "source": [
    "Note that this is strictly different than just chaining `if`-statements:"
   ]
  },
  {
   "cell_type": "code",
   "execution_count": null,
   "id": "34fd57d5",
   "metadata": {
    "scrolled": true
   },
   "outputs": [],
   "source": [
    "a = 9 # play around with the value of a to see how this conditional behaves\n",
    "\n",
    "if a < 8:\n",
    "    print(\"a is less than 8!\")\n",
    "    \n",
    "if a == 8:\n",
    "    print(\"a is equal to 8!\")\n",
    "    \n",
    "if a == 9 or a == 10:\n",
    "    print(\"a is equal to 8 or 9!\")\n",
    "    \n",
    "if a > 8:\n",
    "    print(\"a is greater than 10!\")\n",
    "    "
   ]
  },
  {
   "cell_type": "markdown",
   "id": "90fb2ed4",
   "metadata": {},
   "source": [
    "As you can see, when multiple `if`-statements are used, more than one of them can be executed."
   ]
  },
  {
   "cell_type": "code",
   "execution_count": 4,
   "id": "e5677ede",
   "metadata": {},
   "outputs": [
    {
     "name": "stdout",
     "output_type": "stream",
     "text": [
      "This is of type 'int': 123\n"
     ]
    }
   ],
   "source": [
    "a = 123 # can you find a value that will trigger the else-clause?\n",
    "\n",
    "if type(a) == str:\n",
    "    print(\"This is of type 'str':\", a)\n",
    "elif type(a) == int:\n",
    "    print(\"This is of type 'int':\", a)\n",
    "elif type(a) == float:\n",
    "    print(\"This is of type 'float':\", a)\n",
    "elif type(a) == bool:\n",
    "    print(\"This is of type 'bool':\", a)\n",
    "else:\n",
    "    print(\"This is of unknown type:\", a)"
   ]
  },
  {
   "cell_type": "markdown",
   "id": "48d6ee2b",
   "metadata": {},
   "source": [
    "### Loops\n",
    "\n",
    "The loops listed below are all equivalent. Which one do you think is the most elegant?"
   ]
  },
  {
   "cell_type": "code",
   "execution_count": null,
   "id": "22467565",
   "metadata": {},
   "outputs": [],
   "source": [
    "a = 0\n",
    "\n",
    "while a < 3:\n",
    "    print(a)\n",
    "    a = a + 1"
   ]
  },
  {
   "cell_type": "code",
   "execution_count": null,
   "id": "53c76029",
   "metadata": {},
   "outputs": [],
   "source": [
    "a = 0\n",
    "\n",
    "while True: # this creates an endless loop if there is no break statement inside the body of the loop\n",
    "    \n",
    "    print(a)\n",
    "    a = a + 1\n",
    "    \n",
    "    if a == 3:\n",
    "        break\n",
    "    "
   ]
  },
  {
   "cell_type": "code",
   "execution_count": null,
   "id": "5918b5e2",
   "metadata": {},
   "outputs": [],
   "source": [
    "for a in range(0, 3):\n",
    "    print(a)"
   ]
  },
  {
   "cell_type": "markdown",
   "id": "0eeaea29",
   "metadata": {},
   "source": [
    "`for x in range(a, b)` is a very useful loop construct in Python. You can look up the documentation of range [here](https://docs.python.org/3/library/stdtypes.html#typesseq-range)."
   ]
  },
  {
   "cell_type": "markdown",
   "id": "5e8d4186",
   "metadata": {},
   "source": [
    "### Functions"
   ]
  },
  {
   "cell_type": "markdown",
   "id": "c43c36ae",
   "metadata": {},
   "source": [
    "Functions are generally defined using `def`. They can, but do not have to have a `return` statement."
   ]
  },
  {
   "cell_type": "code",
   "execution_count": null,
   "id": "f32a4b93",
   "metadata": {},
   "outputs": [],
   "source": [
    "def increment(my_int, increment_size=1): # my_int is a positional argument, increment_size a keyword argument\n",
    "    \n",
    "    my_int = my_int + increment_size\n",
    "    \n",
    "    return my_int\n",
    "\n",
    "a = 5\n",
    "b = increment(a)\n",
    "c = increment(b, increment_size=3)\n",
    "\n",
    "print(a, b, c) # easy way to print multiple values - they will be concatenated with spaces and printed"
   ]
  },
  {
   "cell_type": "markdown",
   "id": "33f45021",
   "metadata": {},
   "source": [
    "With keyword arguments, the position does not matter. With positional arguments, it does."
   ]
  },
  {
   "cell_type": "code",
   "execution_count": null,
   "id": "fa4eee3d",
   "metadata": {},
   "outputs": [],
   "source": [
    "def print_stuff(first_int, second_int, third_int=0, fourth_int=0):\n",
    "    \n",
    "    print(\"first_int\", first_int, \"second_int\", second_int, \"third_int\", third_int, \"fourth_int\", fourth_int)\n",
    "    \n",
    "print_stuff(1, 2, third_int=3, fourth_int=4) # they are printed in the correct order\n",
    "print_stuff(1, 2, fourth_int=4, third_int=3) # they are still printed in the correct order\n",
    "print_stuff(2, 1, third_int=3, fourth_int=4) # here they are printed in the wrong order"
   ]
  },
  {
   "cell_type": "markdown",
   "id": "ce008a56",
   "metadata": {},
   "source": [
    " If no `return` statement is given, functions automatically return `None`."
   ]
  },
  {
   "cell_type": "code",
   "execution_count": null,
   "id": "2e201354",
   "metadata": {},
   "outputs": [],
   "source": [
    "def do_nothing():\n",
    "    pass # we have to write something because of the way whitespace indentation is implemented, so we write \"pass\"\n",
    "\n",
    "x = do_nothing()\n",
    "print(x)"
   ]
  },
  {
   "cell_type": "markdown",
   "id": "6ba8603e",
   "metadata": {},
   "source": [
    "You can ready up more on functions and their arguments [here](https://docs.python.org/3/tutorial/controlflow.html#more-on-defining-functions)."
   ]
  },
  {
   "cell_type": "markdown",
   "id": "8167d2ef",
   "metadata": {},
   "source": [
    "## Data Structures\n",
    "\n",
    "The basic data structures are `list`, `tuple`, `set` and `dict`."
   ]
  },
  {
   "cell_type": "markdown",
   "id": "cc34ade9",
   "metadata": {},
   "source": [
    "### List\n",
    "\n",
    "**Creating Lists:**\n",
    "\n",
    "Lists can be created in many ways:"
   ]
  },
  {
   "cell_type": "code",
   "execution_count": null,
   "id": "3e8b4393",
   "metadata": {},
   "outputs": [],
   "source": [
    "a_list = [0, 1, 2]\n",
    "b_list = list(range(0, 3))\n",
    "\n",
    "print(\"a_list\", a_list)\n",
    "print(\"b_list\", b_list)"
   ]
  },
  {
   "cell_type": "markdown",
   "id": "6985004e",
   "metadata": {},
   "source": [
    "**Modyfing Lists:**\n",
    "\n",
    "They can also be changed in many ways:"
   ]
  },
  {
   "cell_type": "code",
   "execution_count": null,
   "id": "15a68f55",
   "metadata": {},
   "outputs": [],
   "source": [
    "a_list = []\n",
    "\n",
    "a_list.append(\"harry\") # use append to add an item to a list\n",
    "a_list.extend([\"ron\"]) # use extend to extend a list with another list\n",
    "a_list.insert(2, \"hermione\") # use insert to insert anitem at a certain position\n",
    "\n",
    "print(a_list)"
   ]
  },
  {
   "cell_type": "markdown",
   "id": "41150e21",
   "metadata": {},
   "source": [
    "**Indexing Lists:**\n",
    "\n",
    "The following is an example of list indexing (accessing single entries in the list):"
   ]
  },
  {
   "cell_type": "code",
   "execution_count": null,
   "id": "b66d068d",
   "metadata": {},
   "outputs": [],
   "source": [
    "hp_list = [\"harry\", \"ron\", \"hermione\"]\n",
    "\n",
    "print(hp_list[0])\n",
    "print(hp_list[1])\n",
    "print(hp_list[2])\n",
    "\n",
    "print(hp_list[-1])\n",
    "print(hp_list[-2])\n",
    "print(hp_list[-3])"
   ]
  },
  {
   "cell_type": "markdown",
   "id": "ed421821",
   "metadata": {},
   "source": [
    "**Slicing Lists:**\n",
    "\n",
    "The following is an example of list slicing:"
   ]
  },
  {
   "cell_type": "code",
   "execution_count": null,
   "id": "1f8d4039",
   "metadata": {},
   "outputs": [],
   "source": [
    "hp_list = [\"harry\", \"ron\", \"hermione\"]\n",
    "\n",
    "print(hp_list[0:3])\n",
    "print(hp_list[1:3])\n",
    "print(hp_list[2:3])\n",
    "\n",
    "print(hp_list[:])\n",
    "print(hp_list[:-1])\n",
    "print(hp_list[:-2])"
   ]
  },
  {
   "cell_type": "markdown",
   "id": "c4189bf6",
   "metadata": {},
   "source": [
    "Can you guess what the following cell is going to print?"
   ]
  },
  {
   "cell_type": "code",
   "execution_count": null,
   "id": "2dbbdf66",
   "metadata": {},
   "outputs": [],
   "source": [
    "hp_list = [\"harry\", \"ron\", \"hermione\"]\n",
    "print(hp_list[:-3])"
   ]
  },
  {
   "cell_type": "markdown",
   "id": "07875135",
   "metadata": {},
   "source": [
    "**Iterating over Lists:**"
   ]
  },
  {
   "cell_type": "code",
   "execution_count": null,
   "id": "1e0c726b",
   "metadata": {},
   "outputs": [],
   "source": [
    "hp_list = [\"harry\", \"ron\", \"hermione\"]\n",
    "\n",
    "for person in hp_list:\n",
    "    print(person)"
   ]
  },
  {
   "cell_type": "markdown",
   "id": "d917fd36",
   "metadata": {},
   "source": [
    "The following cell does not work as expected:"
   ]
  },
  {
   "cell_type": "code",
   "execution_count": null,
   "id": "d0a1e0c2",
   "metadata": {},
   "outputs": [],
   "source": [
    "hp_list = [\"harry\", \"ron\", \"hermione\"]\n",
    "\n",
    "for person in hp_list:\n",
    "    person = \"super-\" + person\n",
    "    \n",
    "print(hp_list)"
   ]
  },
  {
   "cell_type": "markdown",
   "id": "e04fb399",
   "metadata": {},
   "source": [
    "This is because the variable `person` is only temporary and not actually part of the list `hp_list`. To change the list itself, you have to index the correct entry, e.g. as follows:"
   ]
  },
  {
   "cell_type": "code",
   "execution_count": null,
   "id": "8fda4e92",
   "metadata": {},
   "outputs": [],
   "source": [
    "hp_list = [\"harry\", \"ron\", \"hermione\"]\n",
    "\n",
    "for index in range(len(hp_list)):\n",
    "    \n",
    "    hp_list[index] = \"super-\" + hp_list[index]\n",
    "\n",
    "print(hp_list)"
   ]
  },
  {
   "cell_type": "markdown",
   "id": "c0e029c4",
   "metadata": {},
   "source": [
    "Or, slightly more [pythonic](https://stackoverflow.com/questions/25011078/what-does-pythonic-mean):"
   ]
  },
  {
   "cell_type": "code",
   "execution_count": null,
   "id": "717a283d",
   "metadata": {
    "scrolled": true
   },
   "outputs": [],
   "source": [
    "hp_list = [\"harry\", \"ron\", \"hermione\"]\n",
    "\n",
    "for index, person in enumerate(hp_list):\n",
    "    \n",
    "    hp_list[index] = \"super-\" + person\n",
    "    \n",
    "print(hp_list)"
   ]
  },
  {
   "cell_type": "markdown",
   "id": "673878a7",
   "metadata": {},
   "source": [
    "**Strings** behave a lot like lists. They are immutable, but they can be iterated over just like lists:"
   ]
  },
  {
   "cell_type": "code",
   "execution_count": null,
   "id": "5dde4f5c",
   "metadata": {},
   "outputs": [],
   "source": [
    "hp_str = \"Dumbledore\"\n",
    "\n",
    "for character in hp_str:\n",
    "    print(character)"
   ]
  },
  {
   "cell_type": "markdown",
   "id": "ac3fcb62",
   "metadata": {},
   "source": [
    "They can also easily be converted into lists:"
   ]
  },
  {
   "cell_type": "code",
   "execution_count": null,
   "id": "66e14936",
   "metadata": {},
   "outputs": [],
   "source": [
    "hp_str = \"Dumbledore\"\n",
    "hp_list = list(hp_str)\n",
    "\n",
    "print(\"type(hp_str)\", type(hp_str))\n",
    "print(\"type(hp_list)\", type(hp_list))\n",
    "print(\"hp_list\", type(hp_list))"
   ]
  },
  {
   "cell_type": "markdown",
   "id": "02d12375",
   "metadata": {},
   "source": [
    "Another similarity between strings and lists is that both support the multiplication and addition operators:"
   ]
  },
  {
   "cell_type": "code",
   "execution_count": 6,
   "id": "e5177c01",
   "metadata": {},
   "outputs": [
    {
     "name": "stdout",
     "output_type": "stream",
     "text": [
      "DumbledoreDumbledoreDumbledore\n",
      "['D', 'u', 'm', 'b', 'l', 'e', 'd', 'o', 'r', 'e', 'D', 'u', 'm', 'b', 'l', 'e', 'd', 'o', 'r', 'e', 'D', 'u', 'm', 'b', 'l', 'e', 'd', 'o', 'r', 'e']\n",
      "Dumbledore!\n",
      "['D', 'u', 'm', 'b', 'l', 'e', 'd', 'o', 'r', 'e', '!']\n"
     ]
    }
   ],
   "source": [
    "hp_str = \"Dumbledore\"\n",
    "hp_list = list(hp_str)\n",
    "\n",
    "print(hp_str * 3)\n",
    "print(hp_list * 3)\n",
    "\n",
    "print(hp_str + \"!\")\n",
    "print(hp_list + [\"!\"])"
   ]
  },
  {
   "cell_type": "markdown",
   "id": "0583ba03",
   "metadata": {},
   "source": [
    "**Evaluating Lists:**\n",
    "\n",
    "Lists that contain numbers can be evaluated with built-in functions as follows:"
   ]
  },
  {
   "cell_type": "code",
   "execution_count": null,
   "id": "4831fe7c",
   "metadata": {},
   "outputs": [],
   "source": [
    "num_list = [1, 3, 2, 4]\n",
    "\n",
    "print(\"len(num_list)\", len(num_list)) # that one also works on non-numerical lists\n",
    "\n",
    "print(\"max(num_list)\", max(num_list))\n",
    "print(\"min(num_list)\", min(num_list))\n",
    "print(\"sum(num_list)\", sum(num_list))\n",
    "print(\"sorted(num_list)\", sorted(num_list))"
   ]
  },
  {
   "cell_type": "markdown",
   "id": "f8c9a493",
   "metadata": {},
   "source": [
    "To check your own understanding, complete the function `mean()` in the next cell such that it calculates the mean of a list."
   ]
  },
  {
   "cell_type": "code",
   "execution_count": null,
   "id": "48a11fa7",
   "metadata": {},
   "outputs": [],
   "source": [
    "def mean(input_list):\n",
    "    \n",
    "    # insert something here\n",
    "    \n",
    "    return None # replace this line\n",
    "\n",
    "print(\"This should be 2.5:\", mean([1, 3, 2, 4]))\n",
    "print(\"This should be 7.5:\", mean([1, 14]))\n"
   ]
  },
  {
   "cell_type": "markdown",
   "id": "c387a635",
   "metadata": {},
   "source": [
    "**Nesting Lists:**\n",
    "\n",
    "Lists (as well as other data structures) can stacked recursively. This means a `list` can itself contain a `list`, which we would call a 2d-`list`. This can be repeated arbitrarily often until memory runs out."
   ]
  },
  {
   "cell_type": "code",
   "execution_count": null,
   "id": "ab2ced96",
   "metadata": {},
   "outputs": [],
   "source": [
    "def make_grid(height, width, value=1):\n",
    "    \"\"\" Creates a 2d-list which represents a grid (e.g. for rendering of a table). \"\"\"\n",
    "    \n",
    "    grid = []\n",
    "    \n",
    "    for y in range(height):\n",
    "        \n",
    "        row = []\n",
    "        \n",
    "        for x in range(width):\n",
    "            \n",
    "            row.append(value)\n",
    "            \n",
    "        grid.append(row) # append list to existing list\n",
    "        \n",
    "    return grid\n",
    "\n",
    "my_grid = make_grid(3, 2)\n",
    "\n",
    "print(my_grid)"
   ]
  },
  {
   "cell_type": "markdown",
   "id": "39a3bff1",
   "metadata": {},
   "source": [
    "You can of course also just directly created nested lists:"
   ]
  },
  {
   "cell_type": "code",
   "execution_count": 7,
   "id": "8b38f277",
   "metadata": {},
   "outputs": [
    {
     "name": "stdout",
     "output_type": "stream",
     "text": [
      "[[1, 2], [3, 4], [5, 6]]\n"
     ]
    }
   ],
   "source": [
    "a = [[1, 2], [3, 4], [5, 6]]\n",
    "\n",
    "print(a)"
   ]
  },
  {
   "cell_type": "markdown",
   "id": "ce0e4a9e",
   "metadata": {},
   "source": [
    "**Lists are objects.** This means a variable that is assigned a list only references the list. It can therefore happen that by manipulating a list in one variable, one also manipulates another variable (since it contains the same object):"
   ]
  },
  {
   "cell_type": "code",
   "execution_count": null,
   "id": "13d094a3",
   "metadata": {},
   "outputs": [],
   "source": [
    "a = [1, 2, 3]\n",
    "b = a\n",
    "\n",
    "b[1] = \"Elephant\" \n",
    "\n",
    "print(\"a\", a)\n",
    "print(\"b\", b)"
   ]
  },
  {
   "cell_type": "markdown",
   "id": "a584ed31",
   "metadata": {},
   "source": [
    "### Tuple"
   ]
  },
  {
   "cell_type": "markdown",
   "id": "8703ba3a",
   "metadata": {},
   "source": [
    "Tuples behave a lot like lists, except that they are not mutable (changeable)."
   ]
  },
  {
   "cell_type": "code",
   "execution_count": null,
   "id": "98b388f1",
   "metadata": {},
   "outputs": [],
   "source": [
    "a_tuple = (0, 1, 2)\n",
    "b_tuple = tuple(range(0, 3))\n",
    "\n",
    "print(\"a_tuple\", a_tuple)\n",
    "print(\"b_tuple\", b_tuple)"
   ]
  },
  {
   "cell_type": "markdown",
   "id": "92a70bb2",
   "metadata": {},
   "source": [
    "Since they are immutable, the following will throw an error:"
   ]
  },
  {
   "cell_type": "code",
   "execution_count": null,
   "id": "5eedc883",
   "metadata": {},
   "outputs": [],
   "source": [
    "a_tuple = (0, 1, 2)\n",
    "a_tuple[1] = 5"
   ]
  },
  {
   "cell_type": "markdown",
   "id": "134a8e8f",
   "metadata": {},
   "source": [
    "This seems like a good point to mention **unpacking**. If you know exactly how many items there are in a list or tuple, you can unpack all of them into separate variables at once:"
   ]
  },
  {
   "cell_type": "code",
   "execution_count": null,
   "id": "2a38644c",
   "metadata": {},
   "outputs": [],
   "source": [
    "abc_tuple = (0, 1, 2)\n",
    "a, b, c = abc_tuple\n",
    "\n",
    "print(\"a:\", a)\n",
    "print(\"b:\", b)\n",
    "print(\"c:\", c)"
   ]
  },
  {
   "cell_type": "markdown",
   "id": "89cb8019",
   "metadata": {},
   "source": [
    "**Brainteaser:** \n",
    "\n",
    "How can you use tuples and unpacking to switch the values of two variables in just a single line of code?"
   ]
  },
  {
   "cell_type": "code",
   "execution_count": null,
   "id": "246747b7",
   "metadata": {},
   "outputs": [],
   "source": [
    "a = 1\n",
    "b = 2\n",
    "\n",
    "# this is the \"easy\" way to do it\n",
    "temp = a \n",
    "a = b\n",
    "b = temp\n",
    "\n",
    "# below, write a more sophisticated way to do it\n",
    "\n",
    "print(\"a:\", a)\n",
    "print(\"b:\", b)"
   ]
  },
  {
   "cell_type": "markdown",
   "id": "e16a1e24",
   "metadata": {},
   "source": [
    "### Set"
   ]
  },
  {
   "cell_type": "markdown",
   "id": "ca6d9203",
   "metadata": {},
   "source": [
    "There are many ways to create sets:"
   ]
  },
  {
   "cell_type": "code",
   "execution_count": null,
   "id": "86f9343d",
   "metadata": {},
   "outputs": [],
   "source": [
    "a_set = {0, 1, 2}\n",
    "b_set = set(range(0, 3))\n",
    "\n",
    "print(\"a_set\", a_set)\n",
    "print(\"b_set\", b_set)"
   ]
  },
  {
   "cell_type": "markdown",
   "id": "a08cde16",
   "metadata": {},
   "source": [
    "**Beware!** This does **not** create a `set`, but a `dict`:"
   ]
  },
  {
   "cell_type": "code",
   "execution_count": null,
   "id": "16f39440",
   "metadata": {},
   "outputs": [],
   "source": [
    "a_set = {}\n",
    "\n",
    "print(\"type(a_set)\", type(a_set))"
   ]
  },
  {
   "cell_type": "markdown",
   "id": "b25531bc",
   "metadata": {},
   "source": [
    "Sets are a useful way to **deduplicate lists**:"
   ]
  },
  {
   "cell_type": "code",
   "execution_count": null,
   "id": "7880575b",
   "metadata": {},
   "outputs": [],
   "source": [
    "a_list = [0, 1, 2, 1, 3, 1]\n",
    "\n",
    "a_list_deduplicated = list(set(a_list))\n",
    "\n",
    "print(a_list_deduplicated)"
   ]
  },
  {
   "cell_type": "markdown",
   "id": "5f973cac",
   "metadata": {},
   "source": [
    "However, be aware that this way the order of the list will get lost."
   ]
  },
  {
   "cell_type": "markdown",
   "id": "665b380f",
   "metadata": {},
   "source": [
    "Due to the lack of order, set indexing is not supported:"
   ]
  },
  {
   "cell_type": "code",
   "execution_count": null,
   "id": "bc2160f2",
   "metadata": {},
   "outputs": [],
   "source": [
    "a_set = {0, 1, 2}\n",
    "print(a_set[2])"
   ]
  },
  {
   "cell_type": "markdown",
   "id": "10dc60d4",
   "metadata": {},
   "source": [
    "One powerful feature of sets is the **subset functionality**, which is implemented very fast and can be accesed with the comparison operator `<=`:"
   ]
  },
  {
   "cell_type": "code",
   "execution_count": null,
   "id": "912c8573",
   "metadata": {},
   "outputs": [],
   "source": [
    "a = \"banana\"\n",
    "b = \"abba\"\n",
    "\n",
    "letters_a = set(a)\n",
    "letters_b = set(b)\n",
    "\n",
    "print(\"Are all letters in 'abba' also in 'banana'?\", letters_b <= letters_a)"
   ]
  },
  {
   "cell_type": "markdown",
   "id": "a7a77c0d",
   "metadata": {},
   "source": [
    "### Dict"
   ]
  },
  {
   "cell_type": "markdown",
   "id": "f3fd72b8",
   "metadata": {},
   "source": [
    "Dictionaries are very useful data structures that have a **key-value structure**. One way to look at this is to say they are like lists but with custom indices that are not necessarily of type `int`."
   ]
  },
  {
   "cell_type": "code",
   "execution_count": null,
   "id": "0224f225",
   "metadata": {},
   "outputs": [],
   "source": [
    "hp_list = [\"harry\", \"ron\", \"hermione\"]\n",
    "\n",
    "hp_dict = {\n",
    "    0: \"harry\", \n",
    "    1: \"ron\",\n",
    "    2: \"hermione\"\n",
    "}\n",
    "\n",
    "print(\"hp_list[0]:\", hp_list[0])\n",
    "print(\"hp_dict[0]:\", hp_dict[0])\n",
    "\n",
    "print(\"hp_list[1]:\", hp_list[1])\n",
    "print(\"hp_dict[1]:\", hp_dict[1])\n",
    "\n",
    "print(\"hp_list[2]:\", hp_list[2])\n",
    "print(\"hp_dict[2]:\", hp_dict[2])"
   ]
  },
  {
   "cell_type": "markdown",
   "id": "8c83e9ea",
   "metadata": {},
   "source": [
    "Example with **non-**`int` keys:"
   ]
  },
  {
   "cell_type": "code",
   "execution_count": null,
   "id": "fc88d42a",
   "metadata": {},
   "outputs": [],
   "source": [
    "hp_dict = {\n",
    "    \"potter\": \"harry\", \n",
    "    \"weasley\": \"ron\",\n",
    "    \"granger\": \"hermione\"\n",
    "}\n",
    "\n",
    "print('hp_dict[\"potter\"]:', hp_dict[\"potter\"])\n",
    "print('hp_dict[\"granger\"]:', hp_dict[\"granger\"])"
   ]
  },
  {
   "cell_type": "markdown",
   "id": "79d067de",
   "metadata": {},
   "source": [
    "Dictionaries are typically iterated over in pairs of key and value with the `dict.items()` functions: "
   ]
  },
  {
   "cell_type": "code",
   "execution_count": null,
   "id": "7ddf7bb5",
   "metadata": {},
   "outputs": [],
   "source": [
    "hp_dict = {\n",
    "    \"potter\": \"harry\", \n",
    "    \"weasley\": \"ron\",\n",
    "    \"granger\": \"hermione\"\n",
    "}\n",
    "\n",
    "for last_name, first_name in hp_dict.items():\n",
    "    print(\"My name is\", first_name, last_name)"
   ]
  },
  {
   "cell_type": "markdown",
   "id": "ed07be99",
   "metadata": {},
   "source": [
    "**More Resources:** \n",
    "\n",
    "The [official Python tutorial](https://docs.python.org/3/tutorial/datastructures.html) on data structures is a good place to learn more about the functions that can be used in conjunction with data structures."
   ]
  },
  {
   "cell_type": "markdown",
   "id": "e3a1ebdd",
   "metadata": {},
   "source": [
    "## Boilerplate\n",
    "\n",
    "The boilerplate code example in the lecture is not really relevant for Jupyter Notebooks, since it is only used in Python scripts. \n",
    "\n",
    "Regardless, here is a version for copy-pasting when you write your own scripts:"
   ]
  },
  {
   "cell_type": "code",
   "execution_count": null,
   "id": "9c2ea2f5",
   "metadata": {},
   "outputs": [],
   "source": [
    "\"\"\" Docstring that describes script. \"\"\"\n",
    "\n",
    "def main():\n",
    "    print(\"Hello. I am doing something.\")\n",
    "    \n",
    "if __name__ == \"__main__\":\n",
    "    main()"
   ]
  },
  {
   "cell_type": "markdown",
   "id": "ed5fe985",
   "metadata": {},
   "source": [
    "## Homework 02\n",
    "\n",
    "You are now ready to start the second homework assignment! The link can be found in a StudIP announcement.\n",
    "\n",
    "Good luck!"
   ]
  }
 ],
 "metadata": {
  "kernelspec": {
   "display_name": "Python 3",
   "language": "python",
   "name": "python3"
  },
  "language_info": {
   "codemirror_mode": {
    "name": "ipython",
    "version": 3
   },
   "file_extension": ".py",
   "mimetype": "text/x-python",
   "name": "python",
   "nbconvert_exporter": "python",
   "pygments_lexer": "ipython3",
   "version": "3.6.9"
  }
 },
 "nbformat": 4,
 "nbformat_minor": 5
}
