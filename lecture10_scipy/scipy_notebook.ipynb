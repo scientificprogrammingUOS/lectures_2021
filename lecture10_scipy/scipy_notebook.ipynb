{
 "cells": [
  {
   "cell_type": "markdown",
   "metadata": {},
   "source": [
    "# L10 - Scientific Programming with SciPy\n",
    "\n",
    "The [SciPy library](https://docs.scipy.org/doc/scipy/reference/) is part of the [SciPy Software Stack](https://scipy.org/index.html), which includes many of the packages that we have already worked with, such as `numpy`, `pandas` and `matplotlib`. It contains lots of powerful tools for various tasks in mathematics, statistics and signal processing. Generally, if a certain method or algorithm has experienced widespread use in the computational sciences, there is a good chance that it is provided somewhere in `scipy`."
   ]
  },
  {
   "cell_type": "code",
   "execution_count": null,
   "metadata": {},
   "outputs": [],
   "source": [
    "!pip install scipy\n",
    "import scipy"
   ]
  },
  {
   "cell_type": "markdown",
   "metadata": {},
   "source": [
    "Here are some of the submodules of the `scipy` library which we will take a closer look at:\n",
    "\n",
    "* [`scipy.linalg`](https://docs.scipy.org/doc/scipy/reference/linalg.html): Linear Algebra\n",
    "* [`scipy.interpolate`](https://docs.scipy.org/doc/scipy/reference/interpolate.html): Interpolation\n",
    "* [`scipy.integrate`](https://docs.scipy.org/doc/scipy/reference/integrate.html): Integration and ODEs\n",
    "* [`scipy.optimize`](https://docs.scipy.org/doc/scipy/reference/optimize.html): (Non-Linear) Optimization\n",
    "* [`scipy.spatial`](https://docs.scipy.org/doc/scipy/reference/spatial.html): Spatial Algorithms\n",
    "* [`scipy.stats`](https://docs.scipy.org/doc/scipy/reference/stats.html): Statistics and Distributions\n",
    "\n",
    "Here are some honourable mentions of `scipy` submodules that we will not cover in this lecture:\n",
    "\n",
    "* [`scipy.special`](https://docs.scipy.org/doc/scipy/reference/special.html): Special Functions (such as `softmax`)\n",
    "* [`scipy.fft`](https://docs.scipy.org/doc/scipy/reference/fft.html): Discrete Fourier Transforms\n",
    "* [`scipy.io`](https://docs.scipy.org/doc/scipy/reference/io.html): Utilities for File Handling\n",
    "* [`scipy.cluster`](https://docs.scipy.org/doc/scipy/reference/cluster.html): Clustering Algorithms"
   ]
  },
  {
   "cell_type": "markdown",
   "metadata": {},
   "source": [
    "## Linear Algebra\n",
    "\n",
    "The `linalg` submodule includes many useful functions for doing linear algebra. For example, it contains functions for computing a determinant, inverting matrices, computing eigenvalues or different decompositions. It also includes multiple solvers for linear equations systems."
   ]
  },
  {
   "cell_type": "code",
   "execution_count": null,
   "metadata": {},
   "outputs": [],
   "source": [
    "from scipy import linalg"
   ]
  },
  {
   "cell_type": "markdown",
   "metadata": {},
   "source": [
    "### Matrix Inverse\n",
    "Create a matrix of which we want to get the inverse."
   ]
  },
  {
   "cell_type": "code",
   "execution_count": null,
   "metadata": {},
   "outputs": [],
   "source": [
    "import numpy as np\n",
    "\n",
    "mat = np.array([[ 0, -1, -2], [-1,  2,  3], [ 0,  1,  0]])\n",
    "mat"
   ]
  },
  {
   "cell_type": "markdown",
   "metadata": {},
   "source": [
    "Note: In this context, a *matrix* is just an `ndarray`, not the array-like object [`np.matrix`](https://numpy.org/doc/stable/reference/generated/numpy.matrix.html), which will be faded out soon. "
   ]
  },
  {
   "cell_type": "markdown",
   "metadata": {},
   "source": [
    "Compute the inverse matrix using `scipy.linalg.inv`."
   ]
  },
  {
   "cell_type": "code",
   "execution_count": null,
   "metadata": {},
   "outputs": [],
   "source": [
    "inv = linalg.inv(mat)\n",
    "inv"
   ]
  },
  {
   "cell_type": "markdown",
   "metadata": {},
   "source": [
    "The dot product of a matrix with its inverse should yield the identity matrix: $XX^{-1}=I$"
   ]
  },
  {
   "cell_type": "code",
   "execution_count": null,
   "metadata": {},
   "outputs": [],
   "source": [
    "print(\"Inverse of inverse equals original matrix?\", np.allclose(mat, linalg.inv(inv)))\n",
    "np.dot(inv, mat)"
   ]
  },
  {
   "cell_type": "markdown",
   "metadata": {},
   "source": [
    "We can only compute the inverse of matrices with a determinant unequal 0. Matrices with a determinant of 0 are also called singular matrices."
   ]
  },
  {
   "cell_type": "code",
   "execution_count": null,
   "metadata": {},
   "outputs": [],
   "source": [
    "sing = np.array([[ 1,  2,  3], [-1, -2, -3], [ 0,  1,  0]])\n",
    "sing"
   ]
  },
  {
   "cell_type": "code",
   "execution_count": null,
   "metadata": {},
   "outputs": [],
   "source": [
    "linalg.det(sing)"
   ]
  },
  {
   "cell_type": "markdown",
   "metadata": {},
   "source": [
    "SciPy will check if the matrix is singular and throws an error if we try to invert it."
   ]
  },
  {
   "cell_type": "code",
   "execution_count": null,
   "metadata": {},
   "outputs": [],
   "source": [
    "linalg.inv(sing)"
   ]
  },
  {
   "cell_type": "markdown",
   "metadata": {},
   "source": [
    "### Solving Linear Equations\n",
    "The [`scipy.linalg.solve`](https://docs.scipy.org/doc/scipy/reference/generated/scipy.linalg.solve.html#scipy-linalg-solve) function can solve linear equation sets of the form $Ax=b$ fox $x$, given a square matrix $a$ and vector/matrix $b$.\n",
    "\n",
    "$\n",
    "A=\\pmatrix{a_{11} & a_{12} \\\\ a_{21} & a_{22}}=\\pmatrix{-2 & 6 \\\\ 4 & 2}\\\\\n",
    "b=\\pmatrix{b_1 \\\\ b_2}=\\pmatrix{3 \\\\ -2}\\\\\n",
    "x=\\pmatrix{x_1 \\\\ x_2}\n",
    "$\n",
    "\n",
    "What are the values for $x$ such that $Ax=b$ is satisfied?\n",
    "\n",
    "$\n",
    "\\pmatrix{-2x_1 & 6x_2 \\\\ 4x_1 & 2x_2}=\\pmatrix{3 \\\\ -2}\n",
    "$"
   ]
  },
  {
   "cell_type": "markdown",
   "metadata": {},
   "source": [
    "Create NumPy arrays for $A$ and $b$."
   ]
  },
  {
   "cell_type": "code",
   "execution_count": null,
   "metadata": {},
   "outputs": [],
   "source": [
    "A = np.array([[-2, 6], [4, 2]])\n",
    "A"
   ]
  },
  {
   "cell_type": "code",
   "execution_count": null,
   "metadata": {},
   "outputs": [],
   "source": [
    "b = np.array([3, -2])\n",
    "b"
   ]
  },
  {
   "cell_type": "markdown",
   "metadata": {},
   "source": [
    "Solve the set of equations for x."
   ]
  },
  {
   "cell_type": "code",
   "execution_count": null,
   "metadata": {},
   "outputs": [],
   "source": [
    "x = linalg.solve(A, b)\n",
    "x"
   ]
  },
  {
   "cell_type": "markdown",
   "metadata": {},
   "source": [
    "Is the result of $Ax$ really $b$?"
   ]
  },
  {
   "cell_type": "code",
   "execution_count": null,
   "metadata": {},
   "outputs": [],
   "source": [
    "A @ x"
   ]
  },
  {
   "cell_type": "markdown",
   "metadata": {},
   "source": [
    "### Eigenvalue Decomposition\n",
    "SciPy includes multiple [functions for computing the eigenvalues of a matrix](https://docs.scipy.org/doc/scipy/reference/linalg.html#eigenvalue-problems). Let's have a look at the `eig` function, which returns the eigenvalues and eigenvectors of a matrix.\n",
    "\n",
    "The eigenvalues of a matrix $M$ are scalars by which an eigenvector $v$ of $M$ is scaled when $v$ is transformed by $M$. An eigenvector $v$ of $M$ is a vector for which the product of $M$ and $v$ is a scaled version of $v$ (no rotation).\n",
    "\n",
    "Generally, this can be written as $$Mv=\\lambda v$$ where $v$ is an eigenvector of $M$ and $\\lambda$ is the corresponding eigenvalue. In case you have not come across eigenvectors and eigenvalues yet, [here](https://www.youtube.com/watch?v=PFDu9oVAE-g&vl=en) is a good explain video."
   ]
  },
  {
   "cell_type": "markdown",
   "metadata": {},
   "source": [
    "Create an example matrix $M$."
   ]
  },
  {
   "cell_type": "code",
   "execution_count": null,
   "metadata": {},
   "outputs": [],
   "source": [
    "M = np.array([[1, 0.75], [0, -0.5]])\n",
    "M"
   ]
  },
  {
   "cell_type": "markdown",
   "metadata": {},
   "source": [
    "Let's have a look at how $M$ transforms the vector $x$."
   ]
  },
  {
   "cell_type": "code",
   "execution_count": null,
   "metadata": {},
   "outputs": [],
   "source": [
    "x = np.array([1, 1])\n",
    "x_transformed = M @ x\n",
    "\n",
    "x, x_transformed"
   ]
  },
  {
   "cell_type": "code",
   "execution_count": null,
   "metadata": {},
   "outputs": [],
   "source": [
    "print(f'Norm of x: {linalg.norm(x):.3f}, norm of the transformed x: {linalg.norm(x_transformed):.3f}')"
   ]
  },
  {
   "cell_type": "code",
   "execution_count": null,
   "metadata": {},
   "outputs": [],
   "source": [
    "import matplotlib.pyplot as plt\n",
    "%matplotlib inline\n",
    "\n",
    "def draw_vectors(vecs, labels=None, ax=None, **kwargs):\n",
    "    if ax is None:\n",
    "        _, ax = plt.subplots(figsize=(7, 7))\n",
    "        \n",
    "    arrows = []\n",
    "    for i, vec in enumerate(vecs):\n",
    "        color = f'C{i}'\n",
    "        arrows.append(ax.arrow(0, 0, *vec, width=0.025, length_includes_head=True, ec=color, fc=color))\n",
    "        ax.annotate(str(vec), xy=vec + 0.2 * vec / linalg.norm(vec))\n",
    "    \n",
    "    ax.set(xlim=(-3, 3), ylim=(-3, 3), **kwargs)\n",
    "    \n",
    "    if labels is not None:\n",
    "        plt.legend(arrows, labels)\n",
    "    \n",
    "draw_vectors([x, x_transformed], ['original', 'transformed'])"
   ]
  },
  {
   "cell_type": "code",
   "execution_count": null,
   "metadata": {},
   "outputs": [],
   "source": [
    "eigvals, eigvecs = linalg.eig(M)\n",
    "eigvecs = eigvecs.T\n",
    "eigvals, eigvecs"
   ]
  },
  {
   "cell_type": "code",
   "execution_count": null,
   "metadata": {},
   "outputs": [],
   "source": [
    "fig, axes = plt.subplots(ncols=2, figsize=(15, 7))\n",
    "labels = [f'Eigenvalue: {eigval.real:.2f}' for eigval in eigvals]\n",
    "draw_vectors(eigvecs, labels, title='Eigenvectors', ax=axes[0])\n",
    "draw_vectors([M @ eigvec for eigvec in eigvecs], title='Transformed eigenvectors', ax=axes[1])\n",
    "plt.show()"
   ]
  },
  {
   "cell_type": "markdown",
   "metadata": {},
   "source": [
    "SciPy's `eig` function is able to compute left and right eigenvectors. The most typical eigenvectors are right eigenvectors which are of the form $Mv=\\lambda v$, while left eigenvectors correspond to $vM=\\lambda v$."
   ]
  },
  {
   "cell_type": "code",
   "execution_count": null,
   "metadata": {},
   "outputs": [],
   "source": [
    "eigvals, eigvecs = linalg.eig(M, left=False, right=True)\n",
    "eigval, eigvec = eigvals[0].real, eigvecs.T[0]\n",
    "\n",
    "print('First eigenvector:', eigvec)\n",
    "print('First eigenvalue:', eigval)\n",
    "\n",
    "print('Mv / lambda =', M @ eigvec / eigval)\n",
    "print('vM / lambda =', eigvec @ M / eigval)"
   ]
  },
  {
   "cell_type": "markdown",
   "metadata": {},
   "source": [
    "By default `left=False` and `right=True`, since right eigenvalues are more common than left eigenvalues."
   ]
  },
  {
   "cell_type": "code",
   "execution_count": null,
   "metadata": {},
   "outputs": [],
   "source": [
    "eigvals, eigvecs = linalg.eig(M, left=True, right=False)\n",
    "eigval, eigvec = eigvals[0].real, eigvecs.T[0]\n",
    "\n",
    "print('First eigenvector:', eigvec)\n",
    "print('First eigenvalue:', eigval)\n",
    "\n",
    "print('Mv / lambda =', M @ eigvec / eigval)\n",
    "print('vM / lambda =', eigvec @ M / eigval)"
   ]
  },
  {
   "cell_type": "markdown",
   "metadata": {},
   "source": [
    "We can also get both at the same time."
   ]
  },
  {
   "cell_type": "code",
   "execution_count": null,
   "metadata": {
    "scrolled": true
   },
   "outputs": [],
   "source": [
    "linalg.eig(M, left=True, right=True)"
   ]
  },
  {
   "cell_type": "markdown",
   "metadata": {},
   "source": [
    "## Interpolation\n",
    "\n",
    "We already had a brush with a basic interpolation in 2021-homework04. Generally, to interpolate is to estimate or predict unknown data points in between known data points."
   ]
  },
  {
   "cell_type": "code",
   "execution_count": null,
   "metadata": {},
   "outputs": [],
   "source": [
    "from scipy import interpolate"
   ]
  },
  {
   "cell_type": "markdown",
   "metadata": {},
   "source": [
    "`scipy` has support for both univariate and multivariate interpolation. The basic univariate interpolation method is [`scipy.interpolate.interp1d`](https://docs.scipy.org/doc/scipy/reference/generated/scipy.interpolate.interp1d.html#scipy.interpolate.interp1d)."
   ]
  },
  {
   "cell_type": "code",
   "execution_count": null,
   "metadata": {},
   "outputs": [],
   "source": [
    "x_true = np.arange(10)\n",
    "\n",
    "func_true = lambda x: 1 - 0.9**x\n",
    "y_true = func_true(x_true)\n",
    "\n",
    "func_pred = interpolate.interp1d(x_true, y_true)\n",
    "\n",
    "x_pred = np.linspace(0, 9, 91)\n",
    "y_pred = func_pred(x_pred)\n",
    "\n",
    "fig, ax = plt.subplots()\n",
    "\n",
    "ax.scatter(x_true, y_true, label=\"True Values\", c=\"g\")\n",
    "ax.plot(x_pred, y_pred, label=\"Predicted Values\", c=\"b\")\n",
    "\n",
    "fig.legend(loc=\"lower right\")"
   ]
  },
  {
   "cell_type": "markdown",
   "metadata": {},
   "source": [
    "Interpolation can also be used to find order where there is none:"
   ]
  },
  {
   "cell_type": "code",
   "execution_count": null,
   "metadata": {},
   "outputs": [],
   "source": [
    "x_rand = np.random.permutation(50)[:10]\n",
    "y_rand = np.random.randint(0, 10, size=10)\n",
    "\n",
    "func_pred = interpolate.interp1d(x_rand, y_rand, kind=\"cubic\") # try different kinds: \"linear\", \"cubic\", \"next\"\n",
    "\n",
    "x_pred = np.linspace(x_rand.min(), x_rand.max())\n",
    "y_pred = func_pred(x_pred)\n",
    "\n",
    "fig, ax = plt.subplots()\n",
    "\n",
    "ax.scatter(x_rand, y_rand, label=\"Random Values\", c=\"g\")\n",
    "ax.plot(x_pred, y_pred, label=\"Predicted Values\", c=\"b\")\n",
    "\n",
    "fig.legend(loc=\"lower right\")"
   ]
  },
  {
   "cell_type": "markdown",
   "metadata": {},
   "source": [
    "There is also a corresponding 2d variant, [`scipy.interpolate.interp2d`](https://docs.scipy.org/doc/scipy/reference/generated/scipy.interpolate.interp2d.html#scipy-interpolate-interp2d):"
   ]
  },
  {
   "cell_type": "code",
   "execution_count": null,
   "metadata": {},
   "outputs": [],
   "source": [
    "x_rand = np.random.permutation(10)\n",
    "y_rand = np.random.permutation(10)\n",
    "z_rand = np.random.randint(0, 10, size=10)\n",
    "\n",
    "func_pred = scipy.interpolate.interp2d(x_rand, y_rand, z_rand, kind=\"linear\")\n",
    "\n",
    "x_pred = np.arange(10)\n",
    "y_pred = np.arange(10)\n",
    "\n",
    "z_pred = func_pred(x_pred, y_pred)\n",
    "\n",
    "fig = plt.figure()\n",
    "ax = fig.add_subplot(111, projection=\"3d\")\n",
    "\n",
    "ax.scatter(x_rand, y_rand, z_rand, c=\"r\")\n",
    "ax.plot_surface(x_pred, y_pred, z_pred, cmap=\"Blues\")\n"
   ]
  },
  {
   "cell_type": "markdown",
   "metadata": {},
   "source": [
    "## Integration and ODEs\n",
    "\n",
    "`scipy` has a dedicated submodule for integration called [`integrate`](https://docs.scipy.org/doc/scipy/reference/integrate.html). It contains functions for integrating multiple times in one go and even supports integration and solvers for Ordinary Differential Equations (ODEs)."
   ]
  },
  {
   "cell_type": "code",
   "execution_count": null,
   "metadata": {},
   "outputs": [],
   "source": [
    "from scipy import integrate"
   ]
  },
  {
   "cell_type": "markdown",
   "metadata": {},
   "source": [
    "Here we will only have a look at the [`integrate.quad`](https://docs.scipy.org/doc/scipy/reference/generated/scipy.integrate.quad.html#scipy-integrate-quad) function, which can be used to compute a definite integral of some function."
   ]
  },
  {
   "cell_type": "markdown",
   "metadata": {},
   "source": [
    "### Integration"
   ]
  },
  {
   "cell_type": "code",
   "execution_count": null,
   "metadata": {},
   "outputs": [],
   "source": [
    "def draw_integral(x, y, limits, integral, err, **kwargs):\n",
    "    fig, ax = plt.subplots(figsize=(10, 5))\n",
    "    ax.plot(x, y)\n",
    "    \n",
    "    integral_mask = (x >= limits[0]) & (x < limits[1])\n",
    "    ax.fill_between(x[integral_mask], y[integral_mask], alpha=0.2)\n",
    "    \n",
    "    ax.axhline(0, c='black', alpha=0.5)\n",
    "    ax.axvline(limits[0], c='black')\n",
    "    ax.axvline(limits[1], c='black')\n",
    "    \n",
    "    ax.set(title=f'Integral result: {integral:.3f} (error: {err:.3g})', **kwargs)\n",
    "    plt.show()"
   ]
  },
  {
   "cell_type": "code",
   "execution_count": null,
   "metadata": {},
   "outputs": [],
   "source": [
    "func = lambda x: 1\n",
    "\n",
    "x = np.linspace(-10, 10, 1000)\n",
    "y = np.array(list(map(func, x)))\n",
    "\n",
    "limits = (-5, 5)\n",
    "integral, err = integrate.quad(func, *limits)\n",
    "draw_integral(x, y, limits, integral, err)"
   ]
  },
  {
   "cell_type": "code",
   "execution_count": null,
   "metadata": {},
   "outputs": [],
   "source": [
    "func = lambda x: 0.2 * x**3 - x**2 + 1\n",
    "\n",
    "x = np.linspace(-2, 6, 1000)\n",
    "y = np.array(list(map(func, x)))\n",
    "\n",
    "limits = (-0.919, 4.781)\n",
    "integral, err = integrate.quad(func, *limits)\n",
    "draw_integral(x, y, limits, integral, err)"
   ]
  },
  {
   "cell_type": "markdown",
   "metadata": {},
   "source": [
    "The `quad` function is numerically estimating the integration and does not check if a function can mathematically be integrated. It is therefore able to integrate some non-integratable functions but results might not be 100% accurate."
   ]
  },
  {
   "cell_type": "code",
   "execution_count": null,
   "metadata": {
    "scrolled": true
   },
   "outputs": [],
   "source": [
    "func = lambda x: float(x >= 0)\n",
    "\n",
    "x = np.linspace(-2, 2, 1000)\n",
    "y = np.array(list(map(func, x)))\n",
    "\n",
    "limits = (-1, 1)\n",
    "integral, err = integrate.quad(func, *limits)\n",
    "draw_integral(x, y, limits, integral, err)"
   ]
  },
  {
   "cell_type": "markdown",
   "metadata": {},
   "source": [
    "### Derivative Estimation"
   ]
  },
  {
   "cell_type": "code",
   "execution_count": null,
   "metadata": {},
   "outputs": [],
   "source": [
    "from scipy import misc"
   ]
  },
  {
   "cell_type": "markdown",
   "metadata": {},
   "source": [
    "`scipy` also has a function to estimate the derivative of any function at a certain location. The function is called [`scipy.misc.derivative`](https://docs.scipy.org/doc/scipy/reference/generated/scipy.misc.derivative.html#scipy.misc.derivative)."
   ]
  },
  {
   "cell_type": "code",
   "execution_count": null,
   "metadata": {
    "scrolled": false
   },
   "outputs": [],
   "source": [
    "func = lambda x: x ** 2\n",
    "\n",
    "xs = np.linspace(-2, 2, 1000)\n",
    "ys = func(xs)\n",
    "\n",
    "x = 1\n",
    "y = func(x)\n",
    "dx, dy = 1, misc.derivative(func, x)\n",
    "\n",
    "plt.plot(xs, ys)\n",
    "plt.arrow(x, y, dx / 2, dy / 2, width=0.025, fc='black')\n",
    "plt.title(f'Derivative at x={x}: {dy:.3f}')\n",
    "plt.show()"
   ]
  },
  {
   "cell_type": "markdown",
   "metadata": {},
   "source": [
    "### ODE Solving"
   ]
  },
  {
   "cell_type": "markdown",
   "metadata": {},
   "source": [
    "`scipy` also has the ability solve the initial value problem for a system of [ODEs](https://en.wikipedia.org/wiki/Ordinary_differential_equation).  \n",
    "\n",
    "The canonical way to do that used to be [`scipy.integrate.odeint`](https://docs.scipy.org/doc/scipy/reference/generated/scipy.integrate.odeint.html), but this interface is slowly being faded out in favour of the newer [`scipy.integrate.solve_ivp`](https://docs.scipy.org/doc/scipy/reference/generated/scipy.integrate.solve_ivp.html#scipy.integrate.solve_ivp).\n",
    "\n",
    "There will be a bonus homework assignment this week which will go into more detail regarding ODEs."
   ]
  },
  {
   "cell_type": "markdown",
   "metadata": {},
   "source": [
    "## Optimization"
   ]
  },
  {
   "cell_type": "markdown",
   "metadata": {},
   "source": [
    "Optimization, most commonly in the form of minimization or maximization, is the adjustment or selection of parameters according to some criterion. The parameters are said to be optimized with respect to the criterion."
   ]
  },
  {
   "cell_type": "code",
   "execution_count": null,
   "metadata": {},
   "outputs": [],
   "source": [
    "from scipy import optimize"
   ]
  },
  {
   "cell_type": "markdown",
   "metadata": {},
   "source": [
    "The `minimize_scalar` function takes a univariate function as an argument. `minimize_scalar` minimizes the input variable with respect to the function's output. An `OptimizeResult` is returned, which includes information about the optimization process, e.g. if it succeeded, what the minimal function value was and where this minimum was found."
   ]
  },
  {
   "cell_type": "code",
   "execution_count": null,
   "metadata": {},
   "outputs": [],
   "source": [
    "func = lambda x: x ** 2 + 1\n",
    "optimize.minimize_scalar(func)"
   ]
  },
  {
   "cell_type": "code",
   "execution_count": null,
   "metadata": {},
   "outputs": [],
   "source": [
    "func = lambda x: 0.5 * x ** 3 - x ** 2\n",
    "\n",
    "xs = np.linspace(-1, 2, 1000)\n",
    "ys = func(xs)\n",
    "\n",
    "res = optimize.minimize_scalar(func)\n",
    "\n",
    "print(res)\n",
    "\n",
    "plt.plot(xs, ys)\n",
    "plt.plot(res.x, res.fun, 'ro')\n",
    "plt.show()"
   ]
  },
  {
   "cell_type": "markdown",
   "metadata": {},
   "source": [
    "[`scipy.optimize.minimize`](https://docs.scipy.org/doc/scipy/reference/generated/scipy.optimize.minimize.html) can also be used to minimize the value of a multivariate function."
   ]
  },
  {
   "cell_type": "code",
   "execution_count": null,
   "metadata": {},
   "outputs": [],
   "source": [
    "func = lambda var: 0.6 * var[0]**4 - 2 * var[0]**3 + 5 * var[1]**2\n",
    "\n",
    "res = optimize.minimize(func, (1, 1)) # you need to give an initial guess regarding a minimum\n",
    "\n",
    "vals = np.linspace(-2.5, 3.5, 100)\n",
    "xs, ys = np.meshgrid(vals, vals)\n",
    "zs = np.empty(xs.shape)\n",
    "\n",
    "for i, j in np.ndindex(xs.shape):\n",
    "    zs[i,j] = func((xs[i,j], ys[i,j]))\n",
    "\n",
    "fig = plt.figure(figsize=(15, 10))\n",
    "ax = fig.add_subplot(111, projection='3d')\n",
    "\n",
    "ax.contour(xs, ys, zs, 25, cmap='gray')\n",
    "ax.scatter(*res.x, res.fun, c='g', s=250, marker='o')\n",
    "\n",
    "plt.show()"
   ]
  },
  {
   "cell_type": "markdown",
   "metadata": {},
   "source": [
    "However, be aware that the found minimum is not necessarily a *global* one - for that, there are more powerful global optimization functions such as [`scipy.optimize.dual_annealing`](https://docs.scipy.org/doc/scipy/reference/generated/scipy.optimize.dual_annealing.html)."
   ]
  },
  {
   "cell_type": "markdown",
   "metadata": {},
   "source": [
    "Additionally to finding minimums, the `optimize` submodule can also find the roots of functions."
   ]
  },
  {
   "cell_type": "code",
   "execution_count": null,
   "metadata": {
    "scrolled": true
   },
   "outputs": [],
   "source": [
    "func = lambda x: 0.5 * x ** 3 - x ** 2 + 0.25\n",
    "\n",
    "xs = np.linspace(-1, 3, 1000)\n",
    "ys = func(xs)\n",
    "\n",
    "res = optimize.root_scalar(func, x0=1, x1=3)\n",
    "\n",
    "plt.plot(xs, ys, label=\"Function\")\n",
    "plt.plot(res.root, func(res.root), 'ro', label=\"Root\")\n",
    "plt.axhline(0, c='black', alpha=0.3)\n",
    "\n",
    "plt.legend()\n",
    "\n",
    "plt.show()"
   ]
  },
  {
   "cell_type": "markdown",
   "metadata": {},
   "source": [
    "## Spatial Algorithms"
   ]
  },
  {
   "cell_type": "markdown",
   "metadata": {},
   "source": [
    "`scipy` has a wide variety of algorithms related to spatial concepts."
   ]
  },
  {
   "cell_type": "code",
   "execution_count": null,
   "metadata": {},
   "outputs": [],
   "source": [
    "from scipy import spatial"
   ]
  },
  {
   "cell_type": "markdown",
   "metadata": {},
   "source": [
    "The most common usage of `scipy.spatial` might be the distance functions in [`scipy.spatial.distance`](https://docs.scipy.org/doc/scipy/reference/spatial.distance.html). There is a wide range of vector distances which you might already know from other lectures. A vector in this context is just a one-dimensional `ndarray`."
   ]
  },
  {
   "cell_type": "code",
   "execution_count": null,
   "metadata": {},
   "outputs": [],
   "source": [
    "numeric_vec_a, numeric_vec_b = np.random.randint(0, 100, size=(2, 2))\n",
    "\n",
    "print(\"Euclidean: {:.3f}\".format(spatial.distance.euclidean(numeric_vec_a, numeric_vec_b)))\n",
    "print(\"Cosine: {:.3f}\".format(spatial.distance.cosine(numeric_vec_a, numeric_vec_b)))\n",
    "print(\"Canberra: {:.3f}\".format(spatial.distance.canberra(numeric_vec_a, numeric_vec_b)))\n",
    "print(\"Cityblock: {:.3f}\".format(spatial.distance.cityblock(numeric_vec_a, numeric_vec_b)))\n",
    "\n",
    "boolean_vec_a, boolean_vec_b = np.random.randint(0, 2, size=(2, 20), dtype=bool)\n",
    "\n",
    "print(\"\\nDice: {:.3f}\".format(spatial.distance.dice(boolean_vec_a, boolean_vec_b)))\n",
    "print(\"Hamming: {:.3f}\".format(spatial.distance.hamming(boolean_vec_a, boolean_vec_b)))\n",
    "print(\"Jaccard: {:.3f}\".format(spatial.distance.jaccard(boolean_vec_a, boolean_vec_b)))\n"
   ]
  },
  {
   "cell_type": "markdown",
   "metadata": {},
   "source": [
    "A useful feature of `scipy.spatial` are the efficient batch distance computation functions. Say you want to know the pairwise cosine distances betweeen a set of 1000 300-dimensional vectors, which is a common thing when e.g. dealing with word vectors in NLP."
   ]
  },
  {
   "cell_type": "code",
   "execution_count": null,
   "metadata": {},
   "outputs": [],
   "source": [
    "vectors = np.random.randint(0, 100, size=(1000, 300))"
   ]
  },
  {
   "cell_type": "markdown",
   "metadata": {},
   "source": [
    "You could do that with a `for`-loop and `scipy.spatial.distance.cosine`, which might be intuitive."
   ]
  },
  {
   "cell_type": "code",
   "execution_count": null,
   "metadata": {},
   "outputs": [],
   "source": [
    "import time \n",
    "\n",
    "start_time = time.time()\n",
    "\n",
    "pairwise_distances_loop = np.zeros((1000, 1000))\n",
    "\n",
    "for a_ix, vector_a in enumerate(vectors):\n",
    "    for b_ix, vector_b in enumerate(vectors):\n",
    "        pairwise_distances_loop[a_ix, b_ix] = spatial.distance.cosine(vector_a, vector_b)\n",
    "        \n",
    "print(\"This took {:.3f} seconds.\".format(time.time() - start_time))"
   ]
  },
  {
   "cell_type": "markdown",
   "metadata": {},
   "source": [
    "However, you will find that this tends to take a while.  \n",
    "\n",
    "As an alternative, you could use the function [`scipy.spatial.distance.pdist`](https://docs.scipy.org/doc/scipy/reference/generated/scipy.spatial.distance.pdist.html#scipy.spatial.distance.pdist), which is specialised for this task. "
   ]
  },
  {
   "cell_type": "code",
   "execution_count": null,
   "metadata": {},
   "outputs": [],
   "source": [
    "start_time = time.time()\n",
    "\n",
    "pairwise_distances_nonsquare = spatial.distance.pdist(vectors, metric=\"cosine\")\n",
    "pairwise_distances_scipy = spatial.distance.squareform(pairwise_distances_nonsquare) # convert to square form\n",
    "\n",
    "print(\"This took {:.3f} seconds.\".format(time.time() - start_time))"
   ]
  },
  {
   "cell_type": "markdown",
   "metadata": {},
   "source": [
    "It is orders of magnitude faster, and the result is pretty much the same except for small rounding errors due to the different implementations."
   ]
  },
  {
   "cell_type": "code",
   "execution_count": null,
   "metadata": {},
   "outputs": [],
   "source": [
    "print(\"Cumulative difference: {:.12f}\".format((pairwise_distances_loop - pairwise_distances_scipy).sum()))\n",
    "\n",
    "assert np.allclose(pairwise_distances_loop, pairwise_distances_scipy)"
   ]
  },
  {
   "cell_type": "markdown",
   "metadata": {},
   "source": [
    "## Statistics and Distributions\n"
   ]
  },
  {
   "cell_type": "markdown",
   "metadata": {},
   "source": [
    "`scipy` also has an elaborate statistics submodule, [`scipy.stats`](https://docs.scipy.org/doc/scipy/reference/tutorial/stats.html). Here you can find your favourite discrete and continuous distributions, as well as some tests and coefficients."
   ]
  },
  {
   "cell_type": "code",
   "execution_count": null,
   "metadata": {},
   "outputs": [],
   "source": [
    "from scipy import stats"
   ]
  },
  {
   "cell_type": "markdown",
   "metadata": {},
   "source": [
    "Let's take samples from a few distributions. To do that, we call [`scipy.stats.rv_discrete.rsv`](`https://docs.scipy.org/doc/scipy/reference/generated/scipy.stats.rv_discrete.rvs.html#scipy.stats.rv_discrete.rvs) for discrete distributions and [`scipy.stats.rv_continuous.rsv`](https://docs.scipy.org/doc/scipy/reference/generated/scipy.stats.rv_continuous.rvs.html#scipy.stats.rv_continuous.rvs) for continuous distributions."
   ]
  },
  {
   "cell_type": "code",
   "execution_count": null,
   "metadata": {
    "scrolled": true
   },
   "outputs": [],
   "source": [
    "import seaborn as sns\n",
    "\n",
    "n = 5000 # number of samples we will draw\n",
    "\n",
    "samples = [\n",
    "    (\"Bernoulli Samples\", stats.bernoulli.rvs(p=0.5, size=n)),\n",
    "    (\"Poisson Samples\", stats.poisson.rvs(mu=0.5, size=n)),\n",
    "    (\"Geometric Samples\", stats.geom.rvs(p=0.5, size=n)),\n",
    "    (\"Chi2 Samples\", stats.chi2.rvs(df=4, size=n)),\n",
    "    (\"Normal Samples\", stats.norm.rvs(size=n)),\n",
    "    (\"Uniform Samples\", stats.uniform.rvs(size=n))\n",
    "]\n",
    "\n",
    "    \n",
    "fig, axes = plt.subplots(nrows=2, ncols=3)\n",
    "\n",
    "for ax, (dist_name, dist_samples) in zip(axes.flat, samples):\n",
    "    sns.distplot(dist_samples, ax=ax).set_title(dist_name)\n",
    "    \n",
    "plt.tight_layout()\n",
    "plt.show()"
   ]
  },
  {
   "cell_type": "markdown",
   "metadata": {},
   "source": [
    "We can also compute correlation coefficients such as *Spearman's coefficient* with [`scipy.stats.spearmanr`](https://docs.scipy.org/doc/scipy/reference/generated/scipy.stats.spearmanr.html#scipy-stats-spearmanr) and *Pearson's coefficient* with [`scipy.stats.pearsonr`](https://docs.scipy.org/doc/scipy/reference/generated/scipy.stats.pearsonr.html#scipy.stats.pearsonr)."
   ]
  },
  {
   "cell_type": "code",
   "execution_count": null,
   "metadata": {},
   "outputs": [],
   "source": [
    "a = np.arange(10)\n",
    "b = np.random.random(10)\n",
    "\n",
    "print(\"a:\", a)\n",
    "print(\"b:\", b)\n",
    "\n",
    "coefficient, p_value = stats.spearmanr(a, b)\n",
    "print(\"\\nSpearman's coeffient is {:.3f} at a p-value of {:.3f}\".format(coefficient, p_value))\n",
    "\n",
    "coefficient, p_value = stats.pearsonr(a, b)\n",
    "print(\"Pearson's coeffient is {:.3f} at a p-value of {:.3f}\".format(coefficient, p_value))"
   ]
  },
  {
   "cell_type": "markdown",
   "metadata": {},
   "source": [
    "## Homework\n",
    "\n",
    "You can find the assignment link for `2021-homework10` in an announcement on StudIP. \n",
    "\n",
    "Additionally, a bonus homework assignment `2021-homework10-bonus` will be released on Wednesday. It does not count towards the `n` of the `n-2` rule, so you will not have any disadvantage if you do not hand it in. However, if you would like to catch up by one homework, this is a good opportunity.\n",
    "\n",
    ">Good luck and have a good week!"
   ]
  }
 ],
 "metadata": {
  "kernelspec": {
   "display_name": "Python 3",
   "language": "python",
   "name": "python3"
  },
  "language_info": {
   "codemirror_mode": {
    "name": "ipython",
    "version": 3
   },
   "file_extension": ".py",
   "mimetype": "text/x-python",
   "name": "python",
   "nbconvert_exporter": "python",
   "pygments_lexer": "ipython3",
   "version": "3.6.9"
  },
  "toc-autonumbering": true,
  "widgets": {
   "application/vnd.jupyter.widget-state+json": {
    "state": {
     "1413b6ca63b841d29f19b2c908ba8ea8": {
      "model_module": "@jupyter-widgets/base",
      "model_module_version": "1.2.0",
      "model_name": "LayoutModel",
      "state": {
       "_model_module": "@jupyter-widgets/base",
       "_model_module_version": "1.2.0",
       "_model_name": "LayoutModel",
       "_view_count": null,
       "_view_module": "@jupyter-widgets/base",
       "_view_module_version": "1.2.0",
       "_view_name": "LayoutView",
       "align_content": null,
       "align_items": null,
       "align_self": null,
       "border": null,
       "bottom": null,
       "display": null,
       "flex": null,
       "flex_flow": null,
       "grid_area": null,
       "grid_auto_columns": null,
       "grid_auto_flow": null,
       "grid_auto_rows": null,
       "grid_column": null,
       "grid_gap": null,
       "grid_row": null,
       "grid_template_areas": null,
       "grid_template_columns": null,
       "grid_template_rows": null,
       "height": null,
       "justify_content": null,
       "justify_items": null,
       "left": null,
       "margin": null,
       "max_height": null,
       "max_width": null,
       "min_height": null,
       "min_width": null,
       "object_fit": null,
       "object_position": null,
       "order": null,
       "overflow": null,
       "overflow_x": null,
       "overflow_y": null,
       "padding": null,
       "right": null,
       "top": null,
       "visibility": null,
       "width": null
      }
     },
     "1427ca6da23d47e88347e3ae5a8acd6e": {
      "model_module": "@jupyter-widgets/controls",
      "model_module_version": "1.5.0",
      "model_name": "CheckboxModel",
      "state": {
       "_dom_classes": [],
       "_model_module": "@jupyter-widgets/controls",
       "_model_module_version": "1.5.0",
       "_model_name": "CheckboxModel",
       "_view_count": null,
       "_view_module": "@jupyter-widgets/controls",
       "_view_module_version": "1.5.0",
       "_view_name": "CheckboxView",
       "description": "sine1",
       "description_tooltip": null,
       "disabled": false,
       "indent": true,
       "layout": "IPY_MODEL_53d391da1d1f41b3a5e38d7cdd851d83",
       "style": "IPY_MODEL_401319c8166044d8af79243728432b9b",
       "value": false
      }
     },
     "2ee712068d8b403fa4b8ebae194bee76": {
      "model_module": "@jupyter-widgets/base",
      "model_module_version": "1.2.0",
      "model_name": "LayoutModel",
      "state": {
       "_model_module": "@jupyter-widgets/base",
       "_model_module_version": "1.2.0",
       "_model_name": "LayoutModel",
       "_view_count": null,
       "_view_module": "@jupyter-widgets/base",
       "_view_module_version": "1.2.0",
       "_view_name": "LayoutView",
       "align_content": null,
       "align_items": null,
       "align_self": null,
       "border": null,
       "bottom": null,
       "display": null,
       "flex": null,
       "flex_flow": null,
       "grid_area": null,
       "grid_auto_columns": null,
       "grid_auto_flow": null,
       "grid_auto_rows": null,
       "grid_column": null,
       "grid_gap": null,
       "grid_row": null,
       "grid_template_areas": null,
       "grid_template_columns": null,
       "grid_template_rows": null,
       "height": null,
       "justify_content": null,
       "justify_items": null,
       "left": null,
       "margin": null,
       "max_height": null,
       "max_width": null,
       "min_height": null,
       "min_width": null,
       "object_fit": null,
       "object_position": null,
       "order": null,
       "overflow": null,
       "overflow_x": null,
       "overflow_y": null,
       "padding": null,
       "right": null,
       "top": null,
       "visibility": null,
       "width": null
      }
     },
     "401319c8166044d8af79243728432b9b": {
      "model_module": "@jupyter-widgets/controls",
      "model_module_version": "1.5.0",
      "model_name": "DescriptionStyleModel",
      "state": {
       "_model_module": "@jupyter-widgets/controls",
       "_model_module_version": "1.5.0",
       "_model_name": "DescriptionStyleModel",
       "_view_count": null,
       "_view_module": "@jupyter-widgets/base",
       "_view_module_version": "1.2.0",
       "_view_name": "StyleView",
       "description_width": ""
      }
     },
     "53d391da1d1f41b3a5e38d7cdd851d83": {
      "model_module": "@jupyter-widgets/base",
      "model_module_version": "1.2.0",
      "model_name": "LayoutModel",
      "state": {
       "_model_module": "@jupyter-widgets/base",
       "_model_module_version": "1.2.0",
       "_model_name": "LayoutModel",
       "_view_count": null,
       "_view_module": "@jupyter-widgets/base",
       "_view_module_version": "1.2.0",
       "_view_name": "LayoutView",
       "align_content": null,
       "align_items": null,
       "align_self": null,
       "border": null,
       "bottom": null,
       "display": null,
       "flex": null,
       "flex_flow": null,
       "grid_area": null,
       "grid_auto_columns": null,
       "grid_auto_flow": null,
       "grid_auto_rows": null,
       "grid_column": null,
       "grid_gap": null,
       "grid_row": null,
       "grid_template_areas": null,
       "grid_template_columns": null,
       "grid_template_rows": null,
       "height": null,
       "justify_content": null,
       "justify_items": null,
       "left": null,
       "margin": null,
       "max_height": null,
       "max_width": null,
       "min_height": null,
       "min_width": null,
       "object_fit": null,
       "object_position": null,
       "order": null,
       "overflow": null,
       "overflow_x": null,
       "overflow_y": null,
       "padding": null,
       "right": null,
       "top": null,
       "visibility": null,
       "width": null
      }
     },
     "5c2d9b1b67764d4ca56451c7098e5330": {
      "model_module": "@jupyter-widgets/controls",
      "model_module_version": "1.5.0",
      "model_name": "FloatSliderModel",
      "state": {
       "_dom_classes": [],
       "_model_module": "@jupyter-widgets/controls",
       "_model_module_version": "1.5.0",
       "_model_name": "FloatSliderModel",
       "_view_count": null,
       "_view_module": "@jupyter-widgets/controls",
       "_view_module_version": "1.5.0",
       "_view_name": "FloatSliderView",
       "continuous_update": true,
       "description": "freq",
       "description_tooltip": null,
       "disabled": false,
       "layout": "IPY_MODEL_1413b6ca63b841d29f19b2c908ba8ea8",
       "max": 40,
       "min": 1,
       "orientation": "horizontal",
       "readout": true,
       "readout_format": ".2f",
       "step": 0.1,
       "style": "IPY_MODEL_8baffec77bd64355bdd3c6775cc06376",
       "value": 1
      }
     },
     "6bc77fdc23fc458d98ef353aa7e0078e": {
      "model_module": "@jupyter-widgets/controls",
      "model_module_version": "1.5.0",
      "model_name": "DescriptionStyleModel",
      "state": {
       "_model_module": "@jupyter-widgets/controls",
       "_model_module_version": "1.5.0",
       "_model_name": "DescriptionStyleModel",
       "_view_count": null,
       "_view_module": "@jupyter-widgets/base",
       "_view_module_version": "1.2.0",
       "_view_name": "StyleView",
       "description_width": ""
      }
     },
     "6d463b4ec6564e2090a1cfbb11469e24": {
      "model_module": "@jupyter-widgets/base",
      "model_module_version": "1.2.0",
      "model_name": "LayoutModel",
      "state": {
       "_model_module": "@jupyter-widgets/base",
       "_model_module_version": "1.2.0",
       "_model_name": "LayoutModel",
       "_view_count": null,
       "_view_module": "@jupyter-widgets/base",
       "_view_module_version": "1.2.0",
       "_view_name": "LayoutView",
       "align_content": null,
       "align_items": null,
       "align_self": null,
       "border": null,
       "bottom": null,
       "display": null,
       "flex": null,
       "flex_flow": null,
       "grid_area": null,
       "grid_auto_columns": null,
       "grid_auto_flow": null,
       "grid_auto_rows": null,
       "grid_column": null,
       "grid_gap": null,
       "grid_row": null,
       "grid_template_areas": null,
       "grid_template_columns": null,
       "grid_template_rows": null,
       "height": null,
       "justify_content": null,
       "justify_items": null,
       "left": null,
       "margin": null,
       "max_height": null,
       "max_width": null,
       "min_height": null,
       "min_width": null,
       "object_fit": null,
       "object_position": null,
       "order": null,
       "overflow": null,
       "overflow_x": null,
       "overflow_y": null,
       "padding": null,
       "right": null,
       "top": null,
       "visibility": null,
       "width": null
      }
     },
     "8baffec77bd64355bdd3c6775cc06376": {
      "model_module": "@jupyter-widgets/controls",
      "model_module_version": "1.5.0",
      "model_name": "SliderStyleModel",
      "state": {
       "_model_module": "@jupyter-widgets/controls",
       "_model_module_version": "1.5.0",
       "_model_name": "SliderStyleModel",
       "_view_count": null,
       "_view_module": "@jupyter-widgets/base",
       "_view_module_version": "1.2.0",
       "_view_name": "StyleView",
       "description_width": "",
       "handle_color": null
      }
     },
     "945af3619e724e4aa3b939fcabe58780": {
      "model_module": "@jupyter-widgets/base",
      "model_module_version": "1.2.0",
      "model_name": "LayoutModel",
      "state": {
       "_model_module": "@jupyter-widgets/base",
       "_model_module_version": "1.2.0",
       "_model_name": "LayoutModel",
       "_view_count": null,
       "_view_module": "@jupyter-widgets/base",
       "_view_module_version": "1.2.0",
       "_view_name": "LayoutView",
       "align_content": null,
       "align_items": null,
       "align_self": null,
       "border": null,
       "bottom": null,
       "display": null,
       "flex": null,
       "flex_flow": null,
       "grid_area": null,
       "grid_auto_columns": null,
       "grid_auto_flow": null,
       "grid_auto_rows": null,
       "grid_column": null,
       "grid_gap": null,
       "grid_row": null,
       "grid_template_areas": null,
       "grid_template_columns": null,
       "grid_template_rows": null,
       "height": null,
       "justify_content": null,
       "justify_items": null,
       "left": null,
       "margin": null,
       "max_height": null,
       "max_width": null,
       "min_height": null,
       "min_width": null,
       "object_fit": null,
       "object_position": null,
       "order": null,
       "overflow": null,
       "overflow_x": null,
       "overflow_y": null,
       "padding": null,
       "right": null,
       "top": null,
       "visibility": null,
       "width": null
      }
     },
     "9e912247a7084ac0a41071290ba49232": {
      "model_module": "@jupyter-widgets/controls",
      "model_module_version": "1.5.0",
      "model_name": "CheckboxModel",
      "state": {
       "_dom_classes": [],
       "_model_module": "@jupyter-widgets/controls",
       "_model_module_version": "1.5.0",
       "_model_name": "CheckboxModel",
       "_view_count": null,
       "_view_module": "@jupyter-widgets/controls",
       "_view_module_version": "1.5.0",
       "_view_name": "CheckboxView",
       "description": "sine3",
       "description_tooltip": null,
       "disabled": false,
       "indent": true,
       "layout": "IPY_MODEL_945af3619e724e4aa3b939fcabe58780",
       "style": "IPY_MODEL_ec2d0c6e7c0e4091a785761257c3823e",
       "value": false
      }
     },
     "9f46286059a14439a31cecb0dc837b1d": {
      "model_module": "@jupyter-widgets/controls",
      "model_module_version": "1.5.0",
      "model_name": "CheckboxModel",
      "state": {
       "_dom_classes": [],
       "_model_module": "@jupyter-widgets/controls",
       "_model_module_version": "1.5.0",
       "_model_name": "CheckboxModel",
       "_view_count": null,
       "_view_module": "@jupyter-widgets/controls",
       "_view_module_version": "1.5.0",
       "_view_name": "CheckboxView",
       "description": "sine2",
       "description_tooltip": null,
       "disabled": false,
       "indent": true,
       "layout": "IPY_MODEL_2ee712068d8b403fa4b8ebae194bee76",
       "style": "IPY_MODEL_6bc77fdc23fc458d98ef353aa7e0078e",
       "value": false
      }
     },
     "bf5e9188dab34027bbf3fe7d8d263d35": {
      "model_module": "@jupyter-widgets/base",
      "model_module_version": "1.2.0",
      "model_name": "LayoutModel",
      "state": {
       "_model_module": "@jupyter-widgets/base",
       "_model_module_version": "1.2.0",
       "_model_name": "LayoutModel",
       "_view_count": null,
       "_view_module": "@jupyter-widgets/base",
       "_view_module_version": "1.2.0",
       "_view_name": "LayoutView",
       "align_content": null,
       "align_items": null,
       "align_self": null,
       "border": null,
       "bottom": null,
       "display": null,
       "flex": null,
       "flex_flow": null,
       "grid_area": null,
       "grid_auto_columns": null,
       "grid_auto_flow": null,
       "grid_auto_rows": null,
       "grid_column": null,
       "grid_gap": null,
       "grid_row": null,
       "grid_template_areas": null,
       "grid_template_columns": null,
       "grid_template_rows": null,
       "height": null,
       "justify_content": null,
       "justify_items": null,
       "left": null,
       "margin": null,
       "max_height": null,
       "max_width": null,
       "min_height": null,
       "min_width": null,
       "object_fit": null,
       "object_position": null,
       "order": null,
       "overflow": null,
       "overflow_x": null,
       "overflow_y": null,
       "padding": null,
       "right": null,
       "top": null,
       "visibility": null,
       "width": null
      }
     },
     "c3bf0c534a9c4e489fab104eee1b4c82": {
      "model_module": "@jupyter-widgets/output",
      "model_module_version": "1.0.0",
      "model_name": "OutputModel",
      "state": {
       "_dom_classes": [],
       "_model_module": "@jupyter-widgets/output",
       "_model_module_version": "1.0.0",
       "_model_name": "OutputModel",
       "_view_count": null,
       "_view_module": "@jupyter-widgets/output",
       "_view_module_version": "1.0.0",
       "_view_name": "OutputView",
       "layout": "IPY_MODEL_bf5e9188dab34027bbf3fe7d8d263d35",
       "msg_id": "",
       "outputs": []
      }
     },
     "c4a09fd1730b47119334c530902b033b": {
      "model_module": "@jupyter-widgets/controls",
      "model_module_version": "1.5.0",
      "model_name": "VBoxModel",
      "state": {
       "_dom_classes": [
        "widget-interact"
       ],
       "_model_module": "@jupyter-widgets/controls",
       "_model_module_version": "1.5.0",
       "_model_name": "VBoxModel",
       "_view_count": null,
       "_view_module": "@jupyter-widgets/controls",
       "_view_module_version": "1.5.0",
       "_view_name": "VBoxView",
       "box_style": "",
       "children": [
        "IPY_MODEL_5c2d9b1b67764d4ca56451c7098e5330",
        "IPY_MODEL_1427ca6da23d47e88347e3ae5a8acd6e",
        "IPY_MODEL_9f46286059a14439a31cecb0dc837b1d",
        "IPY_MODEL_9e912247a7084ac0a41071290ba49232",
        "IPY_MODEL_c3bf0c534a9c4e489fab104eee1b4c82"
       ],
       "layout": "IPY_MODEL_6d463b4ec6564e2090a1cfbb11469e24"
      }
     },
     "ec2d0c6e7c0e4091a785761257c3823e": {
      "model_module": "@jupyter-widgets/controls",
      "model_module_version": "1.5.0",
      "model_name": "DescriptionStyleModel",
      "state": {
       "_model_module": "@jupyter-widgets/controls",
       "_model_module_version": "1.5.0",
       "_model_name": "DescriptionStyleModel",
       "_view_count": null,
       "_view_module": "@jupyter-widgets/base",
       "_view_module_version": "1.2.0",
       "_view_name": "StyleView",
       "description_width": ""
      }
     }
    },
    "version_major": 2,
    "version_minor": 0
   }
  }
 },
 "nbformat": 4,
 "nbformat_minor": 4
}
